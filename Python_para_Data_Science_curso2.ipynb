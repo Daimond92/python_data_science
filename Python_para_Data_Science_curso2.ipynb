{
  "nbformat": 4,
  "nbformat_minor": 0,
  "metadata": {
    "colab": {
      "provenance": [],
      "include_colab_link": true
    },
    "kernelspec": {
      "name": "python3",
      "display_name": "Python 3"
    },
    "language_info": {
      "name": "python"
    }
  },
  "cells": [
    {
      "cell_type": "markdown",
      "metadata": {
        "id": "view-in-github",
        "colab_type": "text"
      },
      "source": [
        "<a href=\"https://colab.research.google.com/github/Daimond92/python_data_science/blob/main/Python_para_Data_Science_curso2.ipynb\" target=\"_parent\"><img src=\"https://colab.research.google.com/assets/colab-badge.svg\" alt=\"Open In Colab\"/></a>"
      ]
    },
    {
      "cell_type": "markdown",
      "source": [
        "# <font color=green> **PYTHON PARA DATA SCIENCE**\n",
        "---"
      ],
      "metadata": {
        "id": "AGc2Cf4cBwd7"
      }
    },
    {
      "cell_type": "markdown",
      "source": [
        "## <font color=green> 1. BIBLIOTECAS\n",
        "---"
      ],
      "metadata": {
        "id": "fH2br9y9CYZ8"
      }
    },
    {
      "cell_type": "markdown",
      "source": [
        "## 1.1 Instalación e importación de bibliotecas\n",
        "\n",
        "En el lenguaje Python se utiliza bastante el concepto de bibliotecas como un conjunto de módulos y funciones útiles para el usuario. Estas favorecen la reducción del uso de códigos en el proyecto, manteniendo únicamente los recursos necesarios para la tarea que deseamos realizar."
      ],
      "metadata": {
        "id": "jjEKgfiuFzHz"
      }
    },
    {
      "cell_type": "markdown",
      "source": [
        "### Instalando una biblioteca"
      ],
      "metadata": {
        "id": "JjpazCgqDRfZ"
      }
    },
    {
      "cell_type": "markdown",
      "source": [
        "Para instalar o actualizar una biblioteca en Python, podemos acudir a `pip` que es un gestor de bibliotecas en Python."
      ],
      "metadata": {
        "id": "_qnuIo7oIQYx"
      }
    },
    {
      "cell_type": "markdown",
      "source": [
        "Existe también PYPI que es un repositorio de bibliotecas Python que contiene las bibliotecas más utilizadas por la comunidad junto a su respectiva documentación.\n",
        "\n",
        "- PYPI ([https://pypi.org/](https://pypi.org/))"
      ],
      "metadata": {
        "id": "IHTmQnlXInD1"
      }
    },
    {
      "cell_type": "code",
      "source": [
        "!pip install matplotlib"
      ],
      "metadata": {
        "id": "Rv5sIo7NM5VS",
        "colab": {
          "base_uri": "https://localhost:8080/"
        },
        "outputId": "d6f96128-f9b4-423e-9897-8e620fcdb8ac"
      },
      "execution_count": null,
      "outputs": [
        {
          "output_type": "stream",
          "name": "stdout",
          "text": [
            "Requirement already satisfied: matplotlib in /usr/local/lib/python3.11/dist-packages (3.10.0)\n",
            "Requirement already satisfied: contourpy>=1.0.1 in /usr/local/lib/python3.11/dist-packages (from matplotlib) (1.3.2)\n",
            "Requirement already satisfied: cycler>=0.10 in /usr/local/lib/python3.11/dist-packages (from matplotlib) (0.12.1)\n",
            "Requirement already satisfied: fonttools>=4.22.0 in /usr/local/lib/python3.11/dist-packages (from matplotlib) (4.57.0)\n",
            "Requirement already satisfied: kiwisolver>=1.3.1 in /usr/local/lib/python3.11/dist-packages (from matplotlib) (1.4.8)\n",
            "Requirement already satisfied: numpy>=1.23 in /usr/local/lib/python3.11/dist-packages (from matplotlib) (2.0.2)\n",
            "Requirement already satisfied: packaging>=20.0 in /usr/local/lib/python3.11/dist-packages (from matplotlib) (24.2)\n",
            "Requirement already satisfied: pillow>=8 in /usr/local/lib/python3.11/dist-packages (from matplotlib) (11.2.1)\n",
            "Requirement already satisfied: pyparsing>=2.3.1 in /usr/local/lib/python3.11/dist-packages (from matplotlib) (3.2.3)\n",
            "Requirement already satisfied: python-dateutil>=2.7 in /usr/local/lib/python3.11/dist-packages (from matplotlib) (2.9.0.post0)\n",
            "Requirement already satisfied: six>=1.5 in /usr/local/lib/python3.11/dist-packages (from python-dateutil>=2.7->matplotlib) (1.17.0)\n"
          ]
        }
      ]
    },
    {
      "cell_type": "code",
      "source": [
        "matplotlib.__version__"
      ],
      "metadata": {
        "id": "REYsDRqHM6hN",
        "colab": {
          "base_uri": "https://localhost:8080/",
          "height": 36
        },
        "outputId": "c37f4e2d-850a-422e-f415-55b259d4562c"
      },
      "execution_count": null,
      "outputs": [
        {
          "output_type": "execute_result",
          "data": {
            "text/plain": [
              "'3.10.0'"
            ],
            "application/vnd.google.colaboratory.intrinsic+json": {
              "type": "string"
            }
          },
          "metadata": {},
          "execution_count": 7
        }
      ]
    },
    {
      "cell_type": "markdown",
      "source": [
        "### Importando una biblioteca"
      ],
      "metadata": {
        "id": "A76TbnDbDehe"
      }
    },
    {
      "cell_type": "code",
      "source": [
        "import matplotlib"
      ],
      "metadata": {
        "id": "_xUxLlZFM728"
      },
      "execution_count": null,
      "outputs": []
    },
    {
      "cell_type": "code",
      "source": [
        "!pip install matplotlib==3.10.1"
      ],
      "metadata": {
        "id": "xy035zQzM75b",
        "colab": {
          "base_uri": "https://localhost:8080/"
        },
        "outputId": "5cee0a50-7daa-4f09-f2b8-8ad2ca399057"
      },
      "execution_count": null,
      "outputs": [
        {
          "output_type": "stream",
          "name": "stdout",
          "text": [
            "Collecting matplotlib==3.10.1\n",
            "  Downloading matplotlib-3.10.1-cp311-cp311-manylinux_2_17_x86_64.manylinux2014_x86_64.whl.metadata (11 kB)\n",
            "Requirement already satisfied: contourpy>=1.0.1 in /usr/local/lib/python3.11/dist-packages (from matplotlib==3.10.1) (1.3.2)\n",
            "Requirement already satisfied: cycler>=0.10 in /usr/local/lib/python3.11/dist-packages (from matplotlib==3.10.1) (0.12.1)\n",
            "Requirement already satisfied: fonttools>=4.22.0 in /usr/local/lib/python3.11/dist-packages (from matplotlib==3.10.1) (4.57.0)\n",
            "Requirement already satisfied: kiwisolver>=1.3.1 in /usr/local/lib/python3.11/dist-packages (from matplotlib==3.10.1) (1.4.8)\n",
            "Requirement already satisfied: numpy>=1.23 in /usr/local/lib/python3.11/dist-packages (from matplotlib==3.10.1) (2.0.2)\n",
            "Requirement already satisfied: packaging>=20.0 in /usr/local/lib/python3.11/dist-packages (from matplotlib==3.10.1) (24.2)\n",
            "Requirement already satisfied: pillow>=8 in /usr/local/lib/python3.11/dist-packages (from matplotlib==3.10.1) (11.2.1)\n",
            "Requirement already satisfied: pyparsing>=2.3.1 in /usr/local/lib/python3.11/dist-packages (from matplotlib==3.10.1) (3.2.3)\n",
            "Requirement already satisfied: python-dateutil>=2.7 in /usr/local/lib/python3.11/dist-packages (from matplotlib==3.10.1) (2.9.0.post0)\n",
            "Requirement already satisfied: six>=1.5 in /usr/local/lib/python3.11/dist-packages (from python-dateutil>=2.7->matplotlib==3.10.1) (1.17.0)\n",
            "Downloading matplotlib-3.10.1-cp311-cp311-manylinux_2_17_x86_64.manylinux2014_x86_64.whl (8.6 MB)\n",
            "\u001b[?25l   \u001b[90m━━━━━━━━━━━━━━━━━━━━━━━━━━━━━━━━━━━━━━━━\u001b[0m \u001b[32m0.0/8.6 MB\u001b[0m \u001b[31m?\u001b[0m eta \u001b[36m-:--:--\u001b[0m\r\u001b[2K   \u001b[91m━━━━━━━━━━━━━━━━━━━━━━━━━\u001b[0m\u001b[90m╺\u001b[0m\u001b[90m━━━━━━━━━━━━━━\u001b[0m \u001b[32m5.4/8.6 MB\u001b[0m \u001b[31m167.0 MB/s\u001b[0m eta \u001b[36m0:00:01\u001b[0m\r\u001b[2K   \u001b[91m━━━━━━━━━━━━━━━━━━━━━━━━━━━━━━━━━━━━━━━\u001b[0m\u001b[91m╸\u001b[0m \u001b[32m8.6/8.6 MB\u001b[0m \u001b[31m146.5 MB/s\u001b[0m eta \u001b[36m0:00:01\u001b[0m\r\u001b[2K   \u001b[90m━━━━━━━━━━━━━━━━━━━━━━━━━━━━━━━━━━━━━━━━\u001b[0m \u001b[32m8.6/8.6 MB\u001b[0m \u001b[31m92.7 MB/s\u001b[0m eta \u001b[36m0:00:00\u001b[0m\n",
            "\u001b[?25hInstalling collected packages: matplotlib\n",
            "  Attempting uninstall: matplotlib\n",
            "    Found existing installation: matplotlib 3.10.0\n",
            "    Uninstalling matplotlib-3.10.0:\n",
            "      Successfully uninstalled matplotlib-3.10.0\n",
            "Successfully installed matplotlib-3.10.1\n"
          ]
        }
      ]
    },
    {
      "cell_type": "code",
      "source": [
        "matplotlib.__version__"
      ],
      "metadata": {
        "colab": {
          "base_uri": "https://localhost:8080/",
          "height": 36
        },
        "id": "THlioQKNsaVg",
        "outputId": "b1c2b8e7-0212-41a2-cd16-78dceb391223"
      },
      "execution_count": null,
      "outputs": [
        {
          "output_type": "execute_result",
          "data": {
            "text/plain": [
              "'3.10.1'"
            ],
            "application/vnd.google.colaboratory.intrinsic+json": {
              "type": "string"
            }
          },
          "metadata": {},
          "execution_count": 2
        }
      ]
    },
    {
      "cell_type": "code",
      "source": [
        "import matplotlib.pyplot as plt"
      ],
      "metadata": {
        "id": "Ux_E3RLFsxdX"
      },
      "execution_count": null,
      "outputs": []
    },
    {
      "cell_type": "code",
      "source": [
        "plt.show()"
      ],
      "metadata": {
        "id": "DHLVk-yvtDHO"
      },
      "execution_count": null,
      "outputs": []
    },
    {
      "cell_type": "markdown",
      "source": [
        "## 1.2 Utilizando módulos/bibliotecas\n",
        "\n",
        "- Documentación de Python (https://docs.python.org/es/3/)"
      ],
      "metadata": {
        "id": "oMxkV9-6GXwH"
      }
    },
    {
      "cell_type": "markdown",
      "source": [
        "#### Ejemplo 1: Vamos a probar la biblioteca Matplotlib para un ejemplo sobre el cálculo de los promedios de notas de los estudiantes de una clase.\n",
        "\n",
        "(https://matplotlib.org/stable/tutorials/introductory/pyplot.html)"
      ],
      "metadata": {
        "id": "W1MHaXB2Q7tT"
      }
    },
    {
      "cell_type": "code",
      "source": [
        "from matplotlib import pyplot as plt"
      ],
      "metadata": {
        "id": "hme-WlDYM-Od"
      },
      "execution_count": null,
      "outputs": []
    },
    {
      "cell_type": "code",
      "source": [
        "estudiantes = [\"Juan\", \"Maria\", \"José\", \"Claudia\", \"Ana\"]\n",
        "notas = [8.5, 9.0, 10.0, 3.4, 6.5]"
      ],
      "metadata": {
        "id": "mv1h3vJsM-RK"
      },
      "execution_count": null,
      "outputs": []
    },
    {
      "cell_type": "code",
      "source": [
        "#Gracfico de barras metodo bar(x,y)\n",
        "\n",
        "plt.bar(estudiantes, notas)\n",
        "plt.show()"
      ],
      "metadata": {
        "id": "GK77H828M-Zk",
        "colab": {
          "base_uri": "https://localhost:8080/",
          "height": 430
        },
        "outputId": "305e2b11-23e7-452c-f2b4-a60781baf6b1"
      },
      "execution_count": null,
      "outputs": [
        {
          "output_type": "display_data",
          "data": {
            "text/plain": [
              "<Figure size 640x480 with 1 Axes>"
            ],
            "image/png": "[encoded data removed]"
          },
          "metadata": {}
        }
      ]
    },
    {
      "cell_type": "markdown",
      "source": [
        "#### Ejemplo 2: Vamos a seleccionar aleatoriamente a un alumno para presentar su trabajo de ciencia de datos usando la biblioteca `random`.\n",
        "\n",
        "(https://docs.python.org/es/3/library/random.html)"
      ],
      "metadata": {
        "id": "5G6u4ZRYRIFZ"
      }
    },
    {
      "cell_type": "code",
      "source": [
        "import random"
      ],
      "metadata": {
        "id": "Y4o2AvhWNBdM"
      },
      "execution_count": null,
      "outputs": []
    },
    {
      "cell_type": "code",
      "source": [
        "estudiantes_2 = [\"Juan\", \"Maria\", \"José\", \"Claudia\", \"Ana\"]"
      ],
      "metadata": {
        "id": "9fXfsVnANBiG"
      },
      "execution_count": null,
      "outputs": []
    },
    {
      "cell_type": "markdown",
      "source": [
        "<font color=green>**Tip:**</font> Podrás notar a medida que avanzas en los ejercicios la importancia de acudir a la documentación para aprender cómo utilizar un método de algún módulo en el lenguaje Python.\n",
        "\n",
        "El método `help()`, por ejemplo, retorna una descripción sobre una variable, método o clase.\n",
        "\n",
        "https://docs.python.org/es/3/library/functions.html?#help"
      ],
      "metadata": {
        "id": "N-XJrnISGpTN"
      }
    },
    {
      "cell_type": "code",
      "source": [
        "from random import choice"
      ],
      "metadata": {
        "id": "a2zJCXNUND9X"
      },
      "execution_count": null,
      "outputs": []
    },
    {
      "cell_type": "code",
      "source": [
        "estudiante = choice(estudiantes_2)\n",
        "estudiante"
      ],
      "metadata": {
        "id": "2Yvr71PIND_r",
        "colab": {
          "base_uri": "https://localhost:8080/",
          "height": 36
        },
        "outputId": "3eabb9fa-2564-48b4-c5e4-2928ae927b2c"
      },
      "execution_count": null,
      "outputs": [
        {
          "output_type": "execute_result",
          "data": {
            "text/plain": [
              "'Claudia'"
            ],
            "application/vnd.google.colaboratory.intrinsic+json": {
              "type": "string"
            }
          },
          "metadata": {},
          "execution_count": 16
        }
      ]
    },
    {
      "cell_type": "code",
      "source": [
        "help(choice)"
      ],
      "metadata": {
        "colab": {
          "base_uri": "https://localhost:8080/"
        },
        "id": "aiPYrjoavwFd",
        "outputId": "227a9607-2e25-4945-e1d9-99816a739883"
      },
      "execution_count": null,
      "outputs": [
        {
          "output_type": "stream",
          "name": "stdout",
          "text": [
            "Help on method choice in module random:\n",
            "\n",
            "choice(seq) method of random.Random instance\n",
            "    Choose a random element from a non-empty sequence.\n",
            "\n"
          ]
        }
      ]
    },
    {
      "cell_type": "markdown",
      "source": [
        "### Metodos de importación\n",
        "\n",
        "1. import nombre_biblioteca -> importa toda la biblioteca\n",
        "2. from nombre_biblioteca import metodo -> importa solo el metodo especifico de una biblioteca\n",
        "3. from nombre_biblioteca import met_1, met_2 -> importa los metodos especificos de una bilbioteca\n",
        "4. from nombre_biblioteca import * -> importa todos los metodos de una biblioteca\n"
      ],
      "metadata": {
        "id": "fIlDfM16xYNI"
      }
    },
    {
      "cell_type": "code",
      "source": [
        "#Metodo 1\n",
        "\n",
        "import math\n",
        "n = 25\n",
        "print(f\"\\nLa raíz cuadrada de {n} es igual a {math.sqrt(n)}\")\n",
        "\n",
        "#Metodo 2\n",
        "\n",
        "from math import sqrt\n",
        "n = 4\n",
        "print(f\"\\nLa raíz cuadrada de {n} es igual a {sqrt(n)}\")\n",
        "\n",
        "#Metodo 3\n",
        "\n",
        "from math import sqrt, pow\n",
        "n = 9\n",
        "print(f\"\\nLa raíz cuadrada de {n} es igual a {sqrt(n)}\\nLa potencia de {n} al cuadrado es: {pow(n,2)}\")\n",
        "\n",
        "#Metodo 4\n",
        "\n",
        "from math import *\n",
        "n = 16\n",
        "print(f\"\\nLa raíz cuadrada de {n} es igual a {sqrt(n)}\\nLa potencia de {n} al cuadrado es: {pow(n,2)}\")"
      ],
      "metadata": {
        "colab": {
          "base_uri": "https://localhost:8080/"
        },
        "id": "8PRSOCYAyFsX",
        "outputId": "722c2611-908b-4b5a-d3cc-78d2301d44cc"
      },
      "execution_count": null,
      "outputs": [
        {
          "output_type": "stream",
          "name": "stdout",
          "text": [
            "\n",
            "La raíz cuadrada de 25 es igual a 5.0\n",
            "\n",
            "La raíz cuadrada de 4 es igual a 2.0\n",
            "\n",
            "La raíz cuadrada de 9 es igual a 3.0\n",
            "La potencia de 9 al cuadrado es: 81.0\n",
            "\n",
            "La raíz cuadrada de 16 es igual a 4.0\n",
            "La potencia de 16 al cuadrado es: 256.0\n"
          ]
        }
      ]
    },
    {
      "cell_type": "markdown",
      "source": [
        "## Ejercicios 1\n",
        "\n",
        "1. Escribe un código para instalar la versión 3.7.1 de la biblioteca matplotlib."
      ],
      "metadata": {
        "id": "rOKzMiraz8nn"
      }
    },
    {
      "cell_type": "code",
      "source": [
        "!pip install matplotlib==3.7.1"
      ],
      "metadata": {
        "id": "9QyEdo350FLc"
      },
      "execution_count": null,
      "outputs": []
    },
    {
      "cell_type": "markdown",
      "source": [
        "2. Escribe un código para importar la biblioteca numpy con el alias np."
      ],
      "metadata": {
        "id": "_C9asta5z839"
      }
    },
    {
      "cell_type": "code",
      "source": [
        "import numpy as np"
      ],
      "metadata": {
        "id": "NlLs36gK0LwZ"
      },
      "execution_count": null,
      "outputs": []
    },
    {
      "cell_type": "markdown",
      "source": [
        "3. Crea un programa que lea la siguiente lista de números y elija uno al azar.\n",
        "\n",
        "lista = [8, 12, 54, 23, 43, 1, 90, 87, 105, 77]"
      ],
      "metadata": {
        "id": "088O7B1vz9Cu"
      }
    },
    {
      "cell_type": "code",
      "source": [
        "from random import choice\n",
        "lista = [8, 12, 54, 23, 43, 1, 90, 87, 105, 77]\n",
        "print(choice(lista))"
      ],
      "metadata": {
        "colab": {
          "base_uri": "https://localhost:8080/"
        },
        "id": "IdvGiJ5L0T8u",
        "outputId": "2d151aaf-5638-4f24-d6a7-5b2ffeb5c64d"
      },
      "execution_count": null,
      "outputs": [
        {
          "output_type": "stream",
          "name": "stdout",
          "text": [
            "12\n"
          ]
        }
      ]
    },
    {
      "cell_type": "markdown",
      "source": [
        "4. Crea un programa que genere aleatoriamente un número entero menor que 100."
      ],
      "metadata": {
        "id": "xXy0USugz9Pu"
      }
    },
    {
      "cell_type": "code",
      "source": [
        "from random import randint\n",
        "print(randint(0,100))"
      ],
      "metadata": {
        "colab": {
          "base_uri": "https://localhost:8080/"
        },
        "id": "OMh7ViFZ0mHq",
        "outputId": "4640a754-f3b0-42e6-8b33-c98de8ab6209"
      },
      "execution_count": null,
      "outputs": [
        {
          "output_type": "stream",
          "name": "stdout",
          "text": [
            "87\n"
          ]
        }
      ]
    },
    {
      "cell_type": "markdown",
      "source": [
        "5. Crea un programa que solicite a la persona usuaria ingresar dos números enteros y calcule la potencia del primer número elevado al segundo."
      ],
      "metadata": {
        "id": "O9mZPTFmz9dm"
      }
    },
    {
      "cell_type": "code",
      "source": [
        "from math import pow\n",
        "\n",
        "numero_1 = int(input(\"Ingresa el primer número: \"))\n",
        "numero_2 = int(input(\"Ingresa el segundo número: \"))\n",
        "\n",
        "print(f\"\\nLa potencia del primer número elevado al segundo es: {pow(numero_1,numero_2):.0f}\")"
      ],
      "metadata": {
        "colab": {
          "base_uri": "https://localhost:8080/"
        },
        "id": "2FNp99oC0vLa",
        "outputId": "0fa6295b-7ff8-4565-da90-3e4dcf6be8a6"
      },
      "execution_count": null,
      "outputs": [
        {
          "output_type": "stream",
          "name": "stdout",
          "text": [
            "Ingresa el primer número: 5\n",
            "Ingresa el segundo número: 2\n",
            "\n",
            "La potencia del primer número elevado al segundo es: 25\n"
          ]
        }
      ]
    },
    {
      "cell_type": "markdown",
      "source": [
        "### Aplicando a proyectos\n",
        "\n",
        "6. Se debe escribir un programa para sortear a un seguidor de una red social para ganar un premio. La lista de participantes está numerada y debemos elegir aleatoriamente un número según la cantidad de participantes. Pide a la persona usuaria que proporcione el número de participantes del sorteo y devuelve el número sorteado."
      ],
      "metadata": {
        "id": "BuEIVMW-z9oe"
      }
    },
    {
      "cell_type": "code",
      "source": [
        "from random import randint\n",
        "\n",
        "participantes = int(input(\"Ingresa la cantidad de participantes: \"))\n",
        "print(f\"\\nEl número ganador es: {randint(1,participantes):.0f}\")"
      ],
      "metadata": {
        "colab": {
          "base_uri": "https://localhost:8080/"
        },
        "id": "T_b7o-Sm1OYf",
        "outputId": "0a281bea-56ef-45f9-87a9-43ca64256018"
      },
      "execution_count": null,
      "outputs": [
        {
          "output_type": "stream",
          "name": "stdout",
          "text": [
            "Ingresa la cantidad de participantes: 10\n",
            "\n",
            "El número ganador es: 3\n"
          ]
        }
      ]
    },
    {
      "cell_type": "markdown",
      "source": [
        "7. Has recibido una solicitud para generar números de token para acceder a la aplicación de una empresa. El token debe ser par y variar de 1000 a 9998. Escribe un código que solicite el nombre de la persona usuaria y muestre un mensaje junto a este token generado aleatoriamente.\n",
        "\n",
        "print(f\"Hola, {nombre_usuario}, tu token de acceso es {token_generado} ¡Bienvenido/a!\")"
      ],
      "metadata": {
        "id": "zrTSpdioz9zW"
      }
    },
    {
      "cell_type": "code",
      "source": [
        "from random import randint\n",
        "\n",
        "nombre_usuario = input(\"Ingresa tu nombre de usuario: \")\n",
        "token_generado = randint(1000,9998)\n",
        "\n",
        "while token_generado % 2 != 0:\n",
        "  token_generado = randint(1000,9998)\n",
        "\n",
        "print(f\"\\nHola, {nombre_usuario}, tu token de acceso es {token_generado:.0f} ¡Bienvenido/a!\")\n"
      ],
      "metadata": {
        "colab": {
          "base_uri": "https://localhost:8080/"
        },
        "id": "-WijIFEL2DSG",
        "outputId": "45097571-c56d-42c2-92e6-e3cb7aa8683b"
      },
      "execution_count": null,
      "outputs": [
        {
          "output_type": "stream",
          "name": "stdout",
          "text": [
            "Ingresa tu nombre de usuario: David\n",
            "\n",
            "Hola, David, tu token de acceso es 1704 ¡Bienvenido/a!\n"
          ]
        }
      ]
    },
    {
      "cell_type": "markdown",
      "source": [
        "8. Para diversificar y atraer nuevos clientes, una lanchonete creó un ítem misterioso en su menú llamado \"ensalada de frutas sorpresa\". En este ítem, se eligen aleatoriamente 3 frutas de una lista de 12 para componer la ensalada de frutas del cliente. Crea el código que realice esta selección aleatoria según la lista dada.\n",
        "\n",
        "frutas = [\"manzana\", \"banana\", \"uva\", \"pera\", \"mango\", \"coco\", \"sandia\", \"fresa\", \"naranja\", \"maracuya\", \"kiwi\", \"cereza\"]"
      ],
      "metadata": {
        "id": "zsKAWkecz9_W"
      }
    },
    {
      "cell_type": "code",
      "source": [
        "from random import choices\n",
        "\n",
        "\n",
        "frutas = [\"manzana\", \"banana\", \"uva\", \"pera\", \"mango\", \"coco\", \"sandia\", \"fresa\", \"naranja\", \"maracuya\", \"kiwi\", \"cereza\"]\n",
        "ensalada = choices(frutas, k=3)\n",
        "\n",
        "print(f\"\\nLa ensalada de frutas del cliente es: \\n{ensalada}\")"
      ],
      "metadata": {
        "colab": {
          "base_uri": "https://localhost:8080/"
        },
        "id": "aH8B-t9q3At4",
        "outputId": "425f05e0-e9d1-491e-c461-9d1681ea11a9"
      },
      "execution_count": null,
      "outputs": [
        {
          "output_type": "stream",
          "name": "stdout",
          "text": [
            "\n",
            "La ensalada de frutas del cliente es: \n",
            "['sandia', 'fresa', 'banana']\n"
          ]
        }
      ]
    },
    {
      "cell_type": "markdown",
      "source": [
        "9. Has recibido un desafío para calcular la raíz cuadrada de una lista de números, identificando cuáles resultan en un número entero. La lista es la siguiente:\n",
        "\n",
        "numeros = [2, 8, 15, 23, 91, 112, 256]"
      ],
      "metadata": {
        "id": "KEEif0COz-K1"
      }
    },
    {
      "cell_type": "code",
      "source": [
        "from math import sqrt\n",
        "\n",
        "numeros = [2, 8, 15, 23, 91, 112, 256]\n",
        "\n",
        "for numero in numeros:\n",
        "  raiz = sqrt(numero)\n",
        "  if raiz % 1 == 0:\n",
        "    print(f\"\\nLa raíz cuadrada de {numero:.0f} es un número entero\")\n",
        "  else:\n",
        "    print(f\"\\nLa raíz cuadrada de {numero:.0f} no es un número entero\")"
      ],
      "metadata": {
        "colab": {
          "base_uri": "https://localhost:8080/"
        },
        "id": "_Sjnt0F435R2",
        "outputId": "953d82c6-8eed-41bb-a261-9fa55b47a654"
      },
      "execution_count": null,
      "outputs": [
        {
          "output_type": "stream",
          "name": "stdout",
          "text": [
            "\n",
            "La raíz cuadrada de 2 no es un número entero\n",
            "\n",
            "La raíz cuadrada de 8 no es un número entero\n",
            "\n",
            "La raíz cuadrada de 15 no es un número entero\n",
            "\n",
            "La raíz cuadrada de 23 no es un número entero\n",
            "\n",
            "La raíz cuadrada de 91 no es un número entero\n",
            "\n",
            "La raíz cuadrada de 112 no es un número entero\n",
            "\n",
            "La raíz cuadrada de 256 es un número entero\n"
          ]
        }
      ]
    },
    {
      "cell_type": "markdown",
      "source": [
        "10. Haz un programa para una tienda que vende césped para jardines. Esta tienda trabaja con jardines circulares y el precio del metro cuadrado de césped es de R$ 25,00. Pide a la persona usuaria el radio del área circular y devuelve el valor en reales de cuánto tendrá que pagar."
      ],
      "metadata": {
        "id": "bzoDFhN8z-Vl"
      }
    },
    {
      "cell_type": "code",
      "source": [
        "from math import pow, pi\n",
        "\n",
        "precio = 25\n",
        "radio = float(input(\"Ingresa el radio del área circular: \"))\n",
        "area = pow(radio,2) * pi\n",
        "total = area * precio\n",
        "\n",
        "print(f\"\\nEl valor a pagar es de: R${total:.2f}\")"
      ],
      "metadata": {
        "colab": {
          "base_uri": "https://localhost:8080/"
        },
        "id": "nnv6BLu64WYh",
        "outputId": "0ec6f403-f412-4427-f7e1-f1b4f3840e77"
      },
      "execution_count": null,
      "outputs": [
        {
          "output_type": "stream",
          "name": "stdout",
          "text": [
            "Ingresa el radio del área circular: 1\n",
            "\n",
            "El valor a pagar es de: R$78.54\n"
          ]
        }
      ]
    },
    {
      "cell_type": "markdown",
      "source": [
        "## <font color=green> 2. FUNCIONES\n",
        "---"
      ],
      "metadata": {
        "id": "2hrSPmlcBwWS"
      }
    },
    {
      "cell_type": "markdown",
      "source": [
        "En Python, las **funciones** son secuencias de instrucciones que ejecutan tareas específicas, permitiendo su reutilización en diferentes partes del código. Estas pueden recibir parámetros de entrada (que también los conocemos como *inputs*) y también retornar resultados."
      ],
      "metadata": {
        "id": "gC4lHsW-DREY"
      }
    },
    {
      "cell_type": "markdown",
      "source": [
        "## 2.1 Built-in function (Función Incorporada)\n",
        "\n",
        "El interpretador de Python contiene una serie de funciones incorporadas que pueden ser invocadas es cualquier momento. Algunas que vamos a utilizar a lo largo de este curso son: `type()`, `print()`, `list()`, `zip()`, `sum()`, `map()`, etc.\n",
        "\n",
        "***Documentación:***\n",
        "https://docs.python.org/es/3/library/functions.html\n"
      ],
      "metadata": {
        "id": "Qr_h1_UNEzHZ"
      }
    },
    {
      "cell_type": "markdown",
      "source": [
        "#### **Situación 1:**\n",
        "\n",
        "La institución educativa para la cual nos encontramos trabajando compartió los datos de las notas de un estudiante para que pudiesemos calcular su promedio con una casilla decimal.\n",
        "\n",
        "Los datos recibidos corresponden a un diccionario cuyas llaves indican el trimestre en cuestión y sus valores corresponden a las notas de cada trimestre del estudiante en una respectiva materia."
      ],
      "metadata": {
        "id": "MMOJIW3TyLIB"
      }
    },
    {
      "cell_type": "code",
      "source": [
        "notas = {'Primer trimestre': 8.5, 'Segundo trimestre': 9.0, 'Tercer trimestre': 7.5}"
      ],
      "metadata": {
        "id": "WQ-pCgdaMOlc"
      },
      "execution_count": null,
      "outputs": []
    },
    {
      "cell_type": "code",
      "source": [
        "suma = 0\n",
        "for nota in notas.values():\n",
        "  suma += nota\n",
        "\n",
        "promedio = suma / len(notas)\n",
        "print(f\"El promedio del estudiante es: {promedio}\")"
      ],
      "metadata": {
        "id": "GU-HvC-QMOoS",
        "colab": {
          "base_uri": "https://localhost:8080/"
        },
        "outputId": "dba316d8-0c51-4356-cd2c-a09adf1e9c22"
      },
      "execution_count": null,
      "outputs": [
        {
          "output_type": "stream",
          "name": "stdout",
          "text": [
            "El promedio del estudiante es: 8.333333333333334\n"
          ]
        }
      ]
    },
    {
      "cell_type": "markdown",
      "source": [
        "*Redondear el promedio usando round():*\n",
        "\n",
        "https://docs.python.org/es/3/library/functions.html#round"
      ],
      "metadata": {
        "id": "JD2z3LW8312E"
      }
    },
    {
      "cell_type": "code",
      "source": [
        "help(round)"
      ],
      "metadata": {
        "id": "c7Cn5XFfMP5E",
        "colab": {
          "base_uri": "https://localhost:8080/"
        },
        "outputId": "2b81db6a-b127-441b-f0dd-93c1206338ea"
      },
      "execution_count": null,
      "outputs": [
        {
          "output_type": "stream",
          "name": "stdout",
          "text": [
            "Help on built-in function round in module builtins:\n",
            "\n",
            "round(number, ndigits=None)\n",
            "    Round a number to a given precision in decimal digits.\n",
            "    \n",
            "    The return value is an integer if ndigits is omitted or None.  Otherwise\n",
            "    the return value has the same type as the number.  ndigits may be negative.\n",
            "\n"
          ]
        }
      ]
    },
    {
      "cell_type": "code",
      "source": [
        "promedio = round(promedio,1)\n",
        "print(f\"El promedio del estudiante es: {promedio}\")"
      ],
      "metadata": {
        "id": "eVNPFr0pMRWl",
        "colab": {
          "base_uri": "https://localhost:8080/"
        },
        "outputId": "47bae00a-5575-4581-c98b-baed6b1b2ab1"
      },
      "execution_count": null,
      "outputs": [
        {
          "output_type": "stream",
          "name": "stdout",
          "text": [
            "El promedio del estudiante es: 8.3\n"
          ]
        }
      ]
    },
    {
      "cell_type": "markdown",
      "source": [
        "## 2.2 Creando funciones"
      ],
      "metadata": {
        "id": "NCUSezOJIdfy"
      }
    },
    {
      "cell_type": "markdown",
      "source": [
        "Tras explorar las funciones incorporadas y aprender cómo utilizar algunas de ellas, es posible que tengas la necesidad de resolver un problema específico y estas no sean suficientes.\n",
        "\n",
        "Por este motivo, necesitaremos crear nuestras propias funciones, y aún más, si necesitamos aplicarlas en varias partes de nuestros códigos."
      ],
      "metadata": {
        "id": "QrTAXwghsg6s"
      }
    },
    {
      "cell_type": "markdown",
      "source": [
        "### Funciones sin parámetros\n",
        "\n",
        "#### Formato estándar:\n",
        "\n",
        "```python\n",
        "def <nombre>():\n",
        "  <instrucciones>\n",
        "```"
      ],
      "metadata": {
        "id": "zxyXiX462A_X"
      }
    },
    {
      "cell_type": "code",
      "source": [
        "notas = {'Primer trimestre': 3.5, 'Segundo trimestre': 4.2, 'Tercer trimestre': 3.3}\n",
        "def promedio():\n",
        "  calculo = sum(notas.values()) / len(notas)\n",
        "  print(f\"El promedio del estudiante es: {calculo}\")"
      ],
      "metadata": {
        "id": "WgWoULpnMSrT"
      },
      "execution_count": null,
      "outputs": []
    },
    {
      "cell_type": "code",
      "source": [
        "promedio()"
      ],
      "metadata": {
        "id": "VKfg0zkDMStp",
        "colab": {
          "base_uri": "https://localhost:8080/"
        },
        "outputId": "5706c9e7-222a-44b0-e8e0-7052aec83064"
      },
      "execution_count": null,
      "outputs": [
        {
          "output_type": "stream",
          "name": "stdout",
          "text": [
            "El promedio del estudiante es: 3.6666666666666665\n"
          ]
        }
      ]
    },
    {
      "cell_type": "markdown",
      "source": [
        "### Funciones con parámetros\n",
        "\n",
        "#### Formato estándar:\n",
        "\n",
        "```python\n",
        "def <nombre>(<param_1>, <param_2>, ..., <param_n>):\n",
        "  <instrucciones>\n",
        "```"
      ],
      "metadata": {
        "id": "o9AR_DNDFKSD"
      }
    },
    {
      "cell_type": "code",
      "source": [
        "def promedio(dict={}):\n",
        "  calculo = sum(notas.values()) / len(notas)\n",
        "  print(f\"El promedio del estudiante es: {round(calculo,1)}\")"
      ],
      "metadata": {
        "id": "1QHJXCYsMUx3"
      },
      "execution_count": null,
      "outputs": []
    },
    {
      "cell_type": "code",
      "source": [
        "promedio(notas)"
      ],
      "metadata": {
        "id": "txkkIwheMU0n",
        "colab": {
          "base_uri": "https://localhost:8080/"
        },
        "outputId": "b0adc1df-e54a-42f2-e5e3-ef5939b817da"
      },
      "execution_count": null,
      "outputs": [
        {
          "output_type": "stream",
          "name": "stdout",
          "text": [
            "El promedio del estudiante es: 3.7\n"
          ]
        }
      ]
    },
    {
      "cell_type": "markdown",
      "source": [
        "#### **Situación 2:**\n",
        "\n",
        "Recibimos una solicitud para crear una función que calcule el promedio de notas de un estudiante a partir de una lista; que permita alterar la cantidad de notas, y que no implique tener que modificar la función.\n",
        "\n",
        "Los datos recibidos, en esta ocasión, corresponden a una lista que contiene las notas de un mismo estudiante en una determinada materia.\n",
        "\n",
        "notas = 8.5, 9.0, 6.0, 10.0\n",
        "\n",
        "**¿Vamos a resolver este desafío?**\n",
        "\n",
        "Para facilitar nuestra comprensión del proceso, vamos a aplicar las notas de un único estudiante; sin embargo, puedes probar otros casos para practicar."
      ],
      "metadata": {
        "id": "-Umx7n134suz"
      }
    },
    {
      "cell_type": "code",
      "source": [
        "notas = [8.5, 9.0, 6.0, 10.0]"
      ],
      "metadata": {
        "id": "U4MlTO9ucAKc"
      },
      "execution_count": null,
      "outputs": []
    },
    {
      "cell_type": "code",
      "source": [
        "def promedio (lista):\n",
        "  calculo = sum(lista) / len(lista)\n",
        "  print(f\"El promedio del estudiante es: {round(calculo,1)}\")"
      ],
      "metadata": {
        "id": "ZrqyDBNFMYOK"
      },
      "execution_count": null,
      "outputs": []
    },
    {
      "cell_type": "code",
      "source": [
        "promedio(notas)"
      ],
      "metadata": {
        "id": "wEkixagwMY2E",
        "colab": {
          "base_uri": "https://localhost:8080/"
        },
        "outputId": "2f5effbb-2c7e-462f-c1b2-1bb1866016be"
      },
      "execution_count": null,
      "outputs": [
        {
          "output_type": "stream",
          "name": "stdout",
          "text": [
            "El promedio del estudiante es: 8.4\n"
          ]
        }
      ]
    },
    {
      "cell_type": "code",
      "source": [
        "media = promedio(notas)"
      ],
      "metadata": {
        "id": "60Gvxd9tMa5d",
        "colab": {
          "base_uri": "https://localhost:8080/"
        },
        "outputId": "a0e737c1-87fc-4eda-8975-887e21efd3d4"
      },
      "execution_count": null,
      "outputs": [
        {
          "output_type": "stream",
          "name": "stdout",
          "text": [
            "El promedio del estudiante es: 8.4\n"
          ]
        }
      ]
    },
    {
      "cell_type": "code",
      "source": [
        "type(media)"
      ],
      "metadata": {
        "colab": {
          "base_uri": "https://localhost:8080/"
        },
        "id": "e-mHC_dyeZV9",
        "outputId": "5e5a5b86-afbe-47cb-c6c1-17f2d4ae024d"
      },
      "execution_count": null,
      "outputs": [
        {
          "output_type": "execute_result",
          "data": {
            "text/plain": [
              "NoneType"
            ]
          },
          "metadata": {},
          "execution_count": 22
        }
      ]
    },
    {
      "cell_type": "markdown",
      "source": [
        "<font color=red>**Atención!**</font>\n",
        "Cuando utilizamos funciones, necesitamos prestar atención a una propiedad llamada **Alcance de una función**. Esta propiedad determina dónde una variable puede ser utilizada dentro del código. Por ejemplo, una variable creada dentro de una función existirá únicamente dentro de esta función. O sea, cuando finaliza la ejecución de una función, la variable no estará disponible para el usuario en el resto del código."
      ],
      "metadata": {
        "id": "skMq7d0_xHND"
      }
    },
    {
      "cell_type": "code",
      "source": [
        "#La variable no estara disponible cuando finalice la ejecución de la función por tal motivo calculo al invocarla aparece como no definida\n",
        "calculo"
      ],
      "metadata": {
        "id": "yTOqJSgsMbdJ",
        "colab": {
          "base_uri": "https://localhost:8080/",
          "height": 158
        },
        "outputId": "615ee2d1-951e-4f41-ba8b-1fef1c88da1d"
      },
      "execution_count": null,
      "outputs": [
        {
          "output_type": "error",
          "ename": "NameError",
          "evalue": "name 'calculo' is not defined",
          "traceback": [
            "\u001b[0;31m---------------------------------------------------------------------------\u001b[0m",
            "\u001b[0;31mNameError\u001b[0m                                 Traceback (most recent call last)",
            "\u001b[0;32m<ipython-input-23-e2a6b9804bc1>\u001b[0m in \u001b[0;36m<cell line: 0>\u001b[0;34m()\u001b[0m\n\u001b[1;32m      1\u001b[0m \u001b[0;31m#La variable no estara disponible cuando finalice la ejecución de la función\u001b[0m\u001b[0;34m\u001b[0m\u001b[0;34m\u001b[0m\u001b[0m\n\u001b[0;32m----> 2\u001b[0;31m \u001b[0mcalculo\u001b[0m\u001b[0;34m\u001b[0m\u001b[0;34m\u001b[0m\u001b[0m\n\u001b[0m",
            "\u001b[0;31mNameError\u001b[0m: name 'calculo' is not defined"
          ]
        }
      ]
    },
    {
      "cell_type": "markdown",
      "source": [
        "## 2.3 Funciones que retornan valores\n",
        "\n",
        "#### Formato estándar:\n",
        "\n",
        "```python\n",
        "def <nombre>(<param_1>, <param_2>, ..., <param_n>):\n",
        "  <instrucciones>\n",
        "  return resultado\n",
        "```"
      ],
      "metadata": {
        "id": "-oDFGKcA52kG"
      }
    },
    {
      "cell_type": "markdown",
      "source": [
        "Retomando la actividad anterior, podemos retornar y guardar el valor del promedio de la siguiente forma:"
      ],
      "metadata": {
        "id": "DxvT_uItbQ-q"
      }
    },
    {
      "cell_type": "code",
      "source": [
        "# Notas del estudiante\n",
        "notas = [8.5, 9.0, 6.0, 10.0]"
      ],
      "metadata": {
        "id": "GlWdnX7Ubgl3"
      },
      "execution_count": null,
      "outputs": []
    },
    {
      "cell_type": "code",
      "source": [
        "def promedio (lista):\n",
        "  calculo = sum(lista) / len(lista)\n",
        "  print(f\"El promedio del estudiante es: {round(calculo,1)}\")\n",
        "  return calculo"
      ],
      "metadata": {
        "id": "JdMFsT9GMgI6"
      },
      "execution_count": null,
      "outputs": []
    },
    {
      "cell_type": "code",
      "source": [
        "promedio(notas)"
      ],
      "metadata": {
        "id": "p7AwNnTCMgLf",
        "colab": {
          "base_uri": "https://localhost:8080/"
        },
        "outputId": "50dfc31d-90af-4654-e7d4-160904c4bdf9"
      },
      "execution_count": null,
      "outputs": [
        {
          "output_type": "stream",
          "name": "stdout",
          "text": [
            "El promedio del estudiante es: 8.4\n"
          ]
        },
        {
          "output_type": "execute_result",
          "data": {
            "text/plain": [
              "8.375"
            ]
          },
          "metadata": {},
          "execution_count": 26
        }
      ]
    },
    {
      "cell_type": "code",
      "source": [
        "resultado = promedio(notas)"
      ],
      "metadata": {
        "id": "35zC247QMgRP",
        "colab": {
          "base_uri": "https://localhost:8080/"
        },
        "outputId": "f689376b-c766-492a-d763-b0baab71ca31"
      },
      "execution_count": null,
      "outputs": [
        {
          "output_type": "stream",
          "name": "stdout",
          "text": [
            "El promedio del estudiante es: 8.4\n"
          ]
        }
      ]
    },
    {
      "cell_type": "code",
      "source": [
        "type(resultado)"
      ],
      "metadata": {
        "id": "TjmB8IWpMgV4",
        "colab": {
          "base_uri": "https://localhost:8080/"
        },
        "outputId": "9d02a725-25c5-4f10-d364-4c6221fbf6ad"
      },
      "execution_count": null,
      "outputs": [
        {
          "output_type": "execute_result",
          "data": {
            "text/plain": [
              "float"
            ]
          },
          "metadata": {},
          "execution_count": 28
        }
      ]
    },
    {
      "cell_type": "code",
      "source": [
        "resultado"
      ],
      "metadata": {
        "colab": {
          "base_uri": "https://localhost:8080/"
        },
        "id": "L-vTh6bWfpzt",
        "outputId": "e0fd4e6d-2d4b-4681-d37a-3e1f8cec9c8f"
      },
      "execution_count": null,
      "outputs": [
        {
          "output_type": "execute_result",
          "data": {
            "text/plain": [
              "8.375"
            ]
          },
          "metadata": {},
          "execution_count": 29
        }
      ]
    },
    {
      "cell_type": "markdown",
      "source": [
        "#### **Situación 3:**\n",
        "\n",
        "Recibimos una nueva solicitud. Debemos calcular el promedio de un estudiante a partir de una lista y retornar tanto el promedio como la situación del estudiante (\"Aprobado(a)\" si la nota es mayor o igual a 7.0, en caso contrario, será \"Reprobado(a)\").\n",
        "\n",
        "Además de ello, necesitamos exhibir un pequeño texto para indicar el promedio del estudiante y cuál es su situación. Los datos recibidos corresponden a una lista que contiene apenas las notas de un estudiante en una materia determinada.\n",
        "\n",
        "**¿Vamos a resolver este desafío?**\n",
        "\n",
        "Para facilitar nuestra comprensión del proceso, vamos a aplicar las notas de un único estudiante; sin embargo, puedes probar otros casos para practicar."
      ],
      "metadata": {
        "id": "_awyOKOH8OOi"
      }
    },
    {
      "cell_type": "code",
      "source": [
        "# Notas del estudiante\n",
        "notas = [8.5, 9.0, 6.0, 10.0]"
      ],
      "metadata": {
        "id": "3saGo2kDf0BY"
      },
      "execution_count": null,
      "outputs": []
    },
    {
      "cell_type": "code",
      "source": [
        "def boletin (lista):\n",
        "  calculo = sum(lista) / len(lista)\n",
        "  calculo = round(calculo,1)\n",
        "  if calculo >= 7:\n",
        "    situacion = \"Aprobado(a)\"\n",
        "  else:\n",
        "    situacion = \"Reprobado(a)\"\n",
        "  return (calculo, situacion)"
      ],
      "metadata": {
        "id": "unNLrdFjMjbv"
      },
      "execution_count": null,
      "outputs": []
    },
    {
      "cell_type": "code",
      "source": [
        "calculo, situacion = boletin(notas)"
      ],
      "metadata": {
        "id": "Rmvg4hNeMjeD"
      },
      "execution_count": null,
      "outputs": []
    },
    {
      "cell_type": "code",
      "source": [
        "print(f\"El promedio del estudiante es: {calculo}\\nLa situación del estudiante es: {situacion}\")"
      ],
      "metadata": {
        "id": "jCYuFpmeMji6",
        "colab": {
          "base_uri": "https://localhost:8080/"
        },
        "outputId": "3ee9b411-b039-449e-98f2-91a119f20378"
      },
      "execution_count": null,
      "outputs": [
        {
          "output_type": "stream",
          "name": "stdout",
          "text": [
            "El promedio del estudiante es: 8.4\n",
            "La situación del estudiante es: Aprobado(a)\n"
          ]
        }
      ]
    },
    {
      "cell_type": "code",
      "source": [
        "print(f\"El promedio del estudiante es: {boletin(notas)[0]}\\nLa situación del estudiante es: {boletin(notas)[1]}\")"
      ],
      "metadata": {
        "id": "hSht0Z2cMjlT",
        "colab": {
          "base_uri": "https://localhost:8080/"
        },
        "outputId": "690764d4-05dc-449a-fd5c-51513576c90f"
      },
      "execution_count": null,
      "outputs": [
        {
          "output_type": "stream",
          "name": "stdout",
          "text": [
            "El promedio del estudiante es: 8.4\n",
            "La situación del estudiante es: Aprobado(a)\n"
          ]
        }
      ]
    },
    {
      "cell_type": "code",
      "source": [
        "notas3 = [9.5, 7.0, 5.2, 9.8]\n",
        "\n",
        "def boletin (lista):\n",
        "  calculo = sum(lista) / len(lista)\n",
        "  calculo = round(calculo,1)\n",
        "  if calculo >= 7:\n",
        "    situacion = \"Aprobado(a)\"\n",
        "  else:\n",
        "    situacion = \"Reprobado(a)\"\n",
        "  return print(f\"El promedio del estudiante es: {calculo}\\nLa situación del estudiante es: {situacion}\")"
      ],
      "metadata": {
        "id": "tLdjCulMMjnD"
      },
      "execution_count": null,
      "outputs": []
    },
    {
      "cell_type": "code",
      "source": [
        "boletin(notas3)"
      ],
      "metadata": {
        "colab": {
          "base_uri": "https://localhost:8080/"
        },
        "id": "riBqnhkwhxlg",
        "outputId": "516b1e59-e1d3-4836-c2b6-411d5ad5af11"
      },
      "execution_count": null,
      "outputs": [
        {
          "output_type": "stream",
          "name": "stdout",
          "text": [
            "El promedio del estudiante es: 7.9\n",
            "La situación del estudiante es: Aprobado(a)\n"
          ]
        }
      ]
    },
    {
      "cell_type": "markdown",
      "source": [
        "### Alcance de una variable\n",
        "\n",
        "*   Global -> definida fuera de una función\n",
        "*   Local -> definida dentro de una función\n",
        "\n"
      ],
      "metadata": {
        "id": "0vaGIp8Sj4t3"
      }
    },
    {
      "cell_type": "code",
      "source": [
        "#Variable global\n",
        "valor_1 = 3\n",
        "valor_2 = 2\n",
        "\n",
        "def suma(a,b):\n",
        "  #variable local\n",
        "  x = a + b\n",
        "  print(x)\n",
        "\n",
        "suma(valor_1,valor_2)\n",
        "\n",
        "type(valor_1)"
      ],
      "metadata": {
        "colab": {
          "base_uri": "https://localhost:8080/"
        },
        "id": "n2oH7LDekJPF",
        "outputId": "0b3c496a-2e24-4591-e0b8-3fe66b5a44ba"
      },
      "execution_count": null,
      "outputs": [
        {
          "output_type": "stream",
          "name": "stdout",
          "text": [
            "5\n"
          ]
        },
        {
          "output_type": "execute_result",
          "data": {
            "text/plain": [
              "int"
            ]
          },
          "metadata": {},
          "execution_count": 60
        }
      ]
    },
    {
      "cell_type": "code",
      "source": [
        "'''\n",
        "Si se ejecuta type(x), generara el error de que la variable no esta definida por ser una variable local\n",
        "---------------------------------------------------------------------------\n",
        "NameError                                 Traceback (most recent call last)\n",
        "<ipython-input-61-191ea9c3d109> in <cell line: 0>()\n",
        "----> 1 type(x)\n",
        "\n",
        "NameError: name 'x' is not defined\n",
        "'''\n",
        "\n",
        "type(x)"
      ],
      "metadata": {
        "colab": {
          "base_uri": "https://localhost:8080/",
          "height": 141
        },
        "id": "mqgPkdMzkc11",
        "outputId": "40c98fc0-43a7-46c7-e868-7e1eca8e7b4d"
      },
      "execution_count": null,
      "outputs": [
        {
          "output_type": "error",
          "ename": "NameError",
          "evalue": "name 'x' is not defined",
          "traceback": [
            "\u001b[0;31m---------------------------------------------------------------------------\u001b[0m",
            "\u001b[0;31mNameError\u001b[0m                                 Traceback (most recent call last)",
            "\u001b[0;32m<ipython-input-61-191ea9c3d109>\u001b[0m in \u001b[0;36m<cell line: 0>\u001b[0;34m()\u001b[0m\n\u001b[0;32m----> 1\u001b[0;31m \u001b[0mtype\u001b[0m\u001b[0;34m(\u001b[0m\u001b[0mx\u001b[0m\u001b[0;34m)\u001b[0m\u001b[0;34m\u001b[0m\u001b[0;34m\u001b[0m\u001b[0m\n\u001b[0m",
            "\u001b[0;31mNameError\u001b[0m: name 'x' is not defined"
          ]
        }
      ]
    },
    {
      "cell_type": "markdown",
      "source": [
        "## 2.4 Funciones lambda\n",
        "\n",
        "También se conocen como funciones anónimas, son funciones que no necesitan ser definidas, o sea, no poseen un nombre, y describen en una única fila los comandos que deseamos aplicar.\n",
        "\n",
        "https://docs.python.org/es/3/reference/expressions.html?#lambda\n",
        "\n",
        "#### Formato estándar:\n",
        "\n",
        "```python\n",
        "lambda <variable>: <expresion>\n",
        "```"
      ],
      "metadata": {
        "id": "hwYYRpkZMft5"
      }
    },
    {
      "cell_type": "code",
      "source": [
        "nota_ = float(input(\"Ingresa tu nota: \"))\n",
        "\n",
        "def cualitativa(nota):\n",
        "  return nota + 0.5\n",
        "\n",
        "cualitativa(nota_)"
      ],
      "metadata": {
        "id": "wcNxDJoPMmTJ",
        "colab": {
          "base_uri": "https://localhost:8080/"
        },
        "outputId": "af9cb6f3-c85b-44b4-96f7-6878504c4f47"
      },
      "execution_count": null,
      "outputs": [
        {
          "name": "stdout",
          "output_type": "stream",
          "text": [
            "Ingresa tu nota: 6.5\n"
          ]
        },
        {
          "output_type": "execute_result",
          "data": {
            "text/plain": [
              "7.0"
            ]
          },
          "metadata": {},
          "execution_count": 63
        }
      ]
    },
    {
      "cell_type": "code",
      "source": [
        "nota_1 = float(input(\"Ingresa tu nota: \"))\n",
        "\n",
        "cualitativa = lambda nota: nota + 0.5\n",
        "\n",
        "cualitativa(nota_1)\n"
      ],
      "metadata": {
        "id": "S-baAoaQMmVy",
        "colab": {
          "base_uri": "https://localhost:8080/"
        },
        "outputId": "f856c684-a233-4f99-af75-a6917d4562c7"
      },
      "execution_count": null,
      "outputs": [
        {
          "name": "stdout",
          "output_type": "stream",
          "text": [
            "Ingresa tu nota: 6.5\n"
          ]
        },
        {
          "output_type": "execute_result",
          "data": {
            "text/plain": [
              "7.0"
            ]
          },
          "metadata": {},
          "execution_count": 64
        }
      ]
    },
    {
      "cell_type": "markdown",
      "source": [
        "#### **Situación 4:**\n",
        "\n",
        "En esta nueva solicitud, necesitamos crear una calculadora simple para obtener el promedio ponderado de notas de una materia determinada. Vamos a pedir que el usuario introduzca 3 notas (N1, N2, N3) del estudiante y devuelva el promedio ponderado de este estudiante. Los pesos de las notas son de, respectivamente 3, 2 y 5.\n",
        "\n",
        "Necesitamos exhibir un pequeño texto para poder indicar el promedio del estudiante.\n",
        "**¿Vamos a resolver este desafío?**\n"
      ],
      "metadata": {
        "id": "AuRWyNXYgD_b"
      }
    },
    {
      "cell_type": "markdown",
      "source": [
        "**Resolviendo nuestro problema:**"
      ],
      "metadata": {
        "id": "vdKk3DRBmtUE"
      }
    },
    {
      "cell_type": "code",
      "source": [
        "contador = 1\n",
        "notas = []\n",
        "\n",
        "while contador <= 3:\n",
        "  nota = float(input(f'Ingresa tu nota {contador}: '))\n",
        "  if 0 <= nota <= 10:\n",
        "    contador += 1\n",
        "    notas.append(nota)\n",
        "  else:\n",
        "    print('Nota invalida, debe estar entre 0 o 10')\n",
        "\n",
        "ponderado = lambda n1, n2, n3: (n1 * 3 + n2 * 2 + n3 * 5) / 10\n",
        "p_estudiante = ponderado(notas[0],notas[1],notas[2])\n",
        "print(f\"El promedio del estudiante es: {round(p_estudiante,1)}\")\n"
      ],
      "metadata": {
        "id": "6YxEn9aiMnYJ",
        "colab": {
          "base_uri": "https://localhost:8080/"
        },
        "outputId": "cff1bfca-c0ac-47e4-df93-077e3b5fb09d"
      },
      "execution_count": null,
      "outputs": [
        {
          "output_type": "stream",
          "name": "stdout",
          "text": [
            "Ingresa tu nota 1: 7\n",
            "Ingresa tu nota 2: 8\n",
            "Ingresa tu nota 3: 9.6\n",
            "El promedio del estudiante es: 8.5\n"
          ]
        }
      ]
    },
    {
      "cell_type": "markdown",
      "source": [
        "#### **Situación 5:**\n",
        "\n",
        "Ahora, debemos crear una pequeña función que permita dar una nota cualitativa (puntaje extra) a las notas del trimestre de los estudiantes del grupo que ganó el concurso de programación realizado en la institución. Cada estudiante recibirá el cualitativo de 0.5 añadido al promedio.\n",
        "\n",
        "Los datos recibidos corresponden a una lista que contiene las notas de algunos estudiantes y una variable con el cualitativo recibido.\n",
        "\n",
        "**¿Vamos a resolver este desafío?**\n",
        "\n",
        "Para facilitar nuestra comprensión del proceso, vamos a aplicar las notas de 5 estudiantes; sin embargo, puedes probar otros casos para practicar."
      ],
      "metadata": {
        "id": "1qk0gLdfFcbf"
      }
    },
    {
      "cell_type": "code",
      "source": [
        "# Notas del estudiante\n",
        "notas = [6.0, 7.0, 9.0, 5.5, 8.0]\n",
        "cualitativo = 0.5\n",
        "contador = 0"
      ],
      "metadata": {
        "id": "RdoaWhuVI_OB"
      },
      "execution_count": null,
      "outputs": []
    },
    {
      "cell_type": "code",
      "source": [
        "notas_actualizadas = lambda lista, cualitativo: [nota + cualitativo for nota in lista]\n",
        "\n",
        "notas_actualizadas(notas,cualitativo)"
      ],
      "metadata": {
        "id": "PzDfbv-kMq2t",
        "colab": {
          "base_uri": "https://localhost:8080/"
        },
        "outputId": "8d5d06bc-7a75-45aa-844e-a89656b74c15"
      },
      "execution_count": null,
      "outputs": [
        {
          "output_type": "execute_result",
          "data": {
            "text/plain": [
              "[6.5, 7.5, 9.5, 6.0, 8.5]"
            ]
          },
          "metadata": {},
          "execution_count": 82
        }
      ]
    },
    {
      "cell_type": "code",
      "source": [
        "for nota in notas_actualizadas(notas,cualitativo):\n",
        "  contador += 1\n",
        "  print(f'Nota del estudiante {contador}: {nota}')"
      ],
      "metadata": {
        "id": "3YDQ39wFMq5u",
        "colab": {
          "base_uri": "https://localhost:8080/"
        },
        "outputId": "e06a63f4-4ae0-43a6-a800-445114d63abe"
      },
      "execution_count": null,
      "outputs": [
        {
          "output_type": "stream",
          "name": "stdout",
          "text": [
            "Nota del estudiante 1: 6.5\n",
            "Nota del estudiante 2: 7.5\n",
            "Nota del estudiante 3: 9.5\n",
            "Nota del estudiante 4: 6.0\n",
            "Nota del estudiante 5: 8.5\n"
          ]
        }
      ]
    },
    {
      "cell_type": "markdown",
      "source": [
        "### Mapeando valores\n",
        "\n",
        "#### Formato estándar:\n",
        "\n",
        "```python\n",
        "map(<lambda function>, <iterador>)\n",
        "```"
      ],
      "metadata": {
        "id": "SOK4BC4mmKbG"
      }
    },
    {
      "cell_type": "code",
      "source": [
        "notas_actualizadas = map(lambda nota: nota + cualitativo, notas)"
      ],
      "metadata": {
        "id": "ZbfpvfWJMsjv"
      },
      "execution_count": null,
      "outputs": []
    },
    {
      "cell_type": "code",
      "source": [
        "notas_actualizadas"
      ],
      "metadata": {
        "id": "TA-zGLJfMseA",
        "colab": {
          "base_uri": "https://localhost:8080/"
        },
        "outputId": "523b57bc-0d89-486c-f758-88fb9b6d95b3"
      },
      "execution_count": null,
      "outputs": [
        {
          "output_type": "execute_result",
          "data": {
            "text/plain": [
              "<map at 0x7c814c0e1750>"
            ]
          },
          "metadata": {},
          "execution_count": 85
        }
      ]
    },
    {
      "cell_type": "code",
      "source": [
        "notas_actualizadas = list(notas_actualizadas)"
      ],
      "metadata": {
        "id": "PrAppvR6MuKm"
      },
      "execution_count": null,
      "outputs": []
    },
    {
      "cell_type": "code",
      "source": [
        "notas_actualizadas"
      ],
      "metadata": {
        "colab": {
          "base_uri": "https://localhost:8080/"
        },
        "id": "2y7PYNDxsH2m",
        "outputId": "4b682aa0-4152-4942-a5af-67d1be1a6abc"
      },
      "execution_count": null,
      "outputs": [
        {
          "output_type": "execute_result",
          "data": {
            "text/plain": [
              "[6.5, 7.5, 9.5, 6.0, 8.5]"
            ]
          },
          "metadata": {},
          "execution_count": 87
        }
      ]
    },
    {
      "cell_type": "markdown",
      "source": [
        "### Ejercicios 2\n",
        "1. Escribe un código que lee la lista siguiente y realiza:\n",
        "\n",
        "lista = [16, 14, 63, 65, 17, 99, 70, 11, 20, 48, 79, 32, 17, 89, 12, 25, 66]\n",
        "- Leer el tamaño de la lista\n",
        "- Leer el valor máximo y mínimo\n",
        "- Calcular la suma de los valores de la lista\n",
        "- Mostrar un mensaje al final: La lista tiene `tamano` números, donde el mayor\n",
        "- es `mayor` y el menor es `menor`. La suma de los valores es `suma`."
      ],
      "metadata": {
        "id": "zvIUfXSQZzkX"
      }
    },
    {
      "cell_type": "code",
      "source": [
        "lista = [16, 14, 63, 65, 17, 99, 70, 11, 20, 48, 79, 32, 17, 89, 12, 25, 66]\n",
        "tamano = len(lista)\n",
        "mayor = max(lista)\n",
        "menor = min(lista)\n",
        "suma = sum(lista)\n",
        "\n",
        "print(f\"La lista tiene {tamano} números.\\nEl número mayor de la lista es: {mayor}.\\nEl número menor de la lista es: {menor}.\\nLa suma de los valores de la lista es: {suma}.\")"
      ],
      "metadata": {
        "colab": {
          "base_uri": "https://localhost:8080/"
        },
        "id": "-HXnImKwZ-AM",
        "outputId": "b05dbd2d-7a5c-4ff0-fe6c-3a3c2c752f43"
      },
      "execution_count": null,
      "outputs": [
        {
          "output_type": "stream",
          "name": "stdout",
          "text": [
            "La lista tiene 17 números.\n",
            "El número mayor de la lista es: 99.\n",
            "El número menor de la lista es: 11.\n",
            "La suma de los valores de la lista es: 743.\n"
          ]
        }
      ]
    },
    {
      "cell_type": "markdown",
      "source": [
        "2. Escribe una función que genere la tabla de multiplicar de un número entero del 1 al 10, según la elección del usuario. Como ejemplo, para el número 7, la tabla de multiplicar se debe mostrar en el siguiente formato:\n",
        "\n",
        "- Tabla del  7:\n",
        "- 7 x 0 = 0\n",
        "- 7 x 1 = 7\n",
        "- [...]\n",
        "- 7 x 10 = 70"
      ],
      "metadata": {
        "id": "GjEUQBLsa5m_"
      }
    },
    {
      "cell_type": "code",
      "source": [
        "multipicadores = list(range(11))\n",
        "\n",
        "def tabla_multiplicar(numero):\n",
        "  while True:\n",
        "    entrada = input('Escribe un número entero del 1 al 10:  ')\n",
        "    if entrada.isdigit() or (entrada.startswith('-') and entrada[1:].isdigit()):\n",
        "        numero = int(entrada)\n",
        "        if numero < 0:\n",
        "            print(\"La tabla de multiplicar no está definido para números negativos.\")\n",
        "        elif numero > 10:\n",
        "            print(\"La tabla de multiplicar no está definido para números mayores a 10.\")\n",
        "        else:\n",
        "          print(f\"\\nTabla del {numero}:\")\n",
        "          for i in multipicadores:\n",
        "            print(f\"{numero} x {i} = {numero * i}\")\n",
        "          return\n",
        "    else:\n",
        "      print(\"\\n⚠️ No es un número válido, vuelve a intentar.\")\n",
        "\n",
        "tabla_multiplicar(numero)"
      ],
      "metadata": {
        "colab": {
          "base_uri": "https://localhost:8080/"
        },
        "id": "Oh_H_HwgbFyc",
        "outputId": "a3843c76-e383-44eb-f12e-90f00a213d56"
      },
      "execution_count": null,
      "outputs": [
        {
          "output_type": "stream",
          "name": "stdout",
          "text": [
            "Escribe un número entero del 1 al 10:  5\n",
            "\n",
            "Tabla del 5:\n",
            "5 x 0 = 0\n",
            "5 x 1 = 5\n",
            "5 x 2 = 10\n",
            "5 x 3 = 15\n",
            "5 x 4 = 20\n",
            "5 x 5 = 25\n",
            "5 x 6 = 30\n",
            "5 x 7 = 35\n",
            "5 x 8 = 40\n",
            "5 x 9 = 45\n",
            "5 x 10 = 50\n"
          ]
        }
      ]
    },
    {
      "cell_type": "markdown",
      "source": [
        "3. Crea una función que lea la siguiente lista y devuelva una nueva lista con los múltiplos de 3:\n",
        "\n",
        "[97, 80, 94, 88, 80, 1, 16, 53, 62, 32, 24, 99]"
      ],
      "metadata": {
        "id": "kxKU0W2Ba5au"
      }
    },
    {
      "cell_type": "code",
      "source": [
        "lista_multiplos = [97, 80, 94, 88, 80, 1, 16, 53, 62, 32, 24, 99]\n",
        "\n",
        "def multiplos_de_3(lista):\n",
        "  multiplos = []\n",
        "  for numero in lista:\n",
        "    if numero % 3 == 0:\n",
        "      multiplos.append(numero)\n",
        "  return multiplos\n",
        "\n",
        "multiplos_de_3(lista_multiplos)"
      ],
      "metadata": {
        "colab": {
          "base_uri": "https://localhost:8080/"
        },
        "id": "0Y5Pk1Mngv8t",
        "outputId": "904f5c9d-66cf-483a-e8d0-1b72eccd085b"
      },
      "execution_count": null,
      "outputs": [
        {
          "output_type": "execute_result",
          "data": {
            "text/plain": [
              "[24, 99]"
            ]
          },
          "metadata": {},
          "execution_count": 18
        }
      ]
    },
    {
      "cell_type": "markdown",
      "source": [
        "4.  Crea una lista de los cuadrados de los números de la siguiente lista [1, 2, 3, 4, 5, 6, 7, 8, 9, 10]. Recuerda utilizar las funciones lambda y map() para calcular el cuadrado de cada elemento de la lista."
      ],
      "metadata": {
        "id": "2xW6hxFja5OX"
      }
    },
    {
      "cell_type": "code",
      "source": [
        "lista_cuadrados = [1, 2, 3, 4, 5, 6, 7, 8, 9, 10]\n",
        "\n",
        "cuadrados = map(lambda numero: pow(numero, 2), lista_cuadrados)\n",
        "cuadrados = list(cuadrados)\n",
        "cuadrados"
      ],
      "metadata": {
        "colab": {
          "base_uri": "https://localhost:8080/"
        },
        "id": "-PTT6VOUhZ0P",
        "outputId": "1428a5e0-e08c-40a0-f1eb-3435fc55398e"
      },
      "execution_count": null,
      "outputs": [
        {
          "output_type": "execute_result",
          "data": {
            "text/plain": [
              "[1, 4, 9, 16, 25, 36, 49, 64, 81, 100]"
            ]
          },
          "metadata": {},
          "execution_count": 20
        }
      ]
    },
    {
      "cell_type": "markdown",
      "source": [
        "#### Aplicando a proyectos\n",
        "\n",
        "5. Has sido contratado como científico(a) de datos de una asociación de skate. Para analizar las notas recibidas por los skaters en algunas competiciones a lo largo del año, necesitas crear un código que calcule la puntuación de los atletas. Para ello, tu código debe recibir 5 notas ingresadas por los jueces."
      ],
      "metadata": {
        "id": "80pPt4qPa5Cf"
      }
    },
    {
      "cell_type": "code",
      "source": [
        "def promedio(lista):\n",
        "  while True:\n",
        "    contador = 0\n",
        "    notas = []\n",
        "    while contador < 5:\n",
        "      nota = float(input(f'Ingresa tu nota {contador + 1}: '))\n",
        "      if 0 <= nota <= 10:\n",
        "        contador += 1\n",
        "        notas.append(nota)\n",
        "      else:\n",
        "        print(\"\\n⚠️ No es un número válido, vuelve a intentar.\")\n",
        "    print(f\"El promedio del skater es: {round(sum(notas) / len(notas),1)}\")\n",
        "    return notas\n",
        "promedio(lista)"
      ],
      "metadata": {
        "colab": {
          "base_uri": "https://localhost:8080/"
        },
        "id": "OSOeE_1bh7vO",
        "outputId": "c9b61974-a51c-45bf-9989-5c25079bb996"
      },
      "execution_count": null,
      "outputs": [
        {
          "output_type": "stream",
          "name": "stdout",
          "text": [
            "Ingresa tu nota 1: 8.4\n",
            "Ingresa tu nota 2: 9.0\n",
            "Ingresa tu nota 3: -26\n",
            "\n",
            "⚠️ No es un número válido, vuelve a intentar.\n",
            "Ingresa tu nota 3: 26\n",
            "\n",
            "⚠️ No es un número válido, vuelve a intentar.\n",
            "Ingresa tu nota 3: 6.8\n",
            "Ingresa tu nota 4: 8.9\n",
            "Ingresa tu nota 5: 9.9\n",
            "El promedio del skater es: 8.6\n"
          ]
        },
        {
          "output_type": "execute_result",
          "data": {
            "text/plain": [
              "[8.4, 9.0, 6.8, 8.9, 9.9]"
            ]
          },
          "metadata": {},
          "execution_count": 32
        }
      ]
    },
    {
      "cell_type": "markdown",
      "source": [
        "6. Para cumplir con una demanda de una institución educativa para el análisis del rendimiento de sus estudiantes, necesitas crear una función que reciba una lista de 4 notas y devuelva:\n",
        "\n",
        "- mayor nota\n",
        "- menor nota\n",
        "- media\n",
        "- situación (Aprobado(a) o Reprobado(a))\n",
        "- Uso de la función\n",
        "- Mostrar: El estudiante obtuvo una media de `media`, con la mayor nota de `mayor` puntos y la menor nota de `menor` puntos y fue `situacion`.)"
      ],
      "metadata": {
        "id": "eM8QJ_jOa43P"
      }
    },
    {
      "cell_type": "code",
      "source": [
        "def boletin():\n",
        "    while True:\n",
        "        contador = 0\n",
        "        notas = []\n",
        "\n",
        "        while contador < 4:\n",
        "            entrada = input(f'Ingresa la nota {contador + 1} del estudiante (0 a 10): ')\n",
        "            try:\n",
        "                nota = float(entrada)\n",
        "                if 0 <= nota <= 10:\n",
        "                    notas.append(nota)\n",
        "                    contador += 1\n",
        "                else:\n",
        "                    print(\"⚠️ La nota debe estar entre 0 y 10.\")\n",
        "            except ValueError:\n",
        "                print(\"⚠️ No es un número válido, vuelve a intentar.\")\n",
        "\n",
        "        maximo = max(notas)\n",
        "        minimo = min(notas)\n",
        "        media = round(sum(notas) / len(notas), 2)\n",
        "\n",
        "        if media >= 7:\n",
        "            situacion = \"Aprobado(a)\"\n",
        "        else:\n",
        "            situacion = \"Reprobado(a)\"\n",
        "\n",
        "        print(f\"\\nEl estudiante obtuvo una media de {media}, con la mayor nota de {maximo} puntos, la menor nota de {minimo} puntos y fue {situacion}.\")\n",
        "\n",
        "        return notas, maximo, minimo, media, situacion\n",
        "\n",
        "boletin()\n"
      ],
      "metadata": {
        "colab": {
          "base_uri": "https://localhost:8080/"
        },
        "id": "WAeX5QM2oUcX",
        "outputId": "b1df9ec0-58cf-49ad-caf8-ee982f71f589"
      },
      "execution_count": null,
      "outputs": [
        {
          "output_type": "stream",
          "name": "stdout",
          "text": [
            "Ingresa la nota 1 del estudiante (0 a 10): 4\n",
            "Ingresa la nota 2 del estudiante (0 a 10): 5\n",
            "Ingresa la nota 3 del estudiante (0 a 10): a\n",
            "⚠️ No es un número válido, vuelve a intentar.\n",
            "Ingresa la nota 3 del estudiante (0 a 10): 11\n",
            "⚠️ La nota debe estar entre 0 y 10.\n",
            "Ingresa la nota 3 del estudiante (0 a 10): -2\n",
            "⚠️ La nota debe estar entre 0 y 10.\n",
            "Ingresa la nota 3 del estudiante (0 a 10): 5\n",
            "Ingresa la nota 4 del estudiante (0 a 10): 5\n",
            "\n",
            "El estudiante obtuvo una media de 4.75, con la mayor nota de 5.0 puntos, la menor nota de 4.0 puntos y fue Reprobado(a).\n"
          ]
        },
        {
          "output_type": "execute_result",
          "data": {
            "text/plain": [
              "([4.0, 5.0, 5.0, 5.0], 5.0, 4.0, 4.75, 'Reprobado(a)')"
            ]
          },
          "metadata": {},
          "execution_count": 41
        }
      ]
    },
    {
      "cell_type": "markdown",
      "source": [
        "7. Has recibido una demanda para tratar 2 listas con los nombres y apellidos de cada estudiante concatenándolos para presentar sus nombres completos en la forma Nombre Apellido. Las listas son:\n",
        "\n",
        "nombres = [\"juan\", \"MaRia\", \"JOSÉ\"]\n",
        "apellidos = [\"SILVA\", \"sosa\", \"Tavares\"]\n",
        "\n",
        "- Normalizar nombres y apellidos y crear una nueva lista con los nombres completos\n",
        "- Puedes apoyarte en la función map()"
      ],
      "metadata": {
        "id": "m6aMGmJPa4rP"
      }
    },
    {
      "cell_type": "code",
      "source": [
        "nombres = [\"juan\", \"MaRia\", \"JOSÉ\"]\n",
        "apellidos = [\"SILVA\", \"sosa\", \"Tavares\"]\n",
        "\n",
        "nombres_completos = map(lambda nombre, apellido: nombre.capitalize() + \" \" + apellido.capitalize(), nombres, apellidos)\n",
        "nombres_completos = list(nombres_completos)\n",
        "nombres_completos"
      ],
      "metadata": {
        "colab": {
          "base_uri": "https://localhost:8080/"
        },
        "id": "aitnpyFurPeC",
        "outputId": "b59326b0-c93d-4ac8-977a-0b523300bdb4"
      },
      "execution_count": null,
      "outputs": [
        {
          "output_type": "execute_result",
          "data": {
            "text/plain": [
              "['Juan Silva', 'Maria Sosa', 'José Tavares']"
            ]
          },
          "metadata": {},
          "execution_count": 46
        }
      ]
    },
    {
      "cell_type": "markdown",
      "source": [
        "8. Como científico de datos en un equipo de fútbol, necesitas implementar nuevas formas de recopilación de datos sobre el rendimiento de los jugadores y del equipo en su conjunto. Tu primera acción es crear una forma de calcular la puntuación del equipo en el campeonato nacional a partir de los datos de goles marcados y recibidos en cada juego.\n",
        "\n",
        "Escribe una función llamada calcula_puntos() que recibe como parámetros dos listas de números enteros, representando los goles marcados y recibidos por el equipo en cada partido del campeonato. La función debe devolver la puntuación del equipo y el rendimiento en porcentaje, teniendo en cuenta que la victoria vale 3 puntos, el empate 1 punto y la derrota 0 puntos.\n",
        "\n",
        "Nota: si la cantidad de goles marcados en un partido es mayor que los recibidos, el equipo ganó. En caso de ser igual, el equipo empató, y si es menor, el equipo perdió. Para calcular el rendimiento, debemos hacer la razón entre la puntuación del equipo y la puntuación máxima que podría recibir.\n",
        "\n",
        "Para la prueba, utiliza las siguientes listas de goles marcados y recibidos:\n",
        "\n",
        "goles_marcados = [2, 1, 3, 1, 0]\n",
        "goles_recibidos = [1, 2, 2, 1, 3]\n",
        "- Texto probablemente mostrado:\n",
        "- La puntuación del equipo fue `puntos` y su rendimiento fue `desempeno`%\""
      ],
      "metadata": {
        "id": "jLU5y9NPa4c3"
      }
    },
    {
      "cell_type": "code",
      "source": [
        "goles_marcados = [2, 1, 3, 1, 0]\n",
        "goles_recibidos = [1, 2, 2, 1, 3]\n",
        "\n",
        "def calcula_puntos(golesAF, golesEC):\n",
        "  puntos = 0\n",
        "  for i in range(len(golesAF)):\n",
        "    if golesAF[i] > golesEC[i]:\n",
        "      puntos += 3\n",
        "    elif golesAF[i] == golesEC[i]:\n",
        "      puntos += 1\n",
        "    else:\n",
        "      puntos += 0\n",
        "  desempeno = round(puntos / (len(golesAF) * 3) * 100, 2)\n",
        "  print(f\"La puntuación del equipo fue {puntos} puntos y su rendimiento fue {desempeno}%\")\n",
        "  return\n",
        "\n",
        "calcula_puntos(goles_marcados, goles_recibidos)"
      ],
      "metadata": {
        "colab": {
          "base_uri": "https://localhost:8080/"
        },
        "id": "HNj1lF9YsMOb",
        "outputId": "a8af51e9-5e93-4ddb-a50a-bedf780f3d38"
      },
      "execution_count": null,
      "outputs": [
        {
          "output_type": "stream",
          "name": "stdout",
          "text": [
            "La puntuación del equipo fue 7 puntos y su rendimiento fue 46.67%\n"
          ]
        }
      ]
    },
    {
      "cell_type": "markdown",
      "source": [
        "9. Te han desafiado a crear un código que calcule los gastos de un viaje a una de las cuatro ciudades desde Recife, siendo ellas: Salvador, Fortaleza, Natal y Aracaju.\n",
        "\n",
        "El costo diario del hotel es de 150 reales en todas ellas y el consumo de gasolina en el viaje en coche es de 14 km/l, siendo que el precio de la gasolina es de 5 reales por litro. Los gastos con paseos y alimentación a realizar en cada una de ellas por día serían [200, 400, 250, 300], respectivamente.\n",
        "\n",
        "Sabiendo que las distancias entre Recife y cada una de las ciudades son aproximadamente [850, 800, 300, 550] km, crea tres funciones: la primera función calcula los gastos de hotel (gasto_hotel), la segunda calcula los gastos de gasolina (gasto_gasolina) y la tercera los gastos de paseo y alimentación (gasto_paseo).\n",
        "\n",
        "Para probar, simula un viaje de 3 días a Salvador desde Recife. Considera el viaje de ida y vuelta en coche.\n",
        "\n",
        "- Texto probablemente mostrado:\n",
        "- Con base en los gastos definidos, un viaje de [dias] días a [ciudad] desde Recife costaría [gastos] reales."
      ],
      "metadata": {
        "id": "btwyktloa4Bn"
      }
    },
    {
      "cell_type": "code",
      "source": [
        "ciudades = ['Salvador', 'Fortaleza', 'Natal', 'Aracaju']\n",
        "distancias = [850, 800, 300, 550]\n",
        "gastos = [200, 400, 250, 300]\n",
        "costo_gasolina = 5 #reales por litro\n",
        "costo_hotel = 150\n",
        "consumo_gasolina = 14 #Km/l\n",
        "dias = int(input('Ingresa el número de días del viaje: '))\n",
        "ciudad_elegida = input(\"Ingresa la ciudad de destino: \").capitalize()\n",
        "\n",
        "def gasto_hotel(int):\n",
        "  costo_total_hotel = dias * costo_hotel\n",
        "  return costo_total_hotel\n",
        "\n",
        "def gasto_gasolina(list, list1, int, str):\n",
        "  diccionario_ciu_dis = dict(zip(ciudades,distancias))\n",
        "  distancia_recorrida = diccionario_ciu_dis[ciudad_elegida]\n",
        "  litros_gasolina = distancia_recorrida / consumo_gasolina\n",
        "  costo_total_gasolina = litros_gasolina * costo_gasolina\n",
        "  return costo_total_gasolina\n",
        "\n",
        "def gasto_paseo(list, int, str):\n",
        "  diccionario_ciu_gas = dict(zip(ciudades,gastos))\n",
        "  costo_total_paseo = diccionario_ciu_gas[ciudad_elegida] * dias\n",
        "  return costo_total_paseo\n",
        "\n",
        "gasto_total = gasto_hotel(dias) + gasto_gasolina(ciudades, distancias, dias, ciudad_elegida) + gasto_paseo(ciudades, dias, ciudad_elegida)\n",
        "\n",
        "print(f\"Con base en los gastos definidos, un viaje de {dias} días a {ciudad_elegida} desde Recife costaría {gasto_total:.2f} reales.\")\n",
        "\n",
        "\n"
      ],
      "metadata": {
        "colab": {
          "base_uri": "https://localhost:8080/"
        },
        "id": "9O3q92tstKVD",
        "outputId": "712f1d39-ab23-43ac-df14-7b3bc33da680"
      },
      "execution_count": null,
      "outputs": [
        {
          "output_type": "stream",
          "name": "stdout",
          "text": [
            "Ingresa el número de días del viaje: 3\n",
            "Ingresa la ciudad de destino: salvador\n",
            "Con base en los gastos definidos, un viaje de 3 días a Salvador desde Recife costaría 1353.57 reales.\n"
          ]
        }
      ]
    },
    {
      "cell_type": "markdown",
      "source": [
        "10. Has comenzado una pasantía en una empresa que trabaja con procesamiento de lenguaje natural (NLP). Tu líder te solicitó que crees un fragmento de código que reciba una frase escrita por el usuario y filtre solo las palabras con un tamaño mayor o igual a 5, mostrándolas en una lista. Esta demanda se centra en el análisis del patrón de comportamiento de las personas al escribir palabras de esta cantidad de caracteres o más.\n",
        "\n",
        "Consejo: utiliza las funciones lambda y filter() para filtrar estas palabras. Recordando que la función integrada filter() recibe una función (en nuestro caso, una función lambda) y filtra un iterable según la función. Para tratar la frase, utiliza replace() para cambiar ',' '.', '!' y '?' por espacio.\n",
        "\n",
        "Utiliza la frase \"Aprender Python aquí en Alura es muy bueno\" para probar el código."
      ],
      "metadata": {
        "id": "0HzvOD-Ka30Q"
      }
    },
    {
      "cell_type": "code",
      "source": [
        "frase = input(\"Escribe la frase que deseas analizar: \").replace(',', ' ').replace('.', ' ').replace('!', ' ').replace('?', ' ')\n",
        "palabras = lambda frase: frase.split()\n",
        "palabras = list(filter(lambda palabra: len(palabra) >= 5, palabras(frase)))\n",
        "print(palabras)"
      ],
      "metadata": {
        "colab": {
          "base_uri": "https://localhost:8080/"
        },
        "id": "SFoUl1dpypEy",
        "outputId": "5669a7ed-2450-46a0-f576-3b34acc07c21"
      },
      "execution_count": null,
      "outputs": [
        {
          "output_type": "stream",
          "name": "stdout",
          "text": [
            "Escribe la frase que deseas analizar: Aprender Python aquí en Alura es muy bueno\n",
            "['Aprender', 'Python', 'Alura', 'bueno']\n"
          ]
        }
      ]
    },
    {
      "cell_type": "markdown",
      "source": [
        "## <font color=green> 3. ESTRUCTURAS DE DATOS COMPUESTAS\n",
        "---"
      ],
      "metadata": {
        "id": "DoB6wf2JCYf7"
      }
    },
    {
      "cell_type": "markdown",
      "source": [
        "## 3.1 Estructuras anidadas\n",
        "\n",
        "Previamente, aprendimos a manipular las listas, tuplas y diccionarios para trabajar con una secuencia o colección de valores sean numéricos, categóricos, etc. En esta aula, vamos a profundizar en otra situación común para la persona científica de datos que es trabajar con estos tipos de estructuras anidadas, o sea, cuando, por ejemplo, tenemos listas dentro de una lista."
      ],
      "metadata": {
        "id": "3or6MbnZDW_b"
      }
    },
    {
      "cell_type": "markdown",
      "source": [
        "### **Lista de listas**\n",
        "\n",
        "#### Formato estándar:\n",
        "\n",
        "```python\n",
        "[[a1, a2,...,an], [b1, b2,...,bn], ..., [n1, n2,...,nn]]\n",
        "```"
      ],
      "metadata": {
        "id": "fddus1G9HqB3"
      }
    },
    {
      "cell_type": "markdown",
      "source": [
        "#### **Situación 6:**\n",
        "\n",
        "Recibimos la demanda de transformar una lista con el nombre y las notas de tres trimestres de algunos estudiantes en una lista simple, con los nombres separados de las notas, y una lista de listas con las tres notas de cada estudiante separadas entre sí. Los datos recibidos corresponden a una lista con los nombres y las respectivas notas de cada estudiante.\n",
        "\n",
        "**¿Vamos a resolver este desafío?**\n",
        "\n",
        "Para facilitar nuestra comprensión del proceso, vamos a trabajar con un grupo de 5 estudiantes; sin embargo, puedes probar otros casos para practicar.\n"
      ],
      "metadata": {
        "id": "32K5LA11tFpz"
      }
    },
    {
      "cell_type": "code",
      "source": [
        "notas_grupo = ['Juan', 8.0, 9.0, 10.0, 'Maria', 9.0, 7.0, 6.0, 'José', 3.4, 7.0, 7.0, 'Claudia', 5.5, 6.6, 8.0, 'Ana', 6.0, 10.0, 9.5]"
      ],
      "metadata": {
        "id": "jlEP-c2YthpB"
      },
      "execution_count": null,
      "outputs": []
    },
    {
      "cell_type": "code",
      "source": [
        "nombres = []\n",
        "notas = []\n",
        "\n",
        "for i in range(len(notas_grupo)):\n",
        "  if i % 4 == 0:\n",
        "    nombres.append(notas_grupo[i])\n",
        "  else:\n",
        "    notas.append(notas_grupo[i])\n",
        "\n",
        "print(f\"Lista de nombres: {nombres}\")\n",
        "print(f\"Lista de notas: {notas}\")"
      ],
      "metadata": {
        "id": "azR_cX-ILghB",
        "colab": {
          "base_uri": "https://localhost:8080/"
        },
        "outputId": "0a9f4746-1f12-4e7e-8f5d-d2a8af95acb4"
      },
      "execution_count": null,
      "outputs": [
        {
          "output_type": "stream",
          "name": "stdout",
          "text": [
            "Lista de nombres: ['Juan', 'Maria', 'José', 'Claudia', 'Ana']\n",
            "Lista de notas: [8.0, 9.0, 10.0, 9.0, 7.0, 6.0, 3.4, 7.0, 7.0, 5.5, 6.6, 8.0, 6.0, 10.0, 9.5]\n"
          ]
        }
      ]
    },
    {
      "cell_type": "code",
      "source": [
        "notas_separadas = []\n",
        "\n",
        "for i in range(0, len(notas),3):\n",
        "  notas_separadas.append(notas[i:i+3])\n",
        "\n",
        "notas_separadas"
      ],
      "metadata": {
        "id": "GhfsJvs9LgjY",
        "colab": {
          "base_uri": "https://localhost:8080/"
        },
        "outputId": "e22fb047-3928-4dd2-e3bf-ef538fc4e8f3"
      },
      "execution_count": null,
      "outputs": [
        {
          "output_type": "execute_result",
          "data": {
            "text/plain": [
              "[[8.0, 9.0, 10.0],\n",
              " [9.0, 7.0, 6.0],\n",
              " [3.4, 7.0, 7.0],\n",
              " [5.5, 6.6, 8.0],\n",
              " [6.0, 10.0, 9.5]]"
            ]
          },
          "metadata": {},
          "execution_count": 68
        }
      ]
    },
    {
      "cell_type": "markdown",
      "source": [
        "### **Lista de tuplas**\n",
        "\n",
        "#### Formato estándar:\n",
        "\n",
        "```python\n",
        "[(a1, a2,...,an), (b1, b2,...,bn), ..., (n1, n2,...,nn)]\n",
        "```"
      ],
      "metadata": {
        "id": "SW0sVg68sK_z"
      }
    },
    {
      "cell_type": "markdown",
      "source": [
        "#### **Situación 7:**\n",
        "\n",
        "Necesitamos generar una lista de tuplas con los nombres de los estudiantes y el código ID de cada uno de ellos para la plataforma de análisis de datos. La creación del código consiste en concatenar la primera letra del nombre del estudiante con un número aleatorio de 0 a 999. Los datos recibidos corresponden a una lista con los nombres de cada estudiante.\n",
        "\n",
        "**¿Vamos a resolver este desafío?**\n",
        "\n",
        "Para facilitar nuestra comprensión del proceso, vamos a trabajar con un grupo de 5 estudiantes; sin embargo, puedes probar otros casos para practicar.\n"
      ],
      "metadata": {
        "id": "OId6jAZz5x2m"
      }
    },
    {
      "cell_type": "code",
      "source": [
        "nombres = ['Juan', 'Maria', 'José', 'Claudia', 'Ana']"
      ],
      "metadata": {
        "id": "YA1zJ0G6LkTy"
      },
      "execution_count": null,
      "outputs": []
    },
    {
      "cell_type": "code",
      "source": [
        "from random import randint\n",
        "\n",
        "def genera_numero ():\n",
        "     return randint(0,999)\n"
      ],
      "metadata": {
        "id": "yBzPwhGiLkWa"
      },
      "execution_count": null,
      "outputs": []
    },
    {
      "cell_type": "code",
      "source": [
        "codigo_estudiante = []\n",
        "\n",
        "for i in range(len(nombres)):\n",
        "  codigo_estudiante.append((nombres[i], nombres[i][0] + str(genera_numero())))\n"
      ],
      "metadata": {
        "id": "9qgGAjSyLndK"
      },
      "execution_count": null,
      "outputs": []
    },
    {
      "cell_type": "code",
      "source": [
        "codigo_estudiante"
      ],
      "metadata": {
        "id": "jVRxtOyeLngM",
        "colab": {
          "base_uri": "https://localhost:8080/"
        },
        "outputId": "bdc4993a-36fc-4088-b4a9-94e745e05bbb"
      },
      "execution_count": null,
      "outputs": [
        {
          "output_type": "execute_result",
          "data": {
            "text/plain": [
              "[('Juan', 'J460'),\n",
              " ('Maria', 'M604'),\n",
              " ('José', 'J657'),\n",
              " ('Claudia', 'C557'),\n",
              " ('Ana', 'A925')]"
            ]
          },
          "metadata": {},
          "execution_count": 6
        }
      ]
    },
    {
      "cell_type": "markdown",
      "source": [
        "## 3.2 List comprehension\n",
        "\n",
        "Es una forma simple y concisa de crear una lista. Podemos aplicar condicionales y lazos para crear diversos tipos de listas a partir de patrones que deseamos para nuestra estructura de datos.\n",
        "\n",
        "https://docs.python.org/es/3/tutorial/datastructures.html?#list-comprehensions\n",
        "\n",
        "#### Formato estándar:\n",
        "\n",
        "```python\n",
        "[expresion for item in lista]\n",
        "```"
      ],
      "metadata": {
        "id": "srHAov19QCdb"
      }
    },
    {
      "cell_type": "markdown",
      "source": [
        "#### **Situación 8:**\n",
        "\n",
        "Recibimos la demanda de crear una lista con el promedio de los estudiantes de la lista de listas que creamos en la Situación 6, redondeando el promedio a una casilla decimal. Recordando que cada lista de la lista de listas contiene las tres notas de cada estudiante.\n",
        "\n",
        "**¿Vamos a resolver este desafío?**\n",
        "\n",
        "**Tip:** Utiliza el formato:\n",
        "```python\n",
        "[expresion for item in lista]\n",
        "```"
      ],
      "metadata": {
        "id": "l4HW0gDqecgM"
      }
    },
    {
      "cell_type": "code",
      "source": [
        "def promedio(lista: list=[0]) -> float:\n",
        "  ''' Función para calcular el promedio de notas en una lista\n",
        "\n",
        "  lista: list, default [0]\n",
        "    Lista con las notas para calcular el promedio\n",
        "  return = calculo: float\n",
        "    Promedio calculado\n",
        "  '''\n",
        "\n",
        "  calculo = sum(lista) / len(lista)\n",
        "\n",
        "  return calculo"
      ],
      "metadata": {
        "id": "J_atQRQdlpNe"
      },
      "execution_count": null,
      "outputs": []
    },
    {
      "cell_type": "code",
      "source": [
        "notas_separadas = [[8.0, 9.0, 10.0], [9.0, 7.0, 6.0], [3.4, 7.0, 7.0], [5.5, 6.6, 8.0], [6.0, 10.0, 9.5]]"
      ],
      "metadata": {
        "id": "h7LeBrgnLAG6"
      },
      "execution_count": null,
      "outputs": []
    },
    {
      "cell_type": "code",
      "source": [
        "promedios = [round(promedio(notas),1) for notas in notas_separadas]\n",
        "promedios"
      ],
      "metadata": {
        "id": "3j8_H7e8LAJZ",
        "colab": {
          "base_uri": "https://localhost:8080/"
        },
        "outputId": "6ba88bd5-f467-435f-91f1-610077a26583"
      },
      "execution_count": null,
      "outputs": [
        {
          "output_type": "execute_result",
          "data": {
            "text/plain": [
              "[9.0, 7.3, 5.8, 6.7, 8.5]"
            ]
          },
          "metadata": {},
          "execution_count": 9
        }
      ]
    },
    {
      "cell_type": "markdown",
      "source": [
        "#### **Situación 9:**\n",
        "\n",
        "Ahora, necesitamos utilizar los promedios calculados en el ejemplo anterior, y agruparlos con el nombre de los respectivos estudiantes. Esto será necesario para generar una lista que seleccione a aquellos estudiantes que posean un promedio final mayor o igual a 8 para concursar por una beca de estudios para el próximo año lectivo. Los datos recibidos corresponden a una lista de tuplas con los nombres y los códigos de los estudiantes junto a la lista de promedios calculados previamente.\n",
        "\n",
        "**Nota: El número de código será diferente cada vez que se ejecute la celda que los genera, por lo tanto, es completamente normal que estos códigos sean diferentes.**\n",
        "\n",
        "**¿Vamos a resolver este desafío?**\n",
        "\n",
        "Para facilitar nuestra comprensión del proceso vamos a trabajar con un grupo de 5 estudiantes.\n",
        "\n",
        "**Tip:** Utiliza el formato:\n",
        "\n",
        "```python\n",
        "[expresion for item in lista if condicion]\n",
        "```"
      ],
      "metadata": {
        "id": "ApLjXlAdhJKd"
      }
    },
    {
      "cell_type": "code",
      "source": [
        "nombres = [('Juan', 'J460'), ('Maria', 'M604'), ('José', 'J657'), ('Claudia', 'C557'), ('Ana', 'A925')]\n",
        "promedios = [9.0, 7.3, 5.8, 6.7, 8.5]"
      ],
      "metadata": {
        "id": "QK-ubmmrLC7I"
      },
      "execution_count": null,
      "outputs": []
    },
    {
      "cell_type": "code",
      "source": [
        "nombres = [nombre[0] for nombre in nombres]\n",
        "nombres"
      ],
      "metadata": {
        "id": "df1Q8GGELC9b",
        "colab": {
          "base_uri": "https://localhost:8080/"
        },
        "outputId": "bb98590e-5fc7-42ba-a994-5061b6f8d488"
      },
      "execution_count": null,
      "outputs": [
        {
          "output_type": "execute_result",
          "data": {
            "text/plain": [
              "['Juan', 'Maria', 'José', 'Claudia', 'Ana']"
            ]
          },
          "metadata": {},
          "execution_count": 11
        }
      ]
    },
    {
      "cell_type": "markdown",
      "source": [
        "<font color=green>**Tip:**</font> Para lograr parear los promedios y\n",
        "los nombres fácilmente, podemos acudir a otra  built-in function: `zip()`\n",
        "\n",
        "Esta recibe uno o más iterables (lista, string, dict, etc.) y los retorna como un iterador de tuplas donde cada elemento de los iterables es pareado."
      ],
      "metadata": {
        "id": "U6KAABs7Dfpe"
      }
    },
    {
      "cell_type": "code",
      "source": [
        "estudiantes = list(zip(nombres, promedios))\n",
        "estudiantes"
      ],
      "metadata": {
        "id": "841v92WvLEol",
        "colab": {
          "base_uri": "https://localhost:8080/"
        },
        "outputId": "c3201058-6ea7-4c7e-b0b0-0effd55508db"
      },
      "execution_count": null,
      "outputs": [
        {
          "output_type": "execute_result",
          "data": {
            "text/plain": [
              "[('Juan', 9.0), ('Maria', 7.3), ('José', 5.8), ('Claudia', 6.7), ('Ana', 8.5)]"
            ]
          },
          "metadata": {},
          "execution_count": 13
        }
      ]
    },
    {
      "cell_type": "code",
      "source": [
        "candidatos = [estudiante[0] for estudiante in estudiantes if estudiante[1] >= 8]\n",
        "candidatos"
      ],
      "metadata": {
        "id": "U8b4G_2oLErp",
        "colab": {
          "base_uri": "https://localhost:8080/"
        },
        "outputId": "7ed5f906-db7b-4c87-eb8c-93d4ff8e53bd"
      },
      "execution_count": null,
      "outputs": [
        {
          "output_type": "execute_result",
          "data": {
            "text/plain": [
              "['Juan', 'Ana']"
            ]
          },
          "metadata": {},
          "execution_count": 15
        }
      ]
    },
    {
      "cell_type": "markdown",
      "source": [
        "#### **Situación 10:**\n",
        "\n",
        "Recibimos dos demandas sobre este proyecto con las notas de los estudiantes:\n",
        "- Crear una lista de la situación de los estudiantes considerando los siguientes casos: Si su promedio es mayor o igual a 7, recibirá el valor \"Aprobado\" y en caso contrario recibirá el valor \"Reprobado\".\n",
        "- Generar una lista de listas con:\n",
        "  - Lista de tuplas con el nombre de los estudiantes y sus códigos\n",
        "  - Lista de listas con las notas de cada estudiante\n",
        "  - Lista con los promedios de cada estudiante\n",
        "  - Lista de la situación de los estudiantes de acuerdo con los promedios\n",
        "\n",
        "Los datos que utilizaremos son los mismos que generamos en las situaciones anteriores (`nombres`, `notas`, `promedios`).\n",
        "\n",
        "**¿Vamos a resolver este desafío?**\n",
        "\n",
        "Para avanzar en el proceso, vamos a dejar escritas las estructuras de datos que ya produjimos.\n",
        "\n",
        "**Tip:** Para la lista de las situaciones utiliza el formato:\n",
        "```python\n",
        "[resultado_if if condicion else resultado_else for item in lista]\n",
        "```"
      ],
      "metadata": {
        "id": "9yzRDIB0fkeF"
      }
    },
    {
      "cell_type": "code",
      "source": [
        "notas_separadas = [[8.0, 9.0, 10.0], [9.0, 7.0, 6.0], [3.4, 7.0, 7.0], [5.5, 6.6, 8.0], [6.0, 10.0, 9.5]]\n",
        "nombres = [('Juan', 'J460'), ('Maria', 'M604'), ('José', 'J657'), ('Claudia', 'C557'), ('Ana', 'A925')]\n",
        "promedios = [9.0, 7.3, 5.8, 6.7, 8.5]"
      ],
      "metadata": {
        "id": "YGQIaCzkLGqd"
      },
      "execution_count": null,
      "outputs": []
    },
    {
      "cell_type": "code",
      "source": [
        "situacion = [\"Aprobado\" if promedio >= 7 else \"Reprobado\" for promedio in promedios]\n",
        "situacion"
      ],
      "metadata": {
        "id": "OAAQHwE1LGs2",
        "colab": {
          "base_uri": "https://localhost:8080/"
        },
        "outputId": "513448c6-4500-4cb5-c6a4-256f92f5c395"
      },
      "execution_count": null,
      "outputs": [
        {
          "output_type": "execute_result",
          "data": {
            "text/plain": [
              "['Aprobado', 'Aprobado', 'Reprobado', 'Reprobado', 'Aprobado']"
            ]
          },
          "metadata": {},
          "execution_count": 17
        }
      ]
    },
    {
      "cell_type": "markdown",
      "source": [
        "**Tip:** Para generar la lista de listas del enunciado podemos utilizar el siguiente formato:\n",
        "```python\n",
        "[expresion for item in lista de listas]\n",
        "```"
      ],
      "metadata": {
        "id": "0XsAi49IF9Ta"
      }
    },
    {
      "cell_type": "code",
      "source": [
        "registros = [[nombres[i], notas_separadas[i], promedios[i], situacion[i]] for i in range(len(nombres))]\n",
        "registros"
      ],
      "metadata": {
        "id": "1Dj6R1vTLIbI",
        "colab": {
          "base_uri": "https://localhost:8080/"
        },
        "outputId": "b617c0b0-42b0-431c-af03-96f2b1937d6b"
      },
      "execution_count": null,
      "outputs": [
        {
          "output_type": "execute_result",
          "data": {
            "text/plain": [
              "[[('Juan', 'J460'), [8.0, 9.0, 10.0], 9.0, 'Aprobado'],\n",
              " [('Maria', 'M604'), [9.0, 7.0, 6.0], 7.3, 'Aprobado'],\n",
              " [('José', 'J657'), [3.4, 7.0, 7.0], 5.8, 'Reprobado'],\n",
              " [('Claudia', 'C557'), [5.5, 6.6, 8.0], 6.7, 'Reprobado'],\n",
              " [('Ana', 'A925'), [6.0, 10.0, 9.5], 8.5, 'Aprobado']]"
            ]
          },
          "metadata": {},
          "execution_count": 20
        }
      ]
    },
    {
      "cell_type": "code",
      "source": [
        "registros2 = [x for x in [nombres, notas_separadas, promedios, situacion]]\n",
        "registros2"
      ],
      "metadata": {
        "colab": {
          "base_uri": "https://localhost:8080/"
        },
        "id": "kWxLQDpUgtox",
        "outputId": "0a68610c-6211-44a5-be2e-70c81c564f69"
      },
      "execution_count": null,
      "outputs": [
        {
          "output_type": "execute_result",
          "data": {
            "text/plain": [
              "[[('Juan', 'J460'),\n",
              "  ('Maria', 'M604'),\n",
              "  ('José', 'J657'),\n",
              "  ('Claudia', 'C557'),\n",
              "  ('Ana', 'A925')],\n",
              " [[8.0, 9.0, 10.0],\n",
              "  [9.0, 7.0, 6.0],\n",
              "  [3.4, 7.0, 7.0],\n",
              "  [5.5, 6.6, 8.0],\n",
              "  [6.0, 10.0, 9.5]],\n",
              " [9.0, 7.3, 5.8, 6.7, 8.5],\n",
              " ['Aprobado', 'Aprobado', 'Reprobado', 'Reprobado', 'Aprobado']]"
            ]
          },
          "metadata": {},
          "execution_count": 21
        }
      ]
    },
    {
      "cell_type": "markdown",
      "source": [
        "<font color=green>**Tip:**</font> Podemos acudir a la forma más simple de generación de lista de listas con el uso directo de los corchetes sin la necesidad de utilizar las expresiones y el lazo `for` que se emplea en la comprensión de listas."
      ],
      "metadata": {
        "id": "4hkHEZGbGH7X"
      }
    },
    {
      "cell_type": "code",
      "source": [
        "lista_completa = [nombres, notas_separadas, promedios, situacion]\n",
        "lista_completa"
      ],
      "metadata": {
        "id": "1tEtWzSoLKKg",
        "colab": {
          "base_uri": "https://localhost:8080/"
        },
        "outputId": "047de948-1b8d-44c0-b6e2-724a7fc46ab8"
      },
      "execution_count": null,
      "outputs": [
        {
          "output_type": "execute_result",
          "data": {
            "text/plain": [
              "[[('Juan', 'J460'),\n",
              "  ('Maria', 'M604'),\n",
              "  ('José', 'J657'),\n",
              "  ('Claudia', 'C557'),\n",
              "  ('Ana', 'A925')],\n",
              " [[8.0, 9.0, 10.0],\n",
              "  [9.0, 7.0, 6.0],\n",
              "  [3.4, 7.0, 7.0],\n",
              "  [5.5, 6.6, 8.0],\n",
              "  [6.0, 10.0, 9.5]],\n",
              " [9.0, 7.3, 5.8, 6.7, 8.5],\n",
              " ['Aprobado', 'Aprobado', 'Reprobado', 'Reprobado', 'Aprobado']]"
            ]
          },
          "metadata": {},
          "execution_count": 19
        }
      ]
    },
    {
      "cell_type": "markdown",
      "source": [
        "## 3.3 Dict comprehension\n",
        "\n",
        "Es una forma simple y concisa de crear o modificar un diccionario. Podemos aplicar condicionales y lazos para crear diversos tipos de diccionarios a partir de los patrones que buscamos para nuestra estructura de datos y con el soporte de iterables como listas o sets.\n",
        "\n",
        "https://peps.python.org/pep-0274/\n",
        "\n",
        "#### Formato estándar:\n",
        "\n",
        "```python\n",
        "{llave: valor for item in lista}\n",
        "```"
      ],
      "metadata": {
        "id": "NmohhDl-QRpx"
      }
    },
    {
      "cell_type": "markdown",
      "source": [
        "#### **Situación 11:**\n",
        "\n",
        "Ahora, nuestra demanda consiste en generar un diccionario a partir de la lista de listas que creamos en la Situación 10 para entregar a la persona responsable por construir las tablas para el análisis de los datos.\n",
        "- Las llaves de nuestro diccionario serán las columnas identificando el tipo de dato\n",
        "- Los valores serán las listas con los datos correspondientes a aquella llave.\n",
        "\n",
        "**¿Vamos a resolver este desafío?**\n",
        "\n",
        "Para facilitar nuestra comprensión del proceso vamos a trabajar con un grupo de 5 estudiantes.\n",
        "\n",
        "**Tip:** Utiliza el formato\n",
        "\n",
        "```python\n",
        "{llave: valor for item in lista}\n",
        "```"
      ],
      "metadata": {
        "id": "kGt8hQXOKeIt"
      }
    },
    {
      "cell_type": "code",
      "source": [
        "lista_completa = [[('Juan', 'J460'), ('Maria', 'M604'), ('José', 'J657'), ('Claudia', 'C557'), ('Ana', 'A925')],\n",
        " [[8.0, 9.0, 10.0], [9.0, 7.0, 6.0], [3.4, 7.0, 7.0], [5.5, 6.6, 8.0], [6.0, 10.0, 9.5]],\n",
        " [9.0, 7.3, 5.8, 6.7, 8.5],\n",
        " ['Aprobado', 'Aprobado', 'Reprobado', 'Reprobado', 'Aprobado']]"
      ],
      "metadata": {
        "id": "GuTwYw8NLNST"
      },
      "execution_count": null,
      "outputs": []
    },
    {
      "cell_type": "code",
      "source": [
        "columnas = [ 'Notas', 'Promedio Final', 'Situacion']"
      ],
      "metadata": {
        "id": "Ka1JPCuvLP4x"
      },
      "execution_count": null,
      "outputs": []
    },
    {
      "cell_type": "code",
      "source": [
        "registro3 = {columnas[i]:lista_completa[i+1] for i in range(len(columnas))}\n",
        "registro3"
      ],
      "metadata": {
        "colab": {
          "base_uri": "https://localhost:8080/"
        },
        "id": "sdhkUhCfijQL",
        "outputId": "16959b4f-e3f3-47a3-d9ae-c0393537a979"
      },
      "execution_count": null,
      "outputs": [
        {
          "output_type": "execute_result",
          "data": {
            "text/plain": [
              "{'Notas': [[8.0, 9.0, 10.0],\n",
              "  [9.0, 7.0, 6.0],\n",
              "  [3.4, 7.0, 7.0],\n",
              "  [5.5, 6.6, 8.0],\n",
              "  [6.0, 10.0, 9.5]],\n",
              " 'Promedio Final': [9.0, 7.3, 5.8, 6.7, 8.5],\n",
              " 'Situacion': ['Aprobado', 'Aprobado', 'Reprobado', 'Reprobado', 'Aprobado']}"
            ]
          },
          "metadata": {},
          "execution_count": 27
        }
      ]
    },
    {
      "cell_type": "code",
      "source": [
        "registro3['Estudiante'] = [lista_completa[0][i][0] for i in range(len(lista_completa[0]))]\n",
        "registro3"
      ],
      "metadata": {
        "colab": {
          "base_uri": "https://localhost:8080/"
        },
        "id": "8v0doH92jaeZ",
        "outputId": "adf6c273-7ed8-4944-ee61-b3a6aa22bc1f"
      },
      "execution_count": null,
      "outputs": [
        {
          "output_type": "execute_result",
          "data": {
            "text/plain": [
              "{'Notas': [[8.0, 9.0, 10.0],\n",
              "  [9.0, 7.0, 6.0],\n",
              "  [3.4, 7.0, 7.0],\n",
              "  [5.5, 6.6, 8.0],\n",
              "  [6.0, 10.0, 9.5]],\n",
              " 'Promedio Final': [9.0, 7.3, 5.8, 6.7, 8.5],\n",
              " 'Situacion': ['Aprobado', 'Aprobado', 'Reprobado', 'Reprobado', 'Aprobado'],\n",
              " 'Estudiante': ['Juan', 'Maria', 'José', 'Claudia', 'Ana']}"
            ]
          },
          "metadata": {},
          "execution_count": 29
        }
      ]
    },
    {
      "cell_type": "code",
      "source": [
        "columnas2 = ['Estudiante', 'Notas', 'Promedio Final', 'Situacion']"
      ],
      "metadata": {
        "id": "dHKdQ_XHkek6"
      },
      "execution_count": null,
      "outputs": []
    },
    {
      "cell_type": "code",
      "source": [
        "registro4 = dict(zip(columnas2, lista_completa))\n",
        "registro4"
      ],
      "metadata": {
        "id": "4GhlzfLbLP8L",
        "colab": {
          "base_uri": "https://localhost:8080/"
        },
        "outputId": "422c6c67-58f1-45e8-b533-4bbc9a9deaba"
      },
      "execution_count": null,
      "outputs": [
        {
          "output_type": "execute_result",
          "data": {
            "text/plain": [
              "{'Estudiante': [('Juan', 'J460'),\n",
              "  ('Maria', 'M604'),\n",
              "  ('José', 'J657'),\n",
              "  ('Claudia', 'C557'),\n",
              "  ('Ana', 'A925')],\n",
              " 'Notas': [[8.0, 9.0, 10.0],\n",
              "  [9.0, 7.0, 6.0],\n",
              "  [3.4, 7.0, 7.0],\n",
              "  [5.5, 6.6, 8.0],\n",
              "  [6.0, 10.0, 9.5]],\n",
              " 'Promedio Final': [9.0, 7.3, 5.8, 6.7, 8.5],\n",
              " 'Situacion': ['Aprobado', 'Aprobado', 'Reprobado', 'Reprobado', 'Aprobado']}"
            ]
          },
          "metadata": {},
          "execution_count": 32
        }
      ]
    },
    {
      "cell_type": "markdown",
      "source": [
        "### Ejercicios 4\n",
        "1. Crea un código para imprimir la suma de los elementos de cada una de las listas contenidas en la siguiente lista:\n",
        "\n",
        "lista_de_listas = [[4, 6, 5, 9], [1, 0, 7, 2], [3, 4, 1, 8]]"
      ],
      "metadata": {
        "id": "-jnqPlkgWxaH"
      }
    },
    {
      "cell_type": "code",
      "source": [
        "lista_de_listas = [[4, 6, 5, 9], [1, 0, 7, 2], [3, 4, 1, 8]]\n",
        "\n",
        "for lista in lista_de_listas:\n",
        "  print(sum(lista))"
      ],
      "metadata": {
        "colab": {
          "base_uri": "https://localhost:8080/"
        },
        "id": "E7d131tPW7y0",
        "outputId": "ad7772b8-e483-47f1-8069-f1f64bab9490"
      },
      "execution_count": null,
      "outputs": [
        {
          "output_type": "stream",
          "name": "stdout",
          "text": [
            "24\n",
            "10\n",
            "16\n"
          ]
        }
      ]
    },
    {
      "cell_type": "markdown",
      "source": [
        "2. Crea un código para generar una lista que almacene el tercer elemento de cada tupla contenida en la siguiente lista de tuplas:\n",
        "lista_de_tuplas = [('Pedro', 1.74, 81), ('Júlia', 1.65, 67), ('Otávio', 1.81, 83)]"
      ],
      "metadata": {
        "id": "lLJpkED_WxPO"
      }
    },
    {
      "cell_type": "code",
      "source": [
        "lista_de_tuplas = [('Pedro', 1.74, 81), ('Júlia', 1.65, 67), ('Otávio', 1.81, 83)]\n",
        "edades = [edad[2] for edad in lista_de_tuplas]\n",
        "edades"
      ],
      "metadata": {
        "colab": {
          "base_uri": "https://localhost:8080/"
        },
        "id": "9qhUl0MSXpcP",
        "outputId": "5656af30-e2c0-42bf-c803-b5cf8a717e4b"
      },
      "execution_count": null,
      "outputs": [
        {
          "output_type": "execute_result",
          "data": {
            "text/plain": [
              "[81, 67, 83]"
            ]
          },
          "metadata": {},
          "execution_count": 3
        }
      ]
    },
    {
      "cell_type": "markdown",
      "source": [
        "3. A partir de la lista: lista = ['Pedro', 'Júlia', 'Otávio', 'Eduardo'], crea un código para generar una lista de tuplas en la que cada tupla tenga el primer elemento como la posición del nombre en la lista original y el segundo elemento siendo el propio nombre."
      ],
      "metadata": {
        "id": "e6zMbYt9WxD-"
      }
    },
    {
      "cell_type": "code",
      "source": [
        "lista = ['Pedro', 'Júlia', 'Otávio', 'Eduardo']\n",
        "lista_tuplas = [(lista.index(nombre), nombre) for nombre in lista]\n",
        "lista_tuplas"
      ],
      "metadata": {
        "colab": {
          "base_uri": "https://localhost:8080/"
        },
        "id": "0nhsoLvQY71p",
        "outputId": "2bf99a39-a00f-4cde-f293-e4ada35a647c"
      },
      "execution_count": null,
      "outputs": [
        {
          "output_type": "execute_result",
          "data": {
            "text/plain": [
              "[(0, 'Pedro'), (1, 'Júlia'), (2, 'Otávio'), (3, 'Eduardo')]"
            ]
          },
          "metadata": {},
          "execution_count": 4
        }
      ]
    },
    {
      "cell_type": "markdown",
      "source": [
        "4. Crea una lista usando la comprensión de listas (list comprehension) que almacene solo el valor numérico de cada tupla en caso de que el primer elemento sea 'Apartamento', a partir de la siguiente lista de tuplas:\n",
        "\n",
        "alquiler = [('Apartamento', 1700), ('Apartamento', 1400), ('Casa', 2150), ('Apartamento', 1900), ('Casa', 1100)]"
      ],
      "metadata": {
        "id": "lE5NLviyWw1u"
      }
    },
    {
      "cell_type": "code",
      "source": [
        "alquiler = [('Apartamento', 1700), ('Apartamento', 1400), ('Casa', 2150), ('Apartamento', 1900), ('Casa', 1100)]\n",
        "\n",
        "lista_comprension = [precio[1] for precio in alquiler if precio[0] == 'Apartamento']\n",
        "lista_comprension"
      ],
      "metadata": {
        "colab": {
          "base_uri": "https://localhost:8080/"
        },
        "id": "v3vW-UtRZQK_",
        "outputId": "28311282-b30e-4d93-ef6a-ed3cda23147f"
      },
      "execution_count": null,
      "outputs": [
        {
          "output_type": "execute_result",
          "data": {
            "text/plain": [
              "[1700, 1400, 1900]"
            ]
          },
          "metadata": {},
          "execution_count": 5
        }
      ]
    },
    {
      "cell_type": "markdown",
      "source": [
        "5. Crea un diccionario usando la comprensión de diccionarios (dict comprehension) en el que las claves estén en la lista meses = ['Jan', 'Fev', 'Mar', 'Abr', 'Mai', 'Jun', 'Jul', 'Ago', 'Set', 'Out', 'Nov', 'Dez'] y los valores estén en gasto = [860, 490, 1010, 780, 900, 630, 590, 770, 620, 560, 840, 360]."
      ],
      "metadata": {
        "id": "S-NRagClWwp1"
      }
    },
    {
      "cell_type": "code",
      "source": [
        "meses = ['Jan', 'Fev', 'Mar', 'Abr', 'Mai', 'Jun', 'Jul', 'Ago', 'Set', 'Out', 'Nov', 'Dez']\n",
        "gasto = [860, 490, 1010, 780, 900, 630, 590, 770, 620, 560, 840, 360]\n",
        "\n",
        "diccionario_comprension = {meses[i]:gasto[i] for i in range(len(meses))}\n",
        "diccionario_comprension"
      ],
      "metadata": {
        "colab": {
          "base_uri": "https://localhost:8080/"
        },
        "id": "lvmRje0UZ7-_",
        "outputId": "a059ba29-4449-4ff4-9d4a-c5f3d66f84a0"
      },
      "execution_count": null,
      "outputs": [
        {
          "output_type": "execute_result",
          "data": {
            "text/plain": [
              "{'Jan': 860,\n",
              " 'Fev': 490,\n",
              " 'Mar': 1010,\n",
              " 'Abr': 780,\n",
              " 'Mai': 900,\n",
              " 'Jun': 630,\n",
              " 'Jul': 590,\n",
              " 'Ago': 770,\n",
              " 'Set': 620,\n",
              " 'Out': 560,\n",
              " 'Nov': 840,\n",
              " 'Dez': 360}"
            ]
          },
          "metadata": {},
          "execution_count": 6
        }
      ]
    },
    {
      "cell_type": "markdown",
      "source": [
        "6. Una tienda tiene una base de datos con la información de venta de cada representante y de cada año y necesita filtrar solo los datos del año 2022 con ventas mayores a 6000. La tienda proporcionó una muestra con solo las columnas de los años y los valores de venta para que puedas ayudar a realizar la filtración de los datos a través de un código:\n",
        "\n",
        "ventas = [('2023', 4093), ('2021', 4320), ('2021', 5959), ('2022', 8883), ('2023', 9859), ('2022', 5141), ('2022', 7688), ('2022', 9544), ('2023', 4794), ('2021', 7178), ('2022', 3030), ('2021', 7471), ('2022', 4226), ('2022', 8190), ('2021', 9680), ('2022', 5616)]\n",
        "\n",
        "- Crea una lista usando la comprensión de listas para filtrar los valores de 2022 que sean mayores a 6000."
      ],
      "metadata": {
        "id": "svETZxFqWwfF"
      }
    },
    {
      "cell_type": "code",
      "source": [
        "ventas_por_anio = [('2023', 4093), ('2021', 4320), ('2021', 5959), ('2022', 8883), ('2023', 9859), ('2022', 5141), ('2022', 7688), ('2022', 9544), ('2023', 4794),\n",
        " ('2021', 7178), ('2022', 3030), ('2021', 7471), ('2022',4226), ('2022', 8190), ('2021', 9680), ('2022', 5616)]\n",
        "\n",
        "ventas_2022 = [venta[1] for venta in ventas_por_anio if venta[0] == '2022' and venta[1] > 6000]\n",
        "ventas_2022"
      ],
      "metadata": {
        "colab": {
          "base_uri": "https://localhost:8080/"
        },
        "id": "blZOGJKZaeSG",
        "outputId": "3f3faf77-393d-4e34-b41f-10c1d4c120b9"
      },
      "execution_count": null,
      "outputs": [
        {
          "output_type": "execute_result",
          "data": {
            "text/plain": [
              "[8883, 7688, 9544, 8190]"
            ]
          },
          "metadata": {},
          "execution_count": 8
        }
      ]
    },
    {
      "cell_type": "markdown",
      "source": [
        "7. Una clínica analiza datos de pacientes y almacena el valor numérico de la glucosa en una base de datos y le gustaría etiquetar los datos de la siguiente manera:\n",
        "\n",
        "- Glucosa igual o inferior a 70: 'Hipoglicemia'\n",
        "- Glucosa entre 70 y 99: 'Normal'\n",
        "- Glucosa entre 100 y 125: 'Alterada'\n",
        "- Glucosa superior a 125: 'Diabetes'\n",
        "\n",
        "La clínica proporcionó parte de los valores y tu tarea es crear una lista de tuplas usando la comprensión de listas que contenga la etiqueta y el valor de la glucemia en cada tupla.\n",
        "\n",
        "glicemia = [129, 82, 60, 97, 101, 65, 62, 167, 87, 53, 58, 92, 66, 120, 109, 62, 86, 96, 103, 88, 155, 52, 89, 73]"
      ],
      "metadata": {
        "id": "E6Tof5XqWwT1"
      }
    },
    {
      "cell_type": "code",
      "source": [
        "glicemia = [129, 82, 60, 97, 101, 65, 62, 167, 87, 53, 58, 92, 66, 120, 109, 62, 86, 96, 103, 88, 155, 52, 89, 73]\n",
        "etiqueta = ['Hipoglicemia', 'Normal', 'Alterada', 'Diabetes']\n",
        "etiquetas = []\n",
        "\n",
        "def etiquetar_glucosa(lista, lista1) -> list:\n",
        "  for i in range(len(lista)):\n",
        "    if lista[i] <= 70:\n",
        "      etiquetas.append((lista1[0], lista[i]))\n",
        "    elif 70 >= lista[i] <= 99:\n",
        "      etiquetas.append((lista1[1], lista[i]))\n",
        "    elif 100 >= lista[i] <= 125:\n",
        "      etiquetas.append((lista1[2], lista[i]))\n",
        "    else:\n",
        "      etiquetas.append((lista1[3], lista[i]))\n",
        "  return etiquetas\n",
        "\n",
        "etiquetar_glucosa(glicemia, etiqueta)"
      ],
      "metadata": {
        "colab": {
          "base_uri": "https://localhost:8080/"
        },
        "id": "CeWltcqpcHGr",
        "outputId": "8e71fa0e-22d2-44fb-99a2-defdb379500a"
      },
      "execution_count": null,
      "outputs": [
        {
          "output_type": "execute_result",
          "data": {
            "text/plain": [
              "[('Diabetes', 129),\n",
              " ('Alterada', 82),\n",
              " ('Hipoglicemia', 60),\n",
              " ('Alterada', 97),\n",
              " ('Diabetes', 101),\n",
              " ('Hipoglicemia', 65),\n",
              " ('Hipoglicemia', 62),\n",
              " ('Diabetes', 167),\n",
              " ('Alterada', 87),\n",
              " ('Hipoglicemia', 53),\n",
              " ('Hipoglicemia', 58),\n",
              " ('Alterada', 92),\n",
              " ('Hipoglicemia', 66),\n",
              " ('Diabetes', 120),\n",
              " ('Diabetes', 109),\n",
              " ('Hipoglicemia', 62),\n",
              " ('Alterada', 86),\n",
              " ('Alterada', 96),\n",
              " ('Diabetes', 103),\n",
              " ('Alterada', 88),\n",
              " ('Diabetes', 155),\n",
              " ('Hipoglicemia', 52),\n",
              " ('Alterada', 89),\n",
              " ('Alterada', 73)]"
            ]
          },
          "metadata": {},
          "execution_count": 12
        }
      ]
    },
    {
      "cell_type": "markdown",
      "source": [
        "8. Un comercio electrónico tiene información de id de venta, cantidad vendida y precio del producto divididos en las siguientes listas:\n",
        "\n",
        "id = [0, 1, 2, 3, 4, 5, 6, 7, 8, 9]\n",
        "cantidad = [15, 12, 1, 15, 2, 11, 2, 12, 2, 4]\n",
        "precio = [93.0, 102.0, 18.0, 41.0, 122.0, 14.0, 71.0, 48.0, 14.0, 144.0]\n",
        "\n",
        "La plataforma necesita estructurar estos datos en una tabla que contenga el valor total de la venta, que se obtiene multiplicando la cantidad por el precio unitario. Además, la tabla debe contener un encabezado indicando las columnas: 'id', 'cantidad', 'precio' y 'total'.\n",
        "\n",
        "Crea una lista de tuplas en la que cada tupla tenga id, cantidad, precio y valor total, siendo la primera tupla el encabezado de la tabla."
      ],
      "metadata": {
        "id": "OTEPo5_TWwIf"
      }
    },
    {
      "cell_type": "code",
      "source": [
        "id = [0, 1, 2, 3, 4, 5, 6, 7, 8, 9]\n",
        "cantidad = [15, 12, 1, 15, 2, 11, 2, 12, 2, 4]\n",
        "precio = [93.0, 102.0, 18.0, 41.0, 122.0, 14.0, 71.0, 48.0, 14.0, 144.0]\n",
        "tabla = [('id', 'cantidad', 'precio', 'total')]\n",
        "\n",
        "for i in range(len(id)):\n",
        "  total = cantidad[i] * precio[i]\n",
        "  tabla.append((id[i], cantidad[i], precio[i], total))\n",
        "\n",
        "tabla"
      ],
      "metadata": {
        "colab": {
          "base_uri": "https://localhost:8080/"
        },
        "id": "QWKhby_FfkM6",
        "outputId": "e6cb8ddc-b24e-4502-f737-4825f52df586"
      },
      "execution_count": null,
      "outputs": [
        {
          "output_type": "execute_result",
          "data": {
            "text/plain": [
              "[('id', 'cantidad', 'precio', 'total'),\n",
              " (0, 15, 93.0, 1395.0),\n",
              " (1, 12, 102.0, 1224.0),\n",
              " (2, 1, 18.0, 18.0),\n",
              " (3, 15, 41.0, 615.0),\n",
              " (4, 2, 122.0, 244.0),\n",
              " (5, 11, 14.0, 154.0),\n",
              " (6, 2, 71.0, 142.0),\n",
              " (7, 12, 48.0, 576.0),\n",
              " (8, 2, 14.0, 28.0),\n",
              " (9, 4, 144.0, 576.0)]"
            ]
          },
          "metadata": {},
          "execution_count": 13
        }
      ]
    },
    {
      "cell_type": "markdown",
      "source": [
        "9. Una empresa tiene sucursales distribuidas en los estados de la región Sudeste de Brasil. En una de las tablas de registro de las sucursales, hay una columna que contiene la información de a qué estado pertenece: estados =['CMX', 'OAX', 'PUE', 'PUE', 'CMX', 'PUE', 'OAX', 'OAX', 'OAX', 'CMX', 'CMX', 'PUE', 'OAX', 'CMX', 'VER', 'PUE', 'VER', 'CMX', 'PUE', 'CMX', 'OAX', 'CMX', 'PUE'].\n",
        "\n",
        "La empresa siempre está abriendo nuevas sucursales, por lo que la tabla está constantemente recibiendo nuevos registros y al gerente le gustaría tener la información actualizada de la cantidad de sucursales en cada estado.\n",
        "\n",
        "A partir de la columna con la información de los estados, crea un diccionario utilizando la comprensión de diccionarios (dict comprehension) con la clave siendo el nombre de un estado y el valor siendo la cantidad de veces que aparece el estado en la lista.\n",
        "\n",
        "Consejo: Puedes hacer un paso intermedio para generar una lista de listas en la que cada una de las listas tenga el nombre de solo un estado con valores repetidos."
      ],
      "metadata": {
        "id": "6D-dQ_bWWv-d"
      }
    },
    {
      "cell_type": "code",
      "source": [
        "estados = ['CMX', 'OAX', 'PUE', 'PUE', 'CMX', 'PUE', 'OAX', 'OAX', 'OAX', 'CMX', 'CMX', 'PUE', 'OAX', 'CMX', 'VER', 'PUE', 'VER', 'CMX', 'PUE', 'CMX', 'OAX', 'CMX', 'PUE']\n",
        "\n",
        "diccionario_estados = {estado:estados.count(estado) for estado in estados}\n",
        "diccionario_estados"
      ],
      "metadata": {
        "colab": {
          "base_uri": "https://localhost:8080/"
        },
        "id": "wmnIYS4ZgMbt",
        "outputId": "e9d31093-f7a5-4084-c374-587c7d98fa0e"
      },
      "execution_count": null,
      "outputs": [
        {
          "output_type": "execute_result",
          "data": {
            "text/plain": [
              "{'CMX': 8, 'OAX': 6, 'PUE': 7, 'VER': 2}"
            ]
          },
          "metadata": {},
          "execution_count": 14
        }
      ]
    },
    {
      "cell_type": "markdown",
      "source": [
        "10. En esa misma tabla de registro de sucursales, hay una columna con la información de la cantidad de personas empleadas y el gerente quisiera tener un agrupamiento de la suma de esas personas para cada estado. Las informaciones contenidas en la tabla son:\n",
        "\n",
        " empleados = [('CMX', 16), ('OAX', 8), ('PUE', 9), ('PUE', 6), ('CMX', 10), ('PUE', 4), ('OAX',9),  ('OAX', 7), ('OAX', 12), ('CMX', 7), ('CMX', 11), ('PUE',8), ('OAX',8), ('CMX',9), ('VER', 13), ('PUE', 5),  ('VER', 9), ('CMX', 12), ('PUE', 10), ('CMX', 7), ('OAX', 14), ('CMX', 10), ('PUE', 12)]\n",
        "\n",
        " A partir de la lista de tuplas, crea un diccionario en el que las claves son los nombres de los estados únicos y los valores son las listas con el número de empleados referentes al estado. También crea un diccionario en el que las claves son los nombres de los estados y los valores son la suma de empleados por estado."
      ],
      "metadata": {
        "id": "5SBD9hA_WvzG"
      }
    },
    {
      "cell_type": "code",
      "source": [
        "empleados = [('CMX', 16), ('OAX', 8), ('PUE', 9), ('PUE', 6), ('CMX', 10), ('PUE', 4), ('OAX',9),  ('OAX', 7), ('OAX', 12), ('CMX', 7), ('CMX', 11),\n",
        " ('PUE',8), ('OAX',8), ('CMX',9), ('VER', 13), ('PUE', 5),  ('VER', 9), ('CMX', 12), ('PUE', 10), ('CMX', 7), ('OAX', 14), ('CMX', 10), ('PUE', 12)]\n",
        "\n",
        "diccionario_empleados = {ubicacion[0]:[empleado[1] for empleado in empleados if empleado[0] == ubicacion[0]] for ubicacion in empleados}\n",
        "diccionario_empleados"
      ],
      "metadata": {
        "colab": {
          "base_uri": "https://localhost:8080/"
        },
        "id": "sv3uySYUgoaV",
        "outputId": "fecdcf97-3cb4-4fe0-aa40-95a5cca30b24"
      },
      "execution_count": null,
      "outputs": [
        {
          "output_type": "execute_result",
          "data": {
            "text/plain": [
              "{'CMX': [16, 10, 7, 11, 9, 12, 7, 10],\n",
              " 'OAX': [8, 9, 7, 12, 8, 14],\n",
              " 'PUE': [9, 6, 4, 8, 5, 10, 12],\n",
              " 'VER': [13, 9]}"
            ]
          },
          "metadata": {},
          "execution_count": 30
        }
      ]
    },
    {
      "cell_type": "code",
      "source": [
        "diccionario_empleados2 = {ubicacion[0]:sum([empleado[1] for empleado in empleados if empleado[0] == ubicacion[0]]) for ubicacion in empleados}\n",
        "diccionario_empleados2"
      ],
      "metadata": {
        "colab": {
          "base_uri": "https://localhost:8080/"
        },
        "id": "LmD4qet1k1qn",
        "outputId": "6965e94c-f6d6-412b-f04c-e7acac7441e4"
      },
      "execution_count": null,
      "outputs": [
        {
          "output_type": "execute_result",
          "data": {
            "text/plain": [
              "{'CMX': 82, 'OAX': 58, 'PUE': 54, 'VER': 22}"
            ]
          },
          "metadata": {},
          "execution_count": 31
        }
      ]
    },
    {
      "cell_type": "markdown",
      "source": [
        "## <font color=green> 4. LIDIANDO CON EXCEPCIONES\n",
        "---"
      ],
      "metadata": {
        "id": "RxKC5WVoCYp3"
      }
    },
    {
      "cell_type": "markdown",
      "source": [
        "Hemos podido evidenciar hasta aquí la existencia de algunos errores y excepciones en la ejecución de algún comando. Como científico/a de datos o programador, necesitarás estar atento a estas situaciones para evitar bugs o problemas en tus códigos y análisis que puedan afectar la experiencia tanto del usuario como la eficiencia de su análisis.\n",
        "\n",
        "Existen básicamente dos formas distintas de errores: Los **errores de sintáxis** y las **excepciones**.\n",
        "\n",
        "Las excepciones son errores detectados durante la ejecución e interrumpen el flujo del programa cerrándolo en caso de que no sean tratadas.  \n",
        "\n",
        "Vamos a aprender a identificar y tratar algunas de las excepciones aquí, pero es siempre importante consultar la documentación para investigar y verificar cuáles se ajustan a sus proyectos.\n",
        "\n",
        "**Documentación sobre errores y excepciones:** https://docs.python.org/es/3/tutorial/errors.html"
      ],
      "metadata": {
        "id": "MzOZ_0M3CU1x"
      }
    },
    {
      "cell_type": "markdown",
      "source": [
        "## 4.1 Tratando las Excepciones\n",
        "\n",
        "El tratamiento de las excepciones contribuye a establecer un flujo alternativo para la ejecución del código evitando la interrupción de los procesos inesperadamente.\n",
        "\n",
        "Existe una serie de excepciones, y a partir del comportamiento que queremos, y de los errores que queremos tratar, es posible construir un camino para el usuario, o también, proveer más detalles sobre aquella excepción.\n",
        "\n",
        "- Jerarquía de las excepciones (https://docs.python.org/es/3/library/exceptions.html#exception-hierarchy)"
      ],
      "metadata": {
        "id": "x3E66krBST7K"
      }
    },
    {
      "cell_type": "markdown",
      "source": [
        "### Try ... Except\n",
        "\n",
        "```python\n",
        "try:\n",
        "  # código que será ejecutado. En caso de que surja una excepción, para inmediatamente\n",
        "except <nombre_de_la_excepcion as e>:\n",
        "  # Si surje una excepción en el try, ejecuta este código, si no, salta esta etapa\n",
        "```"
      ],
      "metadata": {
        "id": "h9lj8Wfk__cl"
      }
    },
    {
      "cell_type": "markdown",
      "source": [
        "#### **Situación 12:**\n",
        "\n",
        "Creaste un código que lee un diccionario con las notas de los estudiantes y querías retornar la lista de notas de un estudiante.\n",
        "\n",
        "En caso que el/la estudiante no esté matriculado(a) en el grupo debemos tratar la excepción para presentar el mensaje \"Estudiante no matriculado(a) en el grupo\".\n",
        "\n",
        "Vamos a trabajar en este ejemplo con la excepción **Key Error** que interrumpirá el processo de este trecho de código.\n",
        "\n",
        "**¿Vamos a probar este primer tratamiento?**\n",
        "\n"
      ],
      "metadata": {
        "id": "miwzhPNdD8Ty"
      }
    },
    {
      "cell_type": "code",
      "source": [
        "notas = {'Juan': [8.0, 9.0, 10.0], 'Maria': [9.0, 7.0, 6.0], 'José': [3.4, 7.0, 8.0], 'Claudia': [5.5, 6.6, 8.0],\n",
        "         'Ana': [6.0, 10.0, 9.5], 'Jorge': [5.5, 7.5, 9.0], 'Julia': [6.0, 8.0, 7.0], 'Pedro': [3.0, 4.0, 6.0]}"
      ],
      "metadata": {
        "id": "UvVbXY0XVm-f"
      },
      "execution_count": null,
      "outputs": []
    },
    {
      "cell_type": "code",
      "source": [
        "nombre = input('Digita el nombre del estudiante: ')\n",
        "resultado = notas[nombre]\n",
        "resultado"
      ],
      "metadata": {
        "id": "rFBq02dbJtkF",
        "colab": {
          "base_uri": "https://localhost:8080/",
          "height": 193
        },
        "outputId": "a695fe84-9506-4851-e53d-28e6d4147d14"
      },
      "execution_count": null,
      "outputs": [
        {
          "name": "stdout",
          "output_type": "stream",
          "text": [
            "Digita el nombre del estudiante: Michael\n"
          ]
        },
        {
          "output_type": "error",
          "ename": "KeyError",
          "evalue": "'Michael'",
          "traceback": [
            "\u001b[0;31m---------------------------------------------------------------------------\u001b[0m",
            "\u001b[0;31mKeyError\u001b[0m                                  Traceback (most recent call last)",
            "\u001b[0;32m<ipython-input-33-0eebc9085ab6>\u001b[0m in \u001b[0;36m<cell line: 0>\u001b[0;34m()\u001b[0m\n\u001b[1;32m      1\u001b[0m \u001b[0mnombre\u001b[0m \u001b[0;34m=\u001b[0m \u001b[0minput\u001b[0m\u001b[0;34m(\u001b[0m\u001b[0;34m'Digita el nombre del estudiante: '\u001b[0m\u001b[0;34m)\u001b[0m\u001b[0;34m\u001b[0m\u001b[0;34m\u001b[0m\u001b[0m\n\u001b[0;32m----> 2\u001b[0;31m \u001b[0mresultado\u001b[0m \u001b[0;34m=\u001b[0m \u001b[0mnotas\u001b[0m\u001b[0;34m[\u001b[0m\u001b[0mnombre\u001b[0m\u001b[0;34m]\u001b[0m\u001b[0;34m\u001b[0m\u001b[0;34m\u001b[0m\u001b[0m\n\u001b[0m\u001b[1;32m      3\u001b[0m \u001b[0mresultado\u001b[0m\u001b[0;34m\u001b[0m\u001b[0;34m\u001b[0m\u001b[0m\n",
            "\u001b[0;31mKeyError\u001b[0m: 'Michael'"
          ]
        }
      ]
    },
    {
      "cell_type": "code",
      "source": [
        "try:\n",
        "  nombre = input('Digita el nombre del estudiante: ')\n",
        "  resultado = notas[nombre]\n",
        "  print(f\"Las notas de {nombre} son: {resultado}\")\n",
        "except KeyError as e:\n",
        "  print(type(e), e)\n",
        "  print(f\"Estudiante no esta matriculado(a) en el grupo\")"
      ],
      "metadata": {
        "id": "IZwxTL1EJvRl",
        "colab": {
          "base_uri": "https://localhost:8080/"
        },
        "outputId": "e49e1118-121e-465d-a10c-65e7f77e4eec"
      },
      "execution_count": null,
      "outputs": [
        {
          "output_type": "stream",
          "name": "stdout",
          "text": [
            "Digita el nombre del estudiante: Michael\n",
            "<class 'KeyError'> 'Michael'\n",
            "Estudiante no esta matriculado(a) en el grupo\n"
          ]
        }
      ]
    },
    {
      "cell_type": "markdown",
      "source": [
        "### Agregando la cláusula Else\n",
        "\n",
        "```python\n",
        "try:\n",
        "  # código que será ejecutado. En caso de que surja una excepción, para inmediatamente\n",
        "except:\n",
        "  # Si surje una excepción en el try, ejecuta este código, si no, salta esta etapa\n",
        "else:\n",
        "  # Si no surjen excepciones, ejecuta esta parte del código\n",
        "```"
      ],
      "metadata": {
        "id": "hKhKzgQoBHLb"
      }
    },
    {
      "cell_type": "markdown",
      "source": [
        "#### **Situación 13:**\n",
        "\n",
        "Creaste un código que lee un diccionario con las notas de los estudiantes y querías retornar la lista de notas de un estudiante.\n",
        "\n",
        "En caso de que el/la estudiante no esté matriculado(a) en la clase, debe aparecer el siguiente mensaje: \"Estudiante no matriculado(a) en el grupo\" y, si no surje la excepción, debemos exhibir la lista con las notas del(la) estudiante.\n",
        "\n",
        "Vamos a trabajar en este ejemplo con la excepción **Key Error** que interrumpirá el proceso de este trecho de código.\n",
        "\n",
        "**¿Vamos a probar este tratamiento?**\n"
      ],
      "metadata": {
        "id": "USN3SA2tMjL0"
      }
    },
    {
      "cell_type": "code",
      "source": [
        "try:\n",
        "  nombre = input('Digita el nombre del estudiante: ')\n",
        "  resultado = notas[nombre]\n",
        "except KeyError as e:\n",
        "  print(f\"Estudiante no esta matriculado(a) en el grupo\")\n",
        "else:\n",
        "  print(f\"Las notas de {nombre} son: {resultado}\")"
      ],
      "metadata": {
        "id": "Qr_4-D3UJxcE",
        "colab": {
          "base_uri": "https://localhost:8080/"
        },
        "outputId": "04d24833-5e83-4ee3-ff41-b20cff42e348"
      },
      "execution_count": null,
      "outputs": [
        {
          "output_type": "stream",
          "name": "stdout",
          "text": [
            "Digita el nombre del estudiante: Michael\n",
            "Estudiante no esta matriculado(a) en el grupo\n"
          ]
        }
      ]
    },
    {
      "cell_type": "code",
      "source": [
        "try:\n",
        "  nombre = input('Digita el nombre del estudiante: ')\n",
        "  resultado = notas[nombre]\n",
        "except KeyError as e:\n",
        "  print(f\"Estudiante no esta matriculado(a) en el grupo\")\n",
        "else:\n",
        "  print(f\"Las notas de {nombre} son: {resultado}\")"
      ],
      "metadata": {
        "id": "uy2xPGXoJzXS",
        "colab": {
          "base_uri": "https://localhost:8080/"
        },
        "outputId": "7bfe3802-64ce-43d7-f7df-bcc81c46e715"
      },
      "execution_count": null,
      "outputs": [
        {
          "output_type": "stream",
          "name": "stdout",
          "text": [
            "Digita el nombre del estudiante: Maria\n",
            "Las notas de Maria son: [9.0, 7.0, 6.0]\n"
          ]
        }
      ]
    },
    {
      "cell_type": "markdown",
      "source": [
        "### Añadiendo la cláusula finally\n",
        "\n",
        "```python\n",
        "try:\n",
        "  # código que será ejecutado. En caso de que surja una excepción, para inmediatamente\n",
        "except:\n",
        "  # Si surje una excepción en el try, ejecuta este código, si no, salta esta etapa\n",
        "else:\n",
        "  # Si no surjen excepciones, ejecuta esta parte del código\n",
        "finally:\n",
        "  # Ejecuta este trecho (con o sin excepción)\n",
        "```"
      ],
      "metadata": {
        "id": "Dw_efTlbBhll"
      }
    },
    {
      "cell_type": "markdown",
      "source": [
        "#### **Situación 14:**\n",
        "\n",
        "Creaste un código que lee un diccionario con las notas de los estudiantes y querías retornar la lista de notas de un estudiante.\n",
        "\n",
        "En caso de que el/la estudiante no esté matriculado(a) en la clase, debe aparecer el siguiente mensaje: \"Estudiante no matriculado(a) en el grupo\" y, si no surje la excepción, debemos exhibir la lista con las notas del(la) estudiante. Un texto avisando que \"La consulta ha concluído.\" debe ser mostrado independientemente de si surgió o no alguna excepción.\n",
        "\n",
        "\n",
        "Vamos a trabajar en este ejemplo con la excepción **Key Error** que interrumpirá el proceso de este trecho del código.\n",
        "\n",
        "**¿Vamos a probar este tratamiento?**"
      ],
      "metadata": {
        "id": "jGtFVx5GdnsS"
      }
    },
    {
      "cell_type": "code",
      "source": [
        "try:\n",
        "  nombre = input('Digita el nombre del estudiante: ')\n",
        "  resultado = notas[nombre]\n",
        "except KeyError as e:\n",
        "  print(f\"Estudiante no esta matriculado(a) en el grupo\")\n",
        "else:\n",
        "  print(f\"Las notas de {nombre} son: {resultado}\")\n",
        "finally:\n",
        "  print(\"La consulta ha concluído.\")"
      ],
      "metadata": {
        "id": "PwdLYP_zJ04s",
        "colab": {
          "base_uri": "https://localhost:8080/"
        },
        "outputId": "5988ac92-738b-4bf6-b063-cf3fc7686e73"
      },
      "execution_count": null,
      "outputs": [
        {
          "output_type": "stream",
          "name": "stdout",
          "text": [
            "Digita el nombre del estudiante: Michael\n",
            "Estudiante no esta matriculado(a) en el grupo\n",
            "La consulta ha concluído.\n"
          ]
        }
      ]
    },
    {
      "cell_type": "code",
      "source": [
        "try:\n",
        "  nombre = input('Digita el nombre del estudiante: ')\n",
        "  resultado = notas[nombre]\n",
        "except KeyError as e:\n",
        "  print(f\"Estudiante no esta matriculado(a) en el grupo\")\n",
        "else:\n",
        "  print(f\"Las notas de {nombre} son: {resultado}\")\n",
        "finally:\n",
        "  print(\"La consulta ha concluído.\")"
      ],
      "metadata": {
        "id": "pv0BaQ95J1BA",
        "colab": {
          "base_uri": "https://localhost:8080/"
        },
        "outputId": "4c4d9000-2e31-4de0-d85c-0882910278f6"
      },
      "execution_count": null,
      "outputs": [
        {
          "output_type": "stream",
          "name": "stdout",
          "text": [
            "Digita el nombre del estudiante: Maria\n",
            "Las notas de Maria son: [9.0, 7.0, 6.0]\n",
            "La consulta ha concluído.\n"
          ]
        }
      ]
    },
    {
      "cell_type": "markdown",
      "source": [
        "## 4.2 Raise\n",
        "\n",
        "Otra forma de trabajar con las excepciones en tu código, es generando tus propias excepciones para determinados comportamientos que deseas en tu código.\n",
        "\n",
        "Para ello, utilizamos la palabra clave `raise` junto al tipo de excepción que se desea mostrar y el mensaje que será exhibido.   "
      ],
      "metadata": {
        "id": "HdjllLBpST_2"
      }
    },
    {
      "cell_type": "markdown",
      "source": [
        "```python\n",
        "raise NombreDelError(\"Mensaje deseado.\")\n",
        "```"
      ],
      "metadata": {
        "id": "_nIOnDQufv6Z"
      }
    },
    {
      "cell_type": "markdown",
      "source": [
        "#### **Situação 15:**\n",
        "\n",
        "Creaste una función para calcular el promedio de un estudiante en una determinada materia pasando en una lista las notas de este estudiante.\n",
        "\n",
        "Pretendes tratar 2 situaciones:\n",
        "\n",
        "- Si la lista posee un valor no numérico el cálculo de promedio no será ejecutado y un mensaje de \"No fue posible calcular el promedio del(la) estudiante. Solo se admiten valores numéricos!\" será exhibido.\n",
        "\n",
        "- En caso que la lista tenga más de 4 notas, surgirá una excepción del tipo **ValueError** informando que \"La lista no puede poseer más de 4 notas.\"\n",
        "\n",
        "Un texto avisando que \"La consulta ha concluído.\" debe ser mostrado independientemente de si surgió o no alguna excepción.\n",
        "\n",
        "**¿Vamos a resolver este desafío?**"
      ],
      "metadata": {
        "id": "xapeB2ivgB7R"
      }
    },
    {
      "cell_type": "code",
      "source": [
        "def promedio(lista: list=[0]) -> float:\n",
        "  ''' Función para calcular el promedio de notas en una lista\n",
        "\n",
        "  lista: list, default [0]\n",
        "    Lista con las notas para calcular el promedio\n",
        "  return = calculo: float\n",
        "    Promedio calculado\n",
        "  '''\n",
        "\n",
        "  calculo = sum(lista) / len(lista)\n",
        "\n",
        "  if len(lista) > 4:\n",
        "    raise ValueError(\"La lista no puede poseer más de 4 notas.\")\n",
        "\n",
        "  return calculo"
      ],
      "metadata": {
        "id": "kKeFuHUfhSfa"
      },
      "execution_count": null,
      "outputs": []
    },
    {
      "cell_type": "code",
      "source": [
        "notas = [4,5,6,7,8]\n",
        "promedio(notas)"
      ],
      "metadata": {
        "id": "_ghW6hb9KBpU",
        "colab": {
          "base_uri": "https://localhost:8080/",
          "height": 280
        },
        "outputId": "de35649f-08f1-4340-f802-e103081b8b7f"
      },
      "execution_count": null,
      "outputs": [
        {
          "output_type": "error",
          "ename": "ValueError",
          "evalue": "La lista no puede poseer más de 4 notas.",
          "traceback": [
            "\u001b[0;31m---------------------------------------------------------------------------\u001b[0m",
            "\u001b[0;31mValueError\u001b[0m                                Traceback (most recent call last)",
            "\u001b[0;32m<ipython-input-42-fd74ff6321e3>\u001b[0m in \u001b[0;36m<cell line: 0>\u001b[0;34m()\u001b[0m\n\u001b[1;32m      1\u001b[0m \u001b[0mnotas\u001b[0m \u001b[0;34m=\u001b[0m \u001b[0;34m[\u001b[0m\u001b[0;36m4\u001b[0m\u001b[0;34m,\u001b[0m\u001b[0;36m5\u001b[0m\u001b[0;34m,\u001b[0m\u001b[0;36m6\u001b[0m\u001b[0;34m,\u001b[0m\u001b[0;36m7\u001b[0m\u001b[0;34m,\u001b[0m\u001b[0;36m8\u001b[0m\u001b[0;34m]\u001b[0m\u001b[0;34m\u001b[0m\u001b[0;34m\u001b[0m\u001b[0m\n\u001b[0;32m----> 2\u001b[0;31m \u001b[0mpromedio\u001b[0m\u001b[0;34m(\u001b[0m\u001b[0mnotas\u001b[0m\u001b[0;34m)\u001b[0m\u001b[0;34m\u001b[0m\u001b[0;34m\u001b[0m\u001b[0m\n\u001b[0m",
            "\u001b[0;32m<ipython-input-41-4ec88d632a87>\u001b[0m in \u001b[0;36mpromedio\u001b[0;34m(lista)\u001b[0m\n\u001b[1;32m     11\u001b[0m \u001b[0;34m\u001b[0m\u001b[0m\n\u001b[1;32m     12\u001b[0m   \u001b[0;32mif\u001b[0m \u001b[0mlen\u001b[0m\u001b[0;34m(\u001b[0m\u001b[0mlista\u001b[0m\u001b[0;34m)\u001b[0m \u001b[0;34m>\u001b[0m \u001b[0;36m4\u001b[0m\u001b[0;34m:\u001b[0m\u001b[0;34m\u001b[0m\u001b[0;34m\u001b[0m\u001b[0m\n\u001b[0;32m---> 13\u001b[0;31m     \u001b[0;32mraise\u001b[0m \u001b[0mValueError\u001b[0m\u001b[0;34m(\u001b[0m\u001b[0;34m\"La lista no puede poseer más de 4 notas.\"\u001b[0m\u001b[0;34m)\u001b[0m\u001b[0;34m\u001b[0m\u001b[0;34m\u001b[0m\u001b[0m\n\u001b[0m\u001b[1;32m     14\u001b[0m \u001b[0;34m\u001b[0m\u001b[0m\n\u001b[1;32m     15\u001b[0m   \u001b[0;32mreturn\u001b[0m \u001b[0mcalculo\u001b[0m\u001b[0;34m\u001b[0m\u001b[0;34m\u001b[0m\u001b[0m\n",
            "\u001b[0;31mValueError\u001b[0m: La lista no puede poseer más de 4 notas."
          ]
        }
      ]
    },
    {
      "cell_type": "code",
      "source": [
        "notas = [4,5,6,7,'8']\n",
        "resultado = promedio(notas)\n",
        "resultado"
      ],
      "metadata": {
        "id": "X2To8kJdKGFk",
        "colab": {
          "base_uri": "https://localhost:8080/",
          "height": 297
        },
        "outputId": "52163dbb-dc8a-48d4-de21-56f73f7a79ab"
      },
      "execution_count": null,
      "outputs": [
        {
          "output_type": "error",
          "ename": "TypeError",
          "evalue": "unsupported operand type(s) for +: 'int' and 'str'",
          "traceback": [
            "\u001b[0;31m---------------------------------------------------------------------------\u001b[0m",
            "\u001b[0;31mTypeError\u001b[0m                                 Traceback (most recent call last)",
            "\u001b[0;32m<ipython-input-43-2897e478f8f2>\u001b[0m in \u001b[0;36m<cell line: 0>\u001b[0;34m()\u001b[0m\n\u001b[1;32m      1\u001b[0m \u001b[0mnotas\u001b[0m \u001b[0;34m=\u001b[0m \u001b[0;34m[\u001b[0m\u001b[0;36m4\u001b[0m\u001b[0;34m,\u001b[0m\u001b[0;36m5\u001b[0m\u001b[0;34m,\u001b[0m\u001b[0;36m6\u001b[0m\u001b[0;34m,\u001b[0m\u001b[0;36m7\u001b[0m\u001b[0;34m,\u001b[0m\u001b[0;34m'8'\u001b[0m\u001b[0;34m]\u001b[0m\u001b[0;34m\u001b[0m\u001b[0;34m\u001b[0m\u001b[0m\n\u001b[0;32m----> 2\u001b[0;31m \u001b[0mresultado\u001b[0m \u001b[0;34m=\u001b[0m \u001b[0mpromedio\u001b[0m\u001b[0;34m(\u001b[0m\u001b[0mnotas\u001b[0m\u001b[0;34m)\u001b[0m\u001b[0;34m\u001b[0m\u001b[0;34m\u001b[0m\u001b[0m\n\u001b[0m\u001b[1;32m      3\u001b[0m \u001b[0mresultado\u001b[0m\u001b[0;34m\u001b[0m\u001b[0;34m\u001b[0m\u001b[0m\n",
            "\u001b[0;32m<ipython-input-41-4ec88d632a87>\u001b[0m in \u001b[0;36mpromedio\u001b[0;34m(lista)\u001b[0m\n\u001b[1;32m      8\u001b[0m   '''\n\u001b[1;32m      9\u001b[0m \u001b[0;34m\u001b[0m\u001b[0m\n\u001b[0;32m---> 10\u001b[0;31m   \u001b[0mcalculo\u001b[0m \u001b[0;34m=\u001b[0m \u001b[0msum\u001b[0m\u001b[0;34m(\u001b[0m\u001b[0mlista\u001b[0m\u001b[0;34m)\u001b[0m \u001b[0;34m/\u001b[0m \u001b[0mlen\u001b[0m\u001b[0;34m(\u001b[0m\u001b[0mlista\u001b[0m\u001b[0;34m)\u001b[0m\u001b[0;34m\u001b[0m\u001b[0;34m\u001b[0m\u001b[0m\n\u001b[0m\u001b[1;32m     11\u001b[0m \u001b[0;34m\u001b[0m\u001b[0m\n\u001b[1;32m     12\u001b[0m   \u001b[0;32mif\u001b[0m \u001b[0mlen\u001b[0m\u001b[0;34m(\u001b[0m\u001b[0mlista\u001b[0m\u001b[0;34m)\u001b[0m \u001b[0;34m>\u001b[0m \u001b[0;36m4\u001b[0m\u001b[0;34m:\u001b[0m\u001b[0;34m\u001b[0m\u001b[0;34m\u001b[0m\u001b[0m\n",
            "\u001b[0;31mTypeError\u001b[0m: unsupported operand type(s) for +: 'int' and 'str'"
          ]
        }
      ]
    },
    {
      "cell_type": "code",
      "source": [
        "try:\n",
        "  notas = [4,5,6,7,'8']\n",
        "  resultado = promedio(notas)\n",
        "except TypeError:\n",
        "  print('No es posible calcular el promedio del estudiante. Solo se permiten valores numericos')\n",
        "except ValueError as e:\n",
        "  print(e)\n",
        "else:\n",
        "  print(f\"El promedio del estudiante es: {resultado}\")\n",
        "finally:\n",
        "  print(\"La consulta ha concluído.\")"
      ],
      "metadata": {
        "id": "nrCsWqX6KGIA",
        "colab": {
          "base_uri": "https://localhost:8080/"
        },
        "outputId": "d6c9cb99-98c7-433e-d7b3-c0a1ed5ec6c3"
      },
      "execution_count": null,
      "outputs": [
        {
          "output_type": "stream",
          "name": "stdout",
          "text": [
            "No es posible calcular el promedio del estudiante. Solo se permiten valores numericos\n",
            "La consulta ha concluído.\n"
          ]
        }
      ]
    },
    {
      "cell_type": "code",
      "source": [
        "try:\n",
        "  notas = [4,5,6,7,'10']\n",
        "  resultado = promedio(notas)\n",
        "except TypeError:\n",
        "  print('No es posible calcular el promedio del estudiante. Solo se permiten valores numericos')\n",
        "except ValueError as e:\n",
        "  print(e)\n",
        "else:\n",
        "  print(f\"El promedio del estudiante es: {resultado}\")\n",
        "finally:\n",
        "  print(\"La consulta ha concluído.\")"
      ],
      "metadata": {
        "colab": {
          "base_uri": "https://localhost:8080/"
        },
        "id": "kQGms37xz-fZ",
        "outputId": "4e5e3483-0669-4890-e668-1526f81510e0"
      },
      "execution_count": null,
      "outputs": [
        {
          "output_type": "stream",
          "name": "stdout",
          "text": [
            "No es posible calcular el promedio del estudiante. Solo se permiten valores numericos\n",
            "La consulta ha concluído.\n"
          ]
        }
      ]
    },
    {
      "cell_type": "code",
      "source": [
        "try:\n",
        "  notas = [4,5,6,7,'8']\n",
        "  resultado = promedio(notas)\n",
        "except ValueError as e:\n",
        "  print(e)\n",
        "except TypeError:\n",
        "  print('No es posible calcular el promedio del estudiante. Solo se permiten valores numericos')\n",
        "else:\n",
        "  print(f\"El promedio del estudiante es: {resultado}\")\n",
        "finally:\n",
        "  print(\"La consulta ha concluído.\")"
      ],
      "metadata": {
        "colab": {
          "base_uri": "https://localhost:8080/"
        },
        "id": "vAtOiPAW0HhT",
        "outputId": "7d5c0833-c2c5-49d2-a61f-5c6f25e109ce"
      },
      "execution_count": null,
      "outputs": [
        {
          "output_type": "stream",
          "name": "stdout",
          "text": [
            "No es posible calcular el promedio del estudiante. Solo se permiten valores numericos\n",
            "La consulta ha concluído.\n"
          ]
        }
      ]
    },
    {
      "cell_type": "code",
      "source": [
        "try:\n",
        "  notas = [4,5,6,7,10]\n",
        "  resultado = promedio(notas)\n",
        "except TypeError:\n",
        "  print('No es posible calcular el promedio del estudiante. Solo se permiten valores numericos')\n",
        "except ValueError as e:\n",
        "  print(e)\n",
        "else:\n",
        "  print(f\"El promedio del estudiante es: {resultado}\")\n",
        "finally:\n",
        "  print(\"La consulta ha concluído.\")"
      ],
      "metadata": {
        "colab": {
          "base_uri": "https://localhost:8080/"
        },
        "id": "5T7D3L_J0Nnm",
        "outputId": "319579ed-c0c7-423d-a70b-a1086d312d13"
      },
      "execution_count": null,
      "outputs": [
        {
          "output_type": "stream",
          "name": "stdout",
          "text": [
            "La lista no puede poseer más de 4 notas.\n",
            "La consulta ha concluído.\n"
          ]
        }
      ]
    },
    {
      "cell_type": "code",
      "source": [
        "try:\n",
        "  notas = [4,5,6,7]\n",
        "  resultado = promedio(notas)\n",
        "except TypeError:\n",
        "  print('No es posible calcular el promedio del estudiante. Solo se permiten valores numericos')\n",
        "except ValueError as e:\n",
        "  print(e)\n",
        "else:\n",
        "  print(f\"El promedio del estudiante es: {resultado}\")\n",
        "finally:\n",
        "  print(\"La consulta ha concluído.\")"
      ],
      "metadata": {
        "colab": {
          "base_uri": "https://localhost:8080/"
        },
        "id": "KT8q4Sgs0ftR",
        "outputId": "3519941b-c7ba-4ebc-edc0-45369102e790"
      },
      "execution_count": null,
      "outputs": [
        {
          "output_type": "stream",
          "name": "stdout",
          "text": [
            "El promedio del estudiante es: 5.5\n",
            "La consulta ha concluído.\n"
          ]
        }
      ]
    },
    {
      "cell_type": "markdown",
      "source": [
        "### Ejercicios 5\n",
        "\n",
        "1. Haz un programa que solicite a la persona usuaria ingresar dos números decimales y calcular la división entre estos números. El código debe incluir un manejo de error, indicando el tipo de error que se generó si la división no es posible.\n",
        "\n",
        "Prueba el programa con el segundo valor numérico de la entrada igual a 0. También prueba usando caracteres textuales en la entrada para verificar los tipos de errores que ocurren."
      ],
      "metadata": {
        "id": "pUNwx-g8lxe0"
      }
    },
    {
      "cell_type": "code",
      "source": [
        "numero1 = input('Ingresa el primer numero decimal: ')\n",
        "numero2 = input('Ingresa el segundo numero decimal: ')\n",
        "\n",
        "def division(n1,n2):\n",
        "  if float(n2) == 0:\n",
        "    raise ZeroDivisionError('No es posible dividir por cero')\n",
        "  else:\n",
        "    resultado = float(n1) / float(n2)\n",
        "    return resultado\n",
        "\n",
        "try:\n",
        "  resultado = division(numero1, numero2)\n",
        "except ZeroDivisionError as e:\n",
        "  print(e)\n",
        "except ValueError as e:\n",
        "  print(e)\n",
        "else:\n",
        "  print(f'El resultado de la division es: {resultado}')\n",
        "finally:\n",
        "  print('El programa ha finalizado')"
      ],
      "metadata": {
        "colab": {
          "base_uri": "https://localhost:8080/"
        },
        "id": "XwUXEP56l64x",
        "outputId": "cbc34748-76d0-4b8c-87e8-2112b727b56d"
      },
      "execution_count": 5,
      "outputs": [
        {
          "output_type": "stream",
          "name": "stdout",
          "text": [
            "Ingresa el primer numero decimal: 1\n",
            "Ingresa el segundo numero decimal: 0\n",
            "No es posible dividir por cero\n",
            "El programa ha finalizado\n"
          ]
        }
      ]
    },
    {
      "cell_type": "markdown",
      "source": [
        "2. Haz un programa que solicite a la persona usuaria ingresar un texto que será una clave a buscar en el siguiente diccionario: edades = {'Júlia': 16, 'Carol': 23, 'Alberto': 19, 'Roberta': 17}, almacenando el resultado del valor en una variable. El código debe incluir un manejo de error KeyError, imprimiendo la información 'Nombre no encontrado' en caso de error, e imprimir el valor si no ocurre ninguno.\n",
        "\n",
        "Prueba el programa con un nombre presente en una de las claves del diccionario y con uno que no esté en el diccionario para verificar el mensaje de error."
      ],
      "metadata": {
        "id": "Ixk6rX8zlxRJ"
      }
    },
    {
      "cell_type": "code",
      "source": [
        "texto = input('Ingresa un nombre: ').capitalize()\n",
        "edades = {'Júlia': 16, 'Carol': 23, 'Alberto': 19, 'Roberta': 17}\n",
        "\n",
        "try:\n",
        "  resultado = edades[texto]\n",
        "except KeyError as e:\n",
        "  print('Nombre no encontrado')\n",
        "else:\n",
        "  print(f'La edad de {texto} es: {resultado}')\n",
        "finally:\n",
        "  print('El programa ha finalizado')"
      ],
      "metadata": {
        "colab": {
          "base_uri": "https://localhost:8080/"
        },
        "id": "UO-7uH5gnkdI",
        "outputId": "18725e28-473d-487b-85a3-dbab6c2f525c"
      },
      "execution_count": 11,
      "outputs": [
        {
          "output_type": "stream",
          "name": "stdout",
          "text": [
            "Ingresa un nombre: carol\n",
            "La edad de Carol es: 23\n",
            "El programa ha finalizado\n"
          ]
        }
      ]
    },
    {
      "cell_type": "markdown",
      "source": [
        "3. Crea una función que reciba una lista como parámetro y convierta todos los valores de la lista a flotantes. La función debe incluir un manejo de error indicando el tipo de error generado y devolver la lista si no ha ocurrido ningún error. Por último, debe tener la cláusula finally para imprimir el texto: 'Fin de la ejecución de la función'."
      ],
      "metadata": {
        "id": "pLkC_fGslxGI"
      }
    },
    {
      "cell_type": "code",
      "source": [
        "valores = [1, 2, 7, 4, 'c']\n",
        "\n",
        "def valores_flotantes(lista: list) -> list:\n",
        "  try:\n",
        "    for i in range(len(lista)):\n",
        "      lista[i] = float(lista[i])\n",
        "    return lista\n",
        "  except ValueError as e:\n",
        "    print(e)\n",
        "  finally:\n",
        "    print('Fin de la ejecución de la función')\n",
        "\n",
        "\n",
        "valores_flotantes(valores)"
      ],
      "metadata": {
        "colab": {
          "base_uri": "https://localhost:8080/"
        },
        "id": "pwR6KOpVoSi0",
        "outputId": "c3678b23-bcb2-4273-a6c4-e429a3438781"
      },
      "execution_count": 17,
      "outputs": [
        {
          "output_type": "stream",
          "name": "stdout",
          "text": [
            "could not convert string to float: 'c'\n",
            "Fin de la ejecución de la función\n"
          ]
        }
      ]
    },
    {
      "cell_type": "markdown",
      "source": [
        "4. Crea una función que reciba dos listas como parámetros y agrupe los elementos uno a uno de las listas, formando una lista de tuplas de 3 elementos. El primer y segundo elemento de la tupla son los valores en la posición i de las listas y el tercer elemento es la suma de los valores en la posición i de las listas.\n",
        "\n",
        "La función debe incluir un manejo de error indicando el tipo de error generado y devolver como resultado la lista de tuplas. Si las listas enviadas como parámetro tienen tamaños diferentes, la función debe devolver un IndexError con la frase: 'La cantidad de elementos en cada lista es diferente.'.\n",
        "\n",
        "Datos para probar la función:\n",
        "\n",
        "Valores sin error:\n",
        "\n",
        "lista1 = [4, 6, 7, 9, 10]\n",
        "lista2 = [-4, 6, 8, 7, 9]\n",
        "\n",
        "Listas con tamaños diferentes:\n",
        "\n",
        "lista1 = [4, 6, 7, 9, 10, 4]\n",
        "lista2 = [-4, 6, 8, 7, 9]\n",
        "\n",
        "Listas con valores incoherentes:\n",
        "\n",
        "lista1 = [4, 6, 7, 9, 'A']\n",
        "lista2 = [-4, 'E', 8, 7, 9]\n"
      ],
      "metadata": {
        "id": "AGHt9cYIlw6a"
      }
    },
    {
      "cell_type": "code",
      "source": [
        "def tuplas(lista1: list, lista2: list) -> list:\n",
        "  lista3 = []\n",
        "  try:\n",
        "    if len(lista1) != len(lista2):\n",
        "      raise IndexError('La cantidad de elementos en cada lista es diferente.')\n",
        "    for i in range(len(lista1)):\n",
        "      lista3.append((lista1[i], lista2[i], lista1[i] + lista2[i]))\n",
        "    return lista3\n",
        "  except IndexError as e:\n",
        "    print(e)\n",
        "  except TypeError as e:\n",
        "    print(e)\n",
        "  finally:\n",
        "    print('Fin de la ejecución de la función')\n",
        ""
      ],
      "metadata": {
        "id": "SWjclFB7paw7"
      },
      "execution_count": 27,
      "outputs": []
    },
    {
      "cell_type": "code",
      "source": [
        "lista1 = [4, 6, 7, 9, 10]\n",
        "lista2 = [-4, 6, 8, 7, 9]\n",
        "tuplas(lista1, lista2)"
      ],
      "metadata": {
        "colab": {
          "base_uri": "https://localhost:8080/"
        },
        "id": "0GQ7AOgKqeKX",
        "outputId": "0f63172d-6370-418f-ae4c-9e15a3854a18"
      },
      "execution_count": 19,
      "outputs": [
        {
          "output_type": "stream",
          "name": "stdout",
          "text": [
            "Fin de la ejecución de la función\n"
          ]
        },
        {
          "output_type": "execute_result",
          "data": {
            "text/plain": [
              "[(4, -4, 0), (6, 6, 12), (7, 8, 15), (9, 7, 16), (10, 9, 19)]"
            ]
          },
          "metadata": {},
          "execution_count": 19
        }
      ]
    },
    {
      "cell_type": "code",
      "source": [
        "lista1 = [4, 6, 7, 9, 10, 4]\n",
        "lista2 = [-4, 6, 8, 7, 9]\n",
        "tuplas(lista1, lista2)"
      ],
      "metadata": {
        "colab": {
          "base_uri": "https://localhost:8080/"
        },
        "id": "Rj_1Y3j5qh6H",
        "outputId": "2b4bd069-634f-4420-8a3d-0b58e49e840a"
      },
      "execution_count": 28,
      "outputs": [
        {
          "output_type": "stream",
          "name": "stdout",
          "text": [
            "La cantidad de elementos en cada lista es diferente.\n",
            "Fin de la ejecución de la función\n"
          ]
        }
      ]
    },
    {
      "cell_type": "code",
      "source": [
        "lista1 = [4, 6, 7, 9, 'A']\n",
        "lista2 = [-4, 'E', 8, 7, 9]\n",
        "tuplas(lista1, lista2)"
      ],
      "metadata": {
        "colab": {
          "base_uri": "https://localhost:8080/"
        },
        "id": "Vuc-M4kfqqXx",
        "outputId": "950faf01-c117-4b54-8600-2f72419d05fe"
      },
      "execution_count": 29,
      "outputs": [
        {
          "output_type": "stream",
          "name": "stdout",
          "text": [
            "unsupported operand type(s) for +: 'int' and 'str'\n",
            "Fin de la ejecución de la función\n"
          ]
        }
      ]
    },
    {
      "cell_type": "markdown",
      "source": [
        "5. Como desafío, se te ha asignado la tarea de desarrollar un código que contabiliza las puntuaciones de estudiantes de una institución educativa de acuerdo con sus respuestas en una prueba. Este código debe ser probado para un ejemplo de 3 estudiantes con una lista de listas en la que cada lista tiene las respuestas de 5 preguntas objetivas de cada estudiante. Cada pregunta vale un punto y las alternativas posibles son A, B, C o D.\n",
        "\n",
        "Si alguna alternativa en una de las pruebas no está entre las alternativas posibles, debes lanzar un ValueError con el mensaje \"La alternativa [alternativa] no es una opción de alternativa válida\". El cálculo de las 3 notas solo se realizará mediante las entradas con las alternativas A, B, C o D en todas las pruebas. Si no se lanza la excepción, se mostrará una lista con las notas en cada prueba.\n",
        "\n",
        "Datos para la prueba del código:\n",
        "\n",
        "Respuestas de la prueba:\n",
        "\n",
        "respuestas = ['D', 'A', 'B', 'C', 'A']\n",
        "\n",
        "A continuación, hay 2 listas de listas que puedes usar como prueba:\n",
        "\n",
        "Notas sin excepción:\n",
        "\n",
        "tests_sin_ex = [['D', 'A', 'B', 'C', 'A'], ['C', 'A', 'A', 'C', 'A'], ['D', 'B', 'A', 'C', 'A']]\n",
        "\n",
        "Notas con excepción:\n",
        "\n",
        "tests_con_ex = [['D', 'A', 'B', 'C', 'A'], ['C', 'A', 'A', 'E', 'A'], ['D', 'B', 'A', 'C', 'A']]\n",
        "\n"
      ],
      "metadata": {
        "id": "ZDXWkYKalwrg"
      }
    },
    {
      "cell_type": "code",
      "source": [
        "def notas(respuestas: list, tests: list) -> list:\n",
        "  try:\n",
        "    for i in range(len(tests)):\n",
        "      for j in range(len(tests[i])):\n",
        "        if tests[i][j] not in ['A', 'B', 'C', 'D']:\n",
        "          raise ValueError(f\"La alternativa {tests[i][j]} no es una opción de alternativa válida\")\n",
        "      nota = 0\n",
        "      for k in range(len(tests[i])):\n",
        "        if tests[i][k] == respuestas[k]:\n",
        "          nota += 1\n",
        "      tests[i] = nota\n",
        "    return tests\n",
        "  except ValueError as e:\n",
        "    print(e)\n",
        "  finally:\n",
        "    print('Fin de la ejecución de la función')"
      ],
      "metadata": {
        "id": "uCI2WCYhr-L5"
      },
      "execution_count": 30,
      "outputs": []
    },
    {
      "cell_type": "code",
      "source": [
        "respuestas = ['D', 'A', 'B', 'C', 'A']"
      ],
      "metadata": {
        "id": "VRnWIeW3sxCF"
      },
      "execution_count": 31,
      "outputs": []
    },
    {
      "cell_type": "code",
      "source": [
        "tests_sin_ex = [['D', 'A', 'B', 'C', 'A'], ['C', 'A', 'A', 'C', 'A'], ['D', 'B', 'A', 'C', 'A']]\n",
        "notas(respuestas, tests_sin_ex)"
      ],
      "metadata": {
        "colab": {
          "base_uri": "https://localhost:8080/"
        },
        "id": "w1nm_nSMs0Mo",
        "outputId": "f0696631-4e3d-4af9-b2bb-61b62eb5ab87"
      },
      "execution_count": 34,
      "outputs": [
        {
          "output_type": "stream",
          "name": "stdout",
          "text": [
            "Fin de la ejecución de la función\n"
          ]
        },
        {
          "output_type": "execute_result",
          "data": {
            "text/plain": [
              "[5, 3, 3]"
            ]
          },
          "metadata": {},
          "execution_count": 34
        }
      ]
    },
    {
      "cell_type": "code",
      "source": [
        "tests_con_ex = [['D', 'A', 'B', 'C', 'A'], ['C', 'A', 'A', 'E', 'A'], ['D', 'B', 'A', 'C', 'A']]\n",
        "notas(respuestas, tests_con_ex)"
      ],
      "metadata": {
        "colab": {
          "base_uri": "https://localhost:8080/"
        },
        "id": "UlanNkE_s3W9",
        "outputId": "0f6dd08d-5669-4306-dfba-4cbc606df7bf"
      },
      "execution_count": 35,
      "outputs": [
        {
          "output_type": "stream",
          "name": "stdout",
          "text": [
            "La alternativa E no es una opción de alternativa válida\n",
            "Fin de la ejecución de la función\n"
          ]
        }
      ]
    },
    {
      "cell_type": "markdown",
      "source": [
        "6. Estás trabajando con procesamiento de lenguaje natural (NLP) y, en esta ocasión, tu líder te pidió que crees un fragmento de código que reciba una lista con las palabras separadas de una frase generada por ChatGPT.\n",
        "\n",
        "Necesitas crear una función que evalúe cada palabra de este texto y verifique si el tratamiento para quitar los símbolos de puntuación (',', '.', '!' y '?') se realizó. De lo contrario, se lanzará una excepción del tipo ValueError señalando el primer caso en que se detectó el uso de una puntuación a través de la frase \"El texto presenta puntuaciones en la palabra \"[palabra]\"\". Esta solicitud se centra en el análisis del patrón de frases generadas por la inteligencia artificial.\n",
        "\n",
        "Datos para probar el código:\n",
        "\n",
        "Lista tratada:\n",
        "\n",
        "lista_tratada = ['Python', 'es', 'un', 'lenguaje', 'de', 'programación', 'poderoso', 'versátil',\n",
        "                  'y', 'fácil', 'de', 'aprender', 'utilizado', 'en', 'diversos', 'campos', 'desde',\n",
        "                  'análisis', 'de', 'datos', 'hasta', 'inteligencia', 'artificial']\n",
        "Lista no tratada:\n",
        "\n",
        "lista_no_tratada = ['Python', 'es', 'un', 'lenguaje', 'de', 'programación', 'poderoso,', 'versátil',\n",
        "                  'y', 'fácil,', 'de', 'aprender', 'utilizado', 'en', 'diversos', 'campos,', 'desde',\n",
        "                  'análisis', 'de', 'datos', 'hasta', 'inteligencia', 'artificial!']"
      ],
      "metadata": {
        "id": "gLil0thJlwgD"
      }
    },
    {
      "cell_type": "code",
      "source": [
        "def frase(lista: list) -> list:\n",
        "  try:\n",
        "    for i in range(len(lista)):\n",
        "      if lista[i][-1] in [',', '.', '!', '?']:\n",
        "        raise ValueError(f\"El texto presenta puntuaciones en la palabra {lista[i]}\")\n",
        "    return lista\n",
        "  except ValueError as e:\n",
        "    print(e)\n",
        "  finally:\n",
        "    print('Fin de la ejecución de la función')"
      ],
      "metadata": {
        "id": "zAtD1L_GtUAu"
      },
      "execution_count": 37,
      "outputs": []
    },
    {
      "cell_type": "code",
      "source": [
        "lista_tratada = ['Python', 'es', 'un', 'lenguaje', 'de', 'programación', 'poderoso', 'versátil', 'y', 'fácil', 'de',\n",
        "                 'aprender', 'utilizado', 'en', 'diversos', 'campos', 'desde', 'análisis', 'de', 'datos', 'hasta',\n",
        "                 'inteligencia', 'artificial']\n",
        "frase(lista_tratada)"
      ],
      "metadata": {
        "colab": {
          "base_uri": "https://localhost:8080/"
        },
        "id": "doTpCTkJtsdQ",
        "outputId": "cbcc041c-64ec-4060-9921-864ca8a7c24d"
      },
      "execution_count": 38,
      "outputs": [
        {
          "output_type": "stream",
          "name": "stdout",
          "text": [
            "Fin de la ejecución de la función\n"
          ]
        },
        {
          "output_type": "execute_result",
          "data": {
            "text/plain": [
              "['Python',\n",
              " 'es',\n",
              " 'un',\n",
              " 'lenguaje',\n",
              " 'de',\n",
              " 'programación',\n",
              " 'poderoso',\n",
              " 'versátil',\n",
              " 'y',\n",
              " 'fácil',\n",
              " 'de',\n",
              " 'aprender',\n",
              " 'utilizado',\n",
              " 'en',\n",
              " 'diversos',\n",
              " 'campos',\n",
              " 'desde',\n",
              " 'análisis',\n",
              " 'de',\n",
              " 'datos',\n",
              " 'hasta',\n",
              " 'inteligencia',\n",
              " 'artificial']"
            ]
          },
          "metadata": {},
          "execution_count": 38
        }
      ]
    },
    {
      "cell_type": "code",
      "source": [
        "lista_no_tratada = ['Python', 'es', 'un', 'lenguaje', 'de', 'programación', 'poderoso,', 'versátil', 'y', 'fácil,',\n",
        "                    'de', 'aprender', 'utilizado', 'en', 'diversos', 'campos,', 'desde', 'análisis', 'de', 'datos',\n",
        "                    'hasta', 'inteligencia', 'artificial!']\n",
        "frase(lista_no_tratada)"
      ],
      "metadata": {
        "colab": {
          "base_uri": "https://localhost:8080/"
        },
        "id": "t_guww5st-qJ",
        "outputId": "accbc1ab-6812-4461-8575-64f37b0a7fcb"
      },
      "execution_count": 39,
      "outputs": [
        {
          "output_type": "stream",
          "name": "stdout",
          "text": [
            "El texto presenta puntuaciones en la palabra poderoso,\n",
            "Fin de la ejecución de la función\n"
          ]
        }
      ]
    }
  ]
}