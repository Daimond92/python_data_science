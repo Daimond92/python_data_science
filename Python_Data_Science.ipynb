{
  "nbformat": 4,
  "nbformat_minor": 0,
  "metadata": {
    "colab": {
      "provenance": [],
      "include_colab_link": true
    },
    "kernelspec": {
      "name": "python3",
      "display_name": "Python 3"
    },
    "language_info": {
      "name": "python"
    }
  },
  "cells": [
    {
      "cell_type": "markdown",
      "metadata": {
        "id": "view-in-github",
        "colab_type": "text"
      },
      "source": [
        "<a href=\"https://colab.research.google.com/github/Daimond92/python_data_science/blob/main/Python_Data_Science.ipynb\" target=\"_parent\"><img src=\"https://colab.research.google.com/assets/colab-badge.svg\" alt=\"Open In Colab\"/></a>"
      ]
    },
    {
      "cell_type": "markdown",
      "source": [
        "# Python para Data Science\n",
        "\n",
        "Notebook para el curso de Python para Data Science publicado en la plataforma de [Alura Latam](https://www.aluracursos.com/)"
      ],
      "metadata": {
        "id": "lQx6Mmv0OJyT"
      }
    },
    {
      "cell_type": "markdown",
      "source": [
        "# Introducción a Python\n",
        "¡Vamos a conocer Python, nuestro ambiente de estudio, y también generaremos nuestro primer código en este lenguaje!"
      ],
      "metadata": {
        "id": "7SiB6JIpYKmY"
      }
    },
    {
      "cell_type": "markdown",
      "source": [
        "## Google Colaboratory\n",
        "\n",
        "Ya aprendimos qué es [Python](https://www.python.org/) y ahora aprenderemos a usar nuestra herramienta de ejecución [Google Colaboratory](https://colab.research.google.com/) para programar en un notebook interactivo.\n",
        "\n",
        "Vamos a probar algunas funciones de este ambiente."
      ],
      "metadata": {
        "id": "Yugfb3fCOYY9"
      }
    },
    {
      "cell_type": "markdown",
      "source": [
        " **`>>> Usa esta celda para guardar el notebook en github <<<`**"
      ],
      "metadata": {
        "id": "2iUHQsJasJAk"
      }
    },
    {
      "cell_type": "code",
      "source": [
        "# Si tu repo es privado, usa un token en la URL o SSH\n",
        "!git clone https://github.com/Daimond92/python_data_science.git\n",
        "%cd python_data_science"
      ],
      "metadata": {
        "id": "o7jrX_iKhdkU",
        "colab": {
          "base_uri": "https://localhost:8080/"
        },
        "outputId": "4604307e-9f88-4b77-ec3e-4090b291fa51"
      },
      "execution_count": null,
      "outputs": [
        {
          "output_type": "stream",
          "name": "stdout",
          "text": [
            "fatal: destination path 'python_data_science' already exists and is not an empty directory.\n",
            "/content/python_data_science\n"
          ]
        }
      ]
    },
    {
      "cell_type": "code",
      "source": [
        "# Configura Git si aún no lo hiciste\n",
        "!git config --global user.name \"David Alejandro Malaver\"\n",
        "!git config --global user.email \"dmalaver13@gmail.com\""
      ],
      "metadata": {
        "id": "z1yL_7jJ53dJ"
      },
      "execution_count": null,
      "outputs": []
    },
    {
      "cell_type": "code",
      "source": [
        "# Vuelve al directorio raíz de Colab\n",
        "%cd /content\n",
        "\n",
        "# Copia el notebook al repo clonado\n",
        "!cp Python_Data_Science.ipynb python_data_science/\n",
        "%cd python_data_science"
      ],
      "metadata": {
        "colab": {
          "base_uri": "https://localhost:8080/"
        },
        "id": "4b4ZED6G427q",
        "outputId": "833cbdab-535e-491e-e1a5-1de7da67bbdf"
      },
      "execution_count": null,
      "outputs": [
        {
          "output_type": "stream",
          "name": "stdout",
          "text": [
            "/content\n",
            "cp: cannot stat 'Python_Data_Science.ipynb': No such file or directory\n",
            "/content/python_data_science\n"
          ]
        }
      ]
    },
    {
      "cell_type": "code",
      "source": [
        "# Crea nueva rama\n",
        "!git checkout -b main\n",
        "\n",
        "# Agrega y haz commit del notebook\n",
        "!git add Python_Data_Science.ipynb\n",
        "!git commit -m \"begin steps in Python\"\n",
        "\n",
        "# Sube la rama al repositorio remoto\n",
        "!git push -u origin main"
      ],
      "metadata": {
        "colab": {
          "base_uri": "https://localhost:8080/"
        },
        "id": "k_j1HwZN5XYB",
        "outputId": "5dd17c62-45a3-40c3-d2a2-57513caeb5c0"
      },
      "execution_count": null,
      "outputs": [
        {
          "output_type": "stream",
          "name": "stdout",
          "text": [
            "Switched to a new branch 'main'\n",
            "fatal: pathspec 'Python_Data_Science.ipynb' did not match any files\n",
            "On branch main\n",
            "\n",
            "Initial commit\n",
            "\n",
            "nothing to commit (create/copy files and use \"git add\" to track)\n",
            "error: src refspec main does not match any\n",
            "\u001b[31merror: failed to push some refs to 'https://github.com/Daimond92/python_data_science.git'\n",
            "\u001b[m"
          ]
        }
      ]
    },
    {
      "cell_type": "code",
      "source": [
        "!git checkout -b main"
      ],
      "metadata": {
        "colab": {
          "base_uri": "https://localhost:8080/"
        },
        "id": "hBt-vd2N6Yax",
        "outputId": "d5215628-40c7-4337-fbf8-cb33493892f4"
      },
      "execution_count": null,
      "outputs": [
        {
          "output_type": "stream",
          "name": "stdout",
          "text": [
            "Switched to a new branch 'main'\n"
          ]
        }
      ]
    },
    {
      "cell_type": "code",
      "source": [
        "%cd /content\n",
        "!cp Python_Data_Science.ipynb python_data_science/\n",
        "%cd python_data_science"
      ],
      "metadata": {
        "colab": {
          "base_uri": "https://localhost:8080/"
        },
        "id": "1N4lKOM16nTN",
        "outputId": "d1d3e29b-2af0-434a-c218-4c30e8646fcc"
      },
      "execution_count": null,
      "outputs": [
        {
          "output_type": "stream",
          "name": "stdout",
          "text": [
            "/content\n",
            "cp: cannot stat 'Python_Data_Science.ipynb': No such file or directory\n",
            "/content/python_data_science\n"
          ]
        }
      ]
    },
    {
      "cell_type": "code",
      "source": [
        "%cd /content      # Navega al directorio base\n",
        "!ls -l            # Lista los archivos ahí"
      ],
      "metadata": {
        "colab": {
          "base_uri": "https://localhost:8080/"
        },
        "id": "o_9XAV5T655V",
        "outputId": "2b1df88b-de27-48c8-c90d-755c240db03e"
      },
      "execution_count": null,
      "outputs": [
        {
          "output_type": "stream",
          "name": "stdout",
          "text": [
            "[Errno 2] No such file or directory: '/content # Navega al directorio base'\n",
            "/content/python_data_science\n",
            "total 0\n"
          ]
        }
      ]
    },
    {
      "cell_type": "code",
      "source": [
        "%cd /content"
      ],
      "metadata": {
        "colab": {
          "base_uri": "https://localhost:8080/"
        },
        "id": "aAE2TLeb-KUA",
        "outputId": "96749731-a709-4df2-8b87-fdc0a29495c7"
      },
      "execution_count": null,
      "outputs": [
        {
          "output_type": "stream",
          "name": "stdout",
          "text": [
            "/content\n"
          ]
        }
      ]
    },
    {
      "cell_type": "code",
      "source": [
        "!ls -l"
      ],
      "metadata": {
        "colab": {
          "base_uri": "https://localhost:8080/"
        },
        "id": "tPUlTx_F-OwN",
        "outputId": "85ed4868-e648-41a8-97cc-ef1d13758a01"
      },
      "execution_count": null,
      "outputs": [
        {
          "output_type": "stream",
          "name": "stdout",
          "text": [
            "total 8\n",
            "drwxr-xr-x 3 root root 4096 Apr 23 04:24 python_data_science\n",
            "drwxr-xr-x 1 root root 4096 Apr 21 18:42 sample_data\n"
          ]
        }
      ]
    },
    {
      "cell_type": "code",
      "source": [
        "ls -a"
      ],
      "metadata": {
        "colab": {
          "base_uri": "https://localhost:8080/"
        },
        "id": "St38zhbd-lGL",
        "outputId": "432cf0c0-339c-4724-d33f-95f5f7effa25"
      },
      "execution_count": null,
      "outputs": [
        {
          "output_type": "stream",
          "name": "stdout",
          "text": [
            "\u001b[0m\u001b[01;34m.\u001b[0m/  \u001b[01;34m..\u001b[0m/  \u001b[01;34m.config\u001b[0m/  \u001b[01;34mpython_data_science\u001b[0m/  \u001b[01;34msample_data\u001b[0m/\n"
          ]
        }
      ]
    },
    {
      "cell_type": "code",
      "source": [
        "# Agrega y haz commit del notebook\n",
        "!git add Python_Data_Science.ipynb\n",
        "!git commit -m \"begin steps in Python\"\n",
        "\n",
        "# Sube la rama al repositorio remoto\n",
        "!git push -u origin main"
      ],
      "metadata": {
        "colab": {
          "base_uri": "https://localhost:8080/"
        },
        "id": "idA9ZPSn-Yaa",
        "outputId": "68d8dc03-4633-490d-b340-3f6aee776fee"
      },
      "execution_count": null,
      "outputs": [
        {
          "output_type": "stream",
          "name": "stdout",
          "text": [
            "fatal: not a git repository (or any of the parent directories): .git\n",
            "fatal: not a git repository (or any of the parent directories): .git\n",
            "fatal: not a git repository (or any of the parent directories): .git\n"
          ]
        }
      ]
    },
    {
      "cell_type": "markdown",
      "source": [
        "## ¡Hola mundo!\n",
        "\n",
        "Vamos a conocer un poco más de cerca nuestro notebook. Para ello ejecutaremos nuestro primer comando en Python: [`print()`](https://docs.python.org/3/library/functions.html#print)"
      ],
      "metadata": {
        "id": "aLSFP2V7XTfe"
      }
    },
    {
      "cell_type": "code",
      "source": [
        "print('¡Hola Mundo!')"
      ],
      "metadata": {
        "id": "0qZX8_ZQBYyk",
        "outputId": "e150ea57-ff98-4756-8ba2-6ff94be5c2b9",
        "colab": {
          "base_uri": "https://localhost:8080/"
        }
      },
      "execution_count": null,
      "outputs": [
        {
          "output_type": "stream",
          "name": "stdout",
          "text": [
            "¡Hola Mundo!\n"
          ]
        }
      ]
    },
    {
      "cell_type": "code",
      "source": [
        "print('Mi nombre es David y tengo 32 años')"
      ],
      "metadata": {
        "id": "GLMzF_AKBY7a",
        "outputId": "994ba760-c331-483c-a24d-fd397ee0aaa3",
        "colab": {
          "base_uri": "https://localhost:8080/"
        }
      },
      "execution_count": null,
      "outputs": [
        {
          "output_type": "stream",
          "name": "stdout",
          "text": [
            "Mi nombre es David y tengo 32 años\n"
          ]
        }
      ]
    },
    {
      "cell_type": "code",
      "source": [
        "20"
      ],
      "metadata": {
        "id": "5D6pNS-WboaQ",
        "outputId": "19ff3f98-e551-4828-9442-f1099d75e10e",
        "colab": {
          "base_uri": "https://localhost:8080/"
        }
      },
      "execution_count": null,
      "outputs": [
        {
          "output_type": "execute_result",
          "data": {
            "text/plain": [
              "20"
            ]
          },
          "metadata": {},
          "execution_count": 6
        }
      ]
    },
    {
      "cell_type": "markdown",
      "source": [
        "# **Ejercicios**\n",
        "\n",
        "\n",
        "\n",
        "1.   Imprime la frase \"Escuela de Datos de Alura\".\n",
        "\n"
      ],
      "metadata": {
        "id": "CRXibmY5cCRt"
      }
    },
    {
      "cell_type": "code",
      "source": [
        "print('Escuela de Datos de Alura')"
      ],
      "metadata": {
        "id": "Py7Ddmh7cBJ2",
        "outputId": "a9bef854-79d2-41fc-d284-965367eca147",
        "colab": {
          "base_uri": "https://localhost:8080/"
        }
      },
      "execution_count": null,
      "outputs": [
        {
          "output_type": "stream",
          "name": "stdout",
          "text": [
            "Escuela de Datos de Alura\n"
          ]
        }
      ]
    },
    {
      "cell_type": "markdown",
      "source": [
        "2. Imprime tu nombre y tu apellido siguiendo la estructura a continuación:\n",
        "\n",
        "Nombre: [tu nombre]\n",
        "\n",
        "Apellido: [tu apellido]"
      ],
      "metadata": {
        "id": "069QbrIHcdc9"
      }
    },
    {
      "cell_type": "code",
      "source": [
        "print('Nombre: David')\n",
        "print('Apellido: Malaver')"
      ],
      "metadata": {
        "id": "XLjbzhUBceAl",
        "outputId": "820a3165-989f-4006-93ac-fe922b6e03b7",
        "colab": {
          "base_uri": "https://localhost:8080/"
        }
      },
      "execution_count": null,
      "outputs": [
        {
          "output_type": "stream",
          "name": "stdout",
          "text": [
            "Nombre: David\n",
            "Apellido: Malaver\n"
          ]
        }
      ]
    },
    {
      "cell_type": "markdown",
      "source": [
        "3. Imprime tu primer nombre letra por letra. Por ejemplo, si mi nombre es Álvaro, la salida sería:\n",
        "\n",
        "Á\n",
        "\n",
        "L\n",
        "\n",
        "V\n",
        "\n",
        "A\n",
        "\n",
        "R\n",
        "\n",
        "O"
      ],
      "metadata": {
        "id": "IqmUIfGQcegV"
      }
    },
    {
      "cell_type": "code",
      "source": [
        "print('D')\n",
        "print('A')\n",
        "print('V')\n",
        "print('I')\n",
        "print('D')"
      ],
      "metadata": {
        "id": "OeVaeXg1cfME",
        "outputId": "d58a70db-03dd-4901-ffe8-11ae2075719b",
        "colab": {
          "base_uri": "https://localhost:8080/"
        }
      },
      "execution_count": null,
      "outputs": [
        {
          "output_type": "stream",
          "name": "stdout",
          "text": [
            "D\n",
            "A\n",
            "V\n",
            "I\n",
            "D\n"
          ]
        }
      ]
    },
    {
      "cell_type": "markdown",
      "source": [
        "4.  Imprime tu fecha de nacimiento en formato día mes año. Recuerda que los valores de día y año no deben estar entre comillas. Suponiendo una fecha de cumpleaños el 28 de febrero de 2003, el formato debe ser como el siguiente:\n",
        "\n",
        "28 febrero 2003"
      ],
      "metadata": {
        "id": "RZSkfDiCdN4g"
      }
    },
    {
      "cell_type": "code",
      "source": [
        "print(13, ' de noviembre de', 1992)"
      ],
      "metadata": {
        "id": "fSqHeaccdObt",
        "outputId": "5518771b-1f7e-497c-d86e-a98c12168b6e",
        "colab": {
          "base_uri": "https://localhost:8080/"
        }
      },
      "execution_count": null,
      "outputs": [
        {
          "output_type": "stream",
          "name": "stdout",
          "text": [
            "13  de noviembre de 1992\n"
          ]
        }
      ]
    },
    {
      "cell_type": "markdown",
      "source": [
        "5. Imprime, en una sola instrucción print, el año actual en el que estás realizando este curso. El valor del año debe ser un dato numérico, y la salida de print debe ser la siguiente:\n",
        "\n",
        "Año actual: [año]"
      ],
      "metadata": {
        "id": "pwWb8akndO0_"
      }
    },
    {
      "cell_type": "code",
      "source": [
        "print('Año actual: ', 2025)"
      ],
      "metadata": {
        "id": "8hv8D6UWdPR1",
        "outputId": "ba70ef49-1314-43da-de11-7c8d253d9e7e",
        "colab": {
          "base_uri": "https://localhost:8080/"
        }
      },
      "execution_count": null,
      "outputs": [
        {
          "output_type": "stream",
          "name": "stdout",
          "text": [
            "Año actual:  2025\n"
          ]
        }
      ]
    },
    {
      "cell_type": "markdown",
      "source": [
        "# Manipulando los datos\n",
        "\n",
        "Vamos a aprender sobre las variables en Python, cómo declararlas y utilizarlas además de conocer otros comandos de este lenguaje. :D"
      ],
      "metadata": {
        "id": "iP8uWQmFYFRs"
      }
    },
    {
      "cell_type": "markdown",
      "source": [
        "## Variables\n",
        "\n",
        "En Data Science trabajamos con varios tipos de datos e informaciones, entonces es esencial saber cómo trabajar con las variables."
      ],
      "metadata": {
        "id": "sLNVmnTbag1Z"
      }
    },
    {
      "cell_type": "markdown",
      "source": [
        "Las variables en Python se crean cuando atribuimos un valor a ella.\n",
        "\n",
        "Para esto, colocamos el nombre de la variable, el signo de igual (`=`) y el valor que queremos atribuirle."
      ],
      "metadata": {
        "id": "lsCY0wahAbf6"
      }
    },
    {
      "cell_type": "code",
      "source": [
        "5"
      ],
      "metadata": {
        "id": "vsHh5buZADND",
        "outputId": "1dc0b44f-4c98-47fd-aea0-55c4aabbdc42",
        "colab": {
          "base_uri": "https://localhost:8080/"
        }
      },
      "execution_count": null,
      "outputs": [
        {
          "output_type": "execute_result",
          "data": {
            "text/plain": [
              "5"
            ]
          },
          "metadata": {},
          "execution_count": 17
        }
      ]
    },
    {
      "cell_type": "code",
      "source": [
        "id(5)"
      ],
      "metadata": {
        "id": "sivPtqSjADQV",
        "outputId": "a7ed529e-e40b-4e38-bfca-c29d6a675bd1",
        "colab": {
          "base_uri": "https://localhost:8080/"
        }
      },
      "execution_count": null,
      "outputs": [
        {
          "output_type": "execute_result",
          "data": {
            "text/plain": [
              "10750984"
            ]
          },
          "metadata": {},
          "execution_count": 19
        }
      ]
    },
    {
      "cell_type": "code",
      "source": [
        "edad = 5"
      ],
      "metadata": {
        "id": "JC8jO47wADlm"
      },
      "execution_count": null,
      "outputs": []
    },
    {
      "cell_type": "code",
      "source": [
        "id(edad)"
      ],
      "metadata": {
        "id": "FYPkP-ULsBJo",
        "outputId": "844c71e8-35b8-44de-dcf1-c4b4e4255c1a",
        "colab": {
          "base_uri": "https://localhost:8080/"
        }
      },
      "execution_count": null,
      "outputs": [
        {
          "output_type": "execute_result",
          "data": {
            "text/plain": [
              "10750984"
            ]
          },
          "metadata": {},
          "execution_count": 21
        }
      ]
    },
    {
      "cell_type": "code",
      "source": [
        "nombre = 'David'\n",
        "print(id(nombre))\n",
        "id('David')"
      ],
      "metadata": {
        "id": "O47Gj2FssBCI",
        "outputId": "3068ac47-e598-4823-d510-79e9b7f40ef7",
        "colab": {
          "base_uri": "https://localhost:8080/"
        }
      },
      "execution_count": null,
      "outputs": [
        {
          "output_type": "stream",
          "name": "stdout",
          "text": [
            "139673747836912\n"
          ]
        },
        {
          "output_type": "execute_result",
          "data": {
            "text/plain": [
              "139673747836912"
            ]
          },
          "metadata": {},
          "execution_count": 24
        }
      ]
    },
    {
      "cell_type": "markdown",
      "source": [
        "Existen algunos tipos de nomes que **no** podemos definir para las variables:\n",
        "\n",
        "- **Nombres que comiencen con números**\n",
        "  - Ejemplos: `10_notas`, `2_nombre_casa`, etc.\n",
        "- **Palabras separadas por espacio**\n",
        "  - Ejemplos: `Nombre escuela`, `notas estudiantes`, etc.\n",
        "- **Nombres de funciones de Python**\n",
        "  - Ejemplos: `print`, `type`, etc."
      ],
      "metadata": {
        "id": "om2N0jHKAzwL"
      }
    },
    {
      "cell_type": "markdown",
      "source": [
        "> Las letras mayúsculas y minúsculas generarán diferentes variables. La variable `edad` es diferente de `Edad` que a su vez es diferente de `EDAD`:\n",
        "``` Python\n",
        "edad = 1\n",
        "Edad = 2\n",
        "EDAD = 3\n",
        "_edad = 4\n",
        "_edad_ = 5\n",
        "print(edad, Edad, EDAD, _edad, _edad_)\n",
        "1 2 3 4 5\n",
        "```"
      ],
      "metadata": {
        "id": "A19vY2GVMujB"
      }
    },
    {
      "cell_type": "markdown",
      "source": [
        "## Tipos de variables\n",
        "\n",
        "Cada variable contiene una clase específica con respecto al tipo de objeto al cual esta hace referencia. Estas clases serán diferentes de acuerdo con el tipo de dato que le sea atribuido a una variable.\n",
        "\n",
        "Para conocer la clase de cada elemento usamos la función [`type()`](https://docs.python.org/3/library/functions.html#type)"
      ],
      "metadata": {
        "id": "UqhzuBhBHsps"
      }
    },
    {
      "cell_type": "code",
      "source": [
        "edad = (5)\n",
        "type(edad)"
      ],
      "metadata": {
        "id": "J5a9t73A_-PX",
        "outputId": "b01bbfa0-fc14-4b5b-fe93-1795560d7b20",
        "colab": {
          "base_uri": "https://localhost:8080/"
        }
      },
      "execution_count": null,
      "outputs": [
        {
          "output_type": "execute_result",
          "data": {
            "text/plain": [
              "int"
            ]
          },
          "metadata": {},
          "execution_count": 25
        }
      ]
    },
    {
      "cell_type": "code",
      "source": [
        "promedio = 9.5\n",
        "type(promedio)"
      ],
      "metadata": {
        "id": "rqmO1ew-_-So",
        "outputId": "679dfdac-fedb-4226-82d6-4a8c58fe6ae9",
        "colab": {
          "base_uri": "https://localhost:8080/"
        }
      },
      "execution_count": null,
      "outputs": [
        {
          "output_type": "execute_result",
          "data": {
            "text/plain": [
              "float"
            ]
          },
          "metadata": {},
          "execution_count": 26
        }
      ]
    },
    {
      "cell_type": "code",
      "source": [
        "nombre = 'David'\n",
        "type(nombre)"
      ],
      "metadata": {
        "id": "xkrPMkeY_-cP",
        "outputId": "4417d16a-373d-4b02-b359-ea92753486a5",
        "colab": {
          "base_uri": "https://localhost:8080/"
        }
      },
      "execution_count": null,
      "outputs": [
        {
          "output_type": "execute_result",
          "data": {
            "text/plain": [
              "str"
            ]
          },
          "metadata": {},
          "execution_count": 27
        }
      ]
    },
    {
      "cell_type": "code",
      "source": [
        "v = True\n",
        "type(v)"
      ],
      "metadata": {
        "id": "IWTeRe3KvaHU",
        "outputId": "a789a801-72b3-41cd-f981-12f465335851",
        "colab": {
          "base_uri": "https://localhost:8080/"
        }
      },
      "execution_count": null,
      "outputs": [
        {
          "output_type": "execute_result",
          "data": {
            "text/plain": [
              "bool"
            ]
          },
          "metadata": {},
          "execution_count": 28
        }
      ]
    },
    {
      "cell_type": "markdown",
      "source": [
        "En un conjunto de datos escolares podemos tener varios tipos de informaciones. Supongamos que tenemos acceso a la ficha de datos del alumno *Penélope Camacho*, cómo transformamos este nombre en variables de Python?\n",
        "\n",
        "#### Ficha:\n",
        "\n",
        "- Nombre: Penélope Camacho\n",
        "- Edad: 11 años\n",
        "- Promedio del semestre: 9,75\n",
        "- Situación de aprobación: Verdadera (aprobado)"
      ],
      "metadata": {
        "id": "O-FxDumfWu0C"
      }
    },
    {
      "cell_type": "code",
      "source": [
        "nombre_alumno = 'Penélope Camacho'\n",
        "edad_alumno = 11\n",
        "promedio_alumno = 9.75\n",
        "aprobado_alumno = True\n",
        "\n",
        "print(nombre_alumno, edad_alumno, promedio_alumno, aprobado_alumno)\n",
        "print(type(nombre_alumno), type(edad_alumno), type(promedio_alumno), type(aprobado_alumno))"
      ],
      "metadata": {
        "id": "FabQ7jQf_8Xt",
        "outputId": "10703213-33c4-423b-e7fb-f6898d95f897",
        "colab": {
          "base_uri": "https://localhost:8080/"
        }
      },
      "execution_count": null,
      "outputs": [
        {
          "output_type": "stream",
          "name": "stdout",
          "text": [
            "Penélope Camacho 11 9.75 True\n",
            "<class 'str'> <class 'int'> <class 'float'> <class 'bool'>\n"
          ]
        }
      ]
    },
    {
      "cell_type": "markdown",
      "source": [
        "## Variables numéricas\n",
        "\n",
        "Entre los tipos de datos numéricos vamos a enfocarnos en los tipos `entero` y `float`."
      ],
      "metadata": {
        "id": "KFq_8Sxf-OG0"
      }
    },
    {
      "cell_type": "markdown",
      "source": [
        "Tenemos una tabla de información sobre los diversos cargos, cantidad de personas empleadas y el salario correspondiente:\n",
        "\n",
        "|Cargo | Cantidad | Salario|\n",
        "|---|---|---|\n",
        "|Vigilante | 5 | 300 |\n",
        "|Docente | 16| 500|\n",
        "|Coordinador| 2 |600|\n",
        "\n",
        "Necesitamos trabajar con estos datos para obtener:\n",
        "\n",
        "- La cantidad total de empleados;\n",
        "- La diferencia entre el salario más bajo y más alto; y\n",
        "- El promedio ponderado de los salarios de los empleados de la escuela."
      ],
      "metadata": {
        "id": "8_HYUbkVYdQY"
      }
    },
    {
      "cell_type": "code",
      "source": [
        "c_vigilante = 5\n",
        "c_docente = 16\n",
        "c_coordinador = 2\n",
        "\n",
        "s_vigilante = 300\n",
        "s_docente = 500\n",
        "s_coordinador = 600"
      ],
      "metadata": {
        "id": "F_X-wxdm_5Ys"
      },
      "execution_count": null,
      "outputs": []
    },
    {
      "cell_type": "code",
      "source": [
        "total_empleados = c_vigilante + c_docente + c_coordinador\n",
        "total_empleados"
      ],
      "metadata": {
        "id": "gKmBbhII_5b9",
        "outputId": "6a29eccf-1f4c-409f-9c0f-5b28aeaf861f",
        "colab": {
          "base_uri": "https://localhost:8080/"
        }
      },
      "execution_count": null,
      "outputs": [
        {
          "output_type": "execute_result",
          "data": {
            "text/plain": [
              "23"
            ]
          },
          "metadata": {},
          "execution_count": 37
        }
      ]
    },
    {
      "cell_type": "code",
      "source": [
        "diferencia_salarios = s_docente - s_vigilante\n",
        "print(diferencia_salarios)"
      ],
      "metadata": {
        "id": "fIugsxNy_53j",
        "outputId": "798d37ac-e256-44e2-9a8b-f24760375d4d",
        "colab": {
          "base_uri": "https://localhost:8080/"
        }
      },
      "execution_count": null,
      "outputs": [
        {
          "output_type": "stream",
          "name": "stdout",
          "text": [
            "200\n"
          ]
        }
      ]
    },
    {
      "cell_type": "code",
      "source": [
        "promedio_salarios = (s_vigilante * c_vigilante + s_docente * c_docente\n",
        "                     + s_coordinador * c_coordinador) / total_empleados\n",
        "print(promedio_salarios)\n",
        "type(promedio_salarios)"
      ],
      "metadata": {
        "id": "kDA77nkRxYHd",
        "outputId": "c9f12178-daff-4249-fa28-e981833831d2",
        "colab": {
          "base_uri": "https://localhost:8080/"
        }
      },
      "execution_count": null,
      "outputs": [
        {
          "output_type": "stream",
          "name": "stdout",
          "text": [
            "465.2173913043478\n"
          ]
        },
        {
          "output_type": "execute_result",
          "data": {
            "text/plain": [
              "float"
            ]
          },
          "metadata": {},
          "execution_count": 41
        }
      ]
    },
    {
      "cell_type": "markdown",
      "source": [
        "## Strings"
      ],
      "metadata": {
        "id": "yQy7b0ZWoD-P"
      }
    },
    {
      "cell_type": "markdown",
      "source": [
        "Strings hace referencia a un conjunto de caracteres formando un texto.\n",
        "\n",
        "Podemos crear Strings cuando atribuimos un dato a una variable entre comillas sencillas (`'`) o comillas dobles (`\"`)."
      ],
      "metadata": {
        "id": "vlo2-DXusv3s"
      }
    },
    {
      "cell_type": "code",
      "source": [
        "t = 'type'\n",
        "type(t)"
      ],
      "metadata": {
        "id": "ityEWqvh_2wK",
        "colab": {
          "base_uri": "https://localhost:8080/"
        },
        "outputId": "25951543-01da-48b3-d262-a7e4960d5a32"
      },
      "execution_count": null,
      "outputs": [
        {
          "output_type": "execute_result",
          "data": {
            "text/plain": [
              "str"
            ]
          },
          "metadata": {},
          "execution_count": 1
        }
      ]
    },
    {
      "cell_type": "markdown",
      "source": [
        "Las variables textuales son objetos que poseen métodos que nos ayudan a formatear strings. Los métodos los podemos ejecutar al definir un objeto de acuerdo con la siguiente estructura:\n",
        "\n",
        "```\n",
        "objeto.metodo()\n",
        "```\n",
        "\n",
        "Existen métodos que no necesitan los `()`, siempre es una buena práctica verificar la documentación para cada caso."
      ],
      "metadata": {
        "id": "2e9UD_CCxqz_"
      }
    },
    {
      "cell_type": "markdown",
      "source": [
        "---\n",
        "**Situación:**\n",
        "\n",
        "Recibimos una variable con el nombre de una profesora de la escuela para añadirla a los registros. Sin embargo, necesitamos darle un tratamiento a este texto antes de insertarlo al sistema."
      ],
      "metadata": {
        "id": "p6aPmMGP4tf9"
      }
    },
    {
      "cell_type": "code",
      "source": [
        "texto = '  Micaela de los Sanyos '\n",
        "id(texto)"
      ],
      "metadata": {
        "id": "icDWtYTjBO0n",
        "colab": {
          "base_uri": "https://localhost:8080/"
        },
        "outputId": "eb8ea589-27ce-4476-eb45-47398e0ec082"
      },
      "execution_count": null,
      "outputs": [
        {
          "output_type": "execute_result",
          "data": {
            "text/plain": [
              "133882052232336"
            ]
          },
          "metadata": {},
          "execution_count": 3
        }
      ]
    },
    {
      "cell_type": "markdown",
      "source": [
        "El objetivo final es que el nombre aparezca de la siguiente forma:\n",
        "\n",
        "```\n",
        "'MICAELA DE LOS SANTOS'\n",
        "```"
      ],
      "metadata": {
        "id": "Dg2ZXSZOGzjC"
      }
    },
    {
      "cell_type": "markdown",
      "source": [
        "### [`str.upper()` ](https://docs.python.org/3/library/stdtypes.html#str.upper)\n",
        "Convierte una string a mayúsculas."
      ],
      "metadata": {
        "id": "iVTAD8q702eN"
      }
    },
    {
      "cell_type": "code",
      "source": [
        "texto.upper()"
      ],
      "metadata": {
        "id": "wMVshJrY_ZXh",
        "colab": {
          "base_uri": "https://localhost:8080/",
          "height": 36
        },
        "outputId": "ca10f91b-0f9d-4b36-8588-85b0e08e40f2"
      },
      "execution_count": null,
      "outputs": [
        {
          "output_type": "execute_result",
          "data": {
            "text/plain": [
              "'  MICAELA DE LOS SANYOS '"
            ],
            "application/vnd.google.colaboratory.intrinsic+json": {
              "type": "string"
            }
          },
          "metadata": {},
          "execution_count": 5
        }
      ]
    },
    {
      "cell_type": "markdown",
      "source": [
        "### [`str.lower()`](https://docs.python.org/3/library/stdtypes.html#str.lower)\n",
        "Convierte una string a minúsculas."
      ],
      "metadata": {
        "id": "hbDSBtMV1TpG"
      }
    },
    {
      "cell_type": "code",
      "source": [
        "texto.lower()"
      ],
      "metadata": {
        "id": "px3yEeNH_YK4",
        "colab": {
          "base_uri": "https://localhost:8080/",
          "height": 36
        },
        "outputId": "4ca4187c-48e8-40b1-9c02-98c70143d9cc"
      },
      "execution_count": null,
      "outputs": [
        {
          "output_type": "execute_result",
          "data": {
            "text/plain": [
              "'  micaela de los sanyos '"
            ],
            "application/vnd.google.colaboratory.intrinsic+json": {
              "type": "string"
            }
          },
          "metadata": {},
          "execution_count": 6
        }
      ]
    },
    {
      "cell_type": "markdown",
      "source": [
        "### [`str.strip()`](https://docs.python.org/3/library/stdtypes.html#str.strip)\n",
        "Elimina los espacios en blanco al inicio y al final de una string."
      ],
      "metadata": {
        "id": "kz47eWM11gii"
      }
    },
    {
      "cell_type": "code",
      "source": [
        "texto.strip()"
      ],
      "metadata": {
        "id": "76dLgNa4_XAe",
        "colab": {
          "base_uri": "https://localhost:8080/",
          "height": 36
        },
        "outputId": "ca3c5f74-559e-46d5-b1e3-c87be07e1acb"
      },
      "execution_count": null,
      "outputs": [
        {
          "output_type": "execute_result",
          "data": {
            "text/plain": [
              "'Micaela de los Sanyos'"
            ],
            "application/vnd.google.colaboratory.intrinsic+json": {
              "type": "string"
            }
          },
          "metadata": {},
          "execution_count": 7
        }
      ]
    },
    {
      "cell_type": "markdown",
      "source": [
        "### [`str.replace(antiguo, nuevo)`](https://docs.python.org/3/library/stdtypes.html#str.replace)\n",
        "\n",
        "Sustituye todas las ocurrencias del texto \"antiguo\" en la string por el  \"nuevo\"."
      ],
      "metadata": {
        "id": "m6notiyS1SCV"
      }
    },
    {
      "cell_type": "code",
      "source": [
        "texto.replace('y', 't')"
      ],
      "metadata": {
        "id": "PNXAixtE_V6R",
        "colab": {
          "base_uri": "https://localhost:8080/",
          "height": 36
        },
        "outputId": "b1d34cb7-92e9-4234-c378-d9ad2f79c7b8"
      },
      "execution_count": null,
      "outputs": [
        {
          "output_type": "execute_result",
          "data": {
            "text/plain": [
              "'  Micaela de los Santos '"
            ],
            "application/vnd.google.colaboratory.intrinsic+json": {
              "type": "string"
            }
          },
          "metadata": {},
          "execution_count": 8
        }
      ]
    },
    {
      "cell_type": "code",
      "source": [
        "print(texto)\n",
        "id(texto)"
      ],
      "metadata": {
        "colab": {
          "base_uri": "https://localhost:8080/"
        },
        "id": "7n3pdhG2VHqe",
        "outputId": "a1136821-e334-49fe-f0cb-b33f3947045f"
      },
      "execution_count": null,
      "outputs": [
        {
          "output_type": "stream",
          "name": "stdout",
          "text": [
            "  Micaela de los Sanyos \n"
          ]
        },
        {
          "output_type": "execute_result",
          "data": {
            "text/plain": [
              "133882052232336"
            ]
          },
          "metadata": {},
          "execution_count": 9
        }
      ]
    },
    {
      "cell_type": "markdown",
      "source": [
        "### Observaciones\n",
        "\n",
        "1. Los métodos devuelven una **tranformación**, no son ejecutados directamente sobre la variable donde está almacenado el texto.\n",
        "\n",
        "2. Adicionalmente, podemos acumular la ejecución de los métodos."
      ],
      "metadata": {
        "id": "zukvEjhG2Rcn"
      }
    },
    {
      "cell_type": "code",
      "source": [
        "texto"
      ],
      "metadata": {
        "id": "JjkBRklr_T5n",
        "colab": {
          "base_uri": "https://localhost:8080/",
          "height": 36
        },
        "outputId": "e0ef33f2-8a76-4192-98b1-3bada97b2791"
      },
      "execution_count": null,
      "outputs": [
        {
          "output_type": "execute_result",
          "data": {
            "text/plain": [
              "'  Micaela de los Sanyos '"
            ],
            "application/vnd.google.colaboratory.intrinsic+json": {
              "type": "string"
            }
          },
          "metadata": {},
          "execution_count": 10
        }
      ]
    },
    {
      "cell_type": "markdown",
      "source": [
        "Para que la transformación se pueda ejecutar debemos atribuir la salida de las transformaciones a las variables"
      ],
      "metadata": {
        "id": "1KbwfVut2h6I"
      }
    },
    {
      "cell_type": "code",
      "source": [
        "nuevo_texto = texto.strip().replace('y', 't').upper()\n",
        "print(nuevo_texto)\n",
        "print(id(texto), id(nuevo_texto))"
      ],
      "metadata": {
        "id": "ocPP-Jaj_SJI",
        "colab": {
          "base_uri": "https://localhost:8080/"
        },
        "outputId": "13af1971-0e31-430e-9858-be0e653bbd91"
      },
      "execution_count": null,
      "outputs": [
        {
          "output_type": "stream",
          "name": "stdout",
          "text": [
            "MICAELA DE LOS SANTOS\n",
            "133882052232336 133882050471104\n"
          ]
        }
      ]
    },
    {
      "cell_type": "code",
      "source": [
        "texto = texto.strip().replace('y', 't').upper()\n",
        "print(texto)\n",
        "print(id(texto), id(nuevo_texto))"
      ],
      "metadata": {
        "id": "m1RvLGZZ_SP3",
        "colab": {
          "base_uri": "https://localhost:8080/"
        },
        "outputId": "fed31cbd-7f5c-465c-cb29-7b888e29f458"
      },
      "execution_count": null,
      "outputs": [
        {
          "output_type": "stream",
          "name": "stdout",
          "text": [
            "MICAELA DE LOS SANTOS\n",
            "133882343774992 133882050471104\n"
          ]
        }
      ]
    },
    {
      "cell_type": "markdown",
      "source": [
        "## Operadores\n",
        "\n",
        "* Suma (+)\n",
        "* Resta (-)\n",
        "* Multiplicación (*)\n",
        "* División (/)\n",
        "* Potencia (**)\n",
        "* Modulo (%)\n",
        "* División entera (//)"
      ],
      "metadata": {
        "id": "Yh7CHfTPXORx"
      }
    },
    {
      "cell_type": "code",
      "source": [
        "# Suma\n",
        "suma = 5 + 3\n",
        "print('5 + 3 = ', suma)\n",
        "\n",
        "# Resta\n",
        "resta = 5 - 3\n",
        "print('5 - 3 = ', resta)\n",
        "\n",
        "# Multiplicación\n",
        "multiplicacion = 5 * 3\n",
        "print('5 * 3 = ', multiplicacion)\n",
        "\n",
        "# División\n",
        "division = 5 / 3\n",
        "print('5 / 3 = ', division)\n",
        "\n",
        "# Potencia\n",
        "potencia = 5 ** 3\n",
        "print('5 ** 3 = ', potencia)\n",
        "\n",
        "# Modulo\n",
        "modulo = 5 % 3\n",
        "print('5 % 3 = ', modulo)\n",
        "\n",
        "# División entera\n",
        "division_entera = 5 // 3\n",
        "print('5 // 3 = ', division_entera)\n"
      ],
      "metadata": {
        "colab": {
          "base_uri": "https://localhost:8080/"
        },
        "id": "VC9kAs38X_EH",
        "outputId": "9b489593-aff9-4bf4-c574-69fe322b43c2"
      },
      "execution_count": null,
      "outputs": [
        {
          "output_type": "stream",
          "name": "stdout",
          "text": [
            "5 + 3 =  8\n",
            "5 - 3 =  2\n",
            "5 * 3 =  15\n",
            "5 / 3 =  1.6666666666666667\n",
            "5 ** 3 =  125\n",
            "5 % 3 =  2\n",
            "5 // 3 =  1\n"
          ]
        }
      ]
    },
    {
      "cell_type": "markdown",
      "source": [
        "## Capturando datos\n",
        "\n",
        "En algunas aplicaciones necesitamos capturar los valores del usuario de nuestro proyecto. En python, logramos capturar los datos del usuario a través del comando [`input()`](https://docs.python.org/3/library/functions.html#input).\n",
        "\n",
        "Para ejecutar la captura debemos atribuir el resultado de esta función a una variable."
      ],
      "metadata": {
        "id": "0h9Fh5G9kHCa"
      }
    },
    {
      "cell_type": "code",
      "source": [
        "nombre = input('¿Cuál es tu nombre? ')\n",
        "print(nombre)"
      ],
      "metadata": {
        "id": "zbH_9i3q_PdY",
        "colab": {
          "base_uri": "https://localhost:8080/"
        },
        "outputId": "fbc319b4-f4e1-497c-f24f-764121845a2a"
      },
      "execution_count": null,
      "outputs": [
        {
          "output_type": "stream",
          "name": "stdout",
          "text": [
            "¿Cuál es tu nombre? David\n",
            "David\n"
          ]
        }
      ]
    },
    {
      "cell_type": "code",
      "source": [
        "type(nombre)"
      ],
      "metadata": {
        "id": "JZy1Q9Tl_PgL",
        "colab": {
          "base_uri": "https://localhost:8080/"
        },
        "outputId": "7a6935f4-88d6-4b90-b919-9e127543cc7a"
      },
      "execution_count": null,
      "outputs": [
        {
          "output_type": "execute_result",
          "data": {
            "text/plain": [
              "str"
            ]
          },
          "metadata": {},
          "execution_count": 18
        }
      ]
    },
    {
      "cell_type": "markdown",
      "source": [
        "La salida de este comando siempre será una *string*. Esto quiere decir que aunque capturemos un valor de variable numérica, este será de tipo string.\n",
        "\n",
        "Entonces, será necesario **convertir el resultado cuando no se desea utilizar el valor como tipo string**."
      ],
      "metadata": {
        "id": "7z7hcLCk_aCY"
      }
    },
    {
      "cell_type": "markdown",
      "source": [
        "Existen funciones para la conversión de valores:\n",
        "\n",
        "- Enteros: [`int(dato_para_conversion)`](https://docs.python.org/3/library/functions.html#int)\n",
        "- Coma flotante: [`float(dato_para_conversion)`](https://docs.python.org/3/library/functions.html#float)\n",
        "- String: [`str(dato_para_conversion)`](https://docs.python.org/3/library/functions.html#func-str)\n",
        "- Booleano: [`bool(dato_para_conversion)`](https://docs.python.org/3/library/functions.html#bool)"
      ],
      "metadata": {
        "id": "TOlegATj1Jfp"
      }
    },
    {
      "cell_type": "code",
      "source": [
        "anio_nacimiento = input('¿En qué año naciste? ')\n",
        "print(type(anio_nacimiento))\n",
        "anio_nacimiento = int(anio_nacimiento)\n",
        "print(type(anio_nacimiento))"
      ],
      "metadata": {
        "id": "M2ueeH6l_NMe",
        "colab": {
          "base_uri": "https://localhost:8080/"
        },
        "outputId": "5ea0b3bb-0c31-4c90-ef62-1337e7314503"
      },
      "execution_count": null,
      "outputs": [
        {
          "output_type": "stream",
          "name": "stdout",
          "text": [
            "¿En qué año naciste? 1992\n",
            "<class 'str'>\n",
            "<class 'int'>\n"
          ]
        }
      ]
    },
    {
      "cell_type": "code",
      "source": [
        "nota_clase = input('¿Cuál es tu nota en la clase? ')\n",
        "print(type(nota_clase))\n",
        "nota_clase = float(nota_clase)\n",
        "print(type(nota_clase))"
      ],
      "metadata": {
        "id": "xfWwuViK_NUn",
        "colab": {
          "base_uri": "https://localhost:8080/"
        },
        "outputId": "f1091d8a-a0ba-4a1e-be5e-a072a3b8e9bc"
      },
      "execution_count": null,
      "outputs": [
        {
          "output_type": "stream",
          "name": "stdout",
          "text": [
            "¿Cuál es tu nota en la clase? 1.5\n",
            "<class 'str'>\n",
            "<class 'float'>\n"
          ]
        }
      ]
    },
    {
      "cell_type": "code",
      "source": [
        "aprobado = input('¿Aprobaste la clase? ')\n",
        "print(type(aprobado))\n",
        "aprobado = bool(aprobado)\n",
        "print(type(aprobado))"
      ],
      "metadata": {
        "id": "uFCHDyew_NZm",
        "colab": {
          "base_uri": "https://localhost:8080/"
        },
        "outputId": "2748ed00-f935-4b3f-93a6-f18b04211db5"
      },
      "execution_count": null,
      "outputs": [
        {
          "output_type": "stream",
          "name": "stdout",
          "text": [
            "¿Aprobaste la clase? no\n",
            "<class 'str'>\n",
            "<class 'bool'>\n"
          ]
        }
      ]
    },
    {
      "cell_type": "markdown",
      "source": [
        "Trataremos de representar mejor ahora el resultado de la transformación que obtuvimos. Nosotros podemos formatear y presentar nuestro resultado mezclando strings con valores no textuales.\n",
        "\n",
        "Para ello utilizamos la estructura de formatación `f` con strings."
      ],
      "metadata": {
        "id": "yNI2-XTbB3aS"
      }
    },
    {
      "cell_type": "code",
      "source": [
        "print(f'Tu año de nacimiento es {anio_nacimiento}. \\n\\tMi nota de clase obtenida es {nota_clase} y {aprobado} aprobe la clase')"
      ],
      "metadata": {
        "id": "keJjA5N9_K5i",
        "colab": {
          "base_uri": "https://localhost:8080/"
        },
        "outputId": "dc246b9a-d210-4950-caa6-45da96239c3f"
      },
      "execution_count": null,
      "outputs": [
        {
          "output_type": "stream",
          "name": "stdout",
          "text": [
            "Tu año de nacimiento es 1992. \n",
            "\tMi nota de clase obtenida es 1.5 y True aprobe la clase\n"
          ]
        }
      ]
    },
    {
      "cell_type": "markdown",
      "source": [
        "## Tabla UNICODE\n",
        "\n",
        "Para utilizar los caracteres se utiliza la función chr(), ejemplo:\n",
        "* chr(64) es @\n",
        "* chr(72) + chr(105) es Hi\n",
        "\n",
        "[Unicode Statistics](https://www.unicode.org/versions/stats/)\n",
        "[Código ASCII](https://elcodigoascii.com.ar/)"
      ],
      "metadata": {
        "id": "2jbVMeYndhBA"
      }
    },
    {
      "cell_type": "code",
      "source": [
        "print(chr(72) + chr(105))\n",
        "\n",
        "chr(41)"
      ],
      "metadata": {
        "colab": {
          "base_uri": "https://localhost:8080/",
          "height": 53
        },
        "id": "ShcXxZ0EdxG1",
        "outputId": "d1539041-a1b3-4432-8186-b24ea69c8594"
      },
      "execution_count": null,
      "outputs": [
        {
          "output_type": "stream",
          "name": "stdout",
          "text": [
            "Hi\n"
          ]
        },
        {
          "output_type": "execute_result",
          "data": {
            "text/plain": [
              "')'"
            ],
            "application/vnd.google.colaboratory.intrinsic+json": {
              "type": "string"
            }
          },
          "metadata": {},
          "execution_count": 35
        }
      ]
    },
    {
      "cell_type": "markdown",
      "source": [
        "## Formatos de print()\n",
        "\n",
        "* f-string\n",
        "* Operadores de formateo\n",
        "* format()"
      ],
      "metadata": {
        "id": "8ZuEiaLHnE4-"
      }
    },
    {
      "cell_type": "code",
      "source": [
        "#f-string\n",
        "nombre = 'David'\n",
        "edad = 32\n",
        "numero_pi = 3.141592653589793\n",
        "print(f'Mi nombre es {nombre} y tengo {edad} años y el número pi es {numero_pi}')\n",
        "\n",
        "#Operadores de formateo\n",
        "print('Mi nombre es %s y tengo %d años y el número pi es %f' % (nombre, edad, numero_pi))\n",
        "print('Mi nombre es %s y tengo %d años y el número pi es %3f' % (nombre, edad, numero_pi))\n",
        "\n",
        "#format()\n",
        "print('Mi nombre es {} y tengo {} años y el número pi es {}'.format(nombre, edad, numero_pi))\n",
        "print('Mi nombre es {0} y tengo {1} años y el número pi es {2}'.format(nombre, edad, numero_pi))"
      ],
      "metadata": {
        "colab": {
          "base_uri": "https://localhost:8080/"
        },
        "id": "DO8o2Y0onk7-",
        "outputId": "0007d00f-bbd5-4296-ebd6-11fbe1d12638"
      },
      "execution_count": null,
      "outputs": [
        {
          "output_type": "stream",
          "name": "stdout",
          "text": [
            "Mi nombre es David y tengo 32 años y el número pi es 3.141592653589793\n",
            "Mi nombre es David y tengo 32 años y el número pi es 3.141593\n",
            "Mi nombre es David y tengo 32 años y el número pi es 3.141593\n",
            "Mi nombre es David y tengo 32 años y el número pi es 3.141592653589793\n",
            "Mi nombre es David y tengo 32 años y el número pi es 3.141592653589793\n"
          ]
        }
      ]
    },
    {
      "cell_type": "markdown",
      "source": [
        "## **EJERCICIO 2**\n",
        "1. Crea un programa que solicite al usuario que escriba su nombre y luego imprima \"Hola, [nombre].\""
      ],
      "metadata": {
        "id": "JB9LLhtCpqsG"
      }
    },
    {
      "cell_type": "code",
      "source": [
        "nombre = input('¿Cuál es tu nombre? ')\n",
        "print(f'Hola, {nombre}')"
      ],
      "metadata": {
        "colab": {
          "base_uri": "https://localhost:8080/"
        },
        "id": "O0K2gJV4p2Yc",
        "outputId": "7a88230a-17bf-4ccb-bb05-7385d02e56c5"
      },
      "execution_count": null,
      "outputs": [
        {
          "output_type": "stream",
          "name": "stdout",
          "text": [
            "¿Cuál es tu nombre? David\n",
            "Hola, David\n"
          ]
        }
      ]
    },
    {
      "cell_type": "markdown",
      "source": [
        "2. Crea un programa que solicite al usuario que escriba su nombre y edad, y luego imprima \"Hola, [nombre], tienes [edad] años.\""
      ],
      "metadata": {
        "id": "RR5zGDx8p86G"
      }
    },
    {
      "cell_type": "code",
      "source": [
        "nombre = input('¿Cuál es tu nombre? ')\n",
        "edad = input('¿Cuál es tu edad? ')\n",
        "print(f'Hola, {nombre}, tienes {edad} años.')"
      ],
      "metadata": {
        "colab": {
          "base_uri": "https://localhost:8080/"
        },
        "id": "UoIkan0UqI2N",
        "outputId": "f74532c4-cc87-4cb5-d2b5-e1fbf96df472"
      },
      "execution_count": null,
      "outputs": [
        {
          "output_type": "stream",
          "name": "stdout",
          "text": [
            "¿Cuál es tu nombre? Luisa\n",
            "¿Cuál es tu edad? 15\n",
            "Hola, Luisa, tienes 15 años.\n"
          ]
        }
      ]
    },
    {
      "cell_type": "markdown",
      "source": [
        "3. Crea un programa que solicite al usuario que escriba su nombre, edad y altura en metros, y luego imprima \"Hola, [nombre], tienes [edad] años y mides [altura] metros.\""
      ],
      "metadata": {
        "id": "tqA38TMMqPzV"
      }
    },
    {
      "cell_type": "code",
      "source": [
        "nombre = input('¿Cuál es tu nombre? ')\n",
        "edad = input('¿Cuál es tu edad? ')\n",
        "altura = input('¿Cuál es tu altura en metros? ')\n",
        "print(f'Hola, {nombre}, tienes {edad} años y mides {altura} metros.')"
      ],
      "metadata": {
        "colab": {
          "base_uri": "https://localhost:8080/"
        },
        "id": "_caKer5lqXl2",
        "outputId": "92c063fa-d48a-4448-9654-1a4f15351d39"
      },
      "execution_count": null,
      "outputs": [
        {
          "output_type": "stream",
          "name": "stdout",
          "text": [
            "¿Cuál es tu nombre? Pablo\n",
            "¿Cuál es tu edad? 25\n",
            "¿Cuál es tu altura en metros? 1.67\n",
            "Hola, Pablo, tienes 25 años y mides 1.67 metros.\n"
          ]
        }
      ]
    },
    {
      "cell_type": "markdown",
      "source": [
        "#### **Calculadora con operadores**\n",
        "4. Crea un programa que solicite dos valores numéricos al usuario y luego imprima la suma de ambos valores."
      ],
      "metadata": {
        "id": "8Eb-_CliqiJt"
      }
    },
    {
      "cell_type": "code",
      "source": [
        "valor_1 = input('Escribe el primer valor: ')\n",
        "valor_2 = input('Escribe el segundo valor: ')\n",
        "suma = int(valor_1) + int(valor_2)\n",
        "print(f'La suma de {valor_1} + {valor_2} es {suma}')"
      ],
      "metadata": {
        "colab": {
          "base_uri": "https://localhost:8080/"
        },
        "id": "cTF7y5kFqrMg",
        "outputId": "4382d244-f42a-4e4b-f7c8-a7ff401e37d3"
      },
      "execution_count": null,
      "outputs": [
        {
          "output_type": "stream",
          "name": "stdout",
          "text": [
            "Escribe el primer valor: 4\n",
            "Escribe el segundo valor: 5\n",
            "La suma de 4 + 5 es 9\n"
          ]
        }
      ]
    },
    {
      "cell_type": "markdown",
      "source": [
        "5. Crea un programa que solicite tres valores numéricos al usuario y luego imprima la suma de los tres valores."
      ],
      "metadata": {
        "id": "NvDMksjCq6Zm"
      }
    },
    {
      "cell_type": "code",
      "source": [
        "valor_1 = input('Escribe el primer valor: ')\n",
        "valor_2 = input('Escribe el segundo valor: ')\n",
        "valor_3 = input('Escribe el tercer valor: ')\n",
        "suma = int(valor_1) + int(valor_2) + int(valor_3)\n",
        "print(f'La suma de {valor_1} + {valor_2} + {valor_3} es {suma}')"
      ],
      "metadata": {
        "colab": {
          "base_uri": "https://localhost:8080/"
        },
        "id": "uSYs7bhgq-VE",
        "outputId": "b5b722bd-e3ee-4cfb-ec16-41b6d703eca9"
      },
      "execution_count": null,
      "outputs": [
        {
          "output_type": "stream",
          "name": "stdout",
          "text": [
            "Escribe el primer valor: 1\n",
            "Escribe el segundo valor: 8\n",
            "Escribe el tercer valor: 21\n",
            "La suma de 1 + 8 + 21 es 30\n"
          ]
        }
      ]
    },
    {
      "cell_type": "markdown",
      "source": [
        "6. Crea un programa que solicite dos valores numéricos al usuario y luego imprima la resta del primero menos el segundo valor."
      ],
      "metadata": {
        "id": "3-rGOPDqrGdk"
      }
    },
    {
      "cell_type": "code",
      "source": [
        "valor_1 = input('Escribe el primer valor: ')\n",
        "valor_2 = input('Escribe el segundo valor: ')\n",
        "resta = int(valor_1) - int(valor_2)\n",
        "print(f'La resta de {valor_1} - {valor_2} es {resta}')"
      ],
      "metadata": {
        "colab": {
          "base_uri": "https://localhost:8080/"
        },
        "id": "YG1PMY_SrLu-",
        "outputId": "bb170077-f9ad-498c-efeb-a2b25d826d90"
      },
      "execution_count": null,
      "outputs": [
        {
          "output_type": "stream",
          "name": "stdout",
          "text": [
            "Escribe el primer valor: 8\n",
            "Escribe el segundo valor: 15\n",
            "La resta de 8 - 15 es -7\n"
          ]
        }
      ]
    },
    {
      "cell_type": "markdown",
      "source": [
        "7. Crea un programa que solicite dos valores numéricos al usuario y luego imprima la multiplicación de los dos valores."
      ],
      "metadata": {
        "id": "PHtqFJMEradM"
      }
    },
    {
      "cell_type": "code",
      "source": [
        "valor_1 = input('Escribe el primer valor: ')\n",
        "valor_2 = input('Escribe el segundo valor: ')\n",
        "multiplicacion = int(valor_1) * int(valor_2)\n",
        "print(f'El producto de {valor_1} * {valor_2} es {multiplicacion}')"
      ],
      "metadata": {
        "colab": {
          "base_uri": "https://localhost:8080/"
        },
        "id": "CvHXxuHLrfU9",
        "outputId": "3fe3f74e-8a1d-41d2-997b-68fb63ae2fdf"
      },
      "execution_count": null,
      "outputs": [
        {
          "output_type": "stream",
          "name": "stdout",
          "text": [
            "Escribe el primer valor: 2\n",
            "Escribe el segundo valor: 3\n",
            "El producto de 2 * 3 es 6\n"
          ]
        }
      ]
    },
    {
      "cell_type": "markdown",
      "source": [
        "8. Crea un programa que solicite dos valores numéricos, un numerador y un denominador, y realice la división entre los dos valores. Asegúrate de que el valor del denominador no sea igual a 0."
      ],
      "metadata": {
        "id": "RZiS-pj0rxCd"
      }
    },
    {
      "cell_type": "code",
      "source": [
        "valor_1 = input('Escribe el primer valor: ')\n",
        "valor_2 = input('Escribe el segundo valor diferente a 0: ')\n",
        "division = int(valor_1) / int(valor_2)\n",
        "print(f'La división de {valor_1} / {valor_2} es {division}')"
      ],
      "metadata": {
        "colab": {
          "base_uri": "https://localhost:8080/"
        },
        "id": "7H3QES4br0i_",
        "outputId": "cf7a187f-3700-4c34-a54f-7e883dcb50f6"
      },
      "execution_count": null,
      "outputs": [
        {
          "output_type": "stream",
          "name": "stdout",
          "text": [
            "Escribe el primer valor: 5\n",
            "Escribe el segundo valor diferente a 0: 2\n",
            "La división de 5 / 2 es 2.5\n"
          ]
        }
      ]
    },
    {
      "cell_type": "markdown",
      "source": [
        "9. Crea un programa que solicite dos valores numéricos, un operador y una potencia, y realice la exponenciación entre estos dos valores."
      ],
      "metadata": {
        "id": "wHrrLkocsBgU"
      }
    },
    {
      "cell_type": "code",
      "source": [
        "valor_1 = input('Escribe el primer valor: ')\n",
        "valor_2 = input('Escribe el segundo valor: ')\n",
        "potencia = int(valor_1) ** int(valor_2)\n",
        "print(f'La potencia de {valor_1} ** {valor_2} es {potencia}')"
      ],
      "metadata": {
        "colab": {
          "base_uri": "https://localhost:8080/"
        },
        "id": "vVMzs0z2sFJt",
        "outputId": "43f4a5c3-6ae0-44a4-fe7e-d9893725665f"
      },
      "execution_count": null,
      "outputs": [
        {
          "output_type": "stream",
          "name": "stdout",
          "text": [
            "Escribe el primer valor: 3\n",
            "Escribe el segundo valor: 2\n",
            "La potencia de 3 ** 2 es 9\n"
          ]
        }
      ]
    },
    {
      "cell_type": "markdown",
      "source": [
        "10. Crea un programa que solicite dos valores numéricos, un numerador y un denominador, y realice la división entera entre los dos valores. Asegúrate de que el valor del denominador no sea igual a 0."
      ],
      "metadata": {
        "id": "wTkqWtYssWjO"
      }
    },
    {
      "cell_type": "code",
      "source": [
        "valor_1 = input('Escribe el primer valor: ')\n",
        "valor_2 = input('Escribe el segundo valor diferente a 0: ')\n",
        "division_entera = int(valor_1) // int(valor_2)\n",
        "print(f'La división entera de {valor_1} // {valor_2} es {division_entera}')"
      ],
      "metadata": {
        "colab": {
          "base_uri": "https://localhost:8080/"
        },
        "id": "cZiMV1MssbfO",
        "outputId": "76f4c5d6-06da-4300-8c31-e39a7fc2b22f"
      },
      "execution_count": null,
      "outputs": [
        {
          "output_type": "stream",
          "name": "stdout",
          "text": [
            "Escribe el primer valor: 5\n",
            "Escribe el segundo valor diferente a 0: 3\n",
            "La división entera de 5 // 3 es 1\n"
          ]
        }
      ]
    },
    {
      "cell_type": "markdown",
      "source": [
        "11. Crea un programa que solicite dos valores numéricos, un numerador y un denominador, y devuelva el resto de la división entre los dos valores. Asegúrate de que el valor del denominador no sea igual a 0."
      ],
      "metadata": {
        "id": "OWpWzlNXskiF"
      }
    },
    {
      "cell_type": "code",
      "source": [
        "valor_1 = input('Escribe el primer valor: ')\n",
        "valor_2 = input('Escribe el segundo valor diferente a 0: ')\n",
        "modulo = int(valor_1) % int(valor_2)\n",
        "print(f'El módulo de {valor_1} % {valor_2} es {modulo}')"
      ],
      "metadata": {
        "colab": {
          "base_uri": "https://localhost:8080/"
        },
        "id": "W7tUafD7snwR",
        "outputId": "a888f614-1389-40f0-c1de-ca6a53952a57"
      },
      "execution_count": null,
      "outputs": [
        {
          "output_type": "stream",
          "name": "stdout",
          "text": [
            "Escribe el primer valor: 5\n",
            "Escribe el segundo valor diferente a 0: 2\n",
            "El módulo de 5 % 2 es 1\n"
          ]
        }
      ]
    },
    {
      "cell_type": "markdown",
      "source": [
        "12. Crea un código que solicite las 3 notas de un estudiante e imprima el promedio de las notas."
      ],
      "metadata": {
        "id": "xtaBBQlYsy8V"
      }
    },
    {
      "cell_type": "code",
      "source": [
        "nota_1 = input('Escribe la primera nota: ')\n",
        "nota_2 = input('Escribe la segunda nota: ')\n",
        "nota_3 = input('Escribe la tercera nota: ')\n",
        "promedio = (float(nota_1) + float(nota_2) + float(nota_3)) / 3\n",
        "print('El promedio de las notas %f, %f y %f es %2f'%(float(nota_1), float(nota_2), float(nota_3), promedio))"
      ],
      "metadata": {
        "colab": {
          "base_uri": "https://localhost:8080/"
        },
        "id": "8HX6L5zDs2my",
        "outputId": "6f56222b-607d-4bf1-800a-e3f687fc693e"
      },
      "execution_count": null,
      "outputs": [
        {
          "output_type": "stream",
          "name": "stdout",
          "text": [
            "Escribe la primera nota: 1.55\n",
            "Escribe la segunda nota: 3.85\n",
            "Escribe la tercera nota: 3.05\n",
            "El promedio de las notas 1.550000, 3.850000 y 3.050000 es 2.816667\n"
          ]
        }
      ]
    },
    {
      "cell_type": "markdown",
      "source": [
        "13. Crea un código que calcule e imprima el promedio ponderado de los números 5, 12, 20 y 15 con pesos respectivamente iguales a 1, 2, 3 y 4."
      ],
      "metadata": {
        "id": "HDJG2qvJtG41"
      }
    },
    {
      "cell_type": "code",
      "source": [
        "promedio_ponderado = (5 * 1 + 12 * 2 + 20 * 3 + 15 * 4) / (1 + 2 + 3 + 4)\n",
        "print(f'El promedio ponderado de los números 5, 12, 20 y 15 es {promedio_ponderado}')"
      ],
      "metadata": {
        "colab": {
          "base_uri": "https://localhost:8080/"
        },
        "id": "F8iSTLkGtKzD",
        "outputId": "57d6f385-f2d2-4772-ad6a-975a2cf3c3ba"
      },
      "execution_count": null,
      "outputs": [
        {
          "output_type": "stream",
          "name": "stdout",
          "text": [
            "El promedio ponderado de los números 5, 12, 20 y 15 es 14.9\n"
          ]
        }
      ]
    },
    {
      "cell_type": "markdown",
      "source": [
        "#### Editando textos\n",
        "\n",
        "14. Crea una variable llamada \"frase\" y asígnale una cadena de texto de tu elección. Luego, imprime la frase en pantalla."
      ],
      "metadata": {
        "id": "thz-NdOJuqKV"
      }
    },
    {
      "cell_type": "code",
      "source": [
        "frase = 'Hola Mundo'\n",
        "print(frase)"
      ],
      "metadata": {
        "colab": {
          "base_uri": "https://localhost:8080/"
        },
        "id": "Z8tp58cCuzJJ",
        "outputId": "8da906d2-f25d-4aa7-c615-13272517afc6"
      },
      "execution_count": null,
      "outputs": [
        {
          "output_type": "stream",
          "name": "stdout",
          "text": [
            "Hola Mundo\n"
          ]
        }
      ]
    },
    {
      "cell_type": "markdown",
      "source": [
        "15. Crea un código que solicite una frase y luego imprima la frase en pantalla."
      ],
      "metadata": {
        "id": "UHqlHcxgu301"
      }
    },
    {
      "cell_type": "code",
      "source": [
        "frase = input('Escribe una frase: ')\n",
        "print(frase)"
      ],
      "metadata": {
        "colab": {
          "base_uri": "https://localhost:8080/"
        },
        "id": "EyRvRWNWu8ly",
        "outputId": "2858579a-36d9-4f38-a615-6b6eac08debf"
      },
      "execution_count": null,
      "outputs": [
        {
          "output_type": "stream",
          "name": "stdout",
          "text": [
            "Escribe una frase: Solo MIllos Lok\n",
            "Solo MIllos Lok\n"
          ]
        }
      ]
    },
    {
      "cell_type": "markdown",
      "source": [
        "16. Crea un código que solicite una frase al usuario y luego imprima la misma frase ingresada pero en mayúsculas."
      ],
      "metadata": {
        "id": "Wv9ZMay7vEWq"
      }
    },
    {
      "cell_type": "code",
      "source": [
        "frase = input('Escribe una frase: ')\n",
        "print(frase.upper())"
      ],
      "metadata": {
        "colab": {
          "base_uri": "https://localhost:8080/"
        },
        "id": "seh1ClZPvHro",
        "outputId": "71db6e12-9da3-4a6b-f3ff-0531bcc0ee12"
      },
      "execution_count": null,
      "outputs": [
        {
          "output_type": "stream",
          "name": "stdout",
          "text": [
            "Escribe una frase: solo millos lok\n",
            "SOLO MILLOS LOK\n"
          ]
        }
      ]
    },
    {
      "cell_type": "markdown",
      "source": [
        "17. Crea un código que solicite una frase al usuario y luego imprima la misma frase ingresada pero en minúsculas."
      ],
      "metadata": {
        "id": "cqRstixmvRQl"
      }
    },
    {
      "cell_type": "code",
      "source": [
        "frase = input('Escribe una frase en mayusculas: ')\n",
        "print(frase.lower())"
      ],
      "metadata": {
        "colab": {
          "base_uri": "https://localhost:8080/"
        },
        "id": "fRqszVCkvSs6",
        "outputId": "8dcd06e7-d626-47cc-9d21-b80cf111a928"
      },
      "execution_count": null,
      "outputs": [
        {
          "output_type": "stream",
          "name": "stdout",
          "text": [
            "Escribe una frase en mayusculas: TE NECESITO LEJOS DEL PC\n",
            "te necesito lejos del pc\n"
          ]
        }
      ]
    },
    {
      "cell_type": "markdown",
      "source": [
        "18. Crea una variable llamada \"frase\" y asígnale una cadena de texto de tu elección. Luego, imprime la frase sin espacios en blanco al principio y al final."
      ],
      "metadata": {
        "id": "37t2-GQlvfL3"
      }
    },
    {
      "cell_type": "code",
      "source": [
        "frase = ' Hola Mundo '\n",
        "print(frase.strip())"
      ],
      "metadata": {
        "colab": {
          "base_uri": "https://localhost:8080/"
        },
        "id": "hgmm0H2hvgb1",
        "outputId": "b114e4ad-0779-4dea-9bed-65befb130d58"
      },
      "execution_count": null,
      "outputs": [
        {
          "output_type": "stream",
          "name": "stdout",
          "text": [
            "Hola Mundo\n"
          ]
        }
      ]
    },
    {
      "cell_type": "markdown",
      "source": [
        "19. Crea un código que solicite una frase al usuario y luego imprima la misma frase sin espacios en blanco al principio y al final."
      ],
      "metadata": {
        "id": "LUg8Kmjwvp2d"
      }
    },
    {
      "cell_type": "code",
      "source": [
        "frase = input('Escribe una frase con espacios al principio y final: ')\n",
        "print(frase.strip())"
      ],
      "metadata": {
        "colab": {
          "base_uri": "https://localhost:8080/"
        },
        "id": "iEoCkCHavs89",
        "outputId": "b5e3f644-dfcb-42b4-cd85-8fbd8c8e6498"
      },
      "execution_count": null,
      "outputs": [
        {
          "output_type": "stream",
          "name": "stdout",
          "text": [
            "Escribe una frase con espacios al principio y final:  Lucas es raro \n",
            "Lucas es raro\n"
          ]
        }
      ]
    },
    {
      "cell_type": "markdown",
      "source": [
        "20. Crea un código que solicite una frase al usuario y luego imprima la misma frase sin espacios en blanco al principio y al final, además de convertirla a minúsculas."
      ],
      "metadata": {
        "id": "zvSidmctv6kH"
      }
    },
    {
      "cell_type": "code",
      "source": [
        "frase = input('Escribe una frase en mayusculas con espacios al principio y final: ')\n",
        "print(frase.strip().lower())"
      ],
      "metadata": {
        "colab": {
          "base_uri": "https://localhost:8080/"
        },
        "id": "m4XRb9CNz8Kl",
        "outputId": "90fb6c68-4312-445c-9d36-b80f4b9a599d"
      },
      "execution_count": null,
      "outputs": [
        {
          "output_type": "stream",
          "name": "stdout",
          "text": [
            "Escribe una frase en mayusculas con espacios al principio y final:  PICACHUUUUU \n",
            "picachuuuuu\n"
          ]
        }
      ]
    },
    {
      "cell_type": "markdown",
      "source": [
        "21. Crea un código que solicite una frase al usuario y luego imprima la misma frase con todas las vocales \"e\" reemplazadas por la letra \"f\"."
      ],
      "metadata": {
        "id": "-9fXTXF00IBs"
      }
    },
    {
      "cell_type": "code",
      "source": [
        "frase = input('Escribe una frase: ')\n",
        "print(frase.replace('e', 'f'))"
      ],
      "metadata": {
        "colab": {
          "base_uri": "https://localhost:8080/"
        },
        "id": "VtwXZlIV0OER",
        "outputId": "a419bc00-56c8-41f0-ca1a-a881b1ba6f49"
      },
      "execution_count": null,
      "outputs": [
        {
          "output_type": "stream",
          "name": "stdout",
          "text": [
            "Escribe una frase: Locura de mi ser\n",
            "Locura df mi sfr\n"
          ]
        }
      ]
    },
    {
      "cell_type": "markdown",
      "source": [
        "22. Crea un código que solicite una frase al usuario y luego imprima la misma frase con todas las vocales \"a\" reemplazadas por el carácter \"@\"."
      ],
      "metadata": {
        "id": "uVnpctBq0a1N"
      }
    },
    {
      "cell_type": "code",
      "source": [
        "frase = input('Escribe una frase: ')\n",
        "print(frase.replace('a', chr(64)))"
      ],
      "metadata": {
        "colab": {
          "base_uri": "https://localhost:8080/"
        },
        "id": "7U7wqjFl0cbu",
        "outputId": "e0e5a397-4d85-4c07-e65c-6043cbb2ba98"
      },
      "execution_count": null,
      "outputs": [
        {
          "output_type": "stream",
          "name": "stdout",
          "text": [
            "Escribe una frase: Valentía es para grandes\n",
            "V@lentí@ es p@r@ gr@ndes\n"
          ]
        }
      ]
    },
    {
      "cell_type": "markdown",
      "source": [
        "23. Crea un código que solicite una frase al usuario y luego imprima la misma frase con todas las consonantes \"s\" reemplazadas por el carácter \"$\"."
      ],
      "metadata": {
        "id": "YufJ7nZd0pF7"
      }
    },
    {
      "cell_type": "code",
      "source": [
        "frase = input('Escribe una frase: ')\n",
        "print(frase.replace('s', chr(36)))"
      ],
      "metadata": {
        "colab": {
          "base_uri": "https://localhost:8080/"
        },
        "id": "4iMJncPe0qtf",
        "outputId": "cf918c9c-f27f-461f-c143-9c5f0f11a440"
      },
      "execution_count": null,
      "outputs": [
        {
          "output_type": "stream",
          "name": "stdout",
          "text": [
            "Escribe una frase: Para ser solitario es necesario estar solo\n",
            "Para $er $olitario e$ nece$ario e$tar $olo\n"
          ]
        }
      ]
    },
    {
      "cell_type": "markdown",
      "source": [
        "# Estructuras condicionales"
      ],
      "metadata": {
        "id": "NwRaiHHHhhyl"
      }
    },
    {
      "cell_type": "code",
      "source": [
        "#Nota de aprobación de 7 a 10 == nota de aprobación >= 7\n",
        "#Nota de reprobación es menor a 7 == nota de reprobación < 7"
      ],
      "metadata": {
        "id": "pa4gLncu-mvU"
      },
      "execution_count": null,
      "outputs": []
    },
    {
      "cell_type": "code",
      "source": [
        "'''\n",
        "Si la nota es mayor o igual a 7:\n",
        "    Aprobado\n",
        "Si la nota es menor a 7:\n",
        "    Reprobado\n",
        "'''"
      ],
      "metadata": {
        "id": "_cWRmDiE-m4p",
        "colab": {
          "base_uri": "https://localhost:8080/",
          "height": 36
        },
        "outputId": "4500f933-7eb8-4872-d5e7-03223cbd4bbf"
      },
      "execution_count": null,
      "outputs": [
        {
          "output_type": "execute_result",
          "data": {
            "text/plain": [
              "'\\nSi la nota es mayor o igual a 7:\\n    Aprobado\\nSi la nota es menor a 7:\\n    Reprobado\\n'"
            ],
            "application/vnd.google.colaboratory.intrinsic+json": {
              "type": "string"
            }
          },
          "metadata": {},
          "execution_count": 3
        }
      ]
    },
    {
      "cell_type": "markdown",
      "source": [
        "## `IF` y `ELSE`\n",
        "\n",
        "Los comandos `if` y `else` son dos estructuras condicionales. El comando `if` ejecutará el bloque de comandos en caso de que la condición citada sea  **verdadera**. El comando `else` ejecutará el bloque de comandos en el caso de que la condicional de `if` sea **falsa**."
      ],
      "metadata": {
        "id": "qXZqg9aYEhAh"
      }
    },
    {
      "cell_type": "markdown",
      "source": [
        "El comando `if` es una palabra clave en Python que significa \"si\". Este se emplea para conformar la estructura condicional, que te permite verificar si una determinada condición es verdadera o falsa e, inmediatamente después, ejecute un bloque de código específico dependiendo del resultado de la verificación. La sintaxis para usar el comando `if` es:\n",
        "\n",
        "\n",
        "\n",
        "```\n",
        "if condicion:\n",
        "    # Realiza algo\n",
        "```\n",
        "\n"
      ],
      "metadata": {
        "id": "EIhlqHXd2Gil"
      }
    },
    {
      "cell_type": "code",
      "source": [
        "if 2 > 1:\n",
        "  print('la condición es verdadera')"
      ],
      "metadata": {
        "id": "S2S6XAFz-czM",
        "colab": {
          "base_uri": "https://localhost:8080/"
        },
        "outputId": "c4e14031-e72f-4ef6-8d1b-18ebb477b807"
      },
      "execution_count": null,
      "outputs": [
        {
          "output_type": "stream",
          "name": "stdout",
          "text": [
            "la condición es verdadera\n"
          ]
        }
      ]
    },
    {
      "cell_type": "code",
      "source": [
        "if 2 < 1:\n",
        "  print('la condición es verdadera')\n",
        "print('esto está fuera del if')"
      ],
      "metadata": {
        "id": "YHkwMMyY-c1r",
        "colab": {
          "base_uri": "https://localhost:8080/"
        },
        "outputId": "4d2ffc99-3982-4ea9-e12b-3f1b225a0662"
      },
      "execution_count": null,
      "outputs": [
        {
          "output_type": "stream",
          "name": "stdout",
          "text": [
            "esto está fuera del if\n"
          ]
        }
      ]
    },
    {
      "cell_type": "markdown",
      "source": [
        "Ya el comando `else` en Python se usa en junción con la palabra clave `if` para formar una estructura condicional. la sintaxis para usar el `else` es:\n",
        "\n",
        "```\n",
        "if condicion:\n",
        "  # codigo en caso de que sea verdad\n",
        "else:\n",
        "  # codigo en caso de que sea falso\n",
        "```\n",
        "\n",
        "el comando `else` se ejecuta cuando la condición verificada por el `if` es evaluada como `False`."
      ],
      "metadata": {
        "id": "27RW2v_sIKct"
      }
    },
    {
      "cell_type": "code",
      "source": [
        "if 2 > 1:\n",
        "  print('la condición es verdadera')\n",
        "else:\n",
        "  print('La condición es falsa')\n",
        "print('Fin de la consulta')"
      ],
      "metadata": {
        "id": "ZTfNJd_f-aOq",
        "colab": {
          "base_uri": "https://localhost:8080/"
        },
        "outputId": "da4f026d-4276-4bfd-c330-d5310e82cfdc"
      },
      "execution_count": null,
      "outputs": [
        {
          "output_type": "stream",
          "name": "stdout",
          "text": [
            "la condición es verdadera\n",
            "Fin de la consulta\n"
          ]
        }
      ]
    },
    {
      "cell_type": "markdown",
      "source": [
        "## Opreadores relacionales\n",
        "*   Mayor que (>)\n",
        "*   Menor que (<)\n",
        "*   Mayor o igual que (>=)\n",
        "*   Menor o igual que (<=)\n",
        "*   Igual a (==)\n",
        "*   Diferente de (!=)"
      ],
      "metadata": {
        "id": "7reF91-9r5Cc"
      }
    },
    {
      "cell_type": "code",
      "source": [
        "#Variables\n",
        "a = 3\n",
        "b = 4\n",
        "c = 1\n",
        "d = 3\n",
        "\n",
        "#Mayor\n",
        "print(a > b)\n",
        "print(a > c)\n",
        "\n",
        "#Menor\n",
        "print(a < b)\n",
        "print(a < c)\n",
        "\n",
        "#Mayor igual que\n",
        "print(a >= b)\n",
        "print(a >= c)\n",
        "print(a >= d)\n",
        "\n",
        "#Menor igual que\n",
        "print(a <= b)\n",
        "print(a <= c)\n",
        "print(a <= d)\n",
        "\n",
        "#Igual a\n",
        "print(a == b)\n",
        "print(a == c)\n",
        "print(a == d)\n",
        "\n",
        "#Diferente de\n",
        "print(a != b)\n",
        "print(a != c)\n",
        "print(a != d)"
      ],
      "metadata": {
        "id": "LPOb5MkV-btq",
        "colab": {
          "base_uri": "https://localhost:8080/"
        },
        "outputId": "383afc19-506f-4ab2-9ade-74077232e4f6"
      },
      "execution_count": null,
      "outputs": [
        {
          "output_type": "stream",
          "name": "stdout",
          "text": [
            "False\n",
            "True\n",
            "True\n",
            "False\n",
            "False\n",
            "True\n",
            "True\n",
            "True\n",
            "False\n",
            "True\n",
            "False\n",
            "False\n",
            "True\n",
            "True\n",
            "True\n",
            "False\n"
          ]
        }
      ]
    },
    {
      "cell_type": "markdown",
      "source": [
        "---\n",
        "**Situación:**\n",
        "\n",
        "Recibiremos el promedio de la nota de los estudiantes y necesitamos de un algoritmo que ejecute el análisis y determine si el estudiante fue **Aprobado** o **Reprobado**, mostrando un mensaje del resultado. Para ser aprobado, el promedio necesita ser igual o superior a 7.0."
      ],
      "metadata": {
        "id": "BqORg85XX-Nl"
      }
    },
    {
      "cell_type": "code",
      "source": [
        "nota = input('¿Cuál es la nota? ')\n",
        "nota = float(nota)\n",
        "\n",
        "if nota >= 7.0:\n",
        "  print('Aprobado')\n",
        "else:\n",
        "  print('Reprobado')"
      ],
      "metadata": {
        "id": "UukCN4AQ-YYW",
        "colab": {
          "base_uri": "https://localhost:8080/"
        },
        "outputId": "cec0af4a-ce26-457e-c9e0-12feb0958952"
      },
      "execution_count": null,
      "outputs": [
        {
          "output_type": "stream",
          "name": "stdout",
          "text": [
            "¿Cuál es la nota? 7\n",
            "Aprobado\n"
          ]
        }
      ]
    },
    {
      "cell_type": "markdown",
      "source": [
        "Ahora, nuestra institución educativa estableció que las personas que tengan el promedio entre 5.0 y 7.0 pueden participar del curso de **Recuperación** durante las vacaciones para lograr aprobar.\n",
        "\n",
        "Entonces podemos apoyarnos en un conjunto de `if`s para poder estructurar esta nueva condición."
      ],
      "metadata": {
        "id": "bD9O17HB6LUo"
      }
    },
    {
      "cell_type": "code",
      "source": [
        "nota = input('¿Cuál es la nota? ')\n",
        "nota = float(nota)\n",
        "\n",
        "if nota >= 7.0:\n",
        "  print('Aprobado')\n",
        "if 7 > nota >= 5.0:\n",
        "  print('Recuperación')\n",
        "if nota < 5.0:\n",
        "  print('Reprobado')"
      ],
      "metadata": {
        "id": "G9cJ5O9--W52",
        "colab": {
          "base_uri": "https://localhost:8080/"
        },
        "outputId": "b66c28a9-18c2-41af-b20e-edeeffc42a45"
      },
      "execution_count": null,
      "outputs": [
        {
          "output_type": "stream",
          "name": "stdout",
          "text": [
            "¿Cuál es la nota? 4.9\n",
            "Reprobado\n"
          ]
        }
      ]
    },
    {
      "cell_type": "markdown",
      "source": [
        "Observa que en casos con 3 situaciones como este necesitamos definir bien nuestras condiciones. Pues, si realizamos una condición con `else` al final, este irá a considerar solamente la condición `if` inmediatamente anterior para generar la salida en caso de que el resultado de su operación lógica sea **falso** dando como resultado, dos o más ejecuciones.\n",
        "\n",
        "Por ejemplo:"
      ],
      "metadata": {
        "id": "D5e2mByjvycO"
      }
    },
    {
      "cell_type": "code",
      "source": [
        "nota = input('¿Cuál es la nota? ')\n",
        "nota = float(nota)\n",
        "\n",
        "if nota >= 7.0:\n",
        "  print('Aprobado')\n",
        "if 7 > nota >= 5.0:\n",
        "  print('Recuperación')\n",
        "else:\n",
        "  print('Reprobado')"
      ],
      "metadata": {
        "id": "C21JmOuK-VU8",
        "colab": {
          "base_uri": "https://localhost:8080/"
        },
        "outputId": "284aa443-aa39-4ed0-fa9d-7e82eed702da"
      },
      "execution_count": null,
      "outputs": [
        {
          "output_type": "stream",
          "name": "stdout",
          "text": [
            "¿Cuál es la nota? 8\n",
            "Aprobado\n",
            "Reprobado\n"
          ]
        }
      ]
    },
    {
      "cell_type": "markdown",
      "source": [
        "## `ELIF`\n",
        "\n",
        "El comando `elif` es una palabra clave en Python que significa \"si no, si\" y lo podemos considerar una *contracción* entre `else` e `if`. Se utiliza en conjunto con la palabra clave `if` para formar una estructura condicional en cadena."
      ],
      "metadata": {
        "id": "04T5g-7h4zWx"
      }
    },
    {
      "cell_type": "markdown",
      "source": [
        "la sintaxis para utilizar el comando `elif` es:\n",
        "\n",
        "```\n",
        "if condicion1:\n",
        "    # Realiza algo\n",
        "elif condicion2:\n",
        "    # Realiza otra cosa\n",
        "elif condicion3:\n",
        "    # Realiza otra cosa\n",
        "else:\n",
        "    # Realiza algo diferente\n",
        "```\n",
        "\n",
        "El comando `elif` permite que puedas verificar varias condiciones en cadena, economizando espacio en tu código. Si la primera condición se evalúa como `False`, el interpretador de Python evaluará la próxima condición con el `elif`. Ello continuará hasta que una condición sea evaluada como `True` o hasta que el `else` sea alcazado. Si ninguna de las condiciones es evaluada como `True`, la ejecución del código del comando `else` será iniciada."
      ],
      "metadata": {
        "id": "rNBHr5mm1Lm6"
      }
    },
    {
      "cell_type": "markdown",
      "source": [
        "Vamos a emplear el mismo caso anterior:"
      ],
      "metadata": {
        "id": "MVoykFbB4bd4"
      }
    },
    {
      "cell_type": "code",
      "source": [
        "nota = input('¿Cuál es la nota? ')\n",
        "nota = float(nota)\n",
        "\n",
        "if nota >= 7.0:\n",
        "  print('Aprobado')\n",
        "elif 7 > nota >= 5.0:\n",
        "  print('Recuperación')\n",
        "else:\n",
        "  print('Reprobado')"
      ],
      "metadata": {
        "id": "QFamB78s-TW_",
        "colab": {
          "base_uri": "https://localhost:8080/"
        },
        "outputId": "d5417cde-c553-485d-f947-a59711bf623b"
      },
      "execution_count": null,
      "outputs": [
        {
          "output_type": "stream",
          "name": "stdout",
          "text": [
            "¿Cuál es la nota? 8\n",
            "Aprobado\n"
          ]
        }
      ]
    },
    {
      "cell_type": "markdown",
      "source": [
        "## Operadores\n",
        "\n",
        "Durante la construcción de comandos a veces necesitamos de una elaboración mayor de la expresión condicional, necesitando que algunos operadores lógicos se encuentren integrados."
      ],
      "metadata": {
        "id": "Tf1wSOem6iwZ"
      }
    },
    {
      "cell_type": "markdown",
      "source": [
        "### `AND`, `OR`, `NOT`\n",
        "\n",
        "Los operadores lógicos `and`, `or` y `not` son usados para combinar expresiones lógicas en Python. Ellos son usados frecuentemente en conjunto con el comando `if` para crear estructuras condicionales más complejas.\n"
      ],
      "metadata": {
        "id": "GFIZnRWXGPWO"
      }
    },
    {
      "cell_type": "markdown",
      "source": [
        "- `AND` es usado para verificar si dos condiciones son verdaderas. La expresión lógica¹ `x and y` se evalúa como `True` tan solo si **ambas condiciones `x` y `y` son verdaderas**, y como `False` en caso contrario.\n",
        "\n",
        "- `OR` es usado para verificar si al menos una de las condiciones es verdadera. La expresión lógica `x or y` se evalúa como `True` **si al menos una de las condiciones `x` o `y` es verdadera**, y como `False` si ambas condiciones son falsas.\n",
        "\n",
        "- `NOT` es usado para **negar una condición**. La expresión lógica `not x` es evaluada como `True` si la condición x es falsa, y como `False` si la condición x es verdadera.\n",
        "\n",
        "¹ Una expresión lógica es una declaración que puede ser evaluada como verdadera o falsa. Ella se compone por operandos lógicos² y por operadores lógicos³, que son usados ​​para combinar varias expresiones lógicas en una única expresión.\n",
        "\n",
        "² Los operandos lógicos son los elementos que son comparados o evaluados en una expresión lógica. Ellos son generalmente valores verdaderos o falsos, pero también pueden ser expresiones lógicas más complejas. En Python, los operandos lógicos son los valores `True` y `False`.\n",
        "\n",
        "³ Los operadores lógicos son ls símbolos o palabras clave que son usados ​​para combinar varias expresiones lógicas en una única expresión. En Python, los operadores lógicos son `and`, `or` y `not`, bien como las palabras clave `if`, `elif` e `else`."
      ],
      "metadata": {
        "id": "Z_dgAoHXJbzB"
      }
    },
    {
      "cell_type": "markdown",
      "source": [
        "> Operadores lógicos más comunes\n",
        "\n",
        "|a|b|AND|OR|NOT|\n",
        "|-|-|-|-|-|\n",
        "|0|0|0|0|1\n",
        "|0|1|0|1|-\n",
        "|1|0|0|1|-\n",
        "|1|1|1|1|0\n"
      ],
      "metadata": {
        "id": "2E5aUogf-49u"
      }
    },
    {
      "cell_type": "code",
      "source": [
        "v = True\n",
        "f = False\n",
        "\n",
        "if v and v:\n",
        "  print('Verdadero')\n",
        "else:\n",
        "  print('Falso')"
      ],
      "metadata": {
        "id": "DFKmpvmS-Pa6",
        "colab": {
          "base_uri": "https://localhost:8080/"
        },
        "outputId": "049be153-ca37-42d2-acef-22a89d88a836"
      },
      "execution_count": null,
      "outputs": [
        {
          "output_type": "stream",
          "name": "stdout",
          "text": [
            "Verdadero\n"
          ]
        }
      ]
    },
    {
      "cell_type": "code",
      "source": [
        "if v or f:\n",
        "  print('Verdadero')\n",
        "else:\n",
        "  print('Falso')"
      ],
      "metadata": {
        "id": "W5BIrpOD-PeI",
        "colab": {
          "base_uri": "https://localhost:8080/"
        },
        "outputId": "33c8b956-e164-4288-a04c-41eb6cec7c5b"
      },
      "execution_count": null,
      "outputs": [
        {
          "output_type": "stream",
          "name": "stdout",
          "text": [
            "Verdadero\n"
          ]
        }
      ]
    },
    {
      "cell_type": "code",
      "source": [
        "if not v:\n",
        "  print('Verdadero')\n",
        "else:\n",
        "  print('Falso')"
      ],
      "metadata": {
        "id": "fpDhYxq4-PiM",
        "colab": {
          "base_uri": "https://localhost:8080/"
        },
        "outputId": "a0bf7efe-b31d-41b4-d1c0-98493479d4c6"
      },
      "execution_count": null,
      "outputs": [
        {
          "output_type": "stream",
          "name": "stdout",
          "text": [
            "Falso\n"
          ]
        }
      ]
    },
    {
      "cell_type": "markdown",
      "source": [
        "### `IN`\n",
        "\n",
        "Es usado para verificar si un elemento está presente en una lista, tupla u otra colección de conjunto. La expresión `x in y` se evalúa como `True` si el elemento `x` esta presente na variávelen la variable de conjunto `y`, y como `False` en caso contrario."
      ],
      "metadata": {
        "id": "w7EXG1dhWtja"
      }
    },
    {
      "cell_type": "markdown",
      "source": [
        "Podemos verificarlo con variables de texto.\n",
        "\n",
        "---\n",
        "\n",
        "**Situación:**\n",
        "\n",
        "En la escuela nos entregaron una lista con nombres de estudiantes que fueron aprobados según el promedio del semestre, pero es necesario verificar si algunos nombres están en esa lista para confirmar que los datos estén correctos.\n",
        "\n",
        "La lista distribuida puede ser observada a continuación:\n",
        "\n",
        "```\n",
        "lista = 'Juan Pérez, María González, Pedro Rodríguez, Ana López, Carlos Martínez,\n",
        "    Laura Sánchez, José García, Elena Fernández, Luis Morales, Carmen Torres,\n",
        "    David Ruiz, Isabel Ramírez, Javier Díaz, Sara Herrera, Miguel Castro,\n",
        "    Patricia Ortega, Francisco Vargas, Marta Jiménez, Manuel Medina, Rosa Molina,\n",
        "    Alejandro Silva, Silvia Ruiz, Andrés Torres, Natalia Soto, Diego Guerrero,\n",
        "    Paula Ríos, Ricardo Navarro, Alicia Cordero, Carlos Vidal, Lorena Gómez'\n",
        "```\n",
        "\n",
        "Los nombres que necesitas verificar son los siguientes:\n",
        "\n",
        "```\n",
        "nombre_1 = 'Miguel Castro'\n",
        "nombre_2 = 'Marcelo Noguera'\n",
        "```"
      ],
      "metadata": {
        "id": "enJNp6JenQbq"
      }
    },
    {
      "cell_type": "code",
      "source": [
        "lista = 'Juan Pérez, María González, Pedro Rodríguez, Ana López, Carlos Martínez, Laura Sánchez, José García, Elena Fernández, Luis Morales, Carmen Torres, David Ruiz, Isabel Ramírez, Javier Díaz, Sara Herrera, Miguel Castro, Patricia Ortega, Francisco Vargas, Marta Jiménez, Manuel Medina, Rosa Molina, Alejandro Silva, Silvia Ruiz, Andrés Torres, Natalia Soto, Diego Guerrero, Paula Ríos, Ricardo Navarro, Alicia Cordero, Carlos Vidal, Lorena Gómez'\n",
        "\n",
        "nombre_1 = 'Miguel Castro'\n",
        "nombre_2 = 'Marcelo Noguera'\n"
      ],
      "metadata": {
        "id": "hk-RhNRT-Mp7"
      },
      "execution_count": null,
      "outputs": []
    },
    {
      "cell_type": "code",
      "source": [
        "if nombre_1 in lista:\n",
        "  print(f'{nombre_1} está en la lista')\n",
        "else:\n",
        "  print(f'{nombre_1} no está en la lista')"
      ],
      "metadata": {
        "colab": {
          "base_uri": "https://localhost:8080/"
        },
        "id": "GyQyPIwT9FCQ",
        "outputId": "a2dec910-deb6-40b7-bd68-cbeda7ca3c79"
      },
      "execution_count": null,
      "outputs": [
        {
          "output_type": "stream",
          "name": "stdout",
          "text": [
            "Miguel Castro está en la lista\n"
          ]
        }
      ]
    },
    {
      "cell_type": "code",
      "source": [
        "if nombre_2 in lista:\n",
        "  print(f'{nombre_2} está en la lista')\n",
        "else:\n",
        "  print(f'{nombre_2} no está en la lista')"
      ],
      "metadata": {
        "colab": {
          "base_uri": "https://localhost:8080/"
        },
        "id": "aYHu6opQ9OVE",
        "outputId": "27e22167-5655-4abe-e295-e26d1c6ca383"
      },
      "execution_count": null,
      "outputs": [
        {
          "output_type": "stream",
          "name": "stdout",
          "text": [
            "Marcelo Noguera no está en la lista\n"
          ]
        }
      ]
    },
    {
      "cell_type": "markdown",
      "source": [
        "## Ejericios 3\n",
        "1. Escribe un programa que pida a la persona usuaria que proporcione dos números y muestre el número más grande."
      ],
      "metadata": {
        "id": "XuKelhOd94pY"
      }
    },
    {
      "cell_type": "code",
      "source": [
        "valor_1 = int(input('Escribe el primer valor: '))\n",
        "valor_2 = int(input('Escribe el segundo valor: '))\n",
        "\n",
        "if valor_1 > valor_2:\n",
        "  print(f'El número más grande es {valor_1}')\n",
        "else:\n",
        "  print(f'El número más grande es {valor_2}')"
      ],
      "metadata": {
        "colab": {
          "base_uri": "https://localhost:8080/"
        },
        "id": "wE-_I5ZK-A9F",
        "outputId": "0404212e-3bbc-4ea3-bd78-8e310f408e99"
      },
      "execution_count": null,
      "outputs": [
        {
          "output_type": "stream",
          "name": "stdout",
          "text": [
            "Escribe el primer valor: 1\n",
            "Escribe el segundo valor: 3\n",
            "El número más grande es 3\n"
          ]
        }
      ]
    },
    {
      "cell_type": "markdown",
      "source": [
        "2. Escribe un programa que solicite el porcentaje de crecimiento de producción de una empresa e informe si hubo un crecimiento (porcentaje positivo) o una disminución (porcentaje negativo)."
      ],
      "metadata": {
        "id": "G8_T3gXn-QiA"
      }
    },
    {
      "cell_type": "code",
      "source": [
        "porcentaje = float(input('Escribe el porcentaje de crecimiento: '))\n",
        "\n",
        "if porcentaje > 0:\n",
        "  print('Hubo un crecimiento')\n",
        "else:\n",
        "  print('Hubo una disminución')"
      ],
      "metadata": {
        "colab": {
          "base_uri": "https://localhost:8080/"
        },
        "id": "1raTq6bk-bn8",
        "outputId": "72e27aba-6b24-4498-dd76-44f40e060ddd"
      },
      "execution_count": null,
      "outputs": [
        {
          "output_type": "stream",
          "name": "stdout",
          "text": [
            "Escribe el porcentaje de crecimiento: -2\n",
            "Hubo una disminución\n"
          ]
        }
      ]
    },
    {
      "cell_type": "markdown",
      "source": [
        "3. Escribe un programa que determine si una letra proporcionada por la persona usuaria es una vocal o una consonante."
      ],
      "metadata": {
        "id": "luuuGGhW-Uij"
      }
    },
    {
      "cell_type": "code",
      "source": [
        "letra = input('Escribe una letra: ')\n",
        "\n",
        "if letra in 'aeiou':\n",
        "  print('Es una vocal')\n",
        "else:\n",
        "  print(f'La letra {letra} es una consonante')"
      ],
      "metadata": {
        "colab": {
          "base_uri": "https://localhost:8080/"
        },
        "id": "MUKup0CB-9js",
        "outputId": "0cfca909-0747-4290-e742-d5d4a8a94e73"
      },
      "execution_count": null,
      "outputs": [
        {
          "output_type": "stream",
          "name": "stdout",
          "text": [
            "Escribe una letra: s\n",
            "La letra s es una consonante\n"
          ]
        }
      ]
    },
    {
      "cell_type": "markdown",
      "source": [
        "4. Escribe un programa que lea valores promedio de precios de un modelo de automóvil durante 3 años consecutivos y muestre el valor más alto y más bajo entre esos tres años."
      ],
      "metadata": {
        "id": "j3qlCadl-VD7"
      }
    },
    {
      "cell_type": "code",
      "source": [
        "precio = float(input('Escribe el primer valor: '))\n",
        "precio_2 = float(input('Escribe el segundo valor: '))\n",
        "precio_3 = float(input('Escribe el tercer valor: '))\n",
        "\n",
        "if precio > precio_2 and precio > precio_3:\n",
        "  print(f'El valor más alto es {precio}')\n",
        "  if precio_2 > precio_3:\n",
        "    print(f'El valor más bajo es {precio_3}')\n",
        "  else:\n",
        "    print(f'El valor más bajo es {precio_2}')\n",
        "elif precio_2 > precio and precio_2 > precio_3:\n",
        "  print(f'El valor más alto es {precio_2}')\n",
        "  if precio > precio_3:\n",
        "    print(f'El valor más bajo es {precio_3}')\n",
        "  else:\n",
        "    print(f'El valor más bajo es {precio}')\n",
        "else:\n",
        "  print(f'El valor más alto es {precio_3}')\n",
        "  if precio > precio_2:\n",
        "    print(f'El valor más bajo es {precio_2}')\n",
        "  else:\n",
        "    print(f'El valor más bajo es {precio}')"
      ],
      "metadata": {
        "colab": {
          "base_uri": "https://localhost:8080/"
        },
        "id": "FhGp71dU_YTC",
        "outputId": "9d0eeaaa-62b7-4e7f-bae1-0556bf96a313"
      },
      "execution_count": null,
      "outputs": [
        {
          "output_type": "stream",
          "name": "stdout",
          "text": [
            "Escribe el primer valor: 1\n",
            "Escribe el segundo valor: 2\n",
            "Escribe el tercer valor: 3\n",
            "El valor más alto es 3.0\n",
            "El valor más bajo es 1.0\n"
          ]
        }
      ]
    },
    {
      "cell_type": "markdown",
      "source": [
        "5. Escribe un programa que pregunte sobre el precio de tres productos e indique cuál es el producto más barato para comprar."
      ],
      "metadata": {
        "id": "rM50U-2z-Vb3"
      }
    },
    {
      "cell_type": "code",
      "source": [
        "producto_1 = float(input('Escribe el primer valor: '))\n",
        "producto_2 = float(input('Escribe el segundo valor: '))\n",
        "producto_3 = float(input('Escribe el tercer valor: '))\n",
        "\n",
        "if producto_1 < producto_2 and producto_1 < producto_3:\n",
        "  print(f'El producto más barato es el primero que vale {producto_1}')\n",
        "elif producto_2 < producto_1 and producto_2 < producto_3:\n",
        "  print(f'El producto más barato es el segundo que vale {producto_2}')\n",
        "else:\n",
        "    print(f'El producto más barato es el tercero que vale {producto_3}')"
      ],
      "metadata": {
        "colab": {
          "base_uri": "https://localhost:8080/"
        },
        "id": "KBEVKvfTAZgF",
        "outputId": "bd9d2f35-4f59-43e2-9584-b9db4a65a790"
      },
      "execution_count": null,
      "outputs": [
        {
          "output_type": "stream",
          "name": "stdout",
          "text": [
            "Escribe el primer valor: 1\n",
            "Escribe el segundo valor: -1\n",
            "Escribe el tercer valor: 0\n",
            "El producto más barato es el segundo que vale -1.0\n"
          ]
        }
      ]
    },
    {
      "cell_type": "markdown",
      "source": [
        "6. Escribe un programa que lea tres números y los muestre en orden descendente."
      ],
      "metadata": {
        "id": "lqxGtmYg-Vyv"
      }
    },
    {
      "cell_type": "code",
      "source": [
        "numero_1 = int(input('Escribe el primer valor: '))\n",
        "numero_2 = int(input('Escribe el segundo valor: '))\n",
        "numero_3 = int(input('Escribe el tercer valor: '))\n",
        "\n",
        "if numero_1 > numero_2 and numero_1 > numero_3:\n",
        "  print(numero_1)\n",
        "  if numero_2 > numero_3:\n",
        "    print(numero_2)\n",
        "    print(numero_3)\n",
        "  else:\n",
        "    print(numero_3)\n",
        "    print(numero_2)\n",
        "elif numero_2 > numero_1 and numero_2 > numero_3:\n",
        "  print(numero_2)\n",
        "  if numero_1 > numero_3:\n",
        "    print(numero_1)\n",
        "    print(numero_3)\n",
        "  else:\n",
        "    print(numero_3)\n",
        "    print(numero_1)\n",
        "else:\n",
        "  print(numero_3)\n",
        "  if numero_1 > numero_2:\n",
        "    print(numero_1)\n",
        "    print(numero_2)\n",
        "  else:\n",
        "    print(numero_2)\n",
        "    print(numero_1)"
      ],
      "metadata": {
        "colab": {
          "base_uri": "https://localhost:8080/"
        },
        "id": "gxCTXrx_BHJl",
        "outputId": "aa4bf247-ee9e-4a18-a0f6-96a9c25dae65"
      },
      "execution_count": null,
      "outputs": [
        {
          "output_type": "stream",
          "name": "stdout",
          "text": [
            "Escribe el primer valor: 3\n",
            "Escribe el segundo valor: 4\n",
            "Escribe el tercer valor: 10\n",
            "10\n",
            "4\n",
            "3\n"
          ]
        }
      ]
    },
    {
      "cell_type": "markdown",
      "source": [
        "7. Escribe un programa que pregunte en qué turno estudia la persona usuaria (\"mañana\", \"tarde\" o \"noche\") y muestre el mensaje \"¡Buenos Días!\", \"¡Buenas Tardes!\", \"¡Buenas Noches!\" o \"Valor Inválido!\", según el caso."
      ],
      "metadata": {
        "id": "L7xo2kuZ-WMZ"
      }
    },
    {
      "cell_type": "code",
      "source": [
        "turno = (input('¿En qué turno estudias? (mañana, tarde o noche): ')).lower()\n",
        "\n",
        "if turno == 'mañana':\n",
        "  print('¡Buenos Días!')\n",
        "elif turno == 'tarde':\n",
        "  print('¡Buenas Tardes!')\n",
        "elif turno == 'noche':\n",
        "  print('¡Buenas Noches!')\n",
        "else:\n",
        "  print('Valor Inválido!')"
      ],
      "metadata": {
        "colab": {
          "base_uri": "https://localhost:8080/"
        },
        "id": "CA4vzdeTBzZ_",
        "outputId": "cf954b5c-e921-420c-b67c-7cf1eb56015f"
      },
      "execution_count": null,
      "outputs": [
        {
          "output_type": "stream",
          "name": "stdout",
          "text": [
            "¿En qué turno estudias? (mañana, tarde o noche): TARDE\n",
            "¡Buenas Tardes!\n"
          ]
        }
      ]
    },
    {
      "cell_type": "markdown",
      "source": [
        "8. Escribe un programa que solicite un número entero a la persona usuaria y determine si es par o impar. Pista: Puedes usar el operador módulo (%)."
      ],
      "metadata": {
        "id": "nIl_4FMN-WoH"
      }
    },
    {
      "cell_type": "code",
      "source": [
        "numero = int(input('Escribe un número entero: '))\n",
        "\n",
        "if numero % 2 == 0:\n",
        "  print(f'El número {numero} es par')\n",
        "else:\n",
        "  print(f'El número {numero} es impar')"
      ],
      "metadata": {
        "colab": {
          "base_uri": "https://localhost:8080/"
        },
        "id": "of6NxUZSC5J_",
        "outputId": "800de536-08b3-4cbf-dca6-a5ec926a6414"
      },
      "execution_count": null,
      "outputs": [
        {
          "output_type": "stream",
          "name": "stdout",
          "text": [
            "Escribe un número entero: 100\n",
            "El número 100 es par\n"
          ]
        }
      ]
    },
    {
      "cell_type": "markdown",
      "source": [
        "9. Escribe un programa que pida un número a la persona usuaria y le informe si es entero o decimal."
      ],
      "metadata": {
        "id": "lIoGq0yJ-YUJ"
      }
    },
    {
      "cell_type": "code",
      "source": [
        "numero = float(input('Escribe un número: '))\n",
        "\n",
        "if numero == int(numero):\n",
        "  print(f'El número {numero} es entero')\n",
        "else:\n",
        "  print(f'El número {numero} es decimal')"
      ],
      "metadata": {
        "colab": {
          "base_uri": "https://localhost:8080/"
        },
        "id": "n2jUEKZ4DJtX",
        "outputId": "8b5a2e11-ed15-4b3c-ea9e-dc787de8ff05"
      },
      "execution_count": null,
      "outputs": [
        {
          "output_type": "stream",
          "name": "stdout",
          "text": [
            "Escribe un número: 15\n",
            "El número 15.0 es entero\n"
          ]
        }
      ]
    },
    {
      "cell_type": "markdown",
      "source": [
        "#### Momento de los proyectos\n",
        "10. Un programa debe ser escrito para leer dos números y luego preguntar a la persona usuaria qué operación desea realizar. El resultado de la operación debe incluir información sobre el número, si es par o impar, positivo o negativo, e entero o decimal."
      ],
      "metadata": {
        "id": "bLjm7NOU-Yui"
      }
    },
    {
      "cell_type": "code",
      "source": [
        "numero_1 = float(input('Escribe el primer valor: '))\n",
        "numero_2 = float(input('Escribe el segundo valor: '))\n",
        "operacion = (input('¿Qué operación deseas realizar? (suma, resta, multiplicacion, division): ')).lower()\n",
        "\n",
        "if operacion == 'suma':\n",
        "  resultado = numero_1 + numero_2\n",
        "  if resultado % 2 == 0:\n",
        "    print(f'El resultado de la suma es {resultado} y es par')\n",
        "  else:\n",
        "    print(f'El resultado de la suma es {resultado} y es impar')\n",
        "  if resultado > 0:\n",
        "    print(f'El resultado de la suma es {resultado} y es positivo')\n",
        "  else:\n",
        "    print(f'El resultado de la suma es {resultado} y es negativo')\n",
        "  if resultado == int(resultado):\n",
        "    print(f'El resultado de la suma es {resultado} y es entero')\n",
        "  else:\n",
        "    print(f'El resultado de la suma es {resultado} y es decimal')\n",
        "elif operacion == 'resta':\n",
        "  resultado = numero_1 - numero_2\n",
        "  if resultado % 2 == 0:\n",
        "    print(f'El resultado de la resta es {resultado} y es par')\n",
        "  else:\n",
        "    print(f'El resultado de la resta es {resultado} y es impar')\n",
        "  if resultado > 0:\n",
        "    print(f'El resultado de la resta es {resultado} y es positivo')\n",
        "  else:\n",
        "    print(f'El resultado de la resta es {resultado} y es negativo')\n",
        "  if resultado == int(resultado):\n",
        "    print(f'El resultado de la resta es {resultado} y es entero')\n",
        "  else:\n",
        "    print(f'El resultado de la resta es {resultado} y es decimal')\n",
        "elif operacion == 'multiplicacion':\n",
        "  resultado = numero_1 * numero_2\n",
        "  if resultado % 2 == 0:\n",
        "    print(f'El resultado de la multiplicación es {resultado} y es par')\n",
        "  else:\n",
        "    print(f'El resultado de la multiplicación es {resultado} y es impar')\n",
        "  if resultado > 0:\n",
        "    print(f'El resultado de la multiplicación es {resultado} y es positivo')\n",
        "  else:\n",
        "    print(f'El resultado de la multiplicación es {resultado} y es negativo')\n",
        "  if resultado == int(resultado):\n",
        "    print(f'El resultado de la multiplicación es {resultado} y es entero')\n",
        "  else:\n",
        "    print(f'El resultado de la multiplicación es {resultado} y es decimal')\n",
        "elif operacion == 'division':\n",
        "  resultado = numero_1 / numero_2\n",
        "  if resultado % 2 == 0:\n",
        "    print(f'El resultado de la división es {resultado} y es par')\n",
        "  else:\n",
        "    print(f'El resultado de la división es {resultado} y es impar')\n",
        "  if resultado > 0:\n",
        "    print(f'El resultado de la división es {resultado} y es positivo')\n",
        "  else:\n",
        "    print(f'El resultado de la división es {resultado} y es negativo')\n",
        "  if resultado == int(resultado):\n",
        "    print(f'El resultado de la división es {resultado} y es entero')\n",
        "  else:\n",
        "    print(f'El resultado de la división es {resultado} y es decimal')\n",
        "else:\n",
        "  print('Operación inválida')"
      ],
      "metadata": {
        "colab": {
          "base_uri": "https://localhost:8080/"
        },
        "id": "aApC4QtGDubz",
        "outputId": "81e6ad53-f9f6-4227-9eb6-db5ae3ec7267"
      },
      "execution_count": null,
      "outputs": [
        {
          "output_type": "stream",
          "name": "stdout",
          "text": [
            "Escribe el primer valor: 3\n",
            "Escribe el segundo valor: 3\n",
            "¿Qué operación deseas realizar? (suma, resta, multiplicacion, division): division\n",
            "El resultado de la división es 1.0 y es impar\n",
            "El resultado de la división es 1.0 y es positivo\n",
            "El resultado de la división es 1.0 y es entero\n"
          ]
        }
      ]
    },
    {
      "cell_type": "markdown",
      "source": [
        "11. Escribe un programa que pida a la persona usuaria tres números que representan los lados de un triángulo. El programa debe informar si los valores pueden utilizarse para formar un triángulo y, en caso afirmativo, si es equilátero, isósceles o escaleno. Ten en cuenta algunas sugerencias:\n",
        "\n",
        "* Tres lados forman un triángulo cuando la suma de cualquier dos lados es mayor que el tercero;\n",
        "* Triángulo Equilátero: tres lados iguales;\n",
        "* Triángulo Isósceles: dos lados iguales;\n",
        "* Triángulo Escaleno: tres lados diferentes."
      ],
      "metadata": {
        "id": "lbifE990-ZKi"
      }
    },
    {
      "cell_type": "code",
      "source": [
        "numero_1 = float(input('Escribe el primer valor: '))\n",
        "numero_2 = float(input('Escribe el segundo valor: '))\n",
        "numero_3 = float(input('Escribe el tercer valor: '))\n",
        "\n",
        "if numero_1 + numero_2 > numero_3 and numero_1 + numero_3 > numero_2 and numero_2 + numero_3 > numero_1:\n",
        "  print('Los valores pueden utilizarse para formar un triángulo')\n",
        "  if numero_1 == numero_2 and numero_1 == numero_3:\n",
        "    print('Es un triángulo equilátero')\n",
        "  elif numero_1 == numero_2 or numero_1 == numero_3 or numero_2 == numero_3:\n",
        "    print('Es un triángulo isósceles')\n",
        "  else:\n",
        "    print('Es un triángulo escaleno')\n",
        "else:\n",
        "  print('Los valores no pueden utilizarse para formar un triángulo')"
      ],
      "metadata": {
        "colab": {
          "base_uri": "https://localhost:8080/"
        },
        "id": "kqNQqXXMFO1c",
        "outputId": "4c19478e-9273-4f78-f856-12e5ea8d2b7a"
      },
      "execution_count": null,
      "outputs": [
        {
          "output_type": "stream",
          "name": "stdout",
          "text": [
            "Escribe el primer valor: 1\n",
            "Escribe el segundo valor: 2\n",
            "Escribe el tercer valor: 10\n",
            "Los valores no pueden utilizarse para formar un triángulo\n"
          ]
        }
      ]
    },
    {
      "cell_type": "markdown",
      "source": [
        "12. Un establecimiento está vendiendo combustibles con descuentos variables. Para el etanol, si la cantidad comprada es de hasta 15 litros, el descuento será del 2% por litro. En caso contrario, será del 4% por litro. Para el diésel, si la cantidad comprada es de hasta 15 litros, el descuento será del 3% por litro. En caso contrario, será del 5% por litro. El precio por litro de diésel es de R\\$ 2,00 y el precio por litro de etanol es de R\\$ 1,70. Escribe un programa que lea la cantidad de litros vendidos y el tipo de combustible (E para etanol y D para diésel) y calcule el valor a pagar por el cliente. Ten en cuenta algunas sugerencias:\n",
        "\n",
        "* El valor del descuento será el producto del precio por litro, la cantidad de litros y el valor del descuento.\n",
        "* El valor a pagar por un cliente será el resultado de la multiplicación del precio por litro por la cantidad de litros menos el valor del descuento resultante del cálculo."
      ],
      "metadata": {
        "id": "cxzFlRa_-Zjw"
      }
    },
    {
      "cell_type": "code",
      "source": [
        "etanol = 1.70\n",
        "diesel = 2.00\n",
        "\n",
        "descuento_etanol = 0.02\n",
        "descuento_diesel = 0.03\n",
        "\n",
        "descuento_2_etanol = 0.04\n",
        "descuento_2_diesel = 0.05\n",
        "\n",
        "venta = int(input('¿Cuántos litros de combustible vas a comprar? '))\n",
        "combustible = (input('¿Qué combustible vas a comprar? (E para etanol y D para diésel): ')).upper()\n",
        "\n",
        "if venta <= 0:\n",
        "    print('No tenemos cantidades negativas de litros de combustible')\n",
        "else:\n",
        "    if venta <= 15:\n",
        "        if combustible == 'E':\n",
        "            descuento = venta * etanol * descuento_etanol\n",
        "            print(f'El valor a pagar por el cliente es {venta * etanol - descuento}')\n",
        "        elif combustible == 'D':\n",
        "            descuento = venta * diesel * descuento_diesel\n",
        "            print(f'El valor a pagar por el cliente es {venta * diesel - descuento}')\n",
        "        else:\n",
        "            print('No vendemos este tipo de combustible')\n",
        "    else:  # venta > 15\n",
        "        if combustible == 'E':\n",
        "            descuento = venta * etanol * descuento_2_etanol\n",
        "            print(f'El valor a pagar por el cliente es {venta * etanol - descuento}')\n",
        "        elif combustible == 'D':\n",
        "            descuento = venta * diesel * descuento_2_diesel\n",
        "            print(f'El valor a pagar por el cliente es {venta * diesel - descuento}')\n",
        "        else:\n",
        "            print('No vendemos este tipo de combustible')\n",
        "\n"
      ],
      "metadata": {
        "colab": {
          "base_uri": "https://localhost:8080/"
        },
        "id": "hGpCEy4WGK_H",
        "outputId": "c5d3cb58-dd1e-4e7c-c1ba-8d92ba3bc265"
      },
      "execution_count": null,
      "outputs": [
        {
          "output_type": "stream",
          "name": "stdout",
          "text": [
            "¿Cuántos litros de combustible vas a comprar? 16\n",
            "¿Qué combustible vas a comprar? (E para etanol y D para diésel): d\n",
            "El valor a pagar por el cliente es 30.4\n"
          ]
        }
      ]
    },
    {
      "cell_type": "markdown",
      "source": [
        "En una empresa de venta de bienes raíces, debes crear un código que analice los datos de ventas anuales para ayudar a la dirección en la toma de decisiones. El código debe recopilar los datos de cantidad de ventas durante los años 2022 y 2023 y calcular la variación porcentual. A partir del valor de la variación, se deben proporcionar las siguientes sugerencias:\n",
        "\n",
        "+ Para una variación superior al 20%: bonificación para el equipo de ventas.\n",
        "* Para una variación entre el 2% y el 20%: pequeña bonificación para el equipo de ventas.\n",
        "* Para una variación entre el 2% y el -10%: planificación de políticas de incentivo a las ventas.\n",
        "* Para bonificaciones inferiores al -10%: recorte de gastos."
      ],
      "metadata": {
        "id": "ggKOi4Qe-Z-j"
      }
    },
    {
      "cell_type": "code",
      "source": [
        "venta = float(input('¿Cuántas ventas realizaste en el año 2022? '))\n",
        "venta_2 = float(input('¿Cuántas ventas realizaste en el año 2023? '))\n",
        "\n",
        "variacion = (venta_2 - venta) / venta * 100\n",
        "\n",
        "if variacion > 20:\n",
        "  print(f'La variación porcentual es {variacion}')\n",
        "  print('Sugerencia: Bonificación para el equipo de ventas')\n",
        "elif 20 >= variacion > 2:\n",
        "  print(f'La variación porcentual es {variacion}')\n",
        "  print('Sugerencia: Pequeña bonificación para el equipo de ventas')\n",
        "elif 2 >= variacion > -10:\n",
        "  print(f'La variación porcentual es {variacion}')\n",
        "  print('Sugerencia: Planificación de políticas de incentivo a las ventas')\n",
        "else:\n",
        "  print(f'La variación porcentual es {variacion}')\n",
        "  print('Sugerencia: Recorte de gastos')"
      ],
      "metadata": {
        "colab": {
          "base_uri": "https://localhost:8080/"
        },
        "id": "4IXReiTlKmfr",
        "outputId": "85c5691b-b5ef-4a58-e330-ede6dae67ee7"
      },
      "execution_count": null,
      "outputs": [
        {
          "output_type": "stream",
          "name": "stdout",
          "text": [
            "¿Cuántas ventas realizaste en el año 2022? 20\n",
            "¿Cuántas ventas realizaste en el año 2023? 19\n",
            "La variación porcentual es -5.0\n",
            "Sugerencia: Planificación de políticas de incentivo a las ventas\n"
          ]
        }
      ]
    },
    {
      "cell_type": "markdown",
      "source": [
        "## Operadores de asiganción o atribución\n",
        "* Resta un valor de la variable (-= )\n",
        "* Multiplica un valor por la variable (*=)\n",
        "* Divide la variable por un valor (/=)\n",
        "* Realiza la división entera de la variable por un valor (//=)\n",
        "* Calcula el resto de la división del valor en la variable y asigna el resultado a la variable (%=)\n"
      ],
      "metadata": {
        "id": "ShPHxyMWE-or"
      }
    },
    {
      "cell_type": "code",
      "source": [
        "#-=\n",
        "precio = 2.00\n",
        "descuento = 1\n",
        "cantidad = 3\n",
        "precio -= descuento\n",
        "print(precio)\n",
        "\n",
        "#*=\n",
        "precio *= cantidad\n",
        "print(precio)\n",
        "\n",
        "#/=\n",
        "precio /= cantidad\n",
        "print(precio)\n",
        "\n",
        "#//=\n",
        "precio //= cantidad\n",
        "print(precio)\n",
        "\n",
        "#%=\n",
        "precio %= cantidad\n",
        "print(precio)"
      ],
      "metadata": {
        "colab": {
          "base_uri": "https://localhost:8080/"
        },
        "id": "mG12ZUfmFCWV",
        "outputId": "a84ab0b8-c7dc-497a-b654-7e2214345f69"
      },
      "execution_count": null,
      "outputs": [
        {
          "output_type": "stream",
          "name": "stdout",
          "text": [
            "1.0\n",
            "3.0\n",
            "1.0\n",
            "0.0\n",
            "0.0\n"
          ]
        }
      ]
    },
    {
      "cell_type": "markdown",
      "source": [
        "# Estructuras de repetición"
      ],
      "metadata": {
        "id": "aL1vJPewvwvz"
      }
    },
    {
      "cell_type": "markdown",
      "source": [
        "Cuando tenemos que ejecutar un mismo bloque de comandos durante varias ocasiones no es nada práctico hacerlo a mano.\n",
        "\n",
        "**Situación**: Nos fue solicitado obtener e imprimir el promedio de 2 notas de **3 estudantes**:"
      ],
      "metadata": {
        "id": "VcPfCa8d-84t"
      }
    },
    {
      "cell_type": "code",
      "source": [
        "nota_1_estuadiante_1 = float(input('¿Cuál es la nota 1 del estudiante 1? '))\n",
        "nota_2_estuadiante_1 = float(input('¿Cuál es la nota 2 del estudiante 1? '))\n",
        "nota_1_estuadiante_2 = float(input('¿Cuál es la nota 1 del estudiante 2? '))\n",
        "nota_2_estuadiante_2 = float(input('¿Cuál es la nota 2 del estudiante 2? '))\n",
        "nota_1_estuadiante_3 = float(input('¿Cuál es la nota 1 del estudiante 3? '))\n",
        "nota_2_estuadiante_3 = float(input('¿Cuál es la nota 2 del estudiante 3? '))\n",
        "\n",
        "promedio_1 = (nota_1_estuadiante_1 + nota_2_estuadiante_1) / 2\n",
        "promedio_2 = (nota_1_estuadiante_2 + nota_2_estuadiante_2) / 2\n",
        "promedio_3 = (nota_1_estuadiante_3 + nota_2_estuadiante_3) / 2\n",
        "\n",
        "print(f'El promedio del estudiante 1 es {promedio_1}')\n",
        "print(f'El promedio del estudiante 2 es {promedio_2}')\n",
        "print(f'El promedio del estudiante 3 es {promedio_3}')\n"
      ],
      "metadata": {
        "id": "xcx21IGT9qA0",
        "colab": {
          "base_uri": "https://localhost:8080/"
        },
        "outputId": "a7b59a4b-96e5-4477-b7d5-29c8b0b03b29"
      },
      "execution_count": null,
      "outputs": [
        {
          "output_type": "stream",
          "name": "stdout",
          "text": [
            "¿Cuál es la nota 1 del estudiante 1? 3.5\n",
            "¿Cuál es la nota 2 del estudiante 1? 2\n",
            "¿Cuál es la nota 1 del estudiante 2? 4.7\n",
            "¿Cuál es la nota 2 del estudiante 2? 5\n",
            "¿Cuál es la nota 1 del estudiante 3? 1.89\n",
            "¿Cuál es la nota 2 del estudiante 3? 4.99\n",
            "El promedio del estudiante 1 es 2.75\n",
            "El promedio del estudiante 2 es 4.85\n",
            "El promedio del estudiante 3 es 3.44\n"
          ]
        }
      ]
    },
    {
      "cell_type": "markdown",
      "source": [
        "Ahora imaginemos una situación en que no son tan solo 3 estudiantes, sino 100 estudiantes. No sería nada interesante repetir el mismo código 100 veces, sino **ejecutar el mismo código 100 veces**.\n",
        "\n",
        "¡Esta estructura la logramos construir con lazos de repetición!"
      ],
      "metadata": {
        "id": "9puIuvUbFSFX"
      }
    },
    {
      "cell_type": "markdown",
      "source": [
        "## `WHILE`"
      ],
      "metadata": {
        "id": "uLO9-aE4-wx8"
      }
    },
    {
      "cell_type": "markdown",
      "source": [
        "El lazo `while` es una estructura de control de repetición en Python que permite ejecutar un bloque de código repetidamente mientras que una determinada condición sea verdadera. Su estructura es:\n",
        "\n",
        "\n",
        "\n",
        "```\n",
        "while condicion:\n",
        "    # bloque de codigo\n",
        "```\n",
        "\n",
        "Vamos a construir un ejemplo con un contador de 1 hasta 10.\n"
      ],
      "metadata": {
        "id": "rXZxDMiqHxm9"
      }
    },
    {
      "cell_type": "code",
      "source": [
        "contador = 0\n",
        "\n",
        "while contador < 10:\n",
        "  #contador = contador + 1\n",
        "  contador += 1\n",
        "  print(contador)"
      ],
      "metadata": {
        "id": "Hd0ZSWxD9wCD",
        "colab": {
          "base_uri": "https://localhost:8080/"
        },
        "outputId": "e0707df3-558e-4e06-9261-95ea7e72e996"
      },
      "execution_count": null,
      "outputs": [
        {
          "output_type": "stream",
          "name": "stdout",
          "text": [
            "1\n",
            "2\n",
            "3\n",
            "4\n",
            "5\n",
            "6\n",
            "7\n",
            "8\n",
            "9\n",
            "10\n"
          ]
        }
      ]
    },
    {
      "cell_type": "markdown",
      "source": [
        "Ahora vamos a colectar las notas y promedios de cada alumno dentro del lazo `while`. Haremos un ejemplo con 3 promedios."
      ],
      "metadata": {
        "id": "W4KZPBJuIrut"
      }
    },
    {
      "cell_type": "code",
      "source": [
        "contador = 0\n",
        "\n",
        "while contador < 3:\n",
        "  contador += 1\n",
        "  nota_1 = float(input(f'¿Cuál es la nota 1 del estudiante {contador}? '))\n",
        "  nota_2 = float(input(f'¿Cuál es la nota 2 del estudiante {contador}? '))\n",
        "  promedio = (nota_1 + nota_2) / 2\n",
        "  print(f'El promedio del estudiante {contador} es {promedio}')"
      ],
      "metadata": {
        "id": "9T5eCLFx9wk6",
        "colab": {
          "base_uri": "https://localhost:8080/"
        },
        "outputId": "97db65d3-c31b-45cc-e7bf-c35563926ec1"
      },
      "execution_count": null,
      "outputs": [
        {
          "output_type": "stream",
          "name": "stdout",
          "text": [
            "¿Cuál es la nota 1 del estudiante 1? 3.5\n",
            "¿Cuál es la nota 2 del estudiante 1? 2\n",
            "El promedio del estudiante 1 es 2.75\n",
            "¿Cuál es la nota 1 del estudiante 2? 4.7\n",
            "¿Cuál es la nota 2 del estudiante 2? 5\n",
            "El promedio del estudiante 2 es 4.85\n",
            "¿Cuál es la nota 1 del estudiante 3? 2.89\n",
            "¿Cuál es la nota 2 del estudiante 3? 4.99\n",
            "El promedio del estudiante 3 es 3.9400000000000004\n"
          ]
        }
      ]
    },
    {
      "cell_type": "markdown",
      "source": [
        "## `FOR`"
      ],
      "metadata": {
        "id": "WgAIaENMMfCP"
      }
    },
    {
      "cell_type": "markdown",
      "source": [
        "El lazo `for` es un tipo de estructura de control de flujo en Python que permite iterar sobre un conjunto de elementos. Su estructura es:\n",
        "\n",
        "\n",
        "\n",
        "```\n",
        "for elemento in conjunto:\n",
        "    # codigo a ser ejecutado para cada elemento\n",
        "```\n",
        "\n",
        "El lazo `for` itera sobre cada elemento del conjunto especificado y ejecuta el bloque de código dentro del lazo para cada elemento. Cuando el lazo llega al final del conjunto, este se interrumpe y el programa continúa la ejecución después del lazo.\n",
        "\n"
      ],
      "metadata": {
        "id": "HxrSZoRAMh-x"
      }
    },
    {
      "cell_type": "markdown",
      "source": [
        "El conjunto lo podemos generar con la función incorporada [`range()`](https://docs.python.org/3/library/functions.html#func-range). Se trata de una función capaz de generar una secuencia de números enteros. La estructura de esta función es:\n",
        "\n",
        "```\n",
        "range(inicio, fin, paso)\n",
        "```\n",
        "\n",
        "Según la documentación, `range()` genera una secuencia de números enteros a partir del valor del parámetro `inicio` hasta el valor del parámetro `fin`, de acuerdo con el valor del parámetro `paso`. Si `inicio` no es especificado, el valor por defecto es `0`. Si `paso` no es especificado, el valor por defecto es `1`.\n",
        "\n",
        "\n"
      ],
      "metadata": {
        "id": "6VgjyoQtPHBM"
      }
    },
    {
      "cell_type": "markdown",
      "source": [
        "Vamos a recrear el mismo contador `while` con el lazo `for`."
      ],
      "metadata": {
        "id": "ryn0hfdlUwC8"
      }
    },
    {
      "cell_type": "code",
      "source": [
        "for n in range(1, 11):\n",
        "  print(n)"
      ],
      "metadata": {
        "id": "KkL1wUIj9jL4",
        "colab": {
          "base_uri": "https://localhost:8080/"
        },
        "outputId": "3f4143d6-edea-4aa2-afe9-9c73f3803be2"
      },
      "execution_count": null,
      "outputs": [
        {
          "output_type": "stream",
          "name": "stdout",
          "text": [
            "1\n",
            "2\n",
            "3\n",
            "4\n",
            "5\n",
            "6\n",
            "7\n",
            "8\n",
            "9\n",
            "10\n"
          ]
        }
      ]
    },
    {
      "cell_type": "code",
      "source": [
        "for e in range(1,4):\n",
        "  nota_1 = float(input(f'¿Cuál es la nota 1 del estudiante {e}? '))\n",
        "  nota_2 = float(input(f'¿Cuál es la nota 2 del estudiante {e}? '))\n",
        "  promedio = (nota_1 + nota_2) / 2\n",
        "  print(f'El promedio del estudiante {e} es {promedio}')"
      ],
      "metadata": {
        "id": "uXIZnLSr9jOu",
        "colab": {
          "base_uri": "https://localhost:8080/"
        },
        "outputId": "686e57c5-93c6-44ba-c3db-b500414429af"
      },
      "execution_count": null,
      "outputs": [
        {
          "output_type": "stream",
          "name": "stdout",
          "text": [
            "¿Cuál es la nota 1 del estudiante 1? 3.5\n",
            "¿Cuál es la nota 2 del estudiante 1? 2\n",
            "El promedio del estudiante 1 es 2.75\n",
            "¿Cuál es la nota 1 del estudiante 2? 2.75\n",
            "¿Cuál es la nota 2 del estudiante 2? 5\n",
            "El promedio del estudiante 2 es 3.875\n",
            "¿Cuál es la nota 1 del estudiante 3? 2.89\n",
            "¿Cuál es la nota 2 del estudiante 3? 4.99\n",
            "El promedio del estudiante 3 es 3.9400000000000004\n"
          ]
        }
      ]
    },
    {
      "cell_type": "markdown",
      "source": [
        "### Break\n",
        "Es una instrucción de control de flujo que se utiliza para interrumpir la ejecución de un bucle for o while prematuramente, antes de que se complete la iteración o la condición de terminación se cumpla. Cuando break se encuentra dentro de un bucle, el programa sale del bucle y continúa ejecutando el código que se encuentra después del bucle."
      ],
      "metadata": {
        "id": "_EaaQqy7SpOr"
      }
    },
    {
      "cell_type": "code",
      "source": [
        "#Bucle for sin break\n",
        "for i in range(1, 11):\n",
        "  print(i)\n",
        "\n",
        "#Bucle for sin break\n",
        "for i in range(1, 11):\n",
        "  if i == 5:\n",
        "    break\n",
        "  print(i)"
      ],
      "metadata": {
        "colab": {
          "base_uri": "https://localhost:8080/"
        },
        "id": "yUXT9zvyTD8U",
        "outputId": "68d9888d-31ca-42fe-eec4-bf7f728403ef"
      },
      "execution_count": null,
      "outputs": [
        {
          "output_type": "stream",
          "name": "stdout",
          "text": [
            "1\n",
            "2\n",
            "3\n",
            "4\n",
            "5\n",
            "6\n",
            "7\n",
            "8\n",
            "9\n",
            "10\n",
            "1\n",
            "2\n",
            "3\n",
            "4\n"
          ]
        }
      ]
    },
    {
      "cell_type": "markdown",
      "source": [
        "## Ejercicios 4\n",
        "1. Escribe un programa que solicite dos números enteros e imprima todos los números enteros entre ellos."
      ],
      "metadata": {
        "id": "_Bb-le0ER837"
      }
    },
    {
      "cell_type": "code",
      "source": [
        "numero_1 = int(input('Escribe el primer número entero: '))\n",
        "numero_2 = int(input('Escribe el segundo número entero: '))\n",
        "\n",
        "if numero_1 < numero_2:\n",
        "  for n in range(numero_1 + 1, numero_2):\n",
        "    print(n)\n",
        "elif numero_1 > numero_2:\n",
        "  for n in range(numero_2 + 1, numero_1):\n",
        "    print(n)\n",
        "else:\n",
        "  print('Los números son iguales')"
      ],
      "metadata": {
        "colab": {
          "base_uri": "https://localhost:8080/"
        },
        "id": "CzV1wIzySA0w",
        "outputId": "8df7215c-d822-4093-c20b-1aa0d42c549f"
      },
      "execution_count": null,
      "outputs": [
        {
          "output_type": "stream",
          "name": "stdout",
          "text": [
            "Escribe el primer número entero: 10\n",
            "Escribe el segundo número entero: 7\n",
            "8\n",
            "9\n"
          ]
        }
      ]
    },
    {
      "cell_type": "markdown",
      "source": [
        "2. Escribe un programa para calcular cuántos días tomará que la colonia de una bacteria A supere o iguale a la colonia de una bacteria B, basado en tasas de crecimiento del 3% y 1.5%, respectivamente. Supón que la colonia A comienza con 4 elementos y B con 10."
      ],
      "metadata": {
        "id": "Ja0JkCRUTnVI"
      }
    },
    {
      "cell_type": "code",
      "source": [
        "colonia_a = 4\n",
        "colonia_b = 10\n",
        "dias = 0\n",
        "tasa_a = 0.03\n",
        "tasa_b = 0.015\n",
        "\n",
        "while colonia_a <= colonia_b:\n",
        "  colonia_a = colonia_a * (1 + tasa_a)\n",
        "  colonia_b = colonia_b * (1 + tasa_b)\n",
        "  dias += 1\n",
        "print(f'Tomará {dias} días que la colonia A supere a la colonia B')\n"
      ],
      "metadata": {
        "colab": {
          "base_uri": "https://localhost:8080/"
        },
        "id": "KjrycLqLUGY1",
        "outputId": "ac45547c-3067-40e0-945b-8ce94a20736f"
      },
      "execution_count": null,
      "outputs": [
        {
          "output_type": "stream",
          "name": "stdout",
          "text": [
            "Tomará 63 días que la colonia A supere a la colonia B\n"
          ]
        }
      ]
    },
    {
      "cell_type": "markdown",
      "source": [
        "3. Para procesar una cantidad de 15 datos de evaluaciones de usuarios de un servicio de la empresa, necesitamos verificar si las calificaciones son válidas. Por lo tanto, escribe un programa que recibirá calificaciones del 0 al 5 y verificará si son valores válidos. Si se ingresa una calificación superior a 5 o inferior a 0, se repetirá hasta que el usuario ingrese un valor válido."
      ],
      "metadata": {
        "id": "BVPydER8TlRK"
      }
    },
    {
      "cell_type": "code",
      "source": [
        "# Lista para almacenar las 15 calificaciones válidas\n",
        "calificaciones = []\n",
        "\n",
        "# Ciclo para recibir 15 calificaciones válidas\n",
        "for i in range(15):\n",
        "    while True:\n",
        "        entrada = input(f\"Ingrese la calificación #{i+1} (de 0 a 5): \")\n",
        "\n",
        "        # Verificar si la entrada es un número (entero o decimal)\n",
        "        if entrada.replace('.', '', 1).isdigit():\n",
        "            calificacion = float(entrada)\n",
        "            if 0 <= calificacion <= 5:\n",
        "                calificaciones.append(calificacion)\n",
        "                break\n",
        "            else:\n",
        "                print(\"⚠️ Calificación fuera del rango. Debe estar entre 0 y 5.\")\n",
        "        else:\n",
        "            print(\"⚠️ Entrada inválida. Por favor, ingrese un número válido.\")\n",
        "\n",
        "# Mostrar todas las calificaciones válidas ingresadas\n",
        "print(\"\\n✅ Calificaciones válidas ingresadas:\")\n",
        "print(calificaciones)"
      ],
      "metadata": {
        "colab": {
          "base_uri": "https://localhost:8080/"
        },
        "id": "TzReX745VBnS",
        "outputId": "55555850-84df-492e-bb74-b419a2eed17c"
      },
      "execution_count": null,
      "outputs": [
        {
          "output_type": "stream",
          "name": "stdout",
          "text": [
            "Ingrese la calificación #1 (de 0 a 5): -2\n",
            "⚠️ Entrada inválida. Por favor, ingrese un número válido.\n",
            "Ingrese la calificación #1 (de 0 a 5): 6\n",
            "⚠️ Calificación fuera del rango. Debe estar entre 0 y 5.\n",
            "Ingrese la calificación #1 (de 0 a 5): 0\n",
            "Ingrese la calificación #2 (de 0 a 5): 1\n",
            "Ingrese la calificación #3 (de 0 a 5): 5\n",
            "Ingrese la calificación #4 (de 0 a 5): 3\n",
            "Ingrese la calificación #5 (de 0 a 5): 2\n",
            "Ingrese la calificación #6 (de 0 a 5): 5\n",
            "Ingrese la calificación #7 (de 0 a 5): 4\n",
            "Ingrese la calificación #8 (de 0 a 5): 8\n",
            "⚠️ Calificación fuera del rango. Debe estar entre 0 y 5.\n",
            "Ingrese la calificación #8 (de 0 a 5): 1\n",
            "Ingrese la calificación #9 (de 0 a 5): 3\n",
            "Ingrese la calificación #10 (de 0 a 5): 4\n",
            "Ingrese la calificación #11 (de 0 a 5): 2\n",
            "Ingrese la calificación #12 (de 0 a 5): 3\n",
            "Ingrese la calificación #13 (de 0 a 5): 5\n",
            "Ingrese la calificación #14 (de 0 a 5): 5\n",
            "Ingrese la calificación #15 (de 0 a 5): 5\n",
            "\n",
            "✅ Calificaciones válidas ingresadas:\n",
            "[0.0, 1.0, 5.0, 3.0, 2.0, 5.0, 4.0, 1.0, 3.0, 4.0, 2.0, 3.0, 5.0, 5.0, 5.0]\n"
          ]
        }
      ]
    },
    {
      "cell_type": "markdown",
      "source": [
        "4. Desarrolla un programa que lea un conjunto indefinido de temperaturas en grados Celsius y calcule su promedio. La lectura debe detenerse al ingresar el valor -273°C."
      ],
      "metadata": {
        "id": "W3xuFaSzTk6Q"
      }
    },
    {
      "cell_type": "code",
      "source": [
        "# Lista para almacenar las temperaturas válidas\n",
        "temperaturas = []\n",
        "\n",
        "print(\"Ingrese temperaturas en grados Celsius.\")\n",
        "print(\"Para finalizar, ingrese -273 (cero absoluto).\")\n",
        "\n",
        "while True:\n",
        "    entrada = input(\"Temperatura: \")\n",
        "\n",
        "    # Verificar que la entrada sea un número\n",
        "    if entrada.replace('.', '', 1).lstrip('-').isdigit():\n",
        "        temp = float(entrada)\n",
        "\n",
        "        if temp == -273:\n",
        "            print(\"🚫 Se ha ingresado -273°C. Fin de la lectura.\")\n",
        "            break\n",
        "        else:\n",
        "            temperaturas.append(temp)\n",
        "    else:\n",
        "        print(\"⚠️ Entrada inválida. Ingrese una temperatura numérica.\")\n",
        "\n",
        "# Calcular el promedio si se ingresaron temperaturas válidas\n",
        "if temperaturas:\n",
        "    promedio = sum(temperaturas) / len(temperaturas)\n",
        "    print(f\"\\n✅ Promedio de temperaturas ingresadas: {promedio:.2f} °C\")\n",
        "    print(\"Las temperaturas ingresadas son:\", ', '.join(str(t) for t in temperaturas))\n",
        "else:\n",
        "  print(\"\\n⚠️ No se ingresaron temperaturas válidas para calcular el promedio.\")"
      ],
      "metadata": {
        "colab": {
          "base_uri": "https://localhost:8080/"
        },
        "id": "7AmDElWMXXZU",
        "outputId": "76ea5019-8acc-491e-f0b7-bbe9b85d2065"
      },
      "execution_count": null,
      "outputs": [
        {
          "output_type": "stream",
          "name": "stdout",
          "text": [
            "Ingrese temperaturas en grados Celsius.\n",
            "Para finalizar, ingrese -273 (cero absoluto).\n",
            "Temperatura: 0\n",
            "Temperatura: 9\n",
            "Temperatura: 278\n",
            "Temperatura: -300\n",
            "Temperatura: -273\n",
            "🚫 Se ha ingresado -273°C. Fin de la lectura.\n",
            "\n",
            "✅ Promedio de temperaturas ingresadas: -3.25 °C\n",
            "Las temperaturas ingresadas son: 0.0, 9.0, 278.0, -300.0\n"
          ]
        }
      ]
    },
    {
      "cell_type": "markdown",
      "source": [
        "5. Escribe un programa que calcule el factorial de un número entero proporcionado por el usuario. Recuerda que el factorial de un número entero es el producto de ese número por todos sus antecesores hasta llegar al número 1. Por ejemplo, el factorial de 5 es 5 x 4 x 3 x 2 x 1 = 120."
      ],
      "metadata": {
        "id": "fBnY2DCRTkmp"
      }
    },
    {
      "cell_type": "code",
      "source": [
        "while True:\n",
        "    entrada = input('Escribe un número entero: ')\n",
        "\n",
        "    # Verificamos si la entrada es un número entero\n",
        "    if entrada.isdigit() or (entrada.startswith('-') and entrada[1:].isdigit()):\n",
        "        numero = int(entrada)\n",
        "\n",
        "        if numero < 0:\n",
        "            print(\"El factorial no está definido para números negativos.\")\n",
        "        elif numero == 0:\n",
        "            print(\"El factorial de 0 es 1.\")\n",
        "            break\n",
        "        else:\n",
        "            factorial = 1  # Reiniciamos el factorial en cada nuevo cálculo\n",
        "            for i in range(1, numero + 1):\n",
        "                factorial *= i\n",
        "            print(f\"El factorial de {numero} es {factorial}\")\n",
        "            break\n",
        "    else:\n",
        "        print(\"\\n⚠️ No es un número válido, vuelve a intentar.\")"
      ],
      "metadata": {
        "colab": {
          "base_uri": "https://localhost:8080/"
        },
        "id": "VcTp-h-25yaq",
        "outputId": "af61f5a8-23d3-437c-9aec-add0686e17ca"
      },
      "execution_count": null,
      "outputs": [
        {
          "output_type": "stream",
          "name": "stdout",
          "text": [
            "Escribe un número entero: 0\n",
            "El factorial de 0 es 1.\n"
          ]
        }
      ]
    },
    {
      "cell_type": "markdown",
      "source": [
        "### Momento de los proyectos\n",
        "\n",
        "6. Escribe un programa que genere la tabla de multiplicar de un número entero del 1 al 10, según la elección del usuario. Como ejemplo, para el número 2, la tabla de multiplicar debe mostrarse en el siguiente formato:\n",
        "\n",
        "Tabla de multiplicar del 2:\n",
        "2 x 1 = 2\n",
        "2 x 2 = 4\n",
        "[...]\n",
        "2 x 10 = 20"
      ],
      "metadata": {
        "id": "4imXEUAOTkPB"
      }
    },
    {
      "cell_type": "code",
      "source": [
        "while True:\n",
        "    entrada = input('Escribe un número entero del 1 al 10:  ')\n",
        "\n",
        "    # Verificamos si la entrada es un número entero\n",
        "    if entrada.isdigit() or (entrada.startswith('-') and entrada[1:].isdigit()):\n",
        "        numero = int(entrada)\n",
        "\n",
        "        if numero < 0:\n",
        "            print(\"La tabla de multiplicar no está definido para números negativos.\")\n",
        "        elif numero == 0:\n",
        "            print(\"La tabla no esta definida para el número 0.\")\n",
        "        elif numero > 10:\n",
        "            print(\"La tabla de multiplicar no está definido para números mayores a 10.\")\n",
        "        else:\n",
        "            print(f'Tabla de multiplicar del número {numero}:')\n",
        "            for i in range(1, 11):\n",
        "              print(f'{numero} x {i} = {numero * i}')\n",
        "            break\n",
        "    else:\n",
        "        print(\"\\n⚠️ No es un número válido, vuelve a intentar.\")"
      ],
      "metadata": {
        "colab": {
          "base_uri": "https://localhost:8080/"
        },
        "id": "g9Fv8_f28vIq",
        "outputId": "3797174c-5521-4d53-9fd1-8d475e98b2b9"
      },
      "execution_count": null,
      "outputs": [
        {
          "output_type": "stream",
          "name": "stdout",
          "text": [
            "Escribe un número entero del 1 al 10:  a\n",
            "\n",
            "⚠️ No es un número válido, vuelve a intentar.\n",
            "Escribe un número entero del 1 al 10:  9.8\n",
            "\n",
            "⚠️ No es un número válido, vuelve a intentar.\n",
            "Escribe un número entero del 1 al 10:  -5\n",
            "La tabla de multiplicar no está definido para números negativos.\n",
            "Escribe un número entero del 1 al 10:  12\n",
            "La tabla de multiplicar no está definido para números mayores a 10.\n",
            "Escribe un número entero del 1 al 10:  11\n",
            "La tabla de multiplicar no está definido para números mayores a 10.\n",
            "Escribe un número entero del 1 al 10:  0\n",
            "La tabla no esta definida para el número 0.\n",
            "Escribe un número entero del 1 al 10:  9\n",
            "Tabla de multiplicar del número 9:\n",
            "9 x 1 = 9\n",
            "9 x 2 = 18\n",
            "9 x 3 = 27\n",
            "9 x 4 = 36\n",
            "9 x 5 = 45\n",
            "9 x 6 = 54\n",
            "9 x 7 = 63\n",
            "9 x 8 = 72\n",
            "9 x 9 = 81\n",
            "9 x 10 = 90\n"
          ]
        }
      ]
    },
    {
      "cell_type": "markdown",
      "source": [
        "7. Los números primos tienen diversas aplicaciones en Ciencia de Datos, como en criptografía y seguridad. Un número primo es aquel que es divisible solo por sí mismo y por 1. Por lo tanto, crea un programa que solicite un número entero y determine si es un número primo o no."
      ],
      "metadata": {
        "id": "CEDuKsrWTjeK"
      }
    },
    {
      "cell_type": "code",
      "source": [
        "import math\n",
        "\n",
        "while True:\n",
        "    entrada = input('Escribe un número entero:  ')\n",
        "\n",
        "    # Verificamos si la entrada es un número entero\n",
        "    if entrada.isdigit() or (entrada.startswith('-') and entrada[1:].isdigit()):\n",
        "        primo = int(entrada)\n",
        "\n",
        "        if primo < 0:\n",
        "            print(\"El número primo no está definido para números negativos.\")\n",
        "        elif primo == 0:\n",
        "            print(\"El número primo no está definido para el número 0.\")\n",
        "        elif primo == 1:\n",
        "            print(\"El número 1 no es un número primo.\")\n",
        "        else:\n",
        "            es_primo = True\n",
        "            for i in range(2, int(math.sqrt(primo)) + 1):  # Verificación hasta la raíz cuadrada\n",
        "                if primo % i == 0:\n",
        "                    es_primo = False\n",
        "                    break\n",
        "            if es_primo:\n",
        "                print(f'{primo} es un número primo.')\n",
        "            else:\n",
        "                print(f'{primo} no es un número primo.')\n",
        "            break\n",
        "    else:\n",
        "        print(\"\\n⚠️ No es un número válido, vuelve a intentar.\")"
      ],
      "metadata": {
        "colab": {
          "base_uri": "https://localhost:8080/"
        },
        "id": "34w7TUdg-L5e",
        "outputId": "3026f0bc-3f1f-488d-8376-d3c53be1ec3e"
      },
      "execution_count": null,
      "outputs": [
        {
          "output_type": "stream",
          "name": "stdout",
          "text": [
            "Escribe un número entero:  36\n",
            "36 no es un número primo.\n"
          ]
        }
      ]
    },
    {
      "cell_type": "markdown",
      "source": [
        "8. Vamos a comprender la distribución de edades de los pensionistas de una empresa de seguros. Escribe un programa que lea las edades de una cantidad no informada de clientes y muestre la distribución en los intervalos [0-25], [26-50], [51-75] y [76-100]. La entrada de datos se detendrá al ingresar un número negativo."
      ],
      "metadata": {
        "id": "3YpT61EJTiZI"
      }
    },
    {
      "cell_type": "code",
      "source": [
        "# Inicializamos las variables para contar las edades en cada intervalo\n",
        "rango_0_25 = 0\n",
        "rango_26_50 = 0\n",
        "rango_51_75 = 0\n",
        "rango_76_100 = 0\n",
        "\n",
        "print(\"Introduce las edades de los clientes. Para terminar, ingresa un número negativo.\")\n",
        "\n",
        "while True:\n",
        "    # Solicitar la edad del cliente\n",
        "    edad = int(input(\"Edad del cliente: \"))\n",
        "\n",
        "    # Si el valor ingresado es negativo, salimos del bucle\n",
        "    if edad < 0:\n",
        "        break\n",
        "\n",
        "    # Verificar en qué rango de edad cae la edad ingresada\n",
        "    if 0 <= edad <= 25:\n",
        "        rango_0_25 += 1\n",
        "    elif 26 <= edad <= 50:\n",
        "        rango_26_50 += 1\n",
        "    elif 51 <= edad <= 75:\n",
        "        rango_51_75 += 1\n",
        "    elif 76 <= edad <= 100:\n",
        "        rango_76_100 += 1\n",
        "    else:\n",
        "        print(\"⚠️ Edad fuera del rango permitido (0-100). No se cuenta.\")\n",
        "\n",
        "# Mostrar la distribución de edades en los rangos solicitados\n",
        "print(\"\\nDistribución de edades de los pensionistas:\")\n",
        "print(f\"Rango [0-25]: {rango_0_25} clientes\")\n",
        "print(f\"Rango [26-50]: {rango_26_50} clientes\")\n",
        "print(f\"Rango [51-75]: {rango_51_75} clientes\")\n",
        "print(f\"Rango [76-100]: {rango_76_100} clientes\")"
      ],
      "metadata": {
        "colab": {
          "base_uri": "https://localhost:8080/"
        },
        "id": "Cpps2RLtBCmj",
        "outputId": "1d4e58c3-4552-4794-d94e-d4de6badff73"
      },
      "execution_count": null,
      "outputs": [
        {
          "output_type": "stream",
          "name": "stdout",
          "text": [
            "Introduce las edades de los clientes. Para terminar, ingresa un número negativo.\n",
            "Edad del cliente: 0\n",
            "Edad del cliente: 2\n",
            "Edad del cliente: 25\n",
            "Edad del cliente: 30\n",
            "Edad del cliente: 56\n",
            "Edad del cliente: 80\n",
            "Edad del cliente: 85\n",
            "Edad del cliente: 89\n",
            "Edad del cliente: 101\n",
            "⚠️ Edad fuera del rango permitido (0-100). No se cuenta.\n",
            "Edad del cliente: 100\n",
            "Edad del cliente: 57\n",
            "Edad del cliente: -2\n",
            "\n",
            "Distribución de edades de los pensionistas:\n",
            "Rango [0-25]: 3 clientes\n",
            "Rango [26-50]: 1 clientes\n",
            "Rango [51-75]: 2 clientes\n",
            "Rango [76-100]: 4 clientes\n"
          ]
        }
      ]
    },
    {
      "cell_type": "markdown",
      "source": [
        "9. En una elección para la gerencia de una empresa con 20 empleados, hay cuatro candidatos. Escribe un programa que calcule al ganador de la elección. La votación se realizó de la siguiente manera:\n",
        "\n",
        "* Cada empleado votó por uno de los cuatro candidatos (representados por los números 1, 2, 3 y 4).\n",
        "\n",
        "* También se contaron los votos nulos (representados por el número 5) y los votos en blanco (representados por el número 6).\n",
        "\n",
        "* Al final de la votación, el programa debe mostrar el número total de votos para cada candidato, los votos nulos y los votos en blanco. Además, debe calcular y mostrar el porcentaje de votos nulos con respecto al total de votos y el porcentaje de votos en blanco con respecto al total de votos."
      ],
      "metadata": {
        "id": "RdViyZvJTh-z"
      }
    },
    {
      "cell_type": "code",
      "source": [
        "empleados = 20\n",
        "votos_candidato_1 = 0\n",
        "votos_candidato_2 = 0\n",
        "votos_candidato_3 = 0\n",
        "votos_candidato_4 = 0\n",
        "votos_nulos = 0\n",
        "votos_en_blanco = 0\n",
        "\n",
        "while empleados > 0:\n",
        "    entrada = input(\"Ingrese el número de su voto (1, 2, 3 o 4 para candidato de su elección, 5 para nulo y 6 para en blanco): \")\n",
        "\n",
        "    # Verificamos si la entrada es un número entero y si está en el rango 1-6\n",
        "    if entrada.isdigit():\n",
        "        voto = int(entrada)\n",
        "\n",
        "        if voto == 1:\n",
        "            votos_candidato_1 += 1\n",
        "        elif voto == 2:\n",
        "            votos_candidato_2 += 1\n",
        "        elif voto == 3:\n",
        "            votos_candidato_3 += 1\n",
        "        elif voto == 4:\n",
        "            votos_candidato_4 += 1\n",
        "        elif voto == 5:\n",
        "            votos_nulos += 1\n",
        "        elif voto == 6:\n",
        "            votos_en_blanco += 1\n",
        "        else:\n",
        "            print(\"⚠️ Número de voto invalido. No se cuenta.\")\n",
        "            continue\n",
        "\n",
        "        empleados -= 1  # Disminuimos el número de empleados después de cada voto\n",
        "    else:\n",
        "        print(\"\\n⚠️ No es un número válido, vuelve a intentar.\")\n",
        "\n",
        "# Mostrar la distribución de las votaciones\n",
        "print(\"\\nDistribución de votaciones:\")\n",
        "print(f\"Votos candidato No. 1: {votos_candidato_1} votos\")\n",
        "print(f\"Votos candidato No. 2: {votos_candidato_2} votos\")\n",
        "print(f\"Votos candidato No. 3: {votos_candidato_3} votos\")\n",
        "print(f\"Votos candidato No. 4: {votos_candidato_4} votos\")\n",
        "print(f\"Votos nulos: {votos_nulos} votos\")\n",
        "print(f\"Votos en blanco: {votos_en_blanco} votos\")\n",
        "print(f\"Total de votantes: {20 - empleados} empleados votaron.\")\n"
      ],
      "metadata": {
        "colab": {
          "base_uri": "https://localhost:8080/"
        },
        "id": "NT_ErBPeE8uQ",
        "outputId": "50d37fea-8fb5-4ec9-db1d-3b6e925c0456"
      },
      "execution_count": null,
      "outputs": [
        {
          "output_type": "stream",
          "name": "stdout",
          "text": [
            "Ingrese el número de su voto (1, 2, 3 o 4 para candidato de su elección, 5 para nulo y 6 para en blanco): a\n",
            "\n",
            "⚠️ No es un número válido, vuelve a intentar.\n",
            "Ingrese el número de su voto (1, 2, 3 o 4 para candidato de su elección, 5 para nulo y 6 para en blanco): -2\n",
            "\n",
            "⚠️ No es un número válido, vuelve a intentar.\n",
            "Ingrese el número de su voto (1, 2, 3 o 4 para candidato de su elección, 5 para nulo y 6 para en blanco): 0\n",
            "⚠️ Número de voto invalido. No se cuenta.\n",
            "Ingrese el número de su voto (1, 2, 3 o 4 para candidato de su elección, 5 para nulo y 6 para en blanco): 1\n",
            "Ingrese el número de su voto (1, 2, 3 o 4 para candidato de su elección, 5 para nulo y 6 para en blanco): 2\n",
            "Ingrese el número de su voto (1, 2, 3 o 4 para candidato de su elección, 5 para nulo y 6 para en blanco): 3\n",
            "Ingrese el número de su voto (1, 2, 3 o 4 para candidato de su elección, 5 para nulo y 6 para en blanco): 4\n",
            "Ingrese el número de su voto (1, 2, 3 o 4 para candidato de su elección, 5 para nulo y 6 para en blanco): 5\n",
            "Ingrese el número de su voto (1, 2, 3 o 4 para candidato de su elección, 5 para nulo y 6 para en blanco): 6\n",
            "Ingrese el número de su voto (1, 2, 3 o 4 para candidato de su elección, 5 para nulo y 6 para en blanco): 1\n",
            "Ingrese el número de su voto (1, 2, 3 o 4 para candidato de su elección, 5 para nulo y 6 para en blanco): 2\n",
            "Ingrese el número de su voto (1, 2, 3 o 4 para candidato de su elección, 5 para nulo y 6 para en blanco): 3\n",
            "Ingrese el número de su voto (1, 2, 3 o 4 para candidato de su elección, 5 para nulo y 6 para en blanco): 4\n",
            "Ingrese el número de su voto (1, 2, 3 o 4 para candidato de su elección, 5 para nulo y 6 para en blanco): 5\n",
            "Ingrese el número de su voto (1, 2, 3 o 4 para candidato de su elección, 5 para nulo y 6 para en blanco): 6\n",
            "Ingrese el número de su voto (1, 2, 3 o 4 para candidato de su elección, 5 para nulo y 6 para en blanco): 1\n",
            "Ingrese el número de su voto (1, 2, 3 o 4 para candidato de su elección, 5 para nulo y 6 para en blanco): 2\n",
            "Ingrese el número de su voto (1, 2, 3 o 4 para candidato de su elección, 5 para nulo y 6 para en blanco): 3\n",
            "Ingrese el número de su voto (1, 2, 3 o 4 para candidato de su elección, 5 para nulo y 6 para en blanco): 4\n",
            "Ingrese el número de su voto (1, 2, 3 o 4 para candidato de su elección, 5 para nulo y 6 para en blanco): 5\n",
            "Ingrese el número de su voto (1, 2, 3 o 4 para candidato de su elección, 5 para nulo y 6 para en blanco): 6\n",
            "Ingrese el número de su voto (1, 2, 3 o 4 para candidato de su elección, 5 para nulo y 6 para en blanco): 1\n",
            "Ingrese el número de su voto (1, 2, 3 o 4 para candidato de su elección, 5 para nulo y 6 para en blanco): 3\n",
            "\n",
            "Distribución de votaciones:\n",
            "Votos candidato No. 1: 4 votos\n",
            "Votos candidato No. 2: 3 votos\n",
            "Votos candidato No. 3: 4 votos\n",
            "Votos candidato No. 4: 3 votos\n",
            "Votos nulos: 3 votos\n",
            "Votos en blanco: 3 votos\n",
            "Total de votantes: 20 empleados votaron.\n"
          ]
        }
      ]
    },
    {
      "cell_type": "markdown",
      "source": [
        "# Estructuras de datos"
      ],
      "metadata": {
        "id": "8noP8OJ0Vhux"
      }
    },
    {
      "cell_type": "markdown",
      "source": [
        "Un conjunto de elementos es una colección de items, que son almacenados juntos de manera organizada. Algunos ejemplos de conjuntos de elementos en Python son las listas, los strings y los diccionarios."
      ],
      "metadata": {
        "id": "xpEUkefTu8fY"
      }
    },
    {
      "cell_type": "markdown",
      "source": [
        "## Listas"
      ],
      "metadata": {
        "id": "THSg4KYLwxIb"
      }
    },
    {
      "cell_type": "markdown",
      "source": [
        "Las listas pueden almacenar una colección de items en orden. Ellas son delimitadas por corchetes `[]` y sus elementos son separados por comas.\n",
        "\n",
        "Estas pueden almacenar cualquier tipo de items, incluyendo números, strings, objetos, otras listas, entre otros. También nos permiten almacenar items de tipos de datos diferentes juntos en una única lista."
      ],
      "metadata": {
        "id": "dzpsiqrOyJcK"
      }
    },
    {
      "cell_type": "code",
      "source": [
        "lista = ['Penélope Camacho',9.5,9.0,9.7,True]\n",
        "lista"
      ],
      "metadata": {
        "id": "DO3TBj7nAYeG",
        "colab": {
          "base_uri": "https://localhost:8080/"
        },
        "outputId": "51f8b9d4-4495-4798-cfdb-0e78e094b16c"
      },
      "execution_count": null,
      "outputs": [
        {
          "output_type": "execute_result",
          "data": {
            "text/plain": [
              "['Penélope Camacho', 9.5, 9.0, 9.7, True]"
            ]
          },
          "metadata": {},
          "execution_count": 28
        }
      ]
    },
    {
      "cell_type": "code",
      "source": [
        "type(lista)"
      ],
      "metadata": {
        "id": "DO2ubP9N9D_2",
        "colab": {
          "base_uri": "https://localhost:8080/"
        },
        "outputId": "e5d26df1-31ce-413c-be5f-c6ed8312aa3a"
      },
      "execution_count": null,
      "outputs": [
        {
          "output_type": "execute_result",
          "data": {
            "text/plain": [
              "list"
            ]
          },
          "metadata": {},
          "execution_count": 29
        }
      ]
    },
    {
      "cell_type": "markdown",
      "source": [
        "Las listas son organizadas en Python porque **cada elemento de la lista tiene un índice que indica su posición al interior de la lista**. Los índices comienzan en 0 van hasta el tamaño de la lista menos 1."
      ],
      "metadata": {
        "id": "qUz3sJNl6LgK"
      }
    },
    {
      "cell_type": "markdown",
      "source": [
        "Tenemos entonces 5 elementos con índices que varían de 0 a 4, ordenadamente:\n",
        "\n",
        "```\n",
        "#             [0]           [1]   [2]   [3]    [4]\n",
        "lista = ['Penélope Camacho', 9.5 , 9.0 , 9.7 , True]\n",
        "```\n",
        "\n",
        "En Python tenemos también los índices **negativos** que se inician en el último elemento con el valor de `-1` y avanzan en el universo de los negativos hasta llegar al 1° elemento:\n",
        "\n",
        "```\n",
        "#             [-5]         [-4]  [-3]  [-2]   [-1]\n",
        "lista = ['Penélope Camacho', 9.5 , 9.0 , 9.7 , True]\n",
        "```\n",
        "\n",
        "Logramos seleccionar separadamente cada elemento a través de sus respectivos índices. Colocando el nombre de la lista y en seguida el índice que será seleccionado."
      ],
      "metadata": {
        "id": "rLf-Qg526hFD"
      }
    },
    {
      "cell_type": "code",
      "source": [
        "type(lista[0])"
      ],
      "metadata": {
        "id": "4hco1Zqy88Kw",
        "colab": {
          "base_uri": "https://localhost:8080/"
        },
        "outputId": "7471a28b-cb10-4ece-969e-6fc30a064e45"
      },
      "execution_count": null,
      "outputs": [
        {
          "output_type": "execute_result",
          "data": {
            "text/plain": [
              "str"
            ]
          },
          "metadata": {},
          "execution_count": 30
        }
      ]
    },
    {
      "cell_type": "code",
      "source": [
        "type(lista[-2])"
      ],
      "metadata": {
        "id": "M8lH0I2288Ph",
        "colab": {
          "base_uri": "https://localhost:8080/"
        },
        "outputId": "fb1b254c-9cbc-4fb5-93ba-2bdee89f158e"
      },
      "execution_count": null,
      "outputs": [
        {
          "output_type": "execute_result",
          "data": {
            "text/plain": [
              "float"
            ]
          },
          "metadata": {},
          "execution_count": 31
        }
      ]
    },
    {
      "cell_type": "code",
      "source": [
        "type(lista[-1])"
      ],
      "metadata": {
        "colab": {
          "base_uri": "https://localhost:8080/"
        },
        "id": "aLvslI7VW9wu",
        "outputId": "7509c44e-9611-4545-e9bc-87245b9304c9"
      },
      "execution_count": null,
      "outputs": [
        {
          "output_type": "execute_result",
          "data": {
            "text/plain": [
              "bool"
            ]
          },
          "metadata": {},
          "execution_count": 33
        }
      ]
    },
    {
      "cell_type": "markdown",
      "source": [
        "Una forma más dinámica de trabajar item a item en una lista es utilizando un lazo `for` para leer un elemento a la vez."
      ],
      "metadata": {
        "id": "6TaE1ijmBTCd"
      }
    },
    {
      "cell_type": "code",
      "source": [
        "for e in lista:\n",
        "  print(e)\n",
        "  print(type(e))"
      ],
      "metadata": {
        "id": "rBx4Yu1786Sy",
        "colab": {
          "base_uri": "https://localhost:8080/"
        },
        "outputId": "6d81fc90-d239-49f8-adbd-2143a155c81a"
      },
      "execution_count": null,
      "outputs": [
        {
          "output_type": "stream",
          "name": "stdout",
          "text": [
            "Penélope Camacho\n",
            "<class 'str'>\n",
            "9.5\n",
            "<class 'float'>\n",
            "9.0\n",
            "<class 'float'>\n",
            "9.7\n",
            "<class 'float'>\n",
            "True\n",
            "<class 'bool'>\n"
          ]
        }
      ]
    },
    {
      "cell_type": "markdown",
      "source": [
        "**Situación**: La nota `9.0` de Penélope necesita ser ajustada pues ganó 1 punto en su última nota por participación en clase. Entonces es necesario realizar un cambio en el índice `2` de `9.0` a `10.0`."
      ],
      "metadata": {
        "id": "Dh1_HnIVvucY"
      }
    },
    {
      "cell_type": "code",
      "source": [
        "lista[2] = 10.0\n",
        "lista"
      ],
      "metadata": {
        "id": "bVPoZg668z3T",
        "colab": {
          "base_uri": "https://localhost:8080/"
        },
        "outputId": "89edeb0a-3ff3-484f-fe69-50d85d47b311"
      },
      "execution_count": null,
      "outputs": [
        {
          "output_type": "execute_result",
          "data": {
            "text/plain": [
              "['Penélope Camacho', 9.5, 10.0, 9.7, True]"
            ]
          },
          "metadata": {},
          "execution_count": 35
        }
      ]
    },
    {
      "cell_type": "markdown",
      "source": [
        "También podemos calcular el promedio del estudiante a partir de los datos que tenemos."
      ],
      "metadata": {
        "id": "53XduzXkycAf"
      }
    },
    {
      "cell_type": "code",
      "source": [
        "promedio = (lista[1] + lista[2] + lista[3]) / 3\n",
        "promedio"
      ],
      "metadata": {
        "id": "SIH61Rrb8yv4",
        "colab": {
          "base_uri": "https://localhost:8080/"
        },
        "outputId": "9eccc4b4-55ed-4a7e-b52c-3c9fec8a0e2c"
      },
      "execution_count": null,
      "outputs": [
        {
          "output_type": "execute_result",
          "data": {
            "text/plain": [
              "9.733333333333333"
            ]
          },
          "metadata": {},
          "execution_count": 36
        }
      ]
    },
    {
      "cell_type": "markdown",
      "source": [
        "## Manipulación de listas\n",
        "\n",
        "Las listas son muy útiles en Python porque nos permiten almacenar y acceder a una colección de items de manera organizada y rápida. Estas también ofrecen muchos métodos útiles para manipular los itens almacenados, como adicionar, remover, clasificar y buscar elementos."
      ],
      "metadata": {
        "id": "d-iYr10-y4qw"
      }
    },
    {
      "cell_type": "markdown",
      "source": [
        "### Secuenccia de caracteres\n",
        "* Cada caracter tiene un indice el cual se puede consultar\n",
        "* Se puede convertir una cadena de texto en una lista mediante el metodo split()\n",
        "* Si no se define el delimitador, se toma por defecto el espacio en blanco \" \".\n",
        "* Se puede convertir una lista en una cadena mediante el metodo join().\n"
      ],
      "metadata": {
        "id": "b8Hvl4PHYJzl"
      }
    },
    {
      "cell_type": "code",
      "source": [
        "palabra = 'python'\n",
        "print(palabra[0], palabra[1], palabra[2], palabra[3], palabra[4], palabra[5])"
      ],
      "metadata": {
        "colab": {
          "base_uri": "https://localhost:8080/"
        },
        "id": "edEvb5GYY8VM",
        "outputId": "87e20b34-ef88-4280-f60d-89f995e56b5e"
      },
      "execution_count": null,
      "outputs": [
        {
          "output_type": "stream",
          "name": "stdout",
          "text": [
            "p y t h o n\n"
          ]
        }
      ]
    },
    {
      "cell_type": "code",
      "source": [
        "#función split()\n",
        "frase = 'Mucho gusto, me llamo David.'\n",
        "print(frase.split())\n",
        "\n",
        "#delimitador\n",
        "frase2 = '¿Como te llamas? ¿Eres nuevo?'\n",
        "print(frase2.split('?'))\n",
        "\n",
        "#función join()\n",
        "palabras = ['Mucho', 'gusto,', 'me', 'llamo', 'David.']\n",
        "print(' '.join(palabras))"
      ],
      "metadata": {
        "colab": {
          "base_uri": "https://localhost:8080/"
        },
        "id": "qGRou6k3ZSIz",
        "outputId": "917cf226-7363-4437-fc13-14b861a8fdf2"
      },
      "execution_count": null,
      "outputs": [
        {
          "output_type": "stream",
          "name": "stdout",
          "text": [
            "['Mucho', 'gusto,', 'me', 'llamo', 'David.']\n",
            "['¿Como te llamas', ' ¿Eres nuevo', '']\n",
            "Mucho gusto, me llamo David.\n"
          ]
        }
      ]
    },
    {
      "cell_type": "markdown",
      "source": [
        "#### Cantidad de elementos\n",
        "\n",
        "Usamos la función [`len()`](https://docs.python.org/3/library/functions.html#len) para descubrir la cantidad de elementos de un conjunto."
      ],
      "metadata": {
        "id": "ZLqx9A97XVB_"
      }
    },
    {
      "cell_type": "code",
      "source": [
        "len(lista)"
      ],
      "metadata": {
        "id": "6q1Tmm7P8wQf",
        "colab": {
          "base_uri": "https://localhost:8080/"
        },
        "outputId": "5e32f361-148c-46f3-babf-e868f6c79be9"
      },
      "execution_count": null,
      "outputs": [
        {
          "output_type": "execute_result",
          "data": {
            "text/plain": [
              "5"
            ]
          },
          "metadata": {},
          "execution_count": 41
        }
      ]
    },
    {
      "cell_type": "markdown",
      "source": [
        "#### Partición\n",
        "\n",
        "La partición de listas por indexación en Python es una técnica muy útil para seleccionar un subconjunto de elementos de una lista. Esta se realiza usando la sintaxis `lista[inicio:fin]`, donde `inicio` es el índice del primer elemento que será incluído en la partición `fin` es el índice del primer elemento que será excluído de la partición."
      ],
      "metadata": {
        "id": "Z5tpstlHJss3"
      }
    },
    {
      "cell_type": "code",
      "source": [
        "lista[1:4]"
      ],
      "metadata": {
        "id": "NctvJTTU8uV9",
        "colab": {
          "base_uri": "https://localhost:8080/"
        },
        "outputId": "88cd7985-88c4-410b-9408-13bd67767545"
      },
      "execution_count": null,
      "outputs": [
        {
          "output_type": "execute_result",
          "data": {
            "text/plain": [
              "[9.5, 10.0, 9.7]"
            ]
          },
          "metadata": {},
          "execution_count": 42
        }
      ]
    },
    {
      "cell_type": "code",
      "source": [
        "lista[0:3]"
      ],
      "metadata": {
        "id": "bQZUwldj8uY2",
        "colab": {
          "base_uri": "https://localhost:8080/"
        },
        "outputId": "d2612e0c-9e76-448e-f8d9-1839dfef9038"
      },
      "execution_count": null,
      "outputs": [
        {
          "output_type": "execute_result",
          "data": {
            "text/plain": [
              "['Penélope Camacho', 9.5, 10.0]"
            ]
          },
          "metadata": {},
          "execution_count": 43
        }
      ]
    },
    {
      "cell_type": "code",
      "source": [
        "lista[:]"
      ],
      "metadata": {
        "colab": {
          "base_uri": "https://localhost:8080/"
        },
        "id": "qI65ryh7a1PH",
        "outputId": "76a2609d-91a0-4ed5-b62a-58235d6dc279"
      },
      "execution_count": null,
      "outputs": [
        {
          "output_type": "execute_result",
          "data": {
            "text/plain": [
              "['Penélope Camacho', 9.5, 10.0, 9.7, True]"
            ]
          },
          "metadata": {},
          "execution_count": 46
        }
      ]
    },
    {
      "cell_type": "code",
      "source": [
        "lista[2:]"
      ],
      "metadata": {
        "colab": {
          "base_uri": "https://localhost:8080/"
        },
        "id": "edNQvBKaa7Vl",
        "outputId": "089a0043-10ba-4b75-fd2d-efc529c2cefc"
      },
      "execution_count": null,
      "outputs": [
        {
          "output_type": "execute_result",
          "data": {
            "text/plain": [
              "[10.0, 9.7, True]"
            ]
          },
          "metadata": {},
          "execution_count": 45
        }
      ]
    },
    {
      "cell_type": "markdown",
      "source": [
        "#### [`append()`](https://docs.python.org/3/tutorial/datastructures.html#:~:text=of%20list%20objects%3A-,list.append(x),-Add%20an%20item)\n",
        "\n",
        "Añade un elemento al final de la lista."
      ],
      "metadata": {
        "id": "O0RRyabkRzZC"
      }
    },
    {
      "cell_type": "code",
      "source": [
        "lista.append(promedio)\n",
        "lista"
      ],
      "metadata": {
        "id": "_Q0oODwa8spC",
        "colab": {
          "base_uri": "https://localhost:8080/"
        },
        "outputId": "56a84076-1a3f-4535-d824-50075404e144"
      },
      "execution_count": null,
      "outputs": [
        {
          "output_type": "execute_result",
          "data": {
            "text/plain": [
              "['Penélope Camacho', 9.5, 10.0, 9.7, True, 9.733333333333333]"
            ]
          },
          "metadata": {},
          "execution_count": 47
        }
      ]
    },
    {
      "cell_type": "markdown",
      "source": [
        "#### [`extend()`](https://docs.python.org/3/tutorial/datastructures.html#:~:text=list.extend(iterable))\n",
        "\n",
        "Añade varios elementos al final de la lista.\n",
        "\n",
        "Añadiremos las notas `[10.0,8.0,9.0]` En la lista de Penélope Camacho."
      ],
      "metadata": {
        "id": "uQV91XMsUOJD"
      }
    },
    {
      "cell_type": "code",
      "source": [
        "lista.extend([10.0,8.0,9.0])\n",
        "lista"
      ],
      "metadata": {
        "id": "6Zk2MpMw8rQc",
        "colab": {
          "base_uri": "https://localhost:8080/"
        },
        "outputId": "1a31a421-5f11-411d-ed3f-2f52115120e1"
      },
      "execution_count": null,
      "outputs": [
        {
          "output_type": "execute_result",
          "data": {
            "text/plain": [
              "['Penélope Camacho', 9.5, 10.0, 9.7, True, 9.733333333333333, 10.0, 8.0, 9.0]"
            ]
          },
          "metadata": {},
          "execution_count": 48
        }
      ]
    },
    {
      "cell_type": "markdown",
      "source": [
        "*A continuación te mostraremos lo que no puede realizarse con* `append`."
      ],
      "metadata": {
        "id": "IVJvkTwNUk6M"
      }
    },
    {
      "cell_type": "code",
      "source": [
        "lista.append([10.0,8.0,9.0])\n",
        "lista"
      ],
      "metadata": {
        "id": "u3Eub2ZL8pp3",
        "colab": {
          "base_uri": "https://localhost:8080/"
        },
        "outputId": "919ac447-4b83-401f-a029-384f9b218f6f"
      },
      "execution_count": null,
      "outputs": [
        {
          "output_type": "execute_result",
          "data": {
            "text/plain": [
              "['Penélope Camacho',\n",
              " 9.5,\n",
              " 10.0,\n",
              " 9.7,\n",
              " True,\n",
              " 9.733333333333333,\n",
              " 10.0,\n",
              " 8.0,\n",
              " 9.0,\n",
              " [10.0, 8.0, 9.0]]"
            ]
          },
          "metadata": {},
          "execution_count": 49
        }
      ]
    },
    {
      "cell_type": "markdown",
      "source": [
        "#### [`remove()`](https://docs.python.org/3/tutorial/datastructures.html#:~:text=append(x).-,list.remove(x),-Remove%20the%20first)\n",
        "\n",
        "Remueve un elemento específico de la lista."
      ],
      "metadata": {
        "id": "dPGM5gpyUX1z"
      }
    },
    {
      "cell_type": "code",
      "source": [
        "lista.remove([10.0, 8.0, 9.0])\n",
        "lista"
      ],
      "metadata": {
        "id": "mmboODPc8nd5",
        "colab": {
          "base_uri": "https://localhost:8080/"
        },
        "outputId": "78b4be98-e051-40ac-b5d9-12f9d963a367"
      },
      "execution_count": null,
      "outputs": [
        {
          "output_type": "execute_result",
          "data": {
            "text/plain": [
              "['Penélope Camacho', 9.5, 10.0, 9.7, True, 9.733333333333333, 10.0, 8.0, 9.0]"
            ]
          },
          "metadata": {},
          "execution_count": 50
        }
      ]
    },
    {
      "cell_type": "markdown",
      "source": [
        "### Otros metodos de manipulación de listas\n",
        "* Para insertar un elemento en una posición especifica de una lista se utiliza insert()\n",
        "* Para eliminar un elemento especifico de la lista se utiliza pop()\n",
        "* Para conocer un indice de un elemento en una lista se utiliza index()\n",
        "* Para ordenar la lista en orden ascedente o descente se utiliza sort()\n",
        "\n",
        "[documentación de Python](https://docs.python.org/3/tutorial/datastructures.html#more-on-lists)."
      ],
      "metadata": {
        "id": "BOM0shq_cfDr"
      }
    },
    {
      "cell_type": "code",
      "source": [
        "razas_de_perros = ['Labrador Retriever', 'Bulldog Francés', 'Pastor Alemán', 'Poodle']\n",
        "print(razas_de_perros)\n",
        "\n",
        "#Metodo insert()\n",
        "razas_de_perros.insert(2, 'Golden Retriever')\n",
        "print(razas_de_perros)\n",
        "\n",
        "#Metodo pop()\n",
        "razas_de_perros.pop(2)\n",
        "print(razas_de_perros)\n",
        "\n",
        "#Metodo index()\n",
        "print(razas_de_perros.index('Bulldog Francés'))\n",
        "\n",
        "#Metodo sort()\n",
        "razas_de_perros.sort()\n",
        "print(razas_de_perros)\n",
        "razas_de_perros.sort(reverse=True)\n",
        "print(razas_de_perros)"
      ],
      "metadata": {
        "colab": {
          "base_uri": "https://localhost:8080/"
        },
        "id": "WPV_UW7zdD2v",
        "outputId": "8f1dff2f-5949-4f9a-cc4b-60f9802d5ada"
      },
      "execution_count": null,
      "outputs": [
        {
          "output_type": "stream",
          "name": "stdout",
          "text": [
            "['Labrador Retriever', 'Bulldog Francés', 'Pastor Alemán', 'Poodle']\n",
            "['Labrador Retriever', 'Bulldog Francés', 'Golden Retriever', 'Pastor Alemán', 'Poodle']\n",
            "['Labrador Retriever', 'Bulldog Francés', 'Pastor Alemán', 'Poodle']\n",
            "1\n",
            "['Bulldog Francés', 'Labrador Retriever', 'Pastor Alemán', 'Poodle']\n",
            "['Poodle', 'Pastor Alemán', 'Labrador Retriever', 'Bulldog Francés']\n"
          ]
        }
      ]
    },
    {
      "cell_type": "markdown",
      "source": [
        "## Diccionario"
      ],
      "metadata": {
        "id": "Rc22Vc08YDZ2"
      }
    },
    {
      "cell_type": "markdown",
      "source": [
        "Los diccionarios son un tipo de estructura de datos que almacenan pares de *llave-valor*. Estos son delimitados por llaves `{}` y los pares *llave-valor* son separados por comas.\n",
        "\n",
        "```\n",
        "diccionario = {llave: valor}\n",
        "```\n",
        "\n",
        "La **llave** es un elemento único que identifica a un valor en el diccionario, mientras que el **valor** es el item que será almacenado para la llave. Las llaves y sus respectivos valores se pueden emplear para **cualquier tipo de dato**.\n",
        "\n",
        "Los diccionarios son útiles para almacenar y acceder a los datos de manera organizada y rápida. Se trata de un tipo de conjunto de elementos en Python, pues almacenan una colección de items."
      ],
      "metadata": {
        "id": "PJ-cCKPjeWxL"
      }
    },
    {
      "cell_type": "code",
      "source": [
        "diccionario = {'llave_1': 1,\n",
        "               'llave_2': 2}\n",
        "diccionario"
      ],
      "metadata": {
        "id": "NDHhzooE8ld5",
        "colab": {
          "base_uri": "https://localhost:8080/"
        },
        "outputId": "24d3fb6c-d33c-4d0f-e918-4887142d3db1"
      },
      "execution_count": null,
      "outputs": [
        {
          "output_type": "execute_result",
          "data": {
            "text/plain": [
              "{'llave_1': 1, 'llave_2': 2}"
            ]
          },
          "metadata": {},
          "execution_count": 53
        }
      ]
    },
    {
      "cell_type": "markdown",
      "source": [
        "---\n",
        "**Situación:**\n",
        "\n",
        "Vamos a crear un conjunto de datos con las informaciones de matrícula de un estudiante. Los datos son los siguientes:\n",
        "\n",
        "- matrícula: 2000168933\n",
        "- día de registro: 25\n",
        "- mes de registro: 10\n",
        "- grupo: 2E"
      ],
      "metadata": {
        "id": "_JbQ3KMKfkXU"
      }
    },
    {
      "cell_type": "code",
      "source": [
        "estudiante = {\n",
        "              'matrícula': 2000168933,\n",
        "              'día de registro': 25,\n",
        "              'mes de registro': 10,\n",
        "              'grupo': '2E'\n",
        "              }\n",
        "estudiante"
      ],
      "metadata": {
        "id": "0lfOu_c38jED",
        "colab": {
          "base_uri": "https://localhost:8080/"
        },
        "outputId": "9925e963-ba77-4d6e-f9bc-196efecd1561"
      },
      "execution_count": null,
      "outputs": [
        {
          "output_type": "execute_result",
          "data": {
            "text/plain": [
              "{'matrícula': 2000168933,\n",
              " 'día de registro': 25,\n",
              " 'mes de registro': 10,\n",
              " 'grupo': '2E'}"
            ]
          },
          "metadata": {},
          "execution_count": 55
        }
      ]
    },
    {
      "cell_type": "markdown",
      "source": [
        "Es posible sustituir los valores dentro de una llave. Por ejemplo, recibimos la información de que el grupo del estudiante que registramos cambio a `'2G'` y ahora necesitamos cambiar el valor de la llave `'grupo'`."
      ],
      "metadata": {
        "id": "8ex5pt2ykDd2"
      }
    },
    {
      "cell_type": "code",
      "source": [
        "estudiante['grupo']"
      ],
      "metadata": {
        "id": "kQGlp36b8fyP",
        "colab": {
          "base_uri": "https://localhost:8080/",
          "height": 36
        },
        "outputId": "46d7cb2c-a3e0-4f73-8770-e7572a2acb56"
      },
      "execution_count": null,
      "outputs": [
        {
          "output_type": "execute_result",
          "data": {
            "text/plain": [
              "'2E'"
            ],
            "application/vnd.google.colaboratory.intrinsic+json": {
              "type": "string"
            }
          },
          "metadata": {},
          "execution_count": 56
        }
      ]
    },
    {
      "cell_type": "code",
      "source": [
        "estudiante['grupo'] = '2G'\n",
        "estudiante"
      ],
      "metadata": {
        "id": "DnfH_qHi8f17",
        "colab": {
          "base_uri": "https://localhost:8080/"
        },
        "outputId": "f432b349-3a52-4898-a4b2-3a1db1ecb7ee"
      },
      "execution_count": null,
      "outputs": [
        {
          "output_type": "execute_result",
          "data": {
            "text/plain": [
              "{'matrícula': 2000168933,\n",
              " 'día de registro': 25,\n",
              " 'mes de registro': 10,\n",
              " 'modalidad': 'EAD',\n",
              " 'grupo': '2G'}"
            ]
          },
          "metadata": {},
          "execution_count": 62
        }
      ]
    },
    {
      "cell_type": "markdown",
      "source": [
        "También podemos añadir otros datos al diccionario. Vamos a añadir la información sobre la modalidad de estudio, nuestro estudiante estudiará inicialemente en la modalidad EAD.\n",
        "\n",
        "Definiremos una llave llamada `'modalidad'` con el valor `'EAD'`."
      ],
      "metadata": {
        "id": "wB0qRb56mQvv"
      }
    },
    {
      "cell_type": "code",
      "source": [
        "estudiante['modalidad'] = 'EAD'\n",
        "estudiante"
      ],
      "metadata": {
        "id": "EeLYdlIm8d8a",
        "colab": {
          "base_uri": "https://localhost:8080/"
        },
        "outputId": "023efa6c-17b5-4852-e562-7b3e5da08c97"
      },
      "execution_count": null,
      "outputs": [
        {
          "output_type": "execute_result",
          "data": {
            "text/plain": [
              "{'matrícula': 2000168933,\n",
              " 'día de registro': 25,\n",
              " 'mes de registro': 10,\n",
              " 'grupo': '2G',\n",
              " 'modalidad': 'EAD'}"
            ]
          },
          "metadata": {},
          "execution_count": 58
        }
      ]
    },
    {
      "cell_type": "code",
      "source": [
        "len(estudiante)"
      ],
      "metadata": {
        "colab": {
          "base_uri": "https://localhost:8080/"
        },
        "id": "yMMuEvcDfIHi",
        "outputId": "6b27ea3e-5c0f-4a9f-c170-cbd318f3a6dc"
      },
      "execution_count": null,
      "outputs": [
        {
          "output_type": "execute_result",
          "data": {
            "text/plain": [
              "5"
            ]
          },
          "metadata": {},
          "execution_count": 59
        }
      ]
    },
    {
      "cell_type": "markdown",
      "source": [
        "## Profundizando en diccionarios"
      ],
      "metadata": {
        "id": "LJ3o_inroxg_"
      }
    },
    {
      "cell_type": "markdown",
      "source": [
        "#### [`pop()`](https://python-reference.readthedocs.io/en/latest/docs/dict/pop.html)\n",
        "Remueve un item de un diccionario y lo representa en la salida."
      ],
      "metadata": {
        "id": "2N3GLlkSpBiu"
      }
    },
    {
      "cell_type": "code",
      "source": [
        "estudiante.pop('grupo')"
      ],
      "metadata": {
        "id": "ZsSCZx6G8b-T",
        "colab": {
          "base_uri": "https://localhost:8080/",
          "height": 36
        },
        "outputId": "9138332e-8ecb-4e81-8734-f0e033dc725b"
      },
      "execution_count": null,
      "outputs": [
        {
          "output_type": "execute_result",
          "data": {
            "text/plain": [
              "'2G'"
            ],
            "application/vnd.google.colaboratory.intrinsic+json": {
              "type": "string"
            }
          },
          "metadata": {},
          "execution_count": 63
        }
      ]
    },
    {
      "cell_type": "code",
      "source": [
        "estudiante"
      ],
      "metadata": {
        "id": "7lQ8_jpi8cBR",
        "colab": {
          "base_uri": "https://localhost:8080/"
        },
        "outputId": "5089f6a6-d2f8-4b47-9031-94ff7707786c"
      },
      "execution_count": null,
      "outputs": [
        {
          "output_type": "execute_result",
          "data": {
            "text/plain": [
              "{'matrícula': 2000168933,\n",
              " 'día de registro': 25,\n",
              " 'mes de registro': 10,\n",
              " 'modalidad': 'EAD'}"
            ]
          },
          "metadata": {},
          "execution_count": 64
        }
      ]
    },
    {
      "cell_type": "markdown",
      "source": [
        "#### [`items()`](https://python-reference.readthedocs.io/en/latest/docs/dict/items.html)\n",
        "Retorna una lista de pares `llave-valor` del diccionario."
      ],
      "metadata": {
        "id": "sYZGvJJYrW_y"
      }
    },
    {
      "cell_type": "code",
      "source": [
        "estudiante.items()"
      ],
      "metadata": {
        "id": "ncdycLV08an7",
        "colab": {
          "base_uri": "https://localhost:8080/"
        },
        "outputId": "079e8d06-1f4a-4d0c-fd1c-04c2b7e75b79"
      },
      "execution_count": null,
      "outputs": [
        {
          "output_type": "execute_result",
          "data": {
            "text/plain": [
              "dict_items([('matrícula', 2000168933), ('día de registro', 25), ('mes de registro', 10), ('modalidad', 'EAD')])"
            ]
          },
          "metadata": {},
          "execution_count": 65
        }
      ]
    },
    {
      "cell_type": "markdown",
      "source": [
        "#### [`keys()`](https://python-reference.readthedocs.io/en/latest/docs/dict/keys.html)\n",
        "Retorna una lista de las llaves del diccionario."
      ],
      "metadata": {
        "id": "Lb0utNFGrZBY"
      }
    },
    {
      "cell_type": "code",
      "source": [
        "estudiante.keys()"
      ],
      "metadata": {
        "id": "eZo0biaM8ZVs",
        "colab": {
          "base_uri": "https://localhost:8080/"
        },
        "outputId": "9d4d8cb2-0fc8-4f2c-df74-ac9d1abda3ae"
      },
      "execution_count": null,
      "outputs": [
        {
          "output_type": "execute_result",
          "data": {
            "text/plain": [
              "dict_keys(['matrícula', 'día de registro', 'mes de registro', 'modalidad'])"
            ]
          },
          "metadata": {},
          "execution_count": 66
        }
      ]
    },
    {
      "cell_type": "markdown",
      "source": [
        "#### [`values()`](https://python-reference.readthedocs.io/en/latest/docs/dict/values.html)\n",
        "Retorna una lista de los valores del diccionario."
      ],
      "metadata": {
        "id": "qKyu3bf9rbtX"
      }
    },
    {
      "cell_type": "code",
      "source": [
        "estudiante.values()"
      ],
      "metadata": {
        "id": "-NxRT9C18Yvo",
        "colab": {
          "base_uri": "https://localhost:8080/"
        },
        "outputId": "4e84e7cf-02a4-44bb-e71c-b268f424df33"
      },
      "execution_count": null,
      "outputs": [
        {
          "output_type": "execute_result",
          "data": {
            "text/plain": [
              "dict_values([2000168933, 25, 10, 'EAD'])"
            ]
          },
          "metadata": {},
          "execution_count": 67
        }
      ]
    },
    {
      "cell_type": "markdown",
      "source": [
        "### Lectura de valores con el lazo `for`"
      ],
      "metadata": {
        "id": "e3XVjR8Frp75"
      }
    },
    {
      "cell_type": "code",
      "source": [
        "for llave in estudiante.keys():\n",
        "  print(llave)"
      ],
      "metadata": {
        "id": "NYcjU-Ip8Xan",
        "colab": {
          "base_uri": "https://localhost:8080/"
        },
        "outputId": "0bc953f8-7036-4206-a0d7-bc7c3f30b762"
      },
      "execution_count": null,
      "outputs": [
        {
          "output_type": "stream",
          "name": "stdout",
          "text": [
            "matrícula\n",
            "día de registro\n",
            "mes de registro\n",
            "modalidad\n"
          ]
        }
      ]
    },
    {
      "cell_type": "code",
      "source": [
        "for llave, valor in estudiante.items():\n",
        "  print(llave, ' ---> ', valor)"
      ],
      "metadata": {
        "id": "aAnpP1Wv8XfJ",
        "colab": {
          "base_uri": "https://localhost:8080/"
        },
        "outputId": "2f97b2ca-0393-4aa7-c035-c6fcafe72e57"
      },
      "execution_count": null,
      "outputs": [
        {
          "output_type": "stream",
          "name": "stdout",
          "text": [
            "matrícula  --->  2000168933\n",
            "día de registro  --->  25\n",
            "mes de registro  --->  10\n",
            "modalidad  --->  EAD\n"
          ]
        }
      ]
    },
    {
      "cell_type": "markdown",
      "source": [
        "### Listas en diccionarios"
      ],
      "metadata": {
        "id": "pBQoYO65hQt9"
      }
    },
    {
      "cell_type": "code",
      "source": [
        "tienda = {'nombres': ['televisión', 'celular', 'notebook', 'geladeira', 'estufa'],\n",
        "          'precios': [2000, 1500, 3500, 4000, 1500]}"
      ],
      "metadata": {
        "id": "yJh438r9gklm"
      },
      "execution_count": null,
      "outputs": []
    },
    {
      "cell_type": "code",
      "source": [
        "for clave, elementos in tienda.items():\n",
        "  print(f'Clave: {clave}\\nElementos:')\n",
        "  for dato in elementos:\n",
        "    print(dato)"
      ],
      "metadata": {
        "colab": {
          "base_uri": "https://localhost:8080/"
        },
        "id": "srXe4C4ShW6N",
        "outputId": "d3c5d440-3f70-45b0-be90-372d9978904a"
      },
      "execution_count": null,
      "outputs": [
        {
          "output_type": "stream",
          "name": "stdout",
          "text": [
            "Clave: nombres\n",
            "Elementos:\n",
            "televisión\n",
            "celular\n",
            "notebook\n",
            "geladeira\n",
            "estufa\n",
            "Clave: precios\n",
            "Elementos:\n",
            "2000\n",
            "1500\n",
            "3500\n",
            "4000\n",
            "1500\n"
          ]
        }
      ]
    },
    {
      "cell_type": "markdown",
      "source": [
        "## Funciones incorporadas\n",
        "* Funciones utilizadas durante el curso print(), input(), len(), int(), str(), float(), range(), chr(), etc.\n",
        "* Para sumar elementos de una secuencia o estructura de datos se utiliza sum()\n",
        "* Para acceder a la documentación de funciones se utiliza help()\n",
        "* Para mostrar la lista de atributos y metodos asociados a un elemento se utiliza dir()\n",
        "\n",
        "[documentación de Python](https://docs.python.org/3/library/functions.html)."
      ],
      "metadata": {
        "id": "XOOh1Q96idbA"
      }
    },
    {
      "cell_type": "code",
      "source": [
        "#Función sum()\n",
        "precios = [100.0, 400.0, 200.0]\n",
        "suma = sum(precios)\n",
        "print(suma)\n",
        "\n",
        "#Función help()\n",
        "help(print)\n",
        "\n",
        "#Función dir()\n",
        "dir(precios)"
      ],
      "metadata": {
        "colab": {
          "base_uri": "https://localhost:8080/"
        },
        "id": "zS-CNyXCjFs2",
        "outputId": "e89371ec-2a95-40fa-cd4f-355bf4d387b5"
      },
      "execution_count": null,
      "outputs": [
        {
          "output_type": "stream",
          "name": "stdout",
          "text": [
            "700.0\n",
            "Help on built-in function print in module builtins:\n",
            "\n",
            "print(*args, sep=' ', end='\\n', file=None, flush=False)\n",
            "    Prints the values to a stream, or to sys.stdout by default.\n",
            "    \n",
            "    sep\n",
            "      string inserted between values, default a space.\n",
            "    end\n",
            "      string appended after the last value, default a newline.\n",
            "    file\n",
            "      a file-like object (stream); defaults to the current sys.stdout.\n",
            "    flush\n",
            "      whether to forcibly flush the stream.\n",
            "\n"
          ]
        },
        {
          "output_type": "execute_result",
          "data": {
            "text/plain": [
              "['__add__',\n",
              " '__class__',\n",
              " '__class_getitem__',\n",
              " '__contains__',\n",
              " '__delattr__',\n",
              " '__delitem__',\n",
              " '__dir__',\n",
              " '__doc__',\n",
              " '__eq__',\n",
              " '__format__',\n",
              " '__ge__',\n",
              " '__getattribute__',\n",
              " '__getitem__',\n",
              " '__getstate__',\n",
              " '__gt__',\n",
              " '__hash__',\n",
              " '__iadd__',\n",
              " '__imul__',\n",
              " '__init__',\n",
              " '__init_subclass__',\n",
              " '__iter__',\n",
              " '__le__',\n",
              " '__len__',\n",
              " '__lt__',\n",
              " '__mul__',\n",
              " '__ne__',\n",
              " '__new__',\n",
              " '__reduce__',\n",
              " '__reduce_ex__',\n",
              " '__repr__',\n",
              " '__reversed__',\n",
              " '__rmul__',\n",
              " '__setattr__',\n",
              " '__setitem__',\n",
              " '__sizeof__',\n",
              " '__str__',\n",
              " '__subclasshook__',\n",
              " 'append',\n",
              " 'clear',\n",
              " 'copy',\n",
              " 'count',\n",
              " 'extend',\n",
              " 'index',\n",
              " 'insert',\n",
              " 'pop',\n",
              " 'remove',\n",
              " 'reverse',\n",
              " 'sort']"
            ]
          },
          "metadata": {},
          "execution_count": 74
        }
      ]
    },
    {
      "cell_type": "markdown",
      "source": [
        "# Ejercicios 5\n",
        "\n",
        "1. Crea un programa que tenga la siguiente lista con los gastos de una empresa de papel [2172.54, 3701.35, 3518.09, 3456.61, 3249.38, 2840.82, 3891.45, 3075.26, 2317.64, 3219.08]. Con estos valores, crea un programa que calcule el promedio de gastos. Sugerencia: usa las funciones integradas sum() y len()."
      ],
      "metadata": {
        "id": "4LemajBPffKr"
      }
    },
    {
      "cell_type": "code",
      "source": [
        "lista = [2172.54, 3701.35, 3518.09, 3456.61, 3249.38, 2840.82, 3891.45, 3075.26, 2317.64, 3219.08]\n",
        "promedio = sum(lista) / len(lista)\n",
        "print(f'El promedio de gastos es: {promedio}')"
      ],
      "metadata": {
        "colab": {
          "base_uri": "https://localhost:8080/"
        },
        "id": "d2uarys8fiOa",
        "outputId": "b19c9f74-c28a-4b47-c1a4-b6ccb40da7d5"
      },
      "execution_count": null,
      "outputs": [
        {
          "output_type": "stream",
          "name": "stdout",
          "text": [
            "El promedio de gastos es: 3144.222\n"
          ]
        }
      ]
    },
    {
      "cell_type": "markdown",
      "source": [
        "2. Con los mismos datos de la pregunta anterior, determina cuántas compras se realizaron por encima de 3000 reales y calcula el porcentaje con respecto al total de compras."
      ],
      "metadata": {
        "id": "O5p6r2qEfopo"
      }
    },
    {
      "cell_type": "code",
      "source": [
        "contador = 0\n",
        "for i in lista:\n",
        "  if i > 3000:\n",
        "    contador += 1\n",
        "porcentaje = contador / len(lista) * 100\n",
        "print(f'El porcentaje de compras por encima de 3000 reales es: {porcentaje}%')"
      ],
      "metadata": {
        "colab": {
          "base_uri": "https://localhost:8080/"
        },
        "id": "1Ygxl5wIf__o",
        "outputId": "c778c93b-653f-43f7-fa10-576bbcaf46b2"
      },
      "execution_count": null,
      "outputs": [
        {
          "output_type": "stream",
          "name": "stdout",
          "text": [
            "El porcentaje de compras por encima de 3000 reales es: 70.0%\n"
          ]
        }
      ]
    },
    {
      "cell_type": "markdown",
      "source": [
        "3. Crea un código que recoja en una lista 5 números enteros aleatorios e imprima la lista. Ejemplo: [1, 4, 7, 2, 4]."
      ],
      "metadata": {
        "id": "CQS5Js3rfpOy"
      }
    },
    {
      "cell_type": "code",
      "source": [
        "import random\n",
        "aleatorios = []\n",
        "for i in range(5):\n",
        "  aleatorios.append(random.randint(0, 10))\n",
        "  print(aleatorios)\n",
        "print(aleatorios)"
      ],
      "metadata": {
        "colab": {
          "base_uri": "https://localhost:8080/"
        },
        "id": "69ZgZ7e4gfHq",
        "outputId": "64d85790-7205-40d9-deac-2145cc23eaab"
      },
      "execution_count": null,
      "outputs": [
        {
          "output_type": "stream",
          "name": "stdout",
          "text": [
            "[0]\n",
            "[0, 2]\n",
            "[0, 2, 0]\n",
            "[0, 2, 0, 0]\n",
            "[0, 2, 0, 0, 5]\n",
            "[0, 2, 0, 0, 5]\n"
          ]
        }
      ]
    },
    {
      "cell_type": "markdown",
      "source": [
        "4. Recoge nuevamente 5 números enteros e imprime la lista en orden inverso al enviado."
      ],
      "metadata": {
        "id": "XN3D6qpVfpsB"
      }
    },
    {
      "cell_type": "code",
      "source": [
        "aleatorios_inverso = []\n",
        "for i in range(5):\n",
        "  aleatorios_inverso.append(random.randint(0, 10))\n",
        "print(aleatorios_inverso)\n",
        "aleatorios_inverso.reverse()\n",
        "print(aleatorios_inverso)"
      ],
      "metadata": {
        "colab": {
          "base_uri": "https://localhost:8080/"
        },
        "id": "FtiZR82qhJXS",
        "outputId": "5011531d-597c-43f4-bb6c-c30808797dab"
      },
      "execution_count": null,
      "outputs": [
        {
          "output_type": "stream",
          "name": "stdout",
          "text": [
            "[3, 9, 10, 8, 1]\n",
            "[1, 8, 10, 9, 3]\n"
          ]
        }
      ]
    },
    {
      "cell_type": "markdown",
      "source": [
        ":5. Crea un programa que, al ingresar un número cualquiera, genere una lista que contenga todos los números primos entre 1 y el número ingresado."
      ],
      "metadata": {
        "id": "HD06o-uFhzFI"
      }
    },
    {
      "cell_type": "code",
      "source": [
        "import math\n",
        "\n",
        "# Solicitar al usuario un número\n",
        "entrada = input('Escribe un número entero:  ')\n",
        "\n",
        "# Verificamos si la entrada es válida\n",
        "if entrada.isdigit():\n",
        "    numero = int(entrada)\n",
        "\n",
        "    if numero < 2:\n",
        "        print(\"No hay números primos menores a 2.\")\n",
        "    else:\n",
        "        primos = []\n",
        "        for i in range(2, numero + 1):\n",
        "            es_primo = True\n",
        "            for j in range(2, int(math.sqrt(i)) + 1):  # Verificación hasta la raíz cuadrada de i\n",
        "                if i % j == 0:\n",
        "                    es_primo = False\n",
        "                    break  # Si encontramos un divisor, no es primo\n",
        "            if es_primo:\n",
        "                primos.append(i)\n",
        "\n",
        "        print(f'Los números primos entre 1 y {numero} son: {primos}')\n",
        "else:\n",
        "    print(\"\\n⚠️ No es un número válido, vuelve a intentar.\")\n"
      ],
      "metadata": {
        "colab": {
          "base_uri": "https://localhost:8080/"
        },
        "id": "6ek-Hr76hwf8",
        "outputId": "03e9b9db-c38a-42d6-d4b2-167e027b713b"
      },
      "execution_count": null,
      "outputs": [
        {
          "output_type": "stream",
          "name": "stdout",
          "text": [
            "Escribe un número entero:  5\n",
            "Los números primos entre 1 y 5 son: [2, 3, 5]\n"
          ]
        }
      ]
    },
    {
      "cell_type": "markdown",
      "source": [
        "6. Escribe un programa que pida una fecha, especificando el día, mes y año, y determine si es válida para su análisis."
      ],
      "metadata": {
        "id": "DtXw4jrQfqHk"
      }
    },
    {
      "cell_type": "code",
      "source": [
        "# Pedir al usuario el día, mes y año\n",
        "dia = input(\"Introduce el día (1-31): \")\n",
        "mes = input(\"Introduce el mes (1-12): \")\n",
        "anio = input(\"Introduce el año (por ejemplo, 2023): \")\n",
        "\n",
        "# Verificar si los valores son números\n",
        "if dia.isdigit() and mes.isdigit() and anio.isdigit():\n",
        "    dia = int(dia)\n",
        "    mes = int(mes)\n",
        "    anio = int(anio)\n",
        "\n",
        "    # Verificar si el año es válido\n",
        "    if anio < 1:\n",
        "        print(\"El año debe ser un número positivo.\")\n",
        "    else:\n",
        "        # Verificar si el mes es válido\n",
        "        if mes < 1 or mes > 12:\n",
        "            print(\"El mes debe estar entre 1 y 12.\")\n",
        "        else:\n",
        "            # Verificar si el día es válido según el mes y año\n",
        "            dias_por_mes = {\n",
        "                1: 31, 2: 28, 3: 31, 4: 30, 5: 31, 6: 30,\n",
        "                7: 31, 8: 31, 9: 30, 10: 31, 11: 30, 12: 31\n",
        "            }\n",
        "\n",
        "            # Ajuste para febrero en años bisiestos\n",
        "            if (anio % 4 == 0 and (anio % 100 != 0 or anio % 400 == 0)):\n",
        "                dias_por_mes[2] = 29\n",
        "\n",
        "            # Verificar si el día es válido para el mes y año dados\n",
        "            if dia < 1 or dia > dias_por_mes[mes]:\n",
        "                print(f\"El día {dia} no es válido para el mes {mes} del año {anio}.\")\n",
        "            else:\n",
        "                print(f\"La fecha {dia}/{mes}/{anio} es válida.\")\n",
        "else:\n",
        "    print(\"Por favor, ingresa valores numéricos válidos para el día, mes y año.\")"
      ],
      "metadata": {
        "colab": {
          "base_uri": "https://localhost:8080/"
        },
        "id": "FuOA8m3LmA3D",
        "outputId": "d4db30cb-d173-41e8-ba0d-c085beae099f"
      },
      "execution_count": null,
      "outputs": [
        {
          "output_type": "stream",
          "name": "stdout",
          "text": [
            "Introduce el día (1-31): 31\n",
            "Introduce el mes (1-12): 09\n",
            "Introduce el año (por ejemplo, 2023): 2025\n",
            "El día 31 no es válido para el mes 9 del año 2025.\n"
          ]
        }
      ]
    },
    {
      "cell_type": "markdown",
      "source": [
        "## Momento para los proyectos\n",
        "7. Para un estudio sobre la multiplicación de bacterias en una colonia, se recopiló el número de bacterias multiplicadas por día y se puede observar a continuación: [1.2, 2.1, 3.3, 5.0, 7.8, 11.3, 16.6, 25.1, 37.8, 56.9]. Con estos valores, crea un código que genere una lista que contenga el porcentaje de crecimiento de bacterias por día, comparando el número de bacterias en cada día con el número de bacterias del día anterior. Sugerencia: para calcular el porcentaje de crecimiento, utiliza la siguiente ecuación: 100 * (muestra_actual - muestra_anterior) / muestra_anterior."
      ],
      "metadata": {
        "id": "T-Dyl77yfsdC"
      }
    },
    {
      "cell_type": "code",
      "source": [
        "bacterias = [1.2, 2.1, 3.3, 5.0, 7.8, 11.3, 16.6, 25.1, 37.8, 56.9]\n",
        "dias = 1\n",
        "print(dias)\n",
        "porcentaje_crecimiento = []\n",
        "for i in range(1, len(bacterias)):\n",
        "  porcentaje = 100 * (bacterias[i] - bacterias[i-1]) / bacterias[i-1]\n",
        "  dias += 1\n",
        "  porcentaje_crecimiento.append(f\"Día {dias}: {porcentaje:.1f}%\")\n",
        "print(porcentaje_crecimiento)"
      ],
      "metadata": {
        "colab": {
          "base_uri": "https://localhost:8080/"
        },
        "id": "htvRWrRBnlP-",
        "outputId": "331818c4-9fec-4991-c231-23a61962a79c"
      },
      "execution_count": null,
      "outputs": [
        {
          "output_type": "stream",
          "name": "stdout",
          "text": [
            "1\n",
            "['Día 2: 75.0%', 'Día 3: 57.1%', 'Día 4: 51.5%', 'Día 5: 56.0%', 'Día 6: 44.9%', 'Día 7: 46.9%', 'Día 8: 51.2%', 'Día 9: 50.6%', 'Día 10: 50.5%']\n"
          ]
        }
      ]
    },
    {
      "cell_type": "markdown",
      "source": [
        "8. Para una selección de productos alimenticios, debemos separar el conjunto de IDs proporcionados por números enteros, sabiendo que los productos con ID par son dulces y los que tienen ID impar son amargos. Crea un código que recoja 10 IDs. Luego, calcula y muestra la cantidad de productos dulces y amargos."
      ],
      "metadata": {
        "id": "hcxzMQbefsQX"
      }
    },
    {
      "cell_type": "code",
      "source": [
        "import random\n",
        "\n",
        "id = []\n",
        "id_dulces = []\n",
        "id_amargos = []\n",
        "dulces = 0\n",
        "amargos = 0\n",
        "\n",
        "for i in range(10):\n",
        "  id = random.randint(1, 100)\n",
        "  if id % 2 == 0:\n",
        "    id_dulces.append(id)\n",
        "    dulces += 1\n",
        "  else:\n",
        "    id_amargos.append(id)\n",
        "    amargos += 1\n",
        "\n",
        "print(f'Los productos dulces son: {id_dulces}')\n",
        "print(f'Los productos amargos son: {id_amargos}')\n",
        "print(f'La cantidad de productos dulces es: {dulces}')\n",
        "print(f'La cantidad de productos amargos es: {amargos}')\n"
      ],
      "metadata": {
        "colab": {
          "base_uri": "https://localhost:8080/"
        },
        "id": "qroBspi6pPsS",
        "outputId": "e9c4295a-5cde-4127-be5d-0d26bd5d880c"
      },
      "execution_count": null,
      "outputs": [
        {
          "output_type": "stream",
          "name": "stdout",
          "text": [
            "Los productos dulces son: [54, 70, 58, 18]\n",
            "Los productos amargos son: [97, 23, 31, 41, 87, 9]\n",
            "La cantidad de productos dulces es: 4\n",
            "La cantidad de productos amargos es: 6\n"
          ]
        }
      ]
    },
    {
      "cell_type": "markdown",
      "source": [
        "9. Desarrolla un programa que informe la puntuación de un estudiante de acuerdo con sus respuestas. Debe pedir la respuesta del estudiante para cada pregunta y verificar si la respuesta coincide con el resultado. Cada pregunta vale un punto y hay opciones A, B, C o D.\n",
        "\n",
        "Resultado del examen:\n",
        "01 - D\n",
        "02 - A\n",
        "03 - C\n",
        "04 - B\n",
        "05 - A\n",
        "06 - D\n",
        "07 - C\n",
        "08 - C\n",
        "09 - A\n",
        "10 - B"
      ],
      "metadata": {
        "id": "7vXCPZIcfsDy"
      }
    },
    {
      "cell_type": "code",
      "source": [
        "# Respuestas correctas\n",
        "resultado = {\n",
        "    '01': 'D',\n",
        "    '02': 'A',\n",
        "    '03': 'C',\n",
        "    '04': 'B',\n",
        "    '05': 'A',\n",
        "    '06': 'D',\n",
        "    '07': 'C',\n",
        "    '08': 'C',\n",
        "    '09': 'A',\n",
        "    '10': 'B'\n",
        "}\n",
        "\n",
        "# Lista para almacenar las respuestas del usuario\n",
        "respuestas = {}\n",
        "\n",
        "# Lista de preguntas\n",
        "preguntas = ['01', '02', '03', '04', '05', '06', '07', '08', '09', '10']\n",
        "\n",
        "# Opciones válidas de respuestas\n",
        "opciones = ['A', 'B', 'C', 'D']\n",
        "\n",
        "# Inicializar respuestas con None\n",
        "for pregunta in preguntas:\n",
        "    respuestas[pregunta] = None\n",
        "\n",
        "# Ingresar respuestas hasta que todas sean válidas\n",
        "while None in respuestas.values():  # Mientras haya alguna respuesta no ingresada\n",
        "    for i in preguntas:\n",
        "        # Solo preguntar si la respuesta aún no es válida\n",
        "        if respuestas[i] is None:\n",
        "            respuesta = input(f'Ingresa la respuesta de la pregunta {i}: ').upper()\n",
        "\n",
        "            # Validar la respuesta\n",
        "            if respuesta in opciones:\n",
        "                respuestas[i] = respuesta\n",
        "            else:\n",
        "                print('Respuesta inválida, vuelve a ingresar una respuesta válida (A, B, C o D)')\n",
        "\n",
        "# Mostrar las respuestas ingresadas\n",
        "print(\"\\nRespuestas ingresadas por el usuario:\")\n",
        "for i in preguntas:\n",
        "    print(f'Pregunta {i}: {respuestas[i]}')\n",
        "\n",
        "# Comparar respuestas con las correctas y mostrar los resultados\n",
        "correctas = 0\n",
        "for i in preguntas:\n",
        "    if respuestas[i] == resultado[i]:\n",
        "        correctas += 1\n",
        "\n",
        "print(f\"\\nNúmero de respuestas correctas: {correctas} de {len(preguntas)}\")"
      ],
      "metadata": {
        "colab": {
          "base_uri": "https://localhost:8080/"
        },
        "id": "wQoQ0ENjq1Tx",
        "outputId": "2f858527-c1d3-4a8a-a4f3-ed578eea039d"
      },
      "execution_count": null,
      "outputs": [
        {
          "output_type": "stream",
          "name": "stdout",
          "text": [
            "Ingresa la respuesta de la pregunta 01: a\n",
            "Ingresa la respuesta de la pregunta 02: c\n",
            "Ingresa la respuesta de la pregunta 03: d\n",
            "Ingresa la respuesta de la pregunta 04: e\n",
            "Respuesta inválida, vuelve a ingresar una respuesta válida (A, B, C o D)\n",
            "Ingresa la respuesta de la pregunta 05: ñ\n",
            "Respuesta inválida, vuelve a ingresar una respuesta válida (A, B, C o D)\n",
            "Ingresa la respuesta de la pregunta 06: b\n",
            "Ingresa la respuesta de la pregunta 07: c\n",
            "Ingresa la respuesta de la pregunta 08: d\n",
            "Ingresa la respuesta de la pregunta 09: a\n",
            "Ingresa la respuesta de la pregunta 10: d\n",
            "Ingresa la respuesta de la pregunta 04: ñ\n",
            "Respuesta inválida, vuelve a ingresar una respuesta válida (A, B, C o D)\n",
            "Ingresa la respuesta de la pregunta 05: c\n",
            "Ingresa la respuesta de la pregunta 04: b\n",
            "\n",
            "Respuestas ingresadas por el usuario:\n",
            "Pregunta 01: A\n",
            "Pregunta 02: C\n",
            "Pregunta 03: D\n",
            "Pregunta 04: B\n",
            "Pregunta 05: C\n",
            "Pregunta 06: B\n",
            "Pregunta 07: C\n",
            "Pregunta 08: D\n",
            "Pregunta 09: A\n",
            "Pregunta 10: D\n",
            "\n",
            "Número de respuestas correctas: 3 de 10\n"
          ]
        }
      ]
    },
    {
      "cell_type": "markdown",
      "source": [
        "10. Un instituto de meteorología desea realizar un estudio de la temperatura media de cada mes del año. Para ello, debes crear un código que recoja y almacene esas temperaturas medias en una lista. Luego, calcula el promedio anual de las temperaturas y muestra todas las temperaturas por encima del promedio anual y en qué mes ocurrieron, mostrando los meses por su nombre (Enero, Febrero, etc.).\n"
      ],
      "metadata": {
        "id": "awEtZ944fr4v"
      }
    },
    {
      "cell_type": "code",
      "source": [
        "meses = ['Enero', 'Febrero', 'Marzo', 'Abril', 'Mayo', 'Junio', 'Julio', 'Agosto', 'Septiembre', 'Octubre', 'Noviembre', 'Diciembre']\n",
        "temperaturas = []\n",
        "\n",
        "# Recoger las temperaturas medias para cada mes\n",
        "for mes in meses:\n",
        "    while True:\n",
        "        try:\n",
        "            temperatura = float(input(f'Ingresa la temperatura media de {mes}: '))\n",
        "            temperaturas.append(temperatura)\n",
        "            break  # Salir del ciclo si la entrada es válida\n",
        "        except ValueError:\n",
        "            print(\"Por favor, ingresa un valor numérico válido para la temperatura.\")\n",
        "\n",
        "# Calcular el promedio anual\n",
        "promedio_anual = sum(temperaturas) / len(temperaturas)\n",
        "\n",
        "# Mostrar el promedio anual\n",
        "print(f'\\nEl promedio anual de las temperaturas es: {promedio_anual:.2f}°C')\n",
        "\n",
        "# Mostrar los meses con temperaturas por encima del promedio anual\n",
        "print(\"\\nMeses con temperaturas por encima del promedio anual:\")\n",
        "\n",
        "for i, temp in enumerate(temperaturas):\n",
        "    if temp > promedio_anual:\n",
        "        print(f'{meses[i]}: {temp:.2f}°C')\n"
      ],
      "metadata": {
        "colab": {
          "base_uri": "https://localhost:8080/"
        },
        "id": "JCVqwkhYv8kE",
        "outputId": "1acc8854-c166-458e-efb4-0f899c02e652"
      },
      "execution_count": null,
      "outputs": [
        {
          "output_type": "stream",
          "name": "stdout",
          "text": [
            "Ingresa la temperatura media de Enero: 20.5\n",
            "Ingresa la temperatura media de Febrero: 15\n",
            "Ingresa la temperatura media de Marzo: 30.2\n",
            "Ingresa la temperatura media de Abril: 25.4\n",
            "Ingresa la temperatura media de Mayo: 7.4\n",
            "Ingresa la temperatura media de Junio: 6.2\n",
            "Ingresa la temperatura media de Julio: 3.2\n",
            "Ingresa la temperatura media de Agosto: 9.5\n",
            "Ingresa la temperatura media de Septiembre: 20.4\n",
            "Ingresa la temperatura media de Octubre: 25.\n",
            "Ingresa la temperatura media de Noviembre: 35.3\n",
            "Ingresa la temperatura media de Diciembre: 42\n",
            "\n",
            "El promedio anual de las temperaturas es: 20.01°C\n",
            "\n",
            "Meses con temperaturas por encima del promedio anual:\n",
            "Enero: 20.50°C\n",
            "Marzo: 30.20°C\n",
            "Abril: 25.40°C\n",
            "Septiembre: 20.40°C\n",
            "Octubre: 25.00°C\n",
            "Noviembre: 35.30°C\n",
            "Diciembre: 42.00°C\n"
          ]
        }
      ]
    },
    {
      "cell_type": "markdown",
      "source": [
        "11. Una empresa de comercio electrónico está interesada en analizar las ventas de sus productos. Los datos de ventas se han almacenado en un diccionario:\n",
        "\n",
        "{'Producto A': 300, 'Producto B': 80, 'Producto C': 60, 'Producto D': 200, 'Producto E': 250, 'Producto F': 30}\n",
        "\n",
        "Escribe un código que calcule el total de ventas y el producto más vendido."
      ],
      "metadata": {
        "id": "KlcOrrJDfrs8"
      }
    },
    {
      "cell_type": "code",
      "source": [
        "ventas = {'Producto A': 300, 'Producto B': 80, 'Producto C': 60, 'Producto D': 200, 'Producto E': 250, 'Producto F': 30}\n",
        "total_ventas = sum(ventas.values())\n",
        "print(f'El total de ventas es: {total_ventas} productos')\n",
        "producto_mas_vendido = max(ventas, key=ventas.get)\n",
        "ventas_producto_mas_vendido = ventas[producto_mas_vendido]\n",
        "print(f'El producto más vendido es: {producto_mas_vendido} con {ventas_producto_mas_vendido} productos vendidos')\n"
      ],
      "metadata": {
        "colab": {
          "base_uri": "https://localhost:8080/"
        },
        "id": "G6MHCRuoRt6h",
        "outputId": "f2973ca6-6143-4f21-83a9-c5b56df2b9d3"
      },
      "execution_count": 4,
      "outputs": [
        {
          "output_type": "stream",
          "name": "stdout",
          "text": [
            "El total de ventas es: 920 productos\n",
            "El producto más vendido es: Producto A con 300 productos vendidos\n"
          ]
        }
      ]
    },
    {
      "cell_type": "markdown",
      "source": [
        "12. Se realizó una encuesta de mercado para decidir cuál diseño de marca infantil es más atractivo para los niños. Los votos de la encuesta se pueden ver a continuación:\n",
        "\n",
        "Tabla de votos de la marca\n",
        "Diseño 1 - 1334 votos\n",
        "Diseño 2 - 982 votos\n",
        "Diseño 3 - 1751 votos\n",
        "Diseño 4 - 210 votos\n",
        "Diseño 5 - 1811 votos\n",
        "\n",
        "Adapta los datos proporcionados a una estructura de diccionario. A partir de ello, informa el diseño ganador y el porcentaje de votos recibidos."
      ],
      "metadata": {
        "id": "AF6ajgKqfrdM"
      }
    },
    {
      "cell_type": "code",
      "source": [
        "votos = {'Diseño 1': 1334, 'Diseño 2': 982, 'Diseño 3': 1751, 'Diseño 4': 210, 'Diseño 5': 1811}\n",
        "ganador = max(votos, key=votos.get)\n",
        "porcentaje_ganador = (votos[ganador] / sum(votos.values())) * 100\n",
        "print(f'El diseño ganador es: {ganador} con {votos[ganador]} votos, el porcentaje de votos recibidos es: {porcentaje_ganador:.2f}%')"
      ],
      "metadata": {
        "colab": {
          "base_uri": "https://localhost:8080/"
        },
        "id": "IjrEGMyPTMWD",
        "outputId": "47506c7c-1e50-4c48-ef6d-8bdb6bf2977e"
      },
      "execution_count": 5,
      "outputs": [
        {
          "output_type": "stream",
          "name": "stdout",
          "text": [
            "El diseño ganador es: Diseño 5 con 1811 votos, el porcentaje de votos recibidos es: 29.75%\n"
          ]
        }
      ]
    },
    {
      "cell_type": "markdown",
      "source": [
        "13. Los empleados de un departamento de tu empresa recibirán una bonificación del 10% de su salario debido a un excelente rendimiento del equipo. El departamento de finanzas ha solicitado tu ayuda para verificar las consecuencias financieras de esta bonificación en los recursos. Se te ha enviado una lista con los salarios que recibirán la bonificación: [1172, 1644, 2617, 5130, 5532, 6341, 6650, 7238, 7685, 7782, 7903]. La bonificación de cada empleado no puede ser inferior a 200. En el código, convierte cada uno de los salarios en claves de un diccionario y la bonificación de cada salario en el valor correspondiente. Luego, informa el gasto total en bonificaciones, cuántos empleados recibieron la bonificación mínima y cuál fue el valor más alto de la bonificación proporcionada.\n"
      ],
      "metadata": {
        "id": "ulyTlY87frPK"
      }
    },
    {
      "cell_type": "code",
      "source": [
        "salarios = [1172, 1644, 2617, 5130, 5532, 6341, 6650, 7238, 7685, 7782, 7903]\n",
        "bonificaciones = {}\n",
        "bonificacion_minima = 200\n",
        "\n",
        "for salario in salarios:\n",
        "  bonificacion = salario * 0.1\n",
        "  if bonificacion < bonificacion_minima:\n",
        "    bonificacion = bonificacion_minima\n",
        "  bonificaciones[salario] = f\"{bonificacion:.0f}\"\n",
        "gasto_total = sum(int(valor) for valor in bonificaciones.values())\n",
        "empleados_minima = sum(1 for valor in bonificaciones.values() if int(valor) == bonificacion_minima)\n",
        "max_bonificacion = max(int(valor) for valor in bonificaciones.values())\n",
        "print(f'Las bonificaciones para los salarios serían: {bonificaciones}\\nEl gasto total en bonificaciones es: {gasto_total}\\nLa cantidad de empleados con bonificación minima son: {empleados_minima}\\nEl valor más alto de bonificación es: {max_bonificacion}')"
      ],
      "metadata": {
        "colab": {
          "base_uri": "https://localhost:8080/"
        },
        "id": "MWSxc8RlTyrX",
        "outputId": "77fe73da-905b-498b-cdc1-e808658e2e5c"
      },
      "execution_count": 12,
      "outputs": [
        {
          "output_type": "stream",
          "name": "stdout",
          "text": [
            "Las bonificaciones para los salarios serían: {1172: '200', 1644: '200', 2617: '262', 5130: '513', 5532: '553', 6341: '634', 6650: '665', 7238: '724', 7685: '768', 7782: '778', 7903: '790'}\n",
            "El gasto total en bonificaciones es: 6087\n",
            "La cantidad de empleados con bonificación minima son: 2\n",
            "El valor más alto de bonificación es: 790\n"
          ]
        }
      ]
    },
    {
      "cell_type": "markdown",
      "source": [
        "14. Un equipo de científicos de datos está estudiando la diversidad biológica en un bosque. El equipo recopiló información sobre el número de especies de plantas y animales en cada área del bosque y almacenó estos datos en un diccionario. En él, la clave describe el área de los datos y los valores en las listas corresponden a las especies de plantas y animales en esas áreas, respectivamente.\n",
        "\n",
        "{'Área Norte': [2819, 7236], 'Área Leste': [1440, 9492], 'Área Sul': [5969, 7496], 'Área Oeste': [14446, 49688], 'Área Centro': [22558, 45148]}\n",
        "\n",
        "Escribe un código para calcular el promedio de especies por área e identificar el área con la mayor diversidad biológica. Sugerencia: utiliza las funciones incorporadas sum() y len()."
      ],
      "metadata": {
        "id": "cfjj98J7frAN"
      }
    },
    {
      "cell_type": "code",
      "source": [
        "diversidad_biologica = {'Área Norte': [2819, 7236], 'Área Leste': [1440, 9492], 'Área Sul': [5969, 7496], 'Área Oeste': [14446, 49688], 'Área Centro': [22558, 45148]}\n",
        "promedios = {}\n",
        "for area, especies in diversidad_biologica.items():\n",
        "  promedio = sum(especies) / len(especies)\n",
        "  promedios[area] = f'{promedio:.0f}'\n",
        "  max_area = max(promedios, key=promedios.get)\n",
        "print(f'Los promedios por área son: {promedios}\\nEl área con la mayor diversidad biológica es: {max_area}')"
      ],
      "metadata": {
        "colab": {
          "base_uri": "https://localhost:8080/"
        },
        "id": "RBGLBwnhm0Yn",
        "outputId": "c293ddf5-d8be-444c-83c9-ddd7aaeff3a1"
      },
      "execution_count": 13,
      "outputs": [
        {
          "output_type": "stream",
          "name": "stdout",
          "text": [
            "Los promedios por área son: {'Área Norte': '5028', 'Área Leste': '5466', 'Área Sul': '6732', 'Área Oeste': '32067', 'Área Centro': '33853'}\n",
            "El área con la mayor diversidad biológica es: Área Sul\n"
          ]
        }
      ]
    },
    {
      "cell_type": "markdown",
      "source": [
        "15. El departamento de Recursos Humanos de tu empresa te pidió ayuda para analizar las edades de los colaboradores de 4 sectores de la empresa. Para ello, te proporcionaron los siguientes datos:\n",
        "\n",
        "{'Setor A': [22, 26, 30, 30, 35, 38, 40, 56, 57, 65],\n",
        " 'Setor B': [22, 24, 26, 33, 41, 49, 50, 54, 60, 64],\n",
        " 'Setor C': [23, 26, 26, 29, 34, 35, 36, 41, 52, 56],\n",
        " 'Setor D': [19, 20, 25, 27, 34, 39, 42, 44, 50, 65]}\n",
        "\n",
        " Dado que cada sector tiene 10 colaboradores, construye un código que calcule la media de edad de cada sector, la edad media general entre todos los sectores y cuántas personas están por encima de la edad media general.\n",
        "\n"
      ],
      "metadata": {
        "id": "m5EDcAsJfqlD"
      }
    },
    {
      "cell_type": "code",
      "source": [
        "datos_edades = {'Setor A': [22, 26, 30, 30, 35, 38, 40, 56, 57, 65],\n",
        " 'Setor B': [22, 24, 26, 33, 41, 49, 50, 54, 60, 64],\n",
        " 'Setor C': [23, 26, 26, 29, 34, 35, 36, 41, 52, 56],\n",
        " 'Setor D': [19, 20, 25, 27, 34, 39, 42, 44, 50, 65]}\n",
        "edad_media = {}\n",
        "contador = 0\n",
        "\n",
        "# Calcular la edad media por sector\n",
        "for sector, edades in datos_edades.items():\n",
        "    edad_media[sector] = f'{(sum(edades) / len(edades)):.2f}'\n",
        "\n",
        "# Calcular la edad media general entre todos los sectores\n",
        "edad_media_general = f'{(sum(sum(edades) for edades in datos_edades.values()) / sum(len(edades) for edades in datos_edades.values())):.2f}'\n",
        "|\n",
        "# Contar la cantidad de colaboradores por encima de la edad media general\n",
        "for sector, edades in datos_edades.items():\n",
        "    for edad in edades:\n",
        "        if edad > float(edad_media_general):  # Convertimos a float para la comparación\n",
        "            contador += 1\n",
        "\n",
        "print(f'La edad media general por sector es: {edad_media}\\nLa edad media general entre todos los sectores: {edad_media_general}\\nLa cantidad de colaboradores por encima de la edad media general es: {contador}')\n"
      ],
      "metadata": {
        "colab": {
          "base_uri": "https://localhost:8080/"
        },
        "id": "cja0pHwOoXtY",
        "outputId": "2d283bfb-da90-470c-ce4f-b6470311645a"
      },
      "execution_count": 16,
      "outputs": [
        {
          "output_type": "stream",
          "name": "stdout",
          "text": [
            "La edad media general por sector es: {'Setor A': '39.90', 'Setor B': '42.30', 'Setor C': '35.80', 'Setor D': '36.50'}\n",
            "La edad media general entre todos los sectores: 38.62\n",
            "La cantidad de colaboradores por encima de la edad media general es: 18\n"
          ]
        }
      ]
    },
    {
      "cell_type": "markdown",
      "source": [
        "# Guardar archivo colab en github\n",
        "\n",
        "Para poder guardar un archivo de colab en un repositorio de github es necesario crear una rama donde se alojara el archivo colab, para poder crear la rama se deben seguir los siguientes pasos para repositorios nuevos sin ramas aun creadas.\n",
        "\n",
        "## Crear rama en github para colab\n",
        "1. Crear repositorio en github\n",
        "2. Crear un nuevo archivo en el repositorio, para crear la rama principal (main)\n",
        "3. En colab ir a archivo -> Guardar copia en Github\n",
        "4. Dar accesos y permisos a colab\n",
        "5. Seleccionar repositorio y rama\n",
        "6. Dar click en Aceptar"
      ],
      "metadata": {
        "id": "QRcbYv8utTqY"
      }
    }
  ]
}